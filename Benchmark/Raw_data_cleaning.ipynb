{
 "cells": [
  {
   "cell_type": "code",
   "execution_count": 1,
   "metadata": {},
   "outputs": [],
   "source": [
    "import warnings\n",
    "import pandas as pd\n",
    "import numpy as np\n",
    "import random as rd\n",
    "import matplotlib.pyplot as plt\n",
    "from tqdm import tqdm\n",
    "\n",
    "# from pandas_profilinag import ProfileReport\n",
    "\n",
    "pd.set_option('display.max_columns', 50)\n",
    "warnings.filterwarnings(\"ignore\")\n",
    "\n"
   ]
  },
  {
   "cell_type": "code",
   "execution_count": 2,
   "metadata": {},
   "outputs": [],
   "source": [
    "df_refinitiv = pd.read_csv(\"../Pipeline proprietary/data/raw_data/aresult.Model1Lean_HaveCO2.csv\")"
   ]
  },
  {
   "cell_type": "code",
   "execution_count": 53,
   "metadata": {},
   "outputs": [],
   "source": [
    "df_refinitiv = df_refinitiv.drop(\n",
    "    df_refinitiv[(df_refinitiv.CF1 <= 0) | (df_refinitiv.CF2 <= 0) | (df_refinitiv.CF3 <= 0) | (df_refinitiv.CF123 <= 0)].index\n",
    ")"
   ]
  },
  {
   "cell_type": "code",
   "execution_count": null,
   "metadata": {},
   "outputs": [],
   "source": [
    "# We do not trust companies with null scope 2 and 3 \n",
    "# df_refinitiv[\"CF2\"] = df_refinitiv[\"CF2\"].replace(0, np.nan)\n",
    "# df_refinitiv[\"CF3\"] = df_refinitiv[\"CF3\"].replace(0, np.nan)"
   ]
  },
  {
   "cell_type": "code",
   "execution_count": 43,
   "metadata": {},
   "outputs": [],
   "source": [
    "# These companies were reported in MtCO2 instead of tCO2, or other issues\n",
    "# df_refinitiv.loc[df_refinitiv.Name == \"Bergs Timber AB (publ)\", \"CF1\"] = [4500,7500,10000]\n",
    "# df_refinitiv.loc[df_refinitiv.Name == \"Bergs Timber AB (publ)\", \"CF2\"] = [4500,7500,10000]\n",
    "# df_refinitiv.loc[df_refinitiv.Name == \"Bergs Timber AB (publ)\", \"CF3\"] = [29000, 34000, 40000]\n",
    "# df_refinitiv.loc[df_refinitiv.Name == \"Bergs Timber AB (publ)\", \"CF123\"] = [29000+9000, 34000+15000, 40000+20000]\n",
    "\n",
    "# df_refinitiv.loc[df_refinitiv.Name == \"Summit Materials Inc\", \"CF1\"] = [1890000, 1960000, np.nan,np.nan,np.nan,np.nan,np.nan]\n",
    "# df_refinitiv.loc[df_refinitiv.Name == \"Summit Materials Inc\", \"CF2\"] = [310000,230000 , np.nan,np.nan,np.nan,np.nan,np.nan]\n",
    "\n",
    "# df_refinitiv.loc[df_refinitiv.Name == \"Elmera Group ASA\", \"CF1\"] = [14.7, 15, 0.1]\n",
    "# df_refinitiv.loc[df_refinitiv.Name == \"Elmera Group ASA\", \"CF2\"] = [0.1, 0.1, 0.1]\n",
    "# df_refinitiv.loc[df_refinitiv.Name == \"Elmera Group ASA\", \"CF3\"] = [79.9, 102, 300.1]\n",
    "# df_refinitiv.loc[df_refinitiv.Name == \"Elmera Group ASA\", \"CF123\"] = [14.8+79.9, 15.1+102, 0.2+300.1]\n",
    "\n",
    "# df_refinitiv.loc[df_refinitiv.Name == \"Yuzhou Group Holdings Co Ltd\", \"CF1\"] = [143.8, 163.9, 288.8, 16.4, 399.2]\n",
    "# df_refinitiv.loc[df_refinitiv.Name == \"Yuzhou Group Holdings Co Ltd\", \"CF2\"] = [4082.5, 6248.2, 3166.7, 4846.1, 3884.6]\n",
    "# df_refinitiv.loc[df_refinitiv.Name == \"Yuzhou Group Holdings Co Ltd\", \"CF3\"] = [167.9, 235.2, 672.3, 26.4, 0.86\t]\n",
    "# df_refinitiv.loc[df_refinitiv.Name == \"Yuzhou Group Holdings Co Ltd\", \"CF123\"] = [4394.2, 6647.3, 4127.8, 4888.9,4284.66]\n",
    "\n",
    "# df_refinitiv.loc[df_refinitiv.index == 62610, \"CF3\"] = np.nan\n",
    "# df_refinitiv.loc[df_refinitiv.index == 65681, \"CF3\"] = np.nan\n",
    "# df_refinitiv.loc[df_refinitiv.index == 40512, \"CF3\"] = np.nan\n",
    "\n",
    "# df_refinitiv.loc[df_refinitiv.index == 75511, \"CF1\"] = 3.619808e+06\n",
    "# df_refinitiv.loc[df_refinitiv.index == 59768, \"CF3\"] = 1.112720e+08 \n",
    "\n",
    "\n",
    "\n"
   ]
  },
  {
   "cell_type": "code",
   "execution_count": null,
   "metadata": {},
   "outputs": [],
   "source": [
    "# # Complete missing industries \n",
    "# df_refinitiv.loc[df_refinitiv.ISIN == \"KYG4672N1198\", \"NAICSInd\"] = [541715, 541715]\n",
    "# df_refinitiv.loc[df_refinitiv.ISIN == \"US45113Y1047\", \"NAICSInd\"] = [541810, 541810]\n",
    "# df_refinitiv.loc[df_refinitiv.ISIN == \"US2067041085\", \"NAICSInd\"] = [237310, 237310, 237310]\n",
    "\n",
    "\n",
    "# df_refinitiv.loc[df_refinitiv.Name == 'Co-Operative Group Ltd', \"GICSName\"] = [\"Industrial Conglomerates\"]\n",
    "# df_refinitiv.loc[df_refinitiv.Name == 'Co-Operative Group Ltd', \"GICSSector\"] = [20.0]\n",
    "# df_refinitiv.loc[df_refinitiv.Name == 'Co-Operative Group Ltd', \"GICSGroup\"] = [2010.0]\n",
    "# df_refinitiv.loc[df_refinitiv.Name == 'Co-Operative Group Ltd', \"GICSInd\"] = [201050.0]\n",
    "# df_refinitiv.loc[df_refinitiv.Name == 'Co-Operative Group Ltd', \"GICSSubInd\"] = [20105010.0]\n",
    "\n",
    "# df_refinitiv.loc[df_refinitiv.Name == 'SolarWorld AG', \"GICSName\"] = [\"Renewable Electricity \" for i in range(13)]\n",
    "# df_refinitiv.loc[df_refinitiv.Name == 'SolarWorld AG', \"GICSSector\"] = [55.0 for i in range(13)]\n",
    "# df_refinitiv.loc[df_refinitiv.Name == 'SolarWorld AG', \"GICSGroup\"] = [5510.0  for i in range(13)]\n",
    "# df_refinitiv.loc[df_refinitiv.Name == 'SolarWorld AG', \"GICSInd\"] = [551050.0 for i in range(13)]\n",
    "# df_refinitiv.loc[df_refinitiv.Name == 'SolarWorld AG', \"GICSSubInd\"] = [55105020.0 for i in range(13)]\n",
    "\n",
    "# df_refinitiv.loc[df_refinitiv.Name == 'Alliance Trust PLC', \"GICSName\"]  = [\"Other Diversified Financial Services\" for i in range(16)]\n",
    "# df_refinitiv.loc[df_refinitiv.Name == 'Alliance Trust PLC', \"GICSSector\"]  = [40.0 for i in range(16)]\n",
    "# df_refinitiv.loc[df_refinitiv.Name == 'Alliance Trust PLC', \"GICSGroup\"]  = [4020.0 for i in range(16)]\n",
    "# df_refinitiv.loc[df_refinitiv.Name == 'Alliance Trust PLC', \"GICSInd\"]  = [402010.0 for i in range(16)]\n",
    "# df_refinitiv.loc[df_refinitiv.Name == 'Alliance Trust PLC', \"GICSSubInd\"]  = [40201020.0 for i in range(16)]\n",
    "\n",
    "# df_refinitiv.loc[df_refinitiv.Name == 'Caledonia Investments PLC', \"GICSName\"] = [\"Asset Management & Custody Banks\" for i in range(19)]\n",
    "# df_refinitiv.loc[df_refinitiv.Name == 'Caledonia Investments PLC', \"GICSSector\"] = [40.0 for i in range(19)]\n",
    "# df_refinitiv.loc[df_refinitiv.Name == 'Caledonia Investments PLC', \"GICSGroup\"] = [4020.0 for i in range(19)]\n",
    "# df_refinitiv.loc[df_refinitiv.Name == 'Caledonia Investments PLC', \"GICSInd\"] = [402030.0 for i in range(19)]\n",
    "# df_refinitiv.loc[df_refinitiv.Name == 'Caledonia Investments PLC', \"GICSSubInd\"] = [40203010.0 for i in range(19)]\n",
    "\n",
    "# df_refinitiv.loc[df_refinitiv.Name == 'HgCapital Trust PLC', \"GICSName\"] = [\"Asset Management & Custody Banks\" for i in range(5)]\n",
    "# df_refinitiv.loc[df_refinitiv.Name == 'HgCapital Trust PLC', \"GICSSector\"] = [40.0 for i in range(5)]\n",
    "# df_refinitiv.loc[df_refinitiv.Name == 'HgCapital Trust PLC', \"GICSGroup\"] = [4020.0 for i in range(5)]\n",
    "# df_refinitiv.loc[df_refinitiv.Name == 'HgCapital Trust PLC', \"GICSInd\"] = [402030.0 for i in range(5)]\n",
    "# df_refinitiv.loc[df_refinitiv.Name == 'HgCapital Trust PLC', \"GICSSubInd\"] = [40203010.0 for i in range(5)]\n",
    "\n",
    "# df_refinitiv.loc[df_refinitiv.Name == 'Bankers Investment Trust PLC', \"GICSName\"] = [\"Asset Management & Custody Banks\" for i in range(7)]\n",
    "# df_refinitiv.loc[df_refinitiv.Name == 'Bankers Investment Trust PLC', \"GICSSector\"] = [40.0 for i in range(7)]\n",
    "# df_refinitiv.loc[df_refinitiv.Name == 'Bankers Investment Trust PLC', \"GICSGroup\"] = [4020.0 for i in range(7)]\n",
    "# df_refinitiv.loc[df_refinitiv.Name == 'Bankers Investment Trust PLC', \"GICSInd\"] = [402030.0 for i in range(7)]\n",
    "# df_refinitiv.loc[df_refinitiv.Name == 'Bankers Investment Trust PLC', \"GICSSubInd\"] = [40203010.0 for i in range(7)]\n",
    "\n",
    "# df_refinitiv.loc[df_refinitiv.Name == 'Fidelity European Trust PLC', \"GICSName\"]= [\"Asset Management & Custody Banks\" for i in range(7)]\n",
    "# df_refinitiv.loc[df_refinitiv.Name == 'Fidelity European Trust PLC', \"GICSSector\"]= [40.0 for i in range(7)]\n",
    "# df_refinitiv.loc[df_refinitiv.Name == 'Fidelity European Trust PLC', \"GICSGroup\"]= [4020.0 for i in range(7)]\n",
    "# df_refinitiv.loc[df_refinitiv.Name == 'Fidelity European Trust PLC', \"GICSInd\"]= [402030.0 for i in range(7)]\n",
    "# df_refinitiv.loc[df_refinitiv.Name == 'Fidelity European Trust PLC', \"GICSSubInd\"]= [40203010.0 for i in range(7)]\n",
    "\n",
    "# df_refinitiv.loc[df_refinitiv.Name == 'International Public Partnerships Ltd', \"GICSName\"] = [\"Asset Management & Custody Banks\" for i in range(6)]\n",
    "# df_refinitiv.loc[df_refinitiv.Name == 'International Public Partnerships Ltd', \"GICSSector\"] = [40.0 for i in range(6)]\n",
    "# df_refinitiv.loc[df_refinitiv.Name == 'International Public Partnerships Ltd', \"GICSGroup\"] = [4020.0 for i in range(6)]\n",
    "# df_refinitiv.loc[df_refinitiv.Name == 'International Public Partnerships Ltd', \"GICSInd\"] = [402030.0 for i in range(6)]\n",
    "# df_refinitiv.loc[df_refinitiv.Name == 'International Public Partnerships Ltd', \"GICSSubInd\"] = [40203010.0 for i in range(6)]\n",
    "\n",
    "# df_refinitiv.loc[df_refinitiv.Name == 'Schroder Asiapacific Fund PLC', \"GICSName\"]= [ \"Asset Management & Custody Banks\" for i in range(4)]\n",
    "# df_refinitiv.loc[df_refinitiv.Name == 'Schroder Asiapacific Fund PLC', \"GICSSector\"]= [40.0 for i in range(4)]\n",
    "# df_refinitiv.loc[df_refinitiv.Name == 'Schroder Asiapacific Fund PLC', \"GICSGroup\"]= [4020.0 for i in range(4)]\n",
    "# df_refinitiv.loc[df_refinitiv.Name == 'Schroder Asiapacific Fund PLC', \"GICSInd\"]= [402030.0 for i in range(4)]\n",
    "# df_refinitiv.loc[df_refinitiv.Name == 'Schroder Asiapacific Fund PLC', \"GICSSubInd\"]= [40203010.0 for i in range(4)]\n",
    "\n",
    "# df_refinitiv.loc[df_refinitiv.Name == 'BBGI Global Infrastructure SA', \"GICSName\"]= [\"Asset Management & Custody Banks\" for i in range(5)]\n",
    "# df_refinitiv.loc[df_refinitiv.Name == 'BBGI Global Infrastructure SA', \"GICSSector\"]= [40 for i in range(5)]\n",
    "# df_refinitiv.loc[df_refinitiv.Name == 'BBGI Global Infrastructure SA', \"GICSGroup\"]= [4020.0 for i in range(5)]\n",
    "# df_refinitiv.loc[df_refinitiv.Name == 'BBGI Global Infrastructure SA', \"GICSInd\"]= [402030.0 for i in range(5)]\n",
    "# df_refinitiv.loc[df_refinitiv.Name == 'BBGI Global Infrastructure SA', \"GICSSubInd\"]= [40203010.0 for i in range(5)]\n",
    "\n",
    "# df_refinitiv.loc[df_refinitiv.Name == 'SDCL Energy Efficiency Income Trust PLC', \"GICSName\"]= [\"Specialized Finance\"]\n",
    "# df_refinitiv.loc[df_refinitiv.Name == 'SDCL Energy Efficiency Income Trust PLC', \"GICSSector\"]= [40.0]\n",
    "# df_refinitiv.loc[df_refinitiv.Name == 'SDCL Energy Efficiency Income Trust PLC', \"GICSGroup\"]= [4020.0]\n",
    "# df_refinitiv.loc[df_refinitiv.Name == 'SDCL Energy Efficiency Income Trust PLC', \"GICSInd\"]= [402010.0]\n",
    "# df_refinitiv.loc[df_refinitiv.Name == 'SDCL Energy Efficiency Income Trust PLC', \"GICSSubInd\"]= [40201040.0]\n",
    "\n",
    "# df_refinitiv.loc[df_refinitiv.Name == 'Tritax EuroBox PLC', \"GICSName\"] = [\"Specialized Finance\" for i in range(2)]\n",
    "# df_refinitiv.loc[df_refinitiv.Name == 'Tritax EuroBox PLC', \"GICSSector\"] = [40.0 for i in range(2)]\n",
    "# df_refinitiv.loc[df_refinitiv.Name == 'Tritax EuroBox PLC', \"GICSGroup\"] = [4020.0 for i in range(2)]\n",
    "# df_refinitiv.loc[df_refinitiv.Name == 'Tritax EuroBox PLC', \"GICSInd\"] = [ 402010.0 for i in range(2)]\n",
    "# df_refinitiv.loc[df_refinitiv.Name == 'Tritax EuroBox PLC', \"GICSSubInd\"] = [40201040.0 for i in range(2)]\n",
    "\n",
    "# df_refinitiv.loc[df_refinitiv.Name == 'Syncona Ltd', \"GICSName\"]=  [\"Specialized Finance\" for i in range(4)]\n",
    "# df_refinitiv.loc[df_refinitiv.Name == 'Syncona Ltd', \"GICSSector\"]=  [40.0 for i in range(4)]\n",
    "# df_refinitiv.loc[df_refinitiv.Name == 'Syncona Ltd', \"GICSGroup\"]=  [4020.0 for i in range(4)]\n",
    "# df_refinitiv.loc[df_refinitiv.Name == 'Syncona Ltd', \"GICSInd\"]=  [402010.0 for i in range(4)]\n",
    "# df_refinitiv.loc[df_refinitiv.Name == 'Syncona Ltd', \"GICSSubInd\"]=  [40201040.0 for i in range(4)]\n",
    "\n",
    "# df_refinitiv.loc[df_refinitiv.Name == 'West Bromwich Building Society', \"GICSName\"] = [\"Thrifts & Mortgage Finance\"]\n",
    "# df_refinitiv.loc[df_refinitiv.Name == 'West Bromwich Building Society', \"GICSSector\"] = [40.0]\n",
    "# df_refinitiv.loc[df_refinitiv.Name == 'West Bromwich Building Society', \"GICSGroup\"] = [4010.0]\n",
    "# df_refinitiv.loc[df_refinitiv.Name == 'West Bromwich Building Society', \"GICSInd\"] = [401020.0]\n",
    "# df_refinitiv.loc[df_refinitiv.Name == 'West Bromwich Building Society', \"GICSSubInd\"] = [40102010.0]"
   ]
  },
  {
   "cell_type": "code",
   "execution_count": 8,
   "metadata": {},
   "outputs": [
    {
     "data": {
      "image/png": "[encoded data removed]",
      "text/plain": [
       "<Figure size 1500x700 with 3 Axes>"
      ]
     },
     "metadata": {},
     "output_type": "display_data"
    }
   ],
   "source": [
    "lst_lst_ecart = [[], [], []]\n",
    "lst_lst_companies_significant_spread = [[], [], []]\n",
    "\n",
    "df_refinitiv_temp = df_refinitiv[df_refinitiv[scope]>0]\n",
    "for company in tqdm(df_refinitiv_temp.Name.unique()) :\n",
    "    for i, scope in enumerate(['CF1', \"CF2\", \"CF3\"]) :  \n",
    "        temp = df_refinitiv_temp[df_refinitiv_temp.Name == company][scope]\n",
    "        spread = temp.max() / temp.min()\n",
    "        if spread > 1000 : \n",
    "            lst_lst_companies_significant_spread[i].append(company)\n",
    "        lst_lst_ecart[i].append(spread)\n",
    "\n",
    "_, axs = plt.subplots(1, 3, figsize = (15,7))\n",
    "axs[0].hist(np.log10(lst_lst_ecart[0]))\n",
    "axs[1].hist(np.log10(lst_lst_ecart[1]))\n",
    "axs[2].hist(np.log10(lst_lst_ecart[2]))\n",
    "axs[0].set_xlabel(\"CF1\")\n",
    "axs[1].set_xlabel(\"CF2\")\n",
    "axs[2].set_xlabel(\"CF3\")\n",
    "plt.show()\n"
   ]
  },
  {
   "cell_type": "code",
   "execution_count": 16,
   "metadata": {},
   "outputs": [
    {
     "name": "stdout",
     "output_type": "stream",
     "text": [
      "Companies with a min max ratio >1000 in there CF1 historical values :  29\n",
      "Companies with a min max ratio >1000 in there CF2 historical values :  19\n",
      "Companies with a min max ratio >1000 in there CF3 historical values :  163\n"
     ]
    }
   ],
   "source": [
    "# There are too many weird outliers. One could dismiss them, but at least some correspond to true reported values\n",
    "# idée : quand on a plusieurs intervalles pour un scope, on garde que ceux qui correspondent au max ? \n",
    "\n",
    "print(\"Companies with a min max ratio >1000 in there CF1 historical values : \", len(lst_lst_companies_significant_spread[0]))\n",
    "print(\"Companies with a min max ratio >1000 in there CF2 historical values : \", len(lst_lst_companies_significant_spread[1]))\n",
    "print(\"Companies with a min max ratio >1000 in there CF3 historical values : \", len(lst_lst_companies_significant_spread[2]))"
   ]
  },
  {
   "cell_type": "code",
   "execution_count": 63,
   "metadata": {},
   "outputs": [
    {
     "name": "stdout",
     "output_type": "stream",
     "text": [
      "Number of companies removed :  206\n"
     ]
    }
   ],
   "source": [
    "df_refinitiv_gap_filtered = df_refinitiv[~(df_refinitiv.Name.isin(lst_lst_companies_significant_spread[0]))]\n",
    "df_refinitiv_gap_filtered = df_refinitiv_gap_filtered[~(df_refinitiv_gap_filtered.Name.isin(lst_lst_companies_significant_spread[1]))]\n",
    "df_refinitiv_gap_filtered = df_refinitiv_gap_filtered[~(df_refinitiv_gap_filtered.Name.isin(lst_lst_companies_significant_spread[2]))]\n",
    "print(\"Number of companies removed : \",df_refinitiv.Name.nunique() - df_refinitiv_gap_filtered.Name.nunique())"
   ]
  },
  {
   "cell_type": "code",
   "execution_count": 65,
   "metadata": {},
   "outputs": [],
   "source": [
    "df_refinitiv.to_csv(\"../Pipeline proprietary/data/raw_data/Refinitiv_cleaned.csv\",index=False)\n"
   ]
  },
  {
   "cell_type": "code",
   "execution_count": 66,
   "metadata": {},
   "outputs": [],
   "source": [
    "df_refinitiv_gap_filtered.to_csv(\"../Pipeline proprietary/data/raw_data/Refinitiv_cleaned_filtered.csv\",index=False)\n"
   ]
  }
 ],
 "metadata": {
  "kernelspec": {
   "display_name": "Toy_project_mohamed-WRM7iGFq",
   "language": "python",
   "name": "python3"
  },
  "language_info": {
   "codemirror_mode": {
    "name": "ipython",
    "version": 3
   },
   "file_extension": ".py",
   "mimetype": "text/x-python",
   "name": "python",
   "nbconvert_exporter": "python",
   "pygments_lexer": "ipython3",
   "version": "3.9.13"
  },
  "orig_nbformat": 4,
  "vscode": {
   "interpreter": {
    "hash": "e5804064e154bb9b061cd7fd0f83281b098d9543a7756d48d130cd8f20723185"
   }
  }
 },
 "nbformat": 4,
 "nbformat_minor": 2
}
