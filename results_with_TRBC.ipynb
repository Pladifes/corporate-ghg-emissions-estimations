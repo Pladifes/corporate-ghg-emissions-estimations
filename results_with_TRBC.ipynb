{
 "cells": [
  {
   "cell_type": "code",
   "execution_count": 1,
   "metadata": {},
   "outputs": [],
   "source": [
    "# import giskard\n",
    "\n",
    "import warnings\n",
    "import logging\n",
    "\n",
    "import numpy as np\n",
    "import pandas as pd\n",
    "import pickle\n",
    "\n",
    "from functions.loading import load_data\n",
    "\n",
    "from functions.training_pipeline import training_pipeline\n",
    "from functions.models import  catboost_model\n",
    "\n",
    "logging.basicConfig(level=logging.INFO)\n",
    "logger = logging.getLogger(__name__)\n",
    "\n",
    "warnings.filterwarnings(\"ignore\")\n",
    "pd.options.mode.chained_assignment = None\n",
    "\n",
    "pd.set_option('display.max_columns', 500)"
   ]
  },
  {
   "cell_type": "code",
   "execution_count": 2,
   "metadata": {},
   "outputs": [],
   "source": [
    "# Training parameters\n",
    "restricted_features=False\n",
    "save=True\n",
    "\n",
    "\n",
    "models = {\n",
    "        \"catboost\": catboost_model,\n",
    "}\n",
    "\n",
    "targets = [\"cf1\", \"cf2\", \"cf3\", \"cf123\"]\n",
    "# targets = [\"cf1\"]\n",
    "\n",
    "# Results containers\n",
    "summary_final=[]\n",
    "summary_metrics_detailed = pd.DataFrame()\n",
    "estimated_scopes = []"
   ]
  },
  {
   "cell_type": "code",
   "execution_count": 3,
   "metadata": {},
   "outputs": [],
   "source": [
    "# predict_dataset = load_data(save=True, filter_outliers=False)\n"
   ]
  },
  {
   "cell_type": "code",
   "execution_count": 4,
   "metadata": {},
   "outputs": [
    {
     "name": "stdout",
     "output_type": "stream",
     "text": [
      "cf1 (outliers preprocess): enough observations : 142\n",
      "cf1 (outliers preprocess): not enough observations : 2\n",
      "Number of observations dropped: 2756\n",
      "cf2 (outliers preprocess): enough observations : 142\n",
      "cf2 (outliers preprocess): not enough observations : 2\n",
      "Number of observations dropped: 2045\n",
      "cf3 (outliers preprocess): enough observations : 142\n",
      "cf3 (outliers preprocess): not enough observations : 2\n",
      "Number of observations dropped: 1081\n",
      "cf123 (outliers preprocess): enough observations : 142\n",
      "cf123 (outliers preprocess): not enough observations : 2\n",
      "Number of observations dropped: 587\n"
     ]
    }
   ],
   "source": [
    "preprocessed_dataset = load_data(save=True)\n",
    "\n"
   ]
  },
  {
   "cell_type": "code",
   "execution_count": 5,
   "metadata": {},
   "outputs": [
    {
     "name": "stderr",
     "output_type": "stream",
     "text": [
      "INFO:functions.training_pipeline:Training for target: cf1\n"
     ]
    },
    {
     "name": "stdout",
     "output_type": "stream",
     "text": [
      "Files not found, constructing them\n",
      "Constructing benchmark\n",
      "train before imputation :  (626577, 68)\n",
      "test before imputation :  (28015, 68)\n",
      "train 1 :  (626577, 1161)\n",
      "test 1 :  (28015, 741)\n",
      "train 2 :  (626577, 1162)\n",
      "test 2 :  (28015, 757)\n",
      "train avant target_preprocessing :  (626577, 1162)\n",
      "test avant target_preprocessing :  (28015, 757)\n"
     ]
    },
    {
     "name": "stderr",
     "output_type": "stream",
     "text": [
      "INFO:functions.training_pipeline:Preprocessing done\n",
      "INFO:functions.training_pipeline:Training model: catboost\n"
     ]
    },
    {
     "name": "stdout",
     "output_type": "stream",
     "text": [
      "train :  (19934, 1162)\n",
      "test :  (10662, 757)\n",
      "preprocessed :  (654592, 68)\n"
     ]
    },
    {
     "name": "stderr",
     "output_type": "stream",
     "text": [
      "INFO:functions.training_pipeline:Modelisation done\n",
      "INFO:functions.training_pipeline:Elapsed time for target cf1: 2129.83 seconds\n"
     ]
    },
    {
     "name": "stdout",
     "output_type": "stream",
     "text": [
      "cf1\n",
      "  Target     model       mae       mse        r2      rmse      mape     std\n",
      "0    cf1  catboost  0.346437  0.226323  0.882573  0.475734  0.593453  0.0656\n",
      "-------------------------\n",
      "[0.47573388985311804]\n"
     ]
    }
   ],
   "source": [
    "best_scores, best_stds, summary_global, summary_metrics_detailed = training_pipeline(\n",
    "    targets=targets,\n",
    "    models=models,\n",
    "    summary_final=summary_final,\n",
    "    summary_metrics_detailed=summary_metrics_detailed,\n",
    "    estimated_scopes=estimated_scopes,\n",
    "    preprocessed_dataset=preprocessed_dataset,\n",
    "    restricted_features=restricted_features,\n",
    "    save=save,\n",
    ")"
   ]
  }
 ],
 "metadata": {
  "kernelspec": {
   "display_name": "cogem",
   "language": "python",
   "name": "python3"
  },
  "language_info": {
   "codemirror_mode": {
    "name": "ipython",
    "version": 3
   },
   "file_extension": ".py",
   "mimetype": "text/x-python",
   "name": "python",
   "nbconvert_exporter": "python",
   "pygments_lexer": "ipython3",
   "version": "3.9.13"
  }
 },
 "nbformat": 4,
 "nbformat_minor": 2
}
