{
 "cells": [
  {
   "cell_type": "code",
   "execution_count": 1,
   "metadata": {},
   "outputs": [],
   "source": [
    "import warnings\n",
    "\n",
    "import pandas as pd\n",
    "import numpy as np\n",
    "\n",
    "from functions.loading import load_data\n",
    "\n",
    "from functions.preprocessing import outliers_preprocess\n",
    "from functions.training_pipeline import training_pipeline\n",
    "from functions.models import xgboost_model, catboost_model, lgbm_model\n",
    "\n",
    "warnings.filterwarnings('ignore')\n",
    "pd.options.mode.chained_assignment = None\n"
   ]
  },
  {
   "cell_type": "code",
   "execution_count": 17,
   "metadata": {},
   "outputs": [],
   "source": [
    "path_rawdata = 'data/raw_data/'\n",
    "path_models = 'models/proprietary_data/'\n",
    "path_Benchmark = 'Benchmark/'\n",
    "path_results = 'results/proprietary_data/'\n",
    "path_plot = path_results +'plot/'\n",
    "path_intermediary = 'data/intermediary_data/proprietary_data/'\n",
    "path_plot = 'results/proprietary_data/plot/'\n",
    "# ,\"CF3_log\", \"CF123_log\"\n",
    "targets = [\"CF1_log\",\"CF2_log\",\"CF3_log\", \"CF123_log\"]\n",
    "models = {\n",
    "        # \"xgboost\": xgboost_model,\n",
    "        \"catboost\": catboost_model,\n",
    "        \"lgbm\": lgbm_model,\n",
    "}\n",
    "training_parameters = {\n",
    "    \"seed\":0,\n",
    "    \"n_iter\":10,\n",
    "    \"extended_features\": [\n",
    "            \"Revenue_log\",\n",
    "            \"EMP_log\",\n",
    "            \"Asset_log\",\n",
    "            \"NPPE_log\",\n",
    "            \"CapEx_log\",\n",
    "            \"Age\",\n",
    "            \"CapInten\",\n",
    "            \"GMAR\",\n",
    "            \"Leverage\",\n",
    "            \"Price\",\n",
    "            \"FuelIntensity\",\n",
    "            \"FiscalYear\",\n",
    "            \"ENEConsume_log\",\n",
    "            \"ENEProduce_log\",\n",
    "            \"INTAN_log\",\n",
    "            \"AccuDep_log\",\n",
    "            \"COGS_log\",\n",
    "        ],\n",
    "    \"selec_sect\":[\"GICSSubInd\", \"GICSInd\", \"GICSGroup\"],\n",
    "    \"cross_val\": False,\n",
    "}\n",
    "\n",
    "use_weights= None\n",
    "companies=True\n",
    "Summary_Final=[]\n",
    "Summary_Final_train = []\n",
    "ensemble =[]\n",
    "summary_metrics_detailed = pd.DataFrame()\n",
    "estimated_scopes = []"
   ]
  },
  {
   "cell_type": "code",
   "execution_count": 3,
   "metadata": {},
   "outputs": [],
   "source": [
    "preprocessed_dataset = load_data(path_rawdata, save=True)"
   ]
  },
  {
   "cell_type": "code",
   "execution_count": 4,
   "metadata": {},
   "outputs": [],
   "source": [
    "preprocessed_dataset[\"CF1\"] = preprocessed_dataset[\"CF1_merge\"] \n",
    "preprocessed_dataset[\"CF2\"] = preprocessed_dataset[\"CF2_merge\"] \n",
    "preprocessed_dataset[\"CF3\"] = preprocessed_dataset[\"CF3_merge\"] \n",
    "preprocessed_dataset[\"CF123\"] = preprocessed_dataset[\"CF123_merge\"] \n",
    "preprocessed_dataset[\"CDP_CF2\"] = preprocessed_dataset[\"CDP_CF2_location\"]\n",
    "preprocessed_dataset[\"country_sector\"] = preprocessed_dataset[\"CountryHQ\"].astype(str) + \"_\" + preprocessed_dataset[\"GICSSubInd\"].astype(str)\n",
    "# 50 sec\n",
    "threshold_under=1.5\n",
    "threshold_over=2.5\n",
    "for target in [\"CF1_merge\", \"CF2_merge\", \"CF3_merge\", \"CF123_merge\"] : \n",
    "    preprocessed_dataset = outliers_preprocess(preprocessed_dataset, target, threshold_under=threshold_under, threshold_over=threshold_over)"
   ]
  },
  {
   "cell_type": "code",
   "execution_count": 31,
   "metadata": {},
   "outputs": [
    {
     "name": "stdout",
     "output_type": "stream",
     "text": [
      "CF1_log\n",
      "Using pre created preprocessed files\n",
      "preprocessing done\n"
     ]
    },
    {
     "name": "stderr",
     "output_type": "stream",
     "text": [
      "2023/08/28 19:14:03 WARNING mlflow.sklearn: Model was missing function: predict. Not logging python_function flavor!\n",
      "Registered model 'catboost' already exists. Creating a new version of this model...\n",
      "2023/08/28 19:14:18 INFO mlflow.tracking._model_registry.client: Waiting up to 300 seconds for model version to finish creation.                     Model name: catboost, version 169\n",
      "Created version '169' of model 'catboost'.\n",
      "2023/08/28 19:14:21 WARNING mlflow.sklearn: Model was missing function: predict. Not logging python_function flavor!\n",
      "Registered model 'lgbm' already exists. Creating a new version of this model...\n",
      "2023/08/28 19:14:30 INFO mlflow.tracking._model_registry.client: Waiting up to 300 seconds for model version to finish creation.                     Model name: lgbm, version 169\n",
      "Created version '169' of model 'lgbm'.\n"
     ]
    },
    {
     "name": "stdout",
     "output_type": "stream",
     "text": [
      "modelisation done\n",
      "CF2_log\n",
      "Using pre created preprocessed files\n",
      "preprocessing done\n"
     ]
    },
    {
     "name": "stderr",
     "output_type": "stream",
     "text": [
      "2023/08/28 19:15:03 WARNING mlflow.sklearn: Model was missing function: predict. Not logging python_function flavor!\n",
      "Registered model 'catboost' already exists. Creating a new version of this model...\n",
      "2023/08/28 19:15:16 INFO mlflow.tracking._model_registry.client: Waiting up to 300 seconds for model version to finish creation.                     Model name: catboost, version 170\n",
      "Created version '170' of model 'catboost'.\n",
      "2023/08/28 19:15:17 WARNING mlflow.sklearn: Model was missing function: predict. Not logging python_function flavor!\n",
      "Registered model 'lgbm' already exists. Creating a new version of this model...\n",
      "2023/08/28 19:15:26 INFO mlflow.tracking._model_registry.client: Waiting up to 300 seconds for model version to finish creation.                     Model name: lgbm, version 170\n",
      "Created version '170' of model 'lgbm'.\n"
     ]
    },
    {
     "name": "stdout",
     "output_type": "stream",
     "text": [
      "modelisation done\n",
      "CF3_log\n",
      "Using pre created preprocessed files\n",
      "preprocessing done\n"
     ]
    },
    {
     "name": "stderr",
     "output_type": "stream",
     "text": [
      "2023/08/28 19:15:44 WARNING mlflow.sklearn: Model was missing function: predict. Not logging python_function flavor!\n",
      "Registered model 'catboost' already exists. Creating a new version of this model...\n",
      "2023/08/28 19:15:56 INFO mlflow.tracking._model_registry.client: Waiting up to 300 seconds for model version to finish creation.                     Model name: catboost, version 171\n",
      "Created version '171' of model 'catboost'.\n",
      "2023/08/28 19:15:57 WARNING mlflow.sklearn: Model was missing function: predict. Not logging python_function flavor!\n",
      "Registered model 'lgbm' already exists. Creating a new version of this model...\n",
      "2023/08/28 19:16:06 INFO mlflow.tracking._model_registry.client: Waiting up to 300 seconds for model version to finish creation.                     Model name: lgbm, version 171\n",
      "Created version '171' of model 'lgbm'.\n"
     ]
    },
    {
     "name": "stdout",
     "output_type": "stream",
     "text": [
      "modelisation done\n",
      "CF123_log\n",
      "Using pre created preprocessed files\n",
      "preprocessing done\n"
     ]
    },
    {
     "name": "stderr",
     "output_type": "stream",
     "text": [
      "2023/08/28 19:16:31 WARNING mlflow.sklearn: Model was missing function: predict. Not logging python_function flavor!\n",
      "Registered model 'catboost' already exists. Creating a new version of this model...\n",
      "2023/08/28 19:16:44 INFO mlflow.tracking._model_registry.client: Waiting up to 300 seconds for model version to finish creation.                     Model name: catboost, version 172\n",
      "Created version '172' of model 'catboost'.\n",
      "2023/08/28 19:16:45 WARNING mlflow.sklearn: Model was missing function: predict. Not logging python_function flavor!\n",
      "Registered model 'lgbm' already exists. Creating a new version of this model...\n",
      "2023/08/28 19:16:52 INFO mlflow.tracking._model_registry.client: Waiting up to 300 seconds for model version to finish creation.                     Model name: lgbm, version 172\n"
     ]
    },
    {
     "name": "stdout",
     "output_type": "stream",
     "text": [
      "modelisation done\n"
     ]
    },
    {
     "name": "stderr",
     "output_type": "stream",
     "text": [
      "Created version '172' of model 'lgbm'.\n"
     ]
    }
   ],
   "source": [
    "# test de base  \n",
    "targets = [\"CF1_log\",\"CF2_log\",\"CF3_log\", \"CF123_log\"]\n",
    "\n",
    "best_scores, best_stds, summary_global, summary_metrics_detailed = training_pipeline(\n",
    "    name_experiment=\"test_weights_01\",\n",
    "    path_Benchmark=path_Benchmark,\n",
    "    path_results=path_results,\n",
    "    path_models=path_models,\n",
    "    path_intermediary=path_intermediary,\n",
    "    path_plot = path_plot,\n",
    "    targets=targets,\n",
    "    models=models,\n",
    "    Summary_Final=Summary_Final,\n",
    "    # Summary_Final_train=Summary_Final_train,\n",
    "    ensemble=ensemble,\n",
    "    summary_metrics_detailed=summary_metrics_detailed,\n",
    "    estimated_scopes = estimated_scopes,\n",
    "    preprocessed_dataset=preprocessed_dataset,\n",
    "    training_parameters=training_parameters,\n",
    "    open_data=False,\n",
    "    save=False,\n",
    "    use_weights=True,\n",
    "    companies=False,\n",
    ")"
   ]
  },
  {
   "cell_type": "code",
   "execution_count": 32,
   "metadata": {},
   "outputs": [
    {
     "data": {
      "text/plain": [
       "[0.5210419733631437, 0.4159629294599453, 0.8637620192374258, 0.529039907808258]"
      ]
     },
     "execution_count": 32,
     "metadata": {},
     "output_type": "execute_result"
    }
   ],
   "source": [
    "best_scores\n",
    "# base \n",
    "# [0.5233991620098789, 0.40811509811421237, 0.85109105089482, 0.5229286278975259]\n",
    "\n",
    "# weights company False\n",
    "# [0.5210419733631437, 0.4159629294599453, 0.8637620192374258, 0.529039907808258]\n",
    "\n",
    "# weights company True\n",
    "# [0.5282566564237224, 0.4276567152521008,  0.8902519108927333, 0.5443683264545418]\n"
   ]
  },
  {
   "cell_type": "code",
   "execution_count": 34,
   "metadata": {},
   "outputs": [
    {
     "data": {
      "text/plain": [
       "[0.08518563859136011,\n",
       " 0.07962948882086639,\n",
       " 0.07137414348770764,\n",
       " 0.06477995068682972]"
      ]
     },
     "execution_count": 34,
     "metadata": {},
     "output_type": "execute_result"
    }
   ],
   "source": [
    "best_stds"
   ]
  },
  {
   "cell_type": "code",
   "execution_count": 35,
   "metadata": {},
   "outputs": [
    {
     "data": {
      "text/html": [
       "<div>\n",
       "<style scoped>\n",
       "    .dataframe tbody tr th:only-of-type {\n",
       "        vertical-align: middle;\n",
       "    }\n",
       "\n",
       "    .dataframe tbody tr th {\n",
       "        vertical-align: top;\n",
       "    }\n",
       "\n",
       "    .dataframe thead th {\n",
       "        text-align: right;\n",
       "    }\n",
       "</style>\n",
       "<table border=\"1\" class=\"dataframe\">\n",
       "  <thead>\n",
       "    <tr style=\"text-align: right;\">\n",
       "      <th></th>\n",
       "      <th>Target</th>\n",
       "      <th>model</th>\n",
       "      <th>mae</th>\n",
       "      <th>mse</th>\n",
       "      <th>r2</th>\n",
       "      <th>rmse</th>\n",
       "      <th>mape</th>\n",
       "      <th>std</th>\n",
       "    </tr>\n",
       "  </thead>\n",
       "  <tbody>\n",
       "    <tr>\n",
       "      <th>0</th>\n",
       "      <td>CF1_log</td>\n",
       "      <td>catboost</td>\n",
       "      <td>0.368237</td>\n",
       "      <td>0.273947</td>\n",
       "      <td>0.858347</td>\n",
       "      <td>0.523399</td>\n",
       "      <td>0.094276</td>\n",
       "      <td>0.084941</td>\n",
       "    </tr>\n",
       "    <tr>\n",
       "      <th>1</th>\n",
       "      <td>CF1_log</td>\n",
       "      <td>lgbm</td>\n",
       "      <td>0.370266</td>\n",
       "      <td>0.280179</td>\n",
       "      <td>0.855124</td>\n",
       "      <td>0.529319</td>\n",
       "      <td>0.093892</td>\n",
       "      <td>0.088528</td>\n",
       "    </tr>\n",
       "    <tr>\n",
       "      <th>2</th>\n",
       "      <td>CF2_log</td>\n",
       "      <td>catboost</td>\n",
       "      <td>0.288386</td>\n",
       "      <td>0.166558</td>\n",
       "      <td>0.825348</td>\n",
       "      <td>0.408115</td>\n",
       "      <td>0.064729</td>\n",
       "      <td>0.071094</td>\n",
       "    </tr>\n",
       "    <tr>\n",
       "      <th>3</th>\n",
       "      <td>CF2_log</td>\n",
       "      <td>lgbm</td>\n",
       "      <td>0.303318</td>\n",
       "      <td>0.182444</td>\n",
       "      <td>0.808689</td>\n",
       "      <td>0.427135</td>\n",
       "      <td>0.068125</td>\n",
       "      <td>0.070408</td>\n",
       "    </tr>\n",
       "    <tr>\n",
       "      <th>4</th>\n",
       "      <td>CF3_log</td>\n",
       "      <td>catboost</td>\n",
       "      <td>0.665080</td>\n",
       "      <td>0.724356</td>\n",
       "      <td>0.677323</td>\n",
       "      <td>0.851091</td>\n",
       "      <td>0.146878</td>\n",
       "      <td>0.067220</td>\n",
       "    </tr>\n",
       "    <tr>\n",
       "      <th>5</th>\n",
       "      <td>CF3_log</td>\n",
       "      <td>lgbm</td>\n",
       "      <td>0.686581</td>\n",
       "      <td>0.771974</td>\n",
       "      <td>0.656111</td>\n",
       "      <td>0.878620</td>\n",
       "      <td>0.151735</td>\n",
       "      <td>0.060190</td>\n",
       "    </tr>\n",
       "    <tr>\n",
       "      <th>6</th>\n",
       "      <td>CF123_log</td>\n",
       "      <td>catboost</td>\n",
       "      <td>0.389030</td>\n",
       "      <td>0.273454</td>\n",
       "      <td>0.819701</td>\n",
       "      <td>0.522929</td>\n",
       "      <td>0.071583</td>\n",
       "      <td>0.055137</td>\n",
       "    </tr>\n",
       "    <tr>\n",
       "      <th>7</th>\n",
       "      <td>CF123_log</td>\n",
       "      <td>lgbm</td>\n",
       "      <td>0.406691</td>\n",
       "      <td>0.295639</td>\n",
       "      <td>0.805073</td>\n",
       "      <td>0.543727</td>\n",
       "      <td>0.074839</td>\n",
       "      <td>0.047563</td>\n",
       "    </tr>\n",
       "    <tr>\n",
       "      <th>8</th>\n",
       "      <td>CF1_log</td>\n",
       "      <td>catboost</td>\n",
       "      <td>0.376385</td>\n",
       "      <td>0.279055</td>\n",
       "      <td>0.855705</td>\n",
       "      <td>0.528257</td>\n",
       "      <td>0.095420</td>\n",
       "      <td>0.084246</td>\n",
       "    </tr>\n",
       "    <tr>\n",
       "      <th>9</th>\n",
       "      <td>CF1_log</td>\n",
       "      <td>lgbm</td>\n",
       "      <td>0.393542</td>\n",
       "      <td>0.303734</td>\n",
       "      <td>0.842945</td>\n",
       "      <td>0.551120</td>\n",
       "      <td>0.099118</td>\n",
       "      <td>0.088842</td>\n",
       "    </tr>\n",
       "    <tr>\n",
       "      <th>10</th>\n",
       "      <td>CF2_log</td>\n",
       "      <td>catboost</td>\n",
       "      <td>0.304964</td>\n",
       "      <td>0.182890</td>\n",
       "      <td>0.808222</td>\n",
       "      <td>0.427657</td>\n",
       "      <td>0.067736</td>\n",
       "      <td>0.083662</td>\n",
       "    </tr>\n",
       "    <tr>\n",
       "      <th>11</th>\n",
       "      <td>CF2_log</td>\n",
       "      <td>lgbm</td>\n",
       "      <td>0.324750</td>\n",
       "      <td>0.207064</td>\n",
       "      <td>0.782874</td>\n",
       "      <td>0.455043</td>\n",
       "      <td>0.071980</td>\n",
       "      <td>0.093116</td>\n",
       "    </tr>\n",
       "    <tr>\n",
       "      <th>12</th>\n",
       "      <td>CF3_log</td>\n",
       "      <td>catboost</td>\n",
       "      <td>0.696480</td>\n",
       "      <td>0.792548</td>\n",
       "      <td>0.646946</td>\n",
       "      <td>0.890252</td>\n",
       "      <td>0.153948</td>\n",
       "      <td>0.073651</td>\n",
       "    </tr>\n",
       "    <tr>\n",
       "      <th>13</th>\n",
       "      <td>CF3_log</td>\n",
       "      <td>lgbm</td>\n",
       "      <td>0.713127</td>\n",
       "      <td>0.829584</td>\n",
       "      <td>0.630448</td>\n",
       "      <td>0.910815</td>\n",
       "      <td>0.157832</td>\n",
       "      <td>0.067019</td>\n",
       "    </tr>\n",
       "    <tr>\n",
       "      <th>14</th>\n",
       "      <td>CF123_log</td>\n",
       "      <td>catboost</td>\n",
       "      <td>0.409088</td>\n",
       "      <td>0.296337</td>\n",
       "      <td>0.804613</td>\n",
       "      <td>0.544368</td>\n",
       "      <td>0.075535</td>\n",
       "      <td>0.069595</td>\n",
       "    </tr>\n",
       "    <tr>\n",
       "      <th>15</th>\n",
       "      <td>CF123_log</td>\n",
       "      <td>lgbm</td>\n",
       "      <td>0.417232</td>\n",
       "      <td>0.310296</td>\n",
       "      <td>0.795410</td>\n",
       "      <td>0.557042</td>\n",
       "      <td>0.076958</td>\n",
       "      <td>0.062387</td>\n",
       "    </tr>\n",
       "    <tr>\n",
       "      <th>16</th>\n",
       "      <td>CF1_log</td>\n",
       "      <td>catboost</td>\n",
       "      <td>0.369630</td>\n",
       "      <td>0.271485</td>\n",
       "      <td>0.859620</td>\n",
       "      <td>0.521042</td>\n",
       "      <td>0.094684</td>\n",
       "      <td>0.085186</td>\n",
       "    </tr>\n",
       "    <tr>\n",
       "      <th>17</th>\n",
       "      <td>CF1_log</td>\n",
       "      <td>lgbm</td>\n",
       "      <td>0.371888</td>\n",
       "      <td>0.277805</td>\n",
       "      <td>0.856352</td>\n",
       "      <td>0.527072</td>\n",
       "      <td>0.094732</td>\n",
       "      <td>0.087220</td>\n",
       "    </tr>\n",
       "    <tr>\n",
       "      <th>18</th>\n",
       "      <td>CF2_log</td>\n",
       "      <td>catboost</td>\n",
       "      <td>0.293934</td>\n",
       "      <td>0.173025</td>\n",
       "      <td>0.818566</td>\n",
       "      <td>0.415963</td>\n",
       "      <td>0.065579</td>\n",
       "      <td>0.079629</td>\n",
       "    </tr>\n",
       "    <tr>\n",
       "      <th>19</th>\n",
       "      <td>CF2_log</td>\n",
       "      <td>lgbm</td>\n",
       "      <td>0.310756</td>\n",
       "      <td>0.192439</td>\n",
       "      <td>0.798209</td>\n",
       "      <td>0.438679</td>\n",
       "      <td>0.069264</td>\n",
       "      <td>0.082855</td>\n",
       "    </tr>\n",
       "    <tr>\n",
       "      <th>20</th>\n",
       "      <td>CF3_log</td>\n",
       "      <td>catboost</td>\n",
       "      <td>0.671825</td>\n",
       "      <td>0.746085</td>\n",
       "      <td>0.667644</td>\n",
       "      <td>0.863762</td>\n",
       "      <td>0.148838</td>\n",
       "      <td>0.071374</td>\n",
       "    </tr>\n",
       "    <tr>\n",
       "      <th>21</th>\n",
       "      <td>CF3_log</td>\n",
       "      <td>lgbm</td>\n",
       "      <td>0.693758</td>\n",
       "      <td>0.790984</td>\n",
       "      <td>0.647643</td>\n",
       "      <td>0.889373</td>\n",
       "      <td>0.153818</td>\n",
       "      <td>0.066762</td>\n",
       "    </tr>\n",
       "    <tr>\n",
       "      <th>22</th>\n",
       "      <td>CF123_log</td>\n",
       "      <td>catboost</td>\n",
       "      <td>0.395538</td>\n",
       "      <td>0.279883</td>\n",
       "      <td>0.815462</td>\n",
       "      <td>0.529040</td>\n",
       "      <td>0.073194</td>\n",
       "      <td>0.064780</td>\n",
       "    </tr>\n",
       "    <tr>\n",
       "      <th>23</th>\n",
       "      <td>CF123_log</td>\n",
       "      <td>lgbm</td>\n",
       "      <td>0.406349</td>\n",
       "      <td>0.296042</td>\n",
       "      <td>0.804808</td>\n",
       "      <td>0.544098</td>\n",
       "      <td>0.075345</td>\n",
       "      <td>0.066323</td>\n",
       "    </tr>\n",
       "  </tbody>\n",
       "</table>\n",
       "</div>"
      ],
      "text/plain": [
       "       Target     model       mae       mse        r2      rmse      mape  \\\n",
       "0     CF1_log  catboost  0.368237  0.273947  0.858347  0.523399  0.094276   \n",
       "1     CF1_log      lgbm  0.370266  0.280179  0.855124  0.529319  0.093892   \n",
       "2     CF2_log  catboost  0.288386  0.166558  0.825348  0.408115  0.064729   \n",
       "3     CF2_log      lgbm  0.303318  0.182444  0.808689  0.427135  0.068125   \n",
       "4     CF3_log  catboost  0.665080  0.724356  0.677323  0.851091  0.146878   \n",
       "5     CF3_log      lgbm  0.686581  0.771974  0.656111  0.878620  0.151735   \n",
       "6   CF123_log  catboost  0.389030  0.273454  0.819701  0.522929  0.071583   \n",
       "7   CF123_log      lgbm  0.406691  0.295639  0.805073  0.543727  0.074839   \n",
       "8     CF1_log  catboost  0.376385  0.279055  0.855705  0.528257  0.095420   \n",
       "9     CF1_log      lgbm  0.393542  0.303734  0.842945  0.551120  0.099118   \n",
       "10    CF2_log  catboost  0.304964  0.182890  0.808222  0.427657  0.067736   \n",
       "11    CF2_log      lgbm  0.324750  0.207064  0.782874  0.455043  0.071980   \n",
       "12    CF3_log  catboost  0.696480  0.792548  0.646946  0.890252  0.153948   \n",
       "13    CF3_log      lgbm  0.713127  0.829584  0.630448  0.910815  0.157832   \n",
       "14  CF123_log  catboost  0.409088  0.296337  0.804613  0.544368  0.075535   \n",
       "15  CF123_log      lgbm  0.417232  0.310296  0.795410  0.557042  0.076958   \n",
       "16    CF1_log  catboost  0.369630  0.271485  0.859620  0.521042  0.094684   \n",
       "17    CF1_log      lgbm  0.371888  0.277805  0.856352  0.527072  0.094732   \n",
       "18    CF2_log  catboost  0.293934  0.173025  0.818566  0.415963  0.065579   \n",
       "19    CF2_log      lgbm  0.310756  0.192439  0.798209  0.438679  0.069264   \n",
       "20    CF3_log  catboost  0.671825  0.746085  0.667644  0.863762  0.148838   \n",
       "21    CF3_log      lgbm  0.693758  0.790984  0.647643  0.889373  0.153818   \n",
       "22  CF123_log  catboost  0.395538  0.279883  0.815462  0.529040  0.073194   \n",
       "23  CF123_log      lgbm  0.406349  0.296042  0.804808  0.544098  0.075345   \n",
       "\n",
       "         std  \n",
       "0   0.084941  \n",
       "1   0.088528  \n",
       "2   0.071094  \n",
       "3   0.070408  \n",
       "4   0.067220  \n",
       "5   0.060190  \n",
       "6   0.055137  \n",
       "7   0.047563  \n",
       "8   0.084246  \n",
       "9   0.088842  \n",
       "10  0.083662  \n",
       "11  0.093116  \n",
       "12  0.073651  \n",
       "13  0.067019  \n",
       "14  0.069595  \n",
       "15  0.062387  \n",
       "16  0.085186  \n",
       "17  0.087220  \n",
       "18  0.079629  \n",
       "19  0.082855  \n",
       "20  0.071374  \n",
       "21  0.066762  \n",
       "22  0.064780  \n",
       "23  0.066323  "
      ]
     },
     "execution_count": 35,
     "metadata": {},
     "output_type": "execute_result"
    }
   ],
   "source": [
    "summary_global"
   ]
  },
  {
   "cell_type": "markdown",
   "metadata": {},
   "source": [
    "# gradient tests"
   ]
  },
  {
   "cell_type": "code",
   "execution_count": 31,
   "metadata": {},
   "outputs": [],
   "source": [
    "models = {\n",
    "        # \"xgboost\": xgboost_model,\n",
    "        # \"catboost\": catboost_model,\n",
    "        \"lgbm\": lgbm_model,\n",
    "}"
   ]
  },
  {
   "cell_type": "code",
   "execution_count": 5,
   "metadata": {},
   "outputs": [
    {
     "name": "stdout",
     "output_type": "stream",
     "text": [
      "CF1_log\n",
      "Using pre created preprocessed files\n",
      "preprocessing done\n",
      "Unexpected exception formatting exception. Falling back to standard exception\n"
     ]
    },
    {
     "name": "stderr",
     "output_type": "stream",
     "text": [
      "Traceback (most recent call last):\n",
      "  File \"_catboost.pyx\", line 1540, in _catboost._try_jit_method.new_method\n",
      "  File \"c:\\Users\\thibaud.barreau\\AppData\\Local\\Programs\\Python\\Python39\\lib\\site-packages\\numba\\core\\dispatcher.py\", line 471, in _compile_for_args\n",
      "    error_rewrite(e, 'unsupported_error')\n",
      "  File \"c:\\Users\\thibaud.barreau\\AppData\\Local\\Programs\\Python\\Python39\\lib\\site-packages\\numba\\core\\dispatcher.py\", line 409, in error_rewrite\n",
      "    raise e.with_traceback(None)\n",
      "numba.core.errors.UnsupportedError: Failed in nopython mode pipeline (step: inline calls to locally defined closures)\n",
      "\u001b[1mThe use of yield in a closure is unsupported.\n",
      "\u001b[1m\n",
      "File \"functions\\models.py\", line 310:\u001b[0m\n",
      "\u001b[1m    def calc_ders_range(self, approxes, targets, weights):\n",
      "        <source elided>\n",
      "        der1, der2 = (\n",
      "\u001b[1m            weights * np.array([np.sign(targets[i] - approxes[i] for i in range(len(targets)))]),\n",
      "\u001b[0m            \u001b[1m^\u001b[0m\u001b[0m\n",
      "\u001b[0m\n",
      "\n",
      "During handling of the above exception, another exception occurred:\n",
      "\n",
      "Traceback (most recent call last):\n",
      "  File \"_catboost.pyx\", line 1410, in _catboost._ObjectiveCalcDersRange\n",
      "  File \"_catboost.pyx\", line 1545, in _catboost._try_jit_method.new_method\n",
      "  File \"c:\\Users\\thibaud.barreau\\Desktop\\Projets\\corporate-ghg-emissions-estimations\\functions\\models.py\", line 310, in calc_ders_range\n",
      "    weights * np.array([np.sign(targets[i] - approxes[i] for i in range(len(targets)))]),\n",
      "TypeError: '<' not supported between instances of 'generator' and 'int'\n",
      "\n",
      "During handling of the above exception, another exception occurred:\n",
      "\n",
      "Traceback (most recent call last):\n",
      "  File \"C:\\Users\\thibaud.barreau\\AppData\\Roaming\\Python\\Python39\\site-packages\\IPython\\core\\interactiveshell.py\", line 3460, in run_code\n",
      "    exec(code_obj, self.user_global_ns, self.user_ns)\n",
      "  File \"C:\\Users\\thibaud.barreau\\AppData\\Local\\Temp\\ipykernel_20380\\3176228334.py\", line 7, in <module>\n",
      "    best_scores, best_stds, summary_global, summary_metrics_detailed = training_pipeline(\n",
      "  File \"c:\\Users\\thibaud.barreau\\Desktop\\Projets\\corporate-ghg-emissions-estimations\\functions\\training_pipeline.py\", line 116, in training_pipeline\n",
      "    model_i = model(\n",
      "  File \"c:\\Users\\thibaud.barreau\\Desktop\\Projets\\corporate-ghg-emissions-estimations\\functions\\models.py\", line 293, in catboost_model\n",
      "    model.fit(cat_train_data)\n",
      "  File \"c:\\Users\\thibaud.barreau\\AppData\\Local\\Programs\\Python\\Python39\\lib\\site-packages\\catboost\\core.py\", line 5730, in fit\n",
      "    return self._fit(X, y, cat_features, text_features, embedding_features, None, sample_weight, None, None, None, None, baseline,\n",
      "  File \"c:\\Users\\thibaud.barreau\\AppData\\Local\\Programs\\Python\\Python39\\lib\\site-packages\\catboost\\core.py\", line 2355, in _fit\n",
      "    self._train(\n",
      "  File \"c:\\Users\\thibaud.barreau\\AppData\\Local\\Programs\\Python\\Python39\\lib\\site-packages\\catboost\\core.py\", line 1759, in _train\n",
      "    self._object._train(train_pool, test_pool, params, allow_clear_pool, init_model._object if init_model else None)\n",
      "  File \"_catboost.pyx\", line 4623, in _catboost._CatBoost._train\n",
      "  File \"_catboost.pyx\", line 4672, in _catboost._CatBoost._train\n",
      "_catboost.CatBoostError: C:/Program Files (x86)/Go Agent/pipelines/BuildMaster/catboost.git/catboost/python-package/catboost/helpers.cpp:44: Traceback (most recent call last):\n",
      "  File \"_catboost.pyx\", line 1540, in _catboost._try_jit_method.new_method\n",
      "  File \"c:\\Users\\thibaud.barreau\\AppData\\Local\\Programs\\Python\\Python39\\lib\\site-packages\\numba\\core\\dispatcher.py\", line 471, in _compile_for_args\n",
      "    error_rewrite(e, 'unsupported_error')\n",
      "  File \"c:\\Users\\thibaud.barreau\\AppData\\Local\\Programs\\Python\\Python39\\lib\\site-packages\\numba\\core\\dispatcher.py\", line 409, in error_rewrite\n",
      "    raise e.with_traceback(None)\n",
      "numba.core.errors.UnsupportedError: Failed in nopython mode pipeline (step: inline calls to locally defined closures)\n",
      "\u001b[1mThe use of yield in a closure is unsupported.\n",
      "\u001b[1m\n",
      "File \"functions\\models.py\", line 310:\u001b[0m\n",
      "\u001b[1m    def calc_ders_range(self, approxes, targets, weights):\n",
      "        <source elided>\n",
      "        der1, der2 = (\n",
      "\u001b[1m            weights * np.array([np.sign(targets[i] - approxes[i] for i in range(len(targets)))]),\n",
      "\u001b[0m            \u001b[1m^\u001b[0m\u001b[0m\n",
      "\u001b[0m\n",
      "\n",
      "During handling of the above exception, another exception occurred:\n",
      "\n",
      "Traceback (most recent call last):\n",
      "  File \"_catboost.pyx\", line 1410, in _catboost._ObjectiveCalcDersRange\n",
      "  File \"_catboost.pyx\", line 1545, in _catboost._try_jit_method.new_method\n",
      "  File \"c:\\Users\\thibaud.barreau\\Desktop\\Projets\\corporate-ghg-emissions-estimations\\functions\\models.py\", line 310, in calc_ders_range\n",
      "    weights * np.array([np.sign(targets[i] - approxes[i] for i in range(len(targets)))]),\n",
      "TypeError: '<' not supported between instances of 'generator' and 'int'\n",
      "\n",
      "\n",
      "During handling of the above exception, another exception occurred:\n",
      "\n",
      "Traceback (most recent call last):\n",
      "  File \"C:\\Users\\thibaud.barreau\\AppData\\Roaming\\Python\\Python39\\site-packages\\IPython\\core\\interactiveshell.py\", line 2057, in showtraceback\n",
      "    stb = self.InteractiveTB.structured_traceback(\n",
      "  File \"C:\\Users\\thibaud.barreau\\AppData\\Roaming\\Python\\Python39\\site-packages\\IPython\\core\\ultratb.py\", line 1288, in structured_traceback\n",
      "    return FormattedTB.structured_traceback(\n",
      "  File \"C:\\Users\\thibaud.barreau\\AppData\\Roaming\\Python\\Python39\\site-packages\\IPython\\core\\ultratb.py\", line 1177, in structured_traceback\n",
      "    return VerboseTB.structured_traceback(\n",
      "  File \"C:\\Users\\thibaud.barreau\\AppData\\Roaming\\Python\\Python39\\site-packages\\IPython\\core\\ultratb.py\", line 1049, in structured_traceback\n",
      "    formatted_exceptions += self.format_exception_as_a_whole(etype, evalue, etb, lines_of_context,\n",
      "  File \"C:\\Users\\thibaud.barreau\\AppData\\Roaming\\Python\\Python39\\site-packages\\IPython\\core\\ultratb.py\", line 935, in format_exception_as_a_whole\n",
      "    self.get_records(etb, number_of_lines_of_context, tb_offset) if etb else []\n",
      "  File \"C:\\Users\\thibaud.barreau\\AppData\\Roaming\\Python\\Python39\\site-packages\\IPython\\core\\ultratb.py\", line 1003, in get_records\n",
      "    lines, first = inspect.getsourcelines(etb.tb_frame)\n",
      "  File \"c:\\Users\\thibaud.barreau\\AppData\\Local\\Programs\\Python\\Python39\\lib\\inspect.py\", line 1006, in getsourcelines\n",
      "    lines, lnum = findsource(object)\n",
      "  File \"c:\\Users\\thibaud.barreau\\AppData\\Local\\Programs\\Python\\Python39\\lib\\inspect.py\", line 835, in findsource\n",
      "    raise OSError('could not get source code')\n",
      "OSError: could not get source code\n"
     ]
    }
   ],
   "source": [
    "# test \n",
    "targets = [\"CF1_log\",\"CF2_log\",\"CF3_log\", \"CF123_log\"]\n",
    "use_weights=True\n",
    "companies=False\n",
    "custom_gradient = \"L1\" #, \"L2\"\n",
    "\n",
    "best_scores, best_stds, summary_global, summary_metrics_detailed = training_pipeline(\n",
    "    name_experiment=\"restriction_CF123_test_gradient_erty\",\n",
    "    path_Benchmark=path_Benchmark,\n",
    "    path_results=path_results,\n",
    "    path_models=path_models,\n",
    "    path_intermediary=path_intermediary,\n",
    "    path_plot = path_plot,\n",
    "    targets=targets,\n",
    "    models=models,\n",
    "    Summary_Final=Summary_Final,\n",
    "    # Summary_Final_train=Summary_Final_train,\n",
    "    ensemble=ensemble,\n",
    "    summary_metrics_detailed=summary_metrics_detailed,\n",
    "    estimated_scopes = estimated_scopes,\n",
    "    preprocessed_dataset=preprocessed_dataset,\n",
    "    training_parameters=training_parameters,\n",
    "    open_data=False,\n",
    "    save=False,\n",
    "    use_weights=use_weights,\n",
    "    companies=companies,\n",
    "    custom_gradient=custom_gradient, # False, \"L1\", \"L2\"\n",
    ")"
   ]
  },
  {
   "cell_type": "code",
   "execution_count": 6,
   "metadata": {},
   "outputs": [
    {
     "data": {
      "text/plain": [
       "[0.5204469702378566,\n",
       " 0.4065862754564264,\n",
       " 0.8695668764144385,\n",
       " 0.5317033406354882]"
      ]
     },
     "execution_count": 6,
     "metadata": {},
     "output_type": "execute_result"
    }
   ],
   "source": [
    "best_scores\n",
    "# weights : [0.5210419733631437, 0.4159629294599453, 0.8637620192374258, 0.529039907808258]\n",
    "# weithts slight differance, cant explain why : [0.5204469702378566, 0.4065862754564264, 0.8695668764144385, 0.5317033406354882]"
   ]
  },
  {
   "cell_type": "markdown",
   "metadata": {},
   "source": [
    "# test forbes"
   ]
  },
  {
   "cell_type": "code",
   "execution_count": 8,
   "metadata": {},
   "outputs": [],
   "source": [
    "training_parameters[\"extended_features\"] = [\"Revenue_log\", \"Asset_log\", \"EBIT_log\"]\n",
    "training_parameters[\"selec_sect\"] = [\"GICSSubInd\"]\n",
    "\n",
    "Summary_Final=[]\n",
    "Summary_Final_train = []\n",
    "ensemble =[]\n",
    "summary_metrics_detailed = pd.DataFrame()\n",
    "estimated_scopes = []\n",
    "\n",
    "path_rawdata = 'data/raw_data/'\n",
    "path_models = 'models/open_data/'\n",
    "path_Benchmark = 'Benchmark/'\n",
    "path_results = 'results/open_data/'\n",
    "path_plot = path_results +'plot/'\n",
    "path_intermediary = 'data/intermediary_data/open_data/'\n",
    "path_plot = 'results/open_data/plot/'"
   ]
  },
  {
   "cell_type": "code",
   "execution_count": 12,
   "metadata": {},
   "outputs": [
    {
     "name": "stdout",
     "output_type": "stream",
     "text": [
      "CF1_log\n",
      "Using pre created preprocessed files\n",
      "preprocessing done\n"
     ]
    },
    {
     "name": "stderr",
     "output_type": "stream",
     "text": [
      "2023/08/28 19:01:31 WARNING mlflow.sklearn: Model was missing function: predict. Not logging python_function flavor!\n",
      "Registered model 'catboost' already exists. Creating a new version of this model...\n",
      "2023/08/28 19:01:42 INFO mlflow.tracking._model_registry.client: Waiting up to 300 seconds for model version to finish creation.                     Model name: catboost, version 157\n",
      "Created version '157' of model 'catboost'.\n",
      "2023/08/28 19:01:44 WARNING mlflow.sklearn: Model was missing function: predict. Not logging python_function flavor!\n",
      "Registered model 'lgbm' already exists. Creating a new version of this model...\n",
      "2023/08/28 19:01:53 INFO mlflow.tracking._model_registry.client: Waiting up to 300 seconds for model version to finish creation.                     Model name: lgbm, version 157\n",
      "Created version '157' of model 'lgbm'.\n"
     ]
    },
    {
     "name": "stdout",
     "output_type": "stream",
     "text": [
      "modelisation done\n",
      "CF2_log\n",
      "Using pre created preprocessed files\n",
      "preprocessing done\n"
     ]
    },
    {
     "name": "stderr",
     "output_type": "stream",
     "text": [
      "2023/08/28 19:02:12 WARNING mlflow.sklearn: Model was missing function: predict. Not logging python_function flavor!\n",
      "Registered model 'catboost' already exists. Creating a new version of this model...\n",
      "2023/08/28 19:02:23 INFO mlflow.tracking._model_registry.client: Waiting up to 300 seconds for model version to finish creation.                     Model name: catboost, version 158\n",
      "Created version '158' of model 'catboost'.\n",
      "2023/08/28 19:02:24 WARNING mlflow.sklearn: Model was missing function: predict. Not logging python_function flavor!\n",
      "Registered model 'lgbm' already exists. Creating a new version of this model...\n",
      "2023/08/28 19:02:32 INFO mlflow.tracking._model_registry.client: Waiting up to 300 seconds for model version to finish creation.                     Model name: lgbm, version 158\n",
      "Created version '158' of model 'lgbm'.\n"
     ]
    },
    {
     "name": "stdout",
     "output_type": "stream",
     "text": [
      "modelisation done\n",
      "CF3_log\n",
      "Using pre created preprocessed files\n",
      "preprocessing done\n"
     ]
    },
    {
     "name": "stderr",
     "output_type": "stream",
     "text": [
      "2023/08/28 19:02:41 WARNING mlflow.sklearn: Model was missing function: predict. Not logging python_function flavor!\n",
      "Registered model 'catboost' already exists. Creating a new version of this model...\n",
      "2023/08/28 19:02:48 INFO mlflow.tracking._model_registry.client: Waiting up to 300 seconds for model version to finish creation.                     Model name: catboost, version 159\n",
      "Created version '159' of model 'catboost'.\n",
      "2023/08/28 19:02:49 WARNING mlflow.sklearn: Model was missing function: predict. Not logging python_function flavor!\n",
      "Registered model 'lgbm' already exists. Creating a new version of this model...\n",
      "2023/08/28 19:02:56 INFO mlflow.tracking._model_registry.client: Waiting up to 300 seconds for model version to finish creation.                     Model name: lgbm, version 159\n",
      "Created version '159' of model 'lgbm'.\n"
     ]
    },
    {
     "name": "stdout",
     "output_type": "stream",
     "text": [
      "modelisation done\n",
      "CF123_log\n",
      "Using pre created preprocessed files\n",
      "preprocessing done\n"
     ]
    },
    {
     "name": "stderr",
     "output_type": "stream",
     "text": [
      "2023/08/28 19:03:08 WARNING mlflow.sklearn: Model was missing function: predict. Not logging python_function flavor!\n",
      "Registered model 'catboost' already exists. Creating a new version of this model...\n",
      "2023/08/28 19:03:17 INFO mlflow.tracking._model_registry.client: Waiting up to 300 seconds for model version to finish creation.                     Model name: catboost, version 160\n",
      "Created version '160' of model 'catboost'.\n",
      "2023/08/28 19:03:17 WARNING mlflow.sklearn: Model was missing function: predict. Not logging python_function flavor!\n",
      "Registered model 'lgbm' already exists. Creating a new version of this model...\n",
      "2023/08/28 19:03:26 INFO mlflow.tracking._model_registry.client: Waiting up to 300 seconds for model version to finish creation.                     Model name: lgbm, version 160\n"
     ]
    },
    {
     "name": "stdout",
     "output_type": "stream",
     "text": [
      "modelisation done\n"
     ]
    },
    {
     "name": "stderr",
     "output_type": "stream",
     "text": [
      "Created version '160' of model 'lgbm'.\n"
     ]
    }
   ],
   "source": [
    "# test \n",
    "\n",
    "\n",
    "targets = [\"CF1_log\", \"CF2_log\",\"CF3_log\", \"CF123_log\"]\n",
    "use_weights = True\n",
    "companies = True\n",
    "custom_gradient = False\n",
    "training_parameters[\"cross_val\"] = False\n",
    "open_data = True\n",
    "save=False\n",
    "\n",
    "best_scores, best_stds, summary_global, summary_metrics_detailed = training_pipeline(\n",
    "    name_experiment=\"open_data_weights_1\",\n",
    "    path_Benchmark=path_Benchmark,\n",
    "    path_results=path_results,\n",
    "    path_models=path_models,\n",
    "    path_intermediary=path_intermediary,\n",
    "    path_plot = path_plot,\n",
    "    targets=targets,\n",
    "    models=models,\n",
    "    Summary_Final=Summary_Final,\n",
    "    ensemble=ensemble,\n",
    "    summary_metrics_detailed=summary_metrics_detailed,\n",
    "    estimated_scopes = estimated_scopes,\n",
    "    preprocessed_dataset=preprocessed_dataset,\n",
    "    training_parameters=training_parameters,\n",
    "    open_data=open_data,\n",
    "    save=save,\n",
    "    use_weights=use_weights,\n",
    "    companies=companies,\n",
    "    custom_gradient=custom_gradient, # False, \"L1\", \"L2\"\n",
    ")"
   ]
  },
  {
   "cell_type": "code",
   "execution_count": 13,
   "metadata": {},
   "outputs": [
    {
     "data": {
      "text/plain": [
       "[0.6181115374952726, 0.5282881561064796, 0.948884930076248, 0.5847361763342059]"
      ]
     },
     "execution_count": 13,
     "metadata": {},
     "output_type": "execute_result"
    }
   ],
   "source": [
    "best_scores\n",
    "# company False [0.5942981807446742, 0.5199290731203127, 0.9205291544461597, 0.5697513017958337]\n",
    "# company True  [0.6181115374952726, 0.5282881561064796, 0.948884930076248, 0.5847361763342059]"
   ]
  },
  {
   "cell_type": "code",
   "execution_count": 16,
   "metadata": {},
   "outputs": [
    {
     "data": {
      "text/plain": [
       "[0.09245682274663633,\n",
       " 0.09295838272001448,\n",
       " 0.06866365947788611,\n",
       " 0.06217860674351541]"
      ]
     },
     "execution_count": 16,
     "metadata": {},
     "output_type": "execute_result"
    }
   ],
   "source": [
    "best_stds\n",
    "# company False [0.08536605849280941, 0.09252645566960702, 0.06459487990827643, 0.0628031625458782]\n",
    "# company True  [0.09245682274663633, 0.09295838272001448, 0.06866365947788611, 0.06217860674351541]"
   ]
  },
  {
   "cell_type": "code",
   "execution_count": null,
   "metadata": {},
   "outputs": [],
   "source": [
    "summary_global"
   ]
  },
  {
   "cell_type": "code",
   "execution_count": null,
   "metadata": {},
   "outputs": [],
   "source": []
  }
 ],
 "metadata": {
  "kernelspec": {
   "display_name": "Python 3",
   "language": "python",
   "name": "python3"
  },
  "language_info": {
   "codemirror_mode": {
    "name": "ipython",
    "version": 3
   },
   "file_extension": ".py",
   "mimetype": "text/x-python",
   "name": "python",
   "nbconvert_exporter": "python",
   "pygments_lexer": "ipython3",
   "version": "3.9.13"
  },
  "orig_nbformat": 4
 },
 "nbformat": 4,
 "nbformat_minor": 2
}
