{
 "cells": [
  {
   "cell_type": "code",
   "execution_count": 1,
   "metadata": {},
   "outputs": [],
   "source": [
    "import pandas as pd"
   ]
  },
  {
   "cell_type": "code",
   "execution_count": 2,
   "metadata": {},
   "outputs": [],
   "source": [
    "path_cogem_trbc = \"data/raw_data/cogem_trbc.csv\"\n",
    "cogem = pd.read_csv(path_cogem_trbc, sep=\";\")"
   ]
  },
  {
   "cell_type": "code",
   "execution_count": 3,
   "metadata": {},
   "outputs": [
    {
     "name": "stderr",
     "output_type": "stream",
     "text": [
      "C:\\Users\\mohamed.fahmaoui\\AppData\\Local\\Temp\\ipykernel_10504\\1482237439.py:1: FutureWarning: A value is trying to be set on a copy of a DataFrame or Series through chained assignment using an inplace method.\n",
      "The behavior will change in pandas 3.0. This inplace method will never work because the intermediate object on which we are setting values always behaves as a copy.\n",
      "\n",
      "For example, when doing 'df[col].method(value, inplace=True)', try using 'df.method({col: value}, inplace=True)' or df[col] = df[col].method(value) instead, to perform the operation inplace on the original object.\n",
      "\n",
      "\n",
      "  cogem[\"TRBC Activity All Codes\"].fillna(cogem[\"TRBC Activity Code\"], inplace=True)\n",
      "C:\\Users\\mohamed.fahmaoui\\AppData\\Local\\Temp\\ipykernel_10504\\1482237439.py:2: FutureWarning: A value is trying to be set on a copy of a DataFrame or Series through chained assignment using an inplace method.\n",
      "The behavior will change in pandas 3.0. This inplace method will never work because the intermediate object on which we are setting values always behaves as a copy.\n",
      "\n",
      "For example, when doing 'df[col].method(value, inplace=True)', try using 'df.method({col: value}, inplace=True)' or df[col] = df[col].method(value) instead, to perform the operation inplace on the original object.\n",
      "\n",
      "\n",
      "  cogem[\"TRBC Economic Sector All Codes\"].fillna(cogem[\"TRBC Economic Sector Code\"], inplace=True)\n",
      "C:\\Users\\mohamed.fahmaoui\\AppData\\Local\\Temp\\ipykernel_10504\\1482237439.py:3: FutureWarning: A value is trying to be set on a copy of a DataFrame or Series through chained assignment using an inplace method.\n",
      "The behavior will change in pandas 3.0. This inplace method will never work because the intermediate object on which we are setting values always behaves as a copy.\n",
      "\n",
      "For example, when doing 'df[col].method(value, inplace=True)', try using 'df.method({col: value}, inplace=True)' or df[col] = df[col].method(value) instead, to perform the operation inplace on the original object.\n",
      "\n",
      "\n",
      "  cogem[\"TRBC Industry Group All Codes\"].fillna(cogem[\"TRBC Industry Group Code\"], inplace=True)\n",
      "C:\\Users\\mohamed.fahmaoui\\AppData\\Local\\Temp\\ipykernel_10504\\1482237439.py:4: FutureWarning: A value is trying to be set on a copy of a DataFrame or Series through chained assignment using an inplace method.\n",
      "The behavior will change in pandas 3.0. This inplace method will never work because the intermediate object on which we are setting values always behaves as a copy.\n",
      "\n",
      "For example, when doing 'df[col].method(value, inplace=True)', try using 'df.method({col: value}, inplace=True)' or df[col] = df[col].method(value) instead, to perform the operation inplace on the original object.\n",
      "\n",
      "\n",
      "  cogem[\"TRBC Industry All Codes\"].fillna(cogem[\"TRBC Industry Code\"], inplace=True)\n",
      "C:\\Users\\mohamed.fahmaoui\\AppData\\Local\\Temp\\ipykernel_10504\\1482237439.py:8: FutureWarning: A value is trying to be set on a copy of a DataFrame or Series through chained assignment using an inplace method.\n",
      "The behavior will change in pandas 3.0. This inplace method will never work because the intermediate object on which we are setting values always behaves as a copy.\n",
      "\n",
      "For example, when doing 'df[col].method(value, inplace=True)', try using 'df.method({col: value}, inplace=True)' or df[col] = df[col].method(value) instead, to perform the operation inplace on the original object.\n",
      "\n",
      "\n",
      "  cogem[\"TRBC Activity All\"].fillna(cogem[\"TRBC Activity Name\"], inplace=True)\n",
      "C:\\Users\\mohamed.fahmaoui\\AppData\\Local\\Temp\\ipykernel_10504\\1482237439.py:9: FutureWarning: A value is trying to be set on a copy of a DataFrame or Series through chained assignment using an inplace method.\n",
      "The behavior will change in pandas 3.0. This inplace method will never work because the intermediate object on which we are setting values always behaves as a copy.\n",
      "\n",
      "For example, when doing 'df[col].method(value, inplace=True)', try using 'df.method({col: value}, inplace=True)' or df[col] = df[col].method(value) instead, to perform the operation inplace on the original object.\n",
      "\n",
      "\n",
      "  cogem[\"TRBC Industry All\"].fillna(cogem[\"TRBC Industry Name\"], inplace=True)\n",
      "C:\\Users\\mohamed.fahmaoui\\AppData\\Local\\Temp\\ipykernel_10504\\1482237439.py:10: FutureWarning: A value is trying to be set on a copy of a DataFrame or Series through chained assignment using an inplace method.\n",
      "The behavior will change in pandas 3.0. This inplace method will never work because the intermediate object on which we are setting values always behaves as a copy.\n",
      "\n",
      "For example, when doing 'df[col].method(value, inplace=True)', try using 'df.method({col: value}, inplace=True)' or df[col] = df[col].method(value) instead, to perform the operation inplace on the original object.\n",
      "\n",
      "\n",
      "  cogem[\"TRBC Business Sector All\"].fillna(cogem[\"TRBC Business Sector Name\"], inplace=True)\n",
      "C:\\Users\\mohamed.fahmaoui\\AppData\\Local\\Temp\\ipykernel_10504\\1482237439.py:11: FutureWarning: A value is trying to be set on a copy of a DataFrame or Series through chained assignment using an inplace method.\n",
      "The behavior will change in pandas 3.0. This inplace method will never work because the intermediate object on which we are setting values always behaves as a copy.\n",
      "\n",
      "For example, when doing 'df[col].method(value, inplace=True)', try using 'df.method({col: value}, inplace=True)' or df[col] = df[col].method(value) instead, to perform the operation inplace on the original object.\n",
      "\n",
      "\n",
      "  cogem[\"TRBC Economic Sector All\"].fillna(cogem[\"TRBC Economic Sector Name\"], inplace=True)\n"
     ]
    }
   ],
   "source": [
    "cogem[\"TRBC Activity All Codes\"].fillna(cogem[\"TRBC Activity Code\"], inplace=True)\n",
    "cogem[\"TRBC Economic Sector All Codes\"].fillna(cogem[\"TRBC Economic Sector Code\"], inplace=True)\n",
    "cogem[\"TRBC Industry Group All Codes\"].fillna(cogem[\"TRBC Industry Group Code\"], inplace=True)\n",
    "cogem[\"TRBC Industry All Codes\"].fillna(cogem[\"TRBC Industry Code\"], inplace=True)\n",
    " \n",
    "cogem.drop(columns=[\"TRBC Activity Code\", \"TRBC Economic Sector Code\", \"TRBC Industry Group Code\", \"TRBC Industry Code\"], inplace=True)\n",
    " \n",
    "cogem[\"TRBC Activity All\"].fillna(cogem[\"TRBC Activity Name\"], inplace=True)\n",
    "cogem[\"TRBC Industry All\"].fillna(cogem[\"TRBC Industry Name\"], inplace=True)\n",
    "cogem[\"TRBC Business Sector All\"].fillna(cogem[\"TRBC Business Sector Name\"], inplace=True)\n",
    "cogem[\"TRBC Economic Sector All\"].fillna(cogem[\"TRBC Economic Sector Name\"], inplace=True)\n",
    " \n",
    "cogem.drop(columns=[\"TRBC Activity Name\", \"TRBC Industry Name\", \"TRBC Business Sector Name\", \"TRBC Economic Sector Name\"], inplace=True)\n",
    " \n",
    "cogem.drop(columns=[\"TRBC Industry Group Name\", \"TRBC Industry Group All\", \"TRBC Business Sector All\"], inplace=True)\n",
    " \n",
    "cogem.rename(columns={\n",
    "    \"TRBC Activity All\":\"TRBC_activity_name\",\n",
    "    \"TRBC Industry All\":\"TRBC_industry_name\",\n",
    "    \"TRBC Economic Sector All\":\"TRBC_economic_sector_name\",\n",
    "    \n",
    "    \"TRBC Activity All Codes\":\"TRBC_activity_all_codes\",\n",
    "    \"TRBC Industry All Codes\":\"TRBC_industry_all_codes\",\n",
    "    \"TRBC Industry Group All Codes\":\"TRBC_industry_group_all_codes\",\n",
    "    \"TRBC Business Sector All Codes\":\"TRBC_business_sector_all_codes\",\n",
    "    \"TRBC Economic Sector All Codes\":\"TRBC_economic_sector_all_codes\",\n",
    "}, inplace=True)"
   ]
  },
  {
   "cell_type": "code",
   "execution_count": 6,
   "metadata": {},
   "outputs": [
    {
     "data": {
      "text/plain": [
       "Instrument                         0\n",
       "TRBC_activity_name                10\n",
       "TRBC_activity_all_codes            9\n",
       "TRBC_industry_name                 9\n",
       "TRBC_industry_all_codes           10\n",
       "TRBC_industry_group_all_codes      9\n",
       "TRBC_business_sector_all_codes    32\n",
       "TRBC_economic_sector_name         10\n",
       "TRBC_economic_sector_all_codes     9\n",
       "dtype: int64"
      ]
     },
     "execution_count": 6,
     "metadata": {},
     "output_type": "execute_result"
    }
   ],
   "source": [
    "cogem.isna().sum()"
   ]
  },
  {
   "cell_type": "code",
   "execution_count": 8,
   "metadata": {},
   "outputs": [
    {
     "data": {
      "text/plain": [
       "Index(['Instrument', 'TRBC_activity_name', 'TRBC_activity_all_codes',\n",
       "       'TRBC_industry_name', 'TRBC_industry_all_codes',\n",
       "       'TRBC_industry_group_all_codes', 'TRBC_business_sector_all_codes',\n",
       "       'TRBC_economic_sector_name', 'TRBC_economic_sector_all_codes'],\n",
       "      dtype='object')"
      ]
     },
     "execution_count": 8,
     "metadata": {},
     "output_type": "execute_result"
    }
   ],
   "source": [
    "cogem.columns"
   ]
  },
  {
   "cell_type": "code",
   "execution_count": 11,
   "metadata": {},
   "outputs": [
    {
     "data": {
      "text/plain": [
       "49500"
      ]
     },
     "execution_count": 11,
     "metadata": {},
     "output_type": "execute_result"
    }
   ],
   "source": [
    "cogem.Instrument.nunique()"
   ]
  },
  {
   "cell_type": "code",
   "execution_count": 9,
   "metadata": {},
   "outputs": [],
   "source": [
    "cogem.to_csv(\"trbc_dataset.csv\", index = False)"
   ]
  }
 ],
 "metadata": {
  "kernelspec": {
   "display_name": "Toy_project_mohamed-WRM7iGFq",
   "language": "python",
   "name": "python3"
  },
  "language_info": {
   "codemirror_mode": {
    "name": "ipython",
    "version": 3
   },
   "file_extension": ".py",
   "mimetype": "text/x-python",
   "name": "python",
   "nbconvert_exporter": "python",
   "pygments_lexer": "ipython3",
   "version": "3.9.13"
  }
 },
 "nbformat": 4,
 "nbformat_minor": 2
}
