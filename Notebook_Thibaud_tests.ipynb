{
 "cells": [
  {
   "cell_type": "code",
   "execution_count": 1,
   "metadata": {},
   "outputs": [
    {
     "name": "stderr",
     "output_type": "stream",
     "text": [
      "c:\\Users\\thibaud.barreau\\AppData\\Local\\Programs\\Python\\Python39\\lib\\site-packages\\tqdm\\auto.py:22: TqdmWarning: IProgress not found. Please update jupyter and ipywidgets. See https://ipywidgets.readthedocs.io/en/stable/user_install.html\n",
      "  from .autonotebook import tqdm as notebook_tqdm\n"
     ]
    }
   ],
   "source": [
    "import warnings\n",
    "\n",
    "import pandas as pd\n",
    "import numpy as np\n",
    "\n",
    "from functions.loading import load_data\n",
    "\n",
    "from functions.preprocessing import outliers_preprocess\n",
    "from functions.training_pipeline import training_pipeline\n",
    "from functions.models import xgboost_model, catboost_model, lgbm_model\n",
    "\n",
    "warnings.filterwarnings('ignore')\n",
    "pd.options.mode.chained_assignment = None\n"
   ]
  },
  {
   "cell_type": "code",
   "execution_count": 87,
   "metadata": {},
   "outputs": [],
   "source": [
    "path_rawdata = 'data/raw_data/'\n",
    "path_models = 'models/proprietary_data/'\n",
    "path_Benchmark = 'Benchmark/'\n",
    "path_results = 'results/proprietary_data/'\n",
    "path_plot = path_results +'plot/'\n",
    "path_intermediary = 'data/intermediary_data/proprietary_data/'\n",
    "path_plot = 'results/proprietary_data/plot/'\n",
    "# ,\"CF3_log\", \"CF123_log\"\n",
    "targets = [\"CF1_log\",\"CF2_log\",\"CF3_log\", \"CF123_log\"]\n",
    "models = {\n",
    "        \"xgboost\": xgboost_model,\n",
    "        \"catboost\": catboost_model,\n",
    "        \"lgbm\": lgbm_model,\n",
    "}\n",
    "training_parameters = {\n",
    "    \"seed\":0,\n",
    "    \"n_iter\":10,\n",
    "    \"extended_features\": [\n",
    "            \"Revenue_log\",\n",
    "            \"EMP_log\",\n",
    "            \"Asset_log\",\n",
    "            \"NPPE_log\",\n",
    "            \"CapEx_log\",\n",
    "            \"Age\",\n",
    "            \"CapInten\",\n",
    "            \"GMAR\",\n",
    "            \"Leverage\",\n",
    "            \"Price\",\n",
    "            \"FuelIntensity\",\n",
    "            \"FiscalYear\",\n",
    "            \"ENEConsume_log\",\n",
    "            \"ENEProduce_log\",\n",
    "            \"INTAN_log\",\n",
    "            \"AccuDep_log\",\n",
    "            \"COGS_log\",\n",
    "        ],\n",
    "    \"selec_sect\":[\"GICSSubInd\", \"GICSInd\", \"GICSGroup\"],\n",
    "    \"fill_grp\":\"\",\n",
    "    \"old_pipe\":False,  \n",
    "    \"cross_val\": False,\n",
    "}\n",
    "\n",
    "Summary_Final=[]\n",
    "Summary_Final_train = []\n",
    "ensemble =[]\n",
    "summary_metrics_detailed = pd.DataFrame()\n",
    "estimated_scopes = []"
   ]
  },
  {
   "cell_type": "code",
   "execution_count": 3,
   "metadata": {},
   "outputs": [],
   "source": [
    "preprocessed_dataset = load_data(path_rawdata, save=True)"
   ]
  },
  {
   "cell_type": "code",
   "execution_count": 4,
   "metadata": {},
   "outputs": [],
   "source": [
    "preprocessed_dataset[\"CF1\"] = preprocessed_dataset[\"CF1_merge\"] \n",
    "preprocessed_dataset[\"CF2\"] = preprocessed_dataset[\"CF2_merge\"] \n",
    "preprocessed_dataset[\"CF3\"] = preprocessed_dataset[\"CF3_merge\"] \n",
    "preprocessed_dataset[\"CF123\"] = preprocessed_dataset[\"CF123_merge\"] \n",
    "\n",
    "threshold_under=1.5\n",
    "threshold_over=2.5\n",
    "for target in [\"CF1_merge\", \"CF2_merge\", \"CF3_merge\", \"CF123_merge\"] : \n",
    "    preprocessed_dataset = outliers_preprocess(preprocessed_dataset, target, threshold_under=threshold_under, threshold_over=threshold_over)\n"
   ]
  },
  {
   "cell_type": "code",
   "execution_count": 5,
   "metadata": {},
   "outputs": [],
   "source": [
    "# threshold_under=1.5\n",
    "# threshold_over=2.5\n",
    "\n",
    "# scope = \"CF1_merge\"\n",
    "# temp = preprocessed_dataset[(preprocessed_dataset[scope].notna())]\n",
    "# print(scope,)\n",
    "# res = outliers_preprocess(temp, scope, threshold_under=threshold_under, threshold_over=np.inf)\n",
    "# print( \"nb_rows filtered (under):\", len(temp) - len(res), \" (\",(len(temp) - len(res))/len(temp)*100,\"%)\")\n",
    "# res = outliers_preprocess(temp, scope, threshold_under=np.inf, threshold_over=threshold_over)\n",
    "# print( \"nb_rows filtered (over):\", len(temp) - len(res), \" (\",(len(temp) - len(res))/len(temp)*100,\"%)\")\n",
    "# print(\"\\n\")\n",
    "\n",
    "# scope = \"CF2_merge\"\n",
    "# temp = preprocessed_dataset[(preprocessed_dataset[scope].notna())]\n",
    "# print(scope,)\n",
    "# res = outliers_preprocess(temp, scope, threshold_under=threshold_under, threshold_over=np.inf)\n",
    "# print( \"nb_rows filtered (under):\", len(temp) - len(res), \" (\",(len(temp) - len(res))/len(temp)*100,\"%)\")\n",
    "# res = outliers_preprocess(temp, scope, threshold_under=np.inf, threshold_over=threshold_over)\n",
    "# print( \"nb_rows filtered (over):\", len(temp) - len(res), \" (\",(len(temp) - len(res))/len(temp)*100,\"%)\")\n",
    "# print(\"\\n\")\n",
    "\n",
    "# scope = \"CF3_merge\"\n",
    "# temp = preprocessed_dataset[(preprocessed_dataset[scope].notna())]\n",
    "# print(scope,)\n",
    "# res = outliers_preprocess(temp, scope, threshold_under=threshold_under, threshold_over=np.inf)\n",
    "# print( \"nb_rows filtered (under):\", len(temp) - len(res), \" (\",(len(temp) - len(res))/len(temp)*100,\"%)\")\n",
    "# res = outliers_preprocess(temp, scope, threshold_under=np.inf, threshold_over=threshold_over)\n",
    "# print( \"nb_rows filtered (over):\", len(temp) - len(res), \" (\",(len(temp) - len(res))/len(temp)*100,\"%)\")\n",
    "# print(\"\\n\")\n",
    "\n",
    "# scope = \"CF123_merge\"\n",
    "# temp = preprocessed_dataset[(preprocessed_dataset[scope].notna())]\n",
    "# print(scope,)\n",
    "# res = outliers_preprocess(temp, scope, threshold_under=threshold_under, threshold_over=np.inf)\n",
    "# print( \"nb_rows filtered (under):\", len(temp) - len(res), \" (\",(len(temp) - len(res))/len(temp)*100,\"%)\")\n",
    "# res = outliers_preprocess(temp, scope, threshold_under=np.inf, threshold_over=threshold_over)\n",
    "# print( \"nb_rows filtered (over):\", len(temp) - len(res), \" (\",(len(temp) - len(res))/len(temp)*100,\"%)\")"
   ]
  },
  {
   "cell_type": "markdown",
   "metadata": {},
   "source": [
    "# Base example"
   ]
  },
  {
   "cell_type": "code",
   "execution_count": 7,
   "metadata": {},
   "outputs": [
    {
     "name": "stdout",
     "output_type": "stream",
     "text": [
      "CF1_log\n",
      "Files not found, constructing them\n",
      "preprocessing done\n"
     ]
    },
    {
     "name": "stderr",
     "output_type": "stream",
     "text": [
      "2023/08/02 18:00:33 WARNING mlflow.sklearn: Model was missing function: predict. Not logging python_function flavor!\n",
      "Registered model 'xgboost' already exists. Creating a new version of this model...\n",
      "2023/08/02 18:00:41 INFO mlflow.tracking._model_registry.client: Waiting up to 300 seconds for model version to finish creation.                     Model name: xgboost, version 19\n",
      "Created version '19' of model 'xgboost'.\n",
      "2023/08/02 18:00:52 WARNING mlflow.sklearn: Model was missing function: predict. Not logging python_function flavor!\n",
      "Registered model 'catboost' already exists. Creating a new version of this model...\n",
      "2023/08/02 18:00:59 INFO mlflow.tracking._model_registry.client: Waiting up to 300 seconds for model version to finish creation.                     Model name: catboost, version 47\n",
      "Created version '47' of model 'catboost'.\n"
     ]
    },
    {
     "name": "stdout",
     "output_type": "stream",
     "text": [
      "[LightGBM] [Warning] Auto-choosing col-wise multi-threading, the overhead of testing was 0.002487 seconds.\n",
      "You can set `force_col_wise=true` to remove the overhead.\n"
     ]
    },
    {
     "name": "stderr",
     "output_type": "stream",
     "text": [
      "2023/08/02 18:01:00 WARNING mlflow.sklearn: Model was missing function: predict. Not logging python_function flavor!\n",
      "Registered model 'lgbm' already exists. Creating a new version of this model...\n",
      "2023/08/02 18:01:07 INFO mlflow.tracking._model_registry.client: Waiting up to 300 seconds for model version to finish creation.                     Model name: lgbm, version 47\n",
      "Created version '47' of model 'lgbm'.\n"
     ]
    },
    {
     "name": "stdout",
     "output_type": "stream",
     "text": [
      "modelisation done\n",
      "CF2_log\n",
      "Using pre created preprocessed files\n",
      "preprocessing done\n"
     ]
    },
    {
     "name": "stderr",
     "output_type": "stream",
     "text": [
      "2023/08/02 18:01:14 WARNING mlflow.sklearn: Model was missing function: predict. Not logging python_function flavor!\n",
      "Registered model 'xgboost' already exists. Creating a new version of this model...\n",
      "2023/08/02 18:01:21 INFO mlflow.tracking._model_registry.client: Waiting up to 300 seconds for model version to finish creation.                     Model name: xgboost, version 20\n",
      "Created version '20' of model 'xgboost'.\n",
      "2023/08/02 18:01:31 WARNING mlflow.sklearn: Model was missing function: predict. Not logging python_function flavor!\n",
      "Registered model 'catboost' already exists. Creating a new version of this model...\n",
      "2023/08/02 18:01:38 INFO mlflow.tracking._model_registry.client: Waiting up to 300 seconds for model version to finish creation.                     Model name: catboost, version 48\n",
      "Created version '48' of model 'catboost'.\n"
     ]
    },
    {
     "name": "stdout",
     "output_type": "stream",
     "text": [
      "[LightGBM] [Warning] Auto-choosing col-wise multi-threading, the overhead of testing was 0.001824 seconds.\n",
      "You can set `force_col_wise=true` to remove the overhead.\n"
     ]
    },
    {
     "name": "stderr",
     "output_type": "stream",
     "text": [
      "2023/08/02 18:01:39 WARNING mlflow.sklearn: Model was missing function: predict. Not logging python_function flavor!\n",
      "Registered model 'lgbm' already exists. Creating a new version of this model...\n",
      "2023/08/02 18:01:46 INFO mlflow.tracking._model_registry.client: Waiting up to 300 seconds for model version to finish creation.                     Model name: lgbm, version 48\n",
      "Created version '48' of model 'lgbm'.\n"
     ]
    },
    {
     "name": "stdout",
     "output_type": "stream",
     "text": [
      "modelisation done\n",
      "CF3_log\n",
      "Using pre created preprocessed files\n",
      "preprocessing done\n"
     ]
    },
    {
     "name": "stderr",
     "output_type": "stream",
     "text": [
      "2023/08/02 18:01:52 WARNING mlflow.sklearn: Model was missing function: predict. Not logging python_function flavor!\n",
      "Registered model 'xgboost' already exists. Creating a new version of this model...\n",
      "2023/08/02 18:01:59 INFO mlflow.tracking._model_registry.client: Waiting up to 300 seconds for model version to finish creation.                     Model name: xgboost, version 21\n",
      "Created version '21' of model 'xgboost'.\n",
      "2023/08/02 18:02:07 WARNING mlflow.sklearn: Model was missing function: predict. Not logging python_function flavor!\n",
      "Registered model 'catboost' already exists. Creating a new version of this model...\n",
      "2023/08/02 18:02:13 INFO mlflow.tracking._model_registry.client: Waiting up to 300 seconds for model version to finish creation.                     Model name: catboost, version 49\n",
      "Created version '49' of model 'catboost'.\n"
     ]
    },
    {
     "name": "stdout",
     "output_type": "stream",
     "text": [
      "[LightGBM] [Warning] Auto-choosing col-wise multi-threading, the overhead of testing was 0.001539 seconds.\n",
      "You can set `force_col_wise=true` to remove the overhead.\n"
     ]
    },
    {
     "name": "stderr",
     "output_type": "stream",
     "text": [
      "2023/08/02 18:02:14 WARNING mlflow.sklearn: Model was missing function: predict. Not logging python_function flavor!\n",
      "Registered model 'lgbm' already exists. Creating a new version of this model...\n",
      "2023/08/02 18:02:21 INFO mlflow.tracking._model_registry.client: Waiting up to 300 seconds for model version to finish creation.                     Model name: lgbm, version 49\n",
      "Created version '49' of model 'lgbm'.\n"
     ]
    },
    {
     "name": "stdout",
     "output_type": "stream",
     "text": [
      "modelisation done\n",
      "CF123_log\n",
      "Using pre created preprocessed files\n",
      "preprocessing done\n"
     ]
    },
    {
     "name": "stderr",
     "output_type": "stream",
     "text": [
      "2023/08/02 18:02:27 WARNING mlflow.sklearn: Model was missing function: predict. Not logging python_function flavor!\n",
      "Registered model 'xgboost' already exists. Creating a new version of this model...\n",
      "2023/08/02 18:02:33 INFO mlflow.tracking._model_registry.client: Waiting up to 300 seconds for model version to finish creation.                     Model name: xgboost, version 22\n",
      "Created version '22' of model 'xgboost'.\n",
      "2023/08/02 18:02:41 WARNING mlflow.sklearn: Model was missing function: predict. Not logging python_function flavor!\n",
      "Registered model 'catboost' already exists. Creating a new version of this model...\n",
      "2023/08/02 18:02:48 INFO mlflow.tracking._model_registry.client: Waiting up to 300 seconds for model version to finish creation.                     Model name: catboost, version 50\n",
      "Created version '50' of model 'catboost'.\n"
     ]
    },
    {
     "name": "stdout",
     "output_type": "stream",
     "text": [
      "[LightGBM] [Warning] Auto-choosing col-wise multi-threading, the overhead of testing was 0.001526 seconds.\n",
      "You can set `force_col_wise=true` to remove the overhead.\n"
     ]
    },
    {
     "name": "stderr",
     "output_type": "stream",
     "text": [
      "2023/08/02 18:02:49 WARNING mlflow.sklearn: Model was missing function: predict. Not logging python_function flavor!\n",
      "Registered model 'lgbm' already exists. Creating a new version of this model...\n",
      "2023/08/02 18:02:55 INFO mlflow.tracking._model_registry.client: Waiting up to 300 seconds for model version to finish creation.                     Model name: lgbm, version 50\n"
     ]
    },
    {
     "name": "stdout",
     "output_type": "stream",
     "text": [
      "modelisation done\n"
     ]
    },
    {
     "name": "stderr",
     "output_type": "stream",
     "text": [
      "Created version '50' of model 'lgbm'.\n"
     ]
    }
   ],
   "source": [
    "# test de base 28minutes ? \n",
    "targets = [\"CF1_log\",\"CF2_log\",\"CF3_log\", \"CF123_log\"]\n",
    "\n",
    "best_scores, best_stds, summary_global, summary_metrics_detailed = training_pipeline(\n",
    "    name_experiment=\"restriction_CF123_test_base_2822223\",\n",
    "    path_Benchmark=path_Benchmark,\n",
    "    path_results=path_results,\n",
    "    path_models=path_models,\n",
    "    path_intermediary=path_intermediary,\n",
    "    path_plot = path_plot,\n",
    "    targets=targets,\n",
    "    models=models,\n",
    "    Summary_Final=Summary_Final,\n",
    "    # Summary_Final_train=Summary_Final_train,\n",
    "    ensemble=ensemble,\n",
    "    summary_metrics_detailed=summary_metrics_detailed,\n",
    "    estimated_scopes = estimated_scopes,\n",
    "    preprocessed_dataset=preprocessed_dataset,\n",
    "    training_parameters=training_parameters,\n",
    "    open_data=False,\n",
    "    save=False,\n",
    ")"
   ]
  },
  {
   "cell_type": "code",
   "execution_count": 8,
   "metadata": {},
   "outputs": [
    {
     "data": {
      "text/plain": [
       "[0.5225673205853884, 0.40811509811421237, 0.85109105089482, 0.5229286278975259]"
      ]
     },
     "execution_count": 8,
     "metadata": {},
     "output_type": "execute_result"
    }
   ],
   "source": [
    "best_scores\n"
   ]
  },
  {
   "cell_type": "code",
   "execution_count": null,
   "metadata": {},
   "outputs": [
    {
     "data": {
      "text/plain": [
       "[0.5283557509005923,\n",
       " 0.42400993566684136,\n",
       " 0.8966142053519602,\n",
       " 0.5533837847917039]"
      ]
     },
     "execution_count": 7,
     "metadata": {},
     "output_type": "execute_result"
    }
   ],
   "source": [
    "# Initial grid\n",
    "# [0.718863070915766, \n",
    "#  0.5436700671297622, \n",
    "#  1.0526040758198016, \n",
    "#  0.6342521777936404]\n",
    "\n",
    "# just using inf threshold\n",
    "# [0.7018124871336399, # better \n",
    "#  0.5313084292372081, # better \n",
    "#  1.0378449220709638, # better \n",
    "#  0.6290781450386738] # better \n",
    "\n",
    "\n",
    "# CF123 comparison : \n",
    "# [0.7234012636609329, # worse\n",
    "#  0.5650729256715145, # worse\n",
    "#  1.0565618159862236, # worse\n",
    "#  0.6342521777936404] # same (normal)\n",
    "\n",
    "# Outliers removal before split, per target\n",
    "# [0.5283557509005923,\n",
    "#  0.42400993566684136,\n",
    "#  0.8966142053519602,\n",
    "#  0.5533837847917039]\n",
    "\n",
    "# global removal (remove line for all scopes instead of per scopes) : \n",
    "# [0.4940438778909675, # best\n",
    "#  0.4899781334699924,  \n",
    "#  0.9720296280063642,  \n",
    "#  0.5320520022173726]  \n",
    "# outlier before (drop unknown diff) \n",
    "# [0.5233991620098789,\n",
    "# 0.40811509811421237, # best\n",
    "# 0.85109105089482,    # best\n",
    "# 0.5229286278975259]  # best\n",
    "\n",
    "# outlier before (replace na)\n",
    "# [0.7018124871336399,\n",
    "#  0.5313084292372081,\n",
    "#  1.0378449220709638,\n",
    "#  0.6290781450386738]\n",
    "\n",
    "# outlier before (remove companies)\n",
    "# [0.5309444158752653, \n",
    "# 0.41053559533269984, #\n",
    "# 0.912072400444415,\n",
    "# 0.556608237281898]\n"
   ]
  },
  {
   "cell_type": "markdown",
   "metadata": {},
   "source": [
    "# Restriction to CF123 filter"
   ]
  },
  {
   "cell_type": "code",
   "execution_count": 37,
   "metadata": {},
   "outputs": [
    {
     "name": "stdout",
     "output_type": "stream",
     "text": [
      "CF1_log_CF123\n"
     ]
    },
    {
     "name": "stdout",
     "output_type": "stream",
     "text": [
      "Using pre created preprocessed files\n",
      "preprocessing done\n"
     ]
    },
    {
     "name": "stderr",
     "output_type": "stream",
     "text": [
      "2023/08/01 12:03:43 WARNING mlflow.sklearn: Model was missing function: predict. Not logging python_function flavor!\n",
      "Registered model 'xgboost' already exists. Creating a new version of this model...\n",
      "2023/08/01 12:03:47 INFO mlflow.tracking._model_registry.client: Waiting up to 300 seconds for model version to finish creation.                     Model name: xgboost, version 38\n",
      "Created version '38' of model 'xgboost'.\n",
      "2023/08/01 12:03:52 WARNING mlflow.sklearn: Model was missing function: predict. Not logging python_function flavor!\n",
      "Registered model 'catboost' already exists. Creating a new version of this model...\n",
      "2023/08/01 12:03:55 INFO mlflow.tracking._model_registry.client: Waiting up to 300 seconds for model version to finish creation.                     Model name: catboost, version 38\n",
      "Created version '38' of model 'catboost'.\n"
     ]
    },
    {
     "name": "stdout",
     "output_type": "stream",
     "text": [
      "[LightGBM] [Warning] Auto-choosing col-wise multi-threading, the overhead of testing was 0.000748 seconds.\n",
      "You can set `force_col_wise=true` to remove the overhead.\n"
     ]
    },
    {
     "name": "stderr",
     "output_type": "stream",
     "text": [
      "2023/08/01 12:03:56 WARNING mlflow.sklearn: Model was missing function: predict. Not logging python_function flavor!\n",
      "Registered model 'lgbm' already exists. Creating a new version of this model...\n",
      "2023/08/01 12:03:59 INFO mlflow.tracking._model_registry.client: Waiting up to 300 seconds for model version to finish creation.                     Model name: lgbm, version 38\n",
      "Created version '38' of model 'lgbm'.\n"
     ]
    },
    {
     "name": "stdout",
     "output_type": "stream",
     "text": [
      "modelisation done\n",
      "CF2_log_CF123\n",
      "Using pre created preprocessed files\n",
      "preprocessing done\n"
     ]
    },
    {
     "name": "stderr",
     "output_type": "stream",
     "text": [
      "2023/08/01 12:04:07 WARNING mlflow.sklearn: Model was missing function: predict. Not logging python_function flavor!\n",
      "Registered model 'xgboost' already exists. Creating a new version of this model...\n",
      "2023/08/01 12:04:10 INFO mlflow.tracking._model_registry.client: Waiting up to 300 seconds for model version to finish creation.                     Model name: xgboost, version 39\n",
      "Created version '39' of model 'xgboost'.\n",
      "2023/08/01 12:04:15 WARNING mlflow.sklearn: Model was missing function: predict. Not logging python_function flavor!\n",
      "Registered model 'catboost' already exists. Creating a new version of this model...\n",
      "2023/08/01 12:04:19 INFO mlflow.tracking._model_registry.client: Waiting up to 300 seconds for model version to finish creation.                     Model name: catboost, version 39\n",
      "Created version '39' of model 'catboost'.\n"
     ]
    },
    {
     "name": "stdout",
     "output_type": "stream",
     "text": [
      "[LightGBM] [Warning] Auto-choosing col-wise multi-threading, the overhead of testing was 0.001876 seconds.\n",
      "You can set `force_col_wise=true` to remove the overhead.\n"
     ]
    },
    {
     "name": "stderr",
     "output_type": "stream",
     "text": [
      "2023/08/01 12:04:19 WARNING mlflow.sklearn: Model was missing function: predict. Not logging python_function flavor!\n",
      "Registered model 'lgbm' already exists. Creating a new version of this model...\n",
      "2023/08/01 12:04:22 INFO mlflow.tracking._model_registry.client: Waiting up to 300 seconds for model version to finish creation.                     Model name: lgbm, version 39\n",
      "Created version '39' of model 'lgbm'.\n"
     ]
    },
    {
     "name": "stdout",
     "output_type": "stream",
     "text": [
      "modelisation done\n",
      "CF3_log_CF123\n",
      "Using pre created preprocessed files\n",
      "preprocessing done\n"
     ]
    },
    {
     "name": "stderr",
     "output_type": "stream",
     "text": [
      "2023/08/01 12:04:30 WARNING mlflow.sklearn: Model was missing function: predict. Not logging python_function flavor!\n",
      "Registered model 'xgboost' already exists. Creating a new version of this model...\n",
      "2023/08/01 12:04:33 INFO mlflow.tracking._model_registry.client: Waiting up to 300 seconds for model version to finish creation.                     Model name: xgboost, version 40\n",
      "Created version '40' of model 'xgboost'.\n",
      "2023/08/01 12:04:39 WARNING mlflow.sklearn: Model was missing function: predict. Not logging python_function flavor!\n",
      "Registered model 'catboost' already exists. Creating a new version of this model...\n",
      "2023/08/01 12:04:42 INFO mlflow.tracking._model_registry.client: Waiting up to 300 seconds for model version to finish creation.                     Model name: catboost, version 40\n",
      "Created version '40' of model 'catboost'.\n"
     ]
    },
    {
     "name": "stdout",
     "output_type": "stream",
     "text": [
      "[LightGBM] [Warning] Auto-choosing col-wise multi-threading, the overhead of testing was 0.001804 seconds.\n",
      "You can set `force_col_wise=true` to remove the overhead.\n"
     ]
    },
    {
     "name": "stderr",
     "output_type": "stream",
     "text": [
      "2023/08/01 12:04:42 WARNING mlflow.sklearn: Model was missing function: predict. Not logging python_function flavor!\n",
      "Registered model 'lgbm' already exists. Creating a new version of this model...\n",
      "2023/08/01 12:04:46 INFO mlflow.tracking._model_registry.client: Waiting up to 300 seconds for model version to finish creation.                     Model name: lgbm, version 40\n",
      "Created version '40' of model 'lgbm'.\n"
     ]
    },
    {
     "name": "stdout",
     "output_type": "stream",
     "text": [
      "modelisation done\n",
      "CF123_log\n",
      "Using pre created preprocessed files\n",
      "preprocessing done\n"
     ]
    },
    {
     "name": "stderr",
     "output_type": "stream",
     "text": [
      "2023/08/01 12:04:54 WARNING mlflow.sklearn: Model was missing function: predict. Not logging python_function flavor!\n",
      "Registered model 'xgboost' already exists. Creating a new version of this model...\n",
      "2023/08/01 12:04:57 INFO mlflow.tracking._model_registry.client: Waiting up to 300 seconds for model version to finish creation.                     Model name: xgboost, version 41\n",
      "Created version '41' of model 'xgboost'.\n",
      "2023/08/01 12:05:03 WARNING mlflow.sklearn: Model was missing function: predict. Not logging python_function flavor!\n",
      "Registered model 'catboost' already exists. Creating a new version of this model...\n",
      "2023/08/01 12:05:06 INFO mlflow.tracking._model_registry.client: Waiting up to 300 seconds for model version to finish creation.                     Model name: catboost, version 41\n",
      "Created version '41' of model 'catboost'.\n"
     ]
    },
    {
     "name": "stdout",
     "output_type": "stream",
     "text": [
      "[LightGBM] [Warning] Auto-choosing col-wise multi-threading, the overhead of testing was 0.000836 seconds.\n",
      "You can set `force_col_wise=true` to remove the overhead.\n"
     ]
    },
    {
     "name": "stderr",
     "output_type": "stream",
     "text": [
      "2023/08/01 12:05:06 WARNING mlflow.sklearn: Model was missing function: predict. Not logging python_function flavor!\n",
      "Registered model 'lgbm' already exists. Creating a new version of this model...\n",
      "2023/08/01 12:05:09 INFO mlflow.tracking._model_registry.client: Waiting up to 300 seconds for model version to finish creation.                     Model name: lgbm, version 41\n"
     ]
    },
    {
     "name": "stdout",
     "output_type": "stream",
     "text": [
      "modelisation done\n"
     ]
    },
    {
     "name": "stderr",
     "output_type": "stream",
     "text": [
      "Created version '41' of model 'lgbm'.\n"
     ]
    }
   ],
   "source": [
    "# test restricted to CF123\n",
    "targets = [\"CF1_log_CF123\",\"CF2_log_CF123\",\"CF3_log_CF123\", \"CF123_log\"]\n",
    "\n",
    "best_scores, best_stds, summary_global, summary_metrics_detailed = training_pipeline(\n",
    "    name_experiment=\"restriction_CF123_test_uniform test_CVTrue\",\n",
    "    path_Benchmark=path_Benchmark,\n",
    "    path_results=path_results,\n",
    "    path_models=path_models,\n",
    "    path_intermediary=path_intermediary,\n",
    "    path_plot = path_plot,\n",
    "    targets=targets,\n",
    "    models=models,\n",
    "    Summary_Final=Summary_Final,\n",
    "    # Summary_Final_train =Summary_Final_train,\n",
    "    ensemble=ensemble,\n",
    "    summary_metrics_detailed=summary_metrics_detailed,\n",
    "    estimated_scopes = estimated_scopes,\n",
    "    preprocessed_dataset=preprocessed_dataset,\n",
    "    training_parameters=training_parameters,\n",
    "    open_data=False,\n",
    "    save=False,\n",
    ")"
   ]
  },
  {
   "cell_type": "code",
   "execution_count": 38,
   "metadata": {},
   "outputs": [
    {
     "data": {
      "text/plain": [
       "[0.7234012636609329,\n",
       " 0.5650729256715145,\n",
       " 1.0565618159862236,\n",
       " 0.6342521777936404]"
      ]
     },
     "execution_count": 38,
     "metadata": {},
     "output_type": "execute_result"
    }
   ],
   "source": [
    "best_scores # with CF123 standardization\n",
    "# no CV [0.7234012636609329,\n",
    "#  0.5650729256715145,\n",
    "#  1.0565618159862236,\n",
    "#  0.6342521777936404]"
   ]
  },
  {
   "cell_type": "markdown",
   "metadata": {},
   "source": [
    "# Test seed influence"
   ]
  },
  {
   "cell_type": "code",
   "execution_count": 9,
   "metadata": {},
   "outputs": [],
   "source": [
    "from functions.preprocessing import custom_train_split\n",
    "from functions.results import  metrics\n",
    "\n",
    "training_parameters[\"cross_val\"] = True"
   ]
  },
  {
   "cell_type": "code",
   "execution_count": 88,
   "metadata": {},
   "outputs": [
    {
     "name": "stdout",
     "output_type": "stream",
     "text": [
      "CF1_log_CF123\n",
      "Using pre created preprocessed files\n",
      "preprocessing done\n",
      "[LightGBM] [Warning] Auto-choosing col-wise multi-threading, the overhead of testing was 0.001687 seconds.\n",
      "You can set `force_col_wise=true` to remove the overhead.\n",
      "[LightGBM] [Warning] Auto-choosing col-wise multi-threading, the overhead of testing was 0.001664 seconds.\n",
      "You can set `force_col_wise=true` to remove the overhead.\n",
      "[LightGBM] [Warning] Auto-choosing col-wise multi-threading, the overhead of testing was 0.001459 seconds.\n",
      "You can set `force_col_wise=true` to remove the overhead.\n",
      "[LightGBM] [Warning] Auto-choosing col-wise multi-threading, the overhead of testing was 0.001646 seconds.\n",
      "You can set `force_col_wise=true` to remove the overhead.\n",
      "[LightGBM] [Warning] Auto-choosing col-wise multi-threading, the overhead of testing was 0.001596 seconds.\n",
      "You can set `force_col_wise=true` to remove the overhead.\n",
      "[LightGBM] [Warning] Auto-choosing col-wise multi-threading, the overhead of testing was 0.002148 seconds.\n",
      "You can set `force_col_wise=true` to remove the overhead.\n",
      "[LightGBM] [Warning] Auto-choosing col-wise multi-threading, the overhead of testing was 0.001594 seconds.\n",
      "You can set `force_col_wise=true` to remove the overhead.\n",
      "[LightGBM] [Warning] Auto-choosing col-wise multi-threading, the overhead of testing was 0.001502 seconds.\n",
      "You can set `force_col_wise=true` to remove the overhead.\n",
      "[LightGBM] [Warning] Auto-choosing col-wise multi-threading, the overhead of testing was 0.001529 seconds.\n",
      "You can set `force_col_wise=true` to remove the overhead.\n",
      "[LightGBM] [Warning] Auto-choosing col-wise multi-threading, the overhead of testing was 0.001424 seconds.\n",
      "You can set `force_col_wise=true` to remove the overhead.\n",
      "modelisations done\n",
      "CF2_log_CF123\n",
      "Using pre created preprocessed files\n",
      "preprocessing done\n",
      "[LightGBM] [Warning] Auto-choosing col-wise multi-threading, the overhead of testing was 0.001407 seconds.\n",
      "You can set `force_col_wise=true` to remove the overhead.\n",
      "[LightGBM] [Warning] Auto-choosing col-wise multi-threading, the overhead of testing was 0.001441 seconds.\n",
      "You can set `force_col_wise=true` to remove the overhead.\n",
      "[LightGBM] [Warning] Auto-choosing col-wise multi-threading, the overhead of testing was 0.001413 seconds.\n",
      "You can set `force_col_wise=true` to remove the overhead.\n",
      "[LightGBM] [Warning] Auto-choosing col-wise multi-threading, the overhead of testing was 0.001408 seconds.\n",
      "You can set `force_col_wise=true` to remove the overhead.\n",
      "[LightGBM] [Warning] Auto-choosing col-wise multi-threading, the overhead of testing was 0.001449 seconds.\n",
      "You can set `force_col_wise=true` to remove the overhead.\n",
      "[LightGBM] [Warning] Auto-choosing col-wise multi-threading, the overhead of testing was 0.001450 seconds.\n",
      "You can set `force_col_wise=true` to remove the overhead.\n",
      "[LightGBM] [Warning] Auto-choosing col-wise multi-threading, the overhead of testing was 0.001458 seconds.\n",
      "You can set `force_col_wise=true` to remove the overhead.\n",
      "[LightGBM] [Warning] Auto-choosing col-wise multi-threading, the overhead of testing was 0.001523 seconds.\n",
      "You can set `force_col_wise=true` to remove the overhead.\n",
      "[LightGBM] [Warning] Auto-choosing col-wise multi-threading, the overhead of testing was 0.001746 seconds.\n",
      "You can set `force_col_wise=true` to remove the overhead.\n",
      "[LightGBM] [Warning] Auto-choosing col-wise multi-threading, the overhead of testing was 0.001504 seconds.\n",
      "You can set `force_col_wise=true` to remove the overhead.\n",
      "modelisations done\n",
      "CF3_log_CF123\n",
      "Using pre created preprocessed files\n",
      "preprocessing done\n",
      "[LightGBM] [Warning] Auto-choosing col-wise multi-threading, the overhead of testing was 0.001406 seconds.\n",
      "You can set `force_col_wise=true` to remove the overhead.\n",
      "[LightGBM] [Warning] Auto-choosing col-wise multi-threading, the overhead of testing was 0.001949 seconds.\n",
      "You can set `force_col_wise=true` to remove the overhead.\n",
      "[LightGBM] [Warning] Auto-choosing col-wise multi-threading, the overhead of testing was 0.001944 seconds.\n",
      "You can set `force_col_wise=true` to remove the overhead.\n",
      "[LightGBM] [Warning] Auto-choosing col-wise multi-threading, the overhead of testing was 0.002099 seconds.\n",
      "You can set `force_col_wise=true` to remove the overhead.\n",
      "[LightGBM] [Warning] Auto-choosing col-wise multi-threading, the overhead of testing was 0.001516 seconds.\n",
      "You can set `force_col_wise=true` to remove the overhead.\n",
      "[LightGBM] [Warning] Auto-choosing col-wise multi-threading, the overhead of testing was 0.001619 seconds.\n",
      "You can set `force_col_wise=true` to remove the overhead.\n",
      "[LightGBM] [Warning] Auto-choosing col-wise multi-threading, the overhead of testing was 0.001380 seconds.\n",
      "You can set `force_col_wise=true` to remove the overhead.\n",
      "[LightGBM] [Warning] Auto-choosing col-wise multi-threading, the overhead of testing was 0.001458 seconds.\n",
      "You can set `force_col_wise=true` to remove the overhead.\n",
      "[LightGBM] [Warning] Auto-choosing col-wise multi-threading, the overhead of testing was 0.001686 seconds.\n",
      "You can set `force_col_wise=true` to remove the overhead.\n",
      "[LightGBM] [Warning] Auto-choosing col-wise multi-threading, the overhead of testing was 0.001359 seconds.\n",
      "You can set `force_col_wise=true` to remove the overhead.\n",
      "modelisations done\n",
      "CF123_log\n",
      "Using pre created preprocessed files\n",
      "preprocessing done\n",
      "[LightGBM] [Warning] Auto-choosing col-wise multi-threading, the overhead of testing was 0.001397 seconds.\n",
      "You can set `force_col_wise=true` to remove the overhead.\n",
      "[LightGBM] [Warning] Auto-choosing col-wise multi-threading, the overhead of testing was 0.002050 seconds.\n",
      "You can set `force_col_wise=true` to remove the overhead.\n",
      "[LightGBM] [Warning] Auto-choosing col-wise multi-threading, the overhead of testing was 0.001660 seconds.\n",
      "You can set `force_col_wise=true` to remove the overhead.\n",
      "[LightGBM] [Warning] Auto-choosing col-wise multi-threading, the overhead of testing was 0.002033 seconds.\n",
      "You can set `force_col_wise=true` to remove the overhead.\n",
      "[LightGBM] [Warning] Auto-choosing col-wise multi-threading, the overhead of testing was 0.001498 seconds.\n",
      "You can set `force_col_wise=true` to remove the overhead.\n",
      "[LightGBM] [Warning] Auto-choosing col-wise multi-threading, the overhead of testing was 0.001543 seconds.\n",
      "You can set `force_col_wise=true` to remove the overhead.\n",
      "[LightGBM] [Warning] Auto-choosing col-wise multi-threading, the overhead of testing was 0.001645 seconds.\n",
      "You can set `force_col_wise=true` to remove the overhead.\n",
      "[LightGBM] [Warning] Auto-choosing col-wise multi-threading, the overhead of testing was 0.001599 seconds.\n",
      "You can set `force_col_wise=true` to remove the overhead.\n",
      "[LightGBM] [Warning] Auto-choosing col-wise multi-threading, the overhead of testing was 0.001849 seconds.\n",
      "You can set `force_col_wise=true` to remove the overhead.\n",
      "[LightGBM] [Warning] Auto-choosing col-wise multi-threading, the overhead of testing was 0.001542 seconds.\n",
      "You can set `force_col_wise=true` to remove the overhead.\n",
      "modelisations done\n"
     ]
    }
   ],
   "source": [
    "# Analyse variance seed model\n",
    "# 22h, à ne pas reproduire à la maison\n",
    "\n",
    "targets = [\"CF1_log_CF123\",\"CF2_log_CF123\",\"CF3_log_CF123\", \"CF123_log\"]\n",
    "name_experiment = \"analysis_seed_model_influence_00\"\n",
    "\n",
    "best_scores = {\n",
    "    \"CF1_log_CF123\" : [],\n",
    "    \"CF2_log_CF123\" : [],\n",
    "    \"CF3_log_CF123\" : [],\n",
    "    \"CF123_log\" : [],\n",
    "}\n",
    "best_stds = {\n",
    "    \"CF1_log_CF123\" : [],\n",
    "    \"CF2_log_CF123\" : [],\n",
    "    \"CF3_log_CF123\" : [],\n",
    "    \"CF123_log\" : [],\n",
    "}\n",
    "\n",
    "for target in targets:\n",
    "    print(target)\n",
    "    (\n",
    "        X_train,\n",
    "        y_train,\n",
    "        X_test,\n",
    "        y_test,\n",
    "        df_test,\n",
    "    ) = custom_train_split(\n",
    "        preprocessed_dataset,\n",
    "        path_Benchmark,\n",
    "        path_intermediary,\n",
    "        target,\n",
    "        # threshold_under=training_parameters[\"threshold_under\"],\n",
    "        # threshold_over=training_parameters[\"threshold_over\"],\n",
    "        extended_features=training_parameters[\"extended_features\"],\n",
    "        selec_sect=training_parameters[\"selec_sect\"],\n",
    "        fill_grp=training_parameters[\"fill_grp\"],\n",
    "        old_pipe=training_parameters[\"old_pipe\"],\n",
    "        open_data=False,\n",
    "    )\n",
    "    # seed = training_parameters[\"seed\"]\n",
    "    n_iter = training_parameters[\"n_iter\"]\n",
    "    print(\"preprocessing done\")\n",
    "    for seed in range(10) : \n",
    "        test_scores = []\n",
    "        test_stds = []\n",
    "        for i, (model_name, model) in enumerate(models.items()):\n",
    "        # with mlflow.start_run() as run:\n",
    "            model_i = model(\n",
    "                X_train,\n",
    "                y_train,\n",
    "                cross_val=training_parameters[\"cross_val\"],\n",
    "                n_jobs=-1,\n",
    "                verbose=0,\n",
    "                n_iter=n_iter,\n",
    "                seed=seed,\n",
    "            )\n",
    "            y_pred = model_i.predict(X_test)\n",
    "\n",
    "            summary_global, rmse, std = metrics(y_test, y_pred, Summary_Final, target, model_name)\n",
    "            ensemble.append(model_i)\n",
    "            test_scores.append(rmse)\n",
    "            test_stds.append(std)\n",
    "\n",
    "        best_scores[target].append(test_scores[test_scores.index(min(test_scores))])\n",
    "        best_stds[target].append(test_stds[test_scores.index(min(test_scores))])\n",
    "    print(\"modelisations done\")\n"
   ]
  },
  {
   "cell_type": "code",
   "execution_count": 94,
   "metadata": {},
   "outputs": [
    {
     "data": {
      "text/plain": [
       "[0.5331540734213799,\n",
       " 0.5360074831899618,\n",
       " 0.5382189058069249,\n",
       " 0.5298694693143241,\n",
       " 0.5340767842482714,\n",
       " 0.5352108983832541,\n",
       " 0.541092377134454,\n",
       " 0.5307035015735889,\n",
       " 0.5363584396724036,\n",
       " 0.5352781513752242]"
      ]
     },
     "execution_count": 94,
     "metadata": {},
     "output_type": "execute_result"
    }
   ],
   "source": [
    "target = \"CF1_log_CF123\"\n",
    "best_scores[target]"
   ]
  },
  {
   "cell_type": "code",
   "execution_count": 124,
   "metadata": {},
   "outputs": [
    {
     "name": "stdout",
     "output_type": "stream",
     "text": [
      "CF3_log_CF123\n",
      "0.8592018955553286  +/-  0.002747998731523164 (variance due to seed)\n",
      "0.8592018955553286  +/-  0.07380153278094363 (variance due to test set)\n",
      "rapport seed VS test :  26.856465373998493\n"
     ]
    },
    {
     "data": {
      "text/plain": [
       "<AxesSubplot:>"
      ]
     },
     "execution_count": 124,
     "metadata": {},
     "output_type": "execute_result"
    },
    {
     "data": {
      "image/png": "[encoded data removed]",
      "text/plain": [
       "<Figure size 640x480 with 1 Axes>"
      ]
     },
     "metadata": {},
     "output_type": "display_data"
    }
   ],
   "source": [
    "target = targets[2] #31, 38, 26, 64\n",
    "print(target)\n",
    "print(np.mean(best_scores[target]), \" +/- \", np.std(best_scores[target]), \"(variance due to seed)\")\n",
    "print(np.mean(best_scores[target]), \" +/- \", np.mean(best_stds[target]), \"(variance due to test set)\")\n",
    "print(\"rapport seed VS test : \", np.mean(best_stds[target])/np.std(best_scores[target]))\n",
    "pd.Series(best_scores[target]).hist()"
   ]
  },
  {
   "cell_type": "code",
   "execution_count": 91,
   "metadata": {},
   "outputs": [
    {
     "name": "stdout",
     "output_type": "stream",
     "text": [
      "CF2_log_CF123\n",
      "0.428748571285022  +/-  0.002730458040318186\n"
     ]
    },
    {
     "data": {
      "text/plain": [
       "<AxesSubplot:>"
      ]
     },
     "execution_count": 91,
     "metadata": {},
     "output_type": "execute_result"
    },
    {
     "data": {
      "image/png": "[encoded data removed]",
      "text/plain": [
       "<Figure size 640x480 with 1 Axes>"
      ]
     },
     "metadata": {},
     "output_type": "display_data"
    }
   ],
   "source": [
    "target = targets[1]\n",
    "print(target)\n",
    "print(np.mean(best_scores[target]), \" +/- \", np.std(best_scores[target]))\n",
    "pd.Series(best_scores[target]).hist()"
   ]
  },
  {
   "cell_type": "code",
   "execution_count": 92,
   "metadata": {},
   "outputs": [
    {
     "name": "stdout",
     "output_type": "stream",
     "text": [
      "CF3_log_CF123\n",
      "0.8592018955553286  +/-  0.002747998731523164\n"
     ]
    },
    {
     "data": {
      "text/plain": [
       "<AxesSubplot:>"
      ]
     },
     "execution_count": 92,
     "metadata": {},
     "output_type": "execute_result"
    },
    {
     "data": {
      "image/png": "[encoded data removed]",
      "text/plain": [
       "<Figure size 640x480 with 1 Axes>"
      ]
     },
     "metadata": {},
     "output_type": "display_data"
    }
   ],
   "source": [
    "target = targets[2]\n",
    "print(target)\n",
    "print(np.mean(best_scores[target]), \" +/- \", np.std(best_scores[target]))\n",
    "pd.Series(best_scores[target]).hist()"
   ]
  },
  {
   "cell_type": "code",
   "execution_count": 93,
   "metadata": {},
   "outputs": [
    {
     "name": "stdout",
     "output_type": "stream",
     "text": [
      "CF123_log\n",
      "0.5235719239793513  +/-  0.000840491431264687\n"
     ]
    },
    {
     "data": {
      "text/plain": [
       "<AxesSubplot:>"
      ]
     },
     "execution_count": 93,
     "metadata": {},
     "output_type": "execute_result"
    },
    {
     "data": {
      "image/png": "[encoded data removed]",
      "text/plain": [
       "<Figure size 640x480 with 1 Axes>"
      ]
     },
     "metadata": {},
     "output_type": "display_data"
    }
   ],
   "source": [
    "target = targets[3]\n",
    "print(target)\n",
    "print(np.mean(best_scores[target]), \" +/- \", np.std(best_scores[target]))\n",
    "pd.Series(best_scores[target]).hist()"
   ]
  },
  {
   "cell_type": "code",
   "execution_count": 113,
   "metadata": {},
   "outputs": [
    {
     "data": {
      "text/html": [
       "<div>\n",
       "<style scoped>\n",
       "    .dataframe tbody tr th:only-of-type {\n",
       "        vertical-align: middle;\n",
       "    }\n",
       "\n",
       "    .dataframe tbody tr th {\n",
       "        vertical-align: top;\n",
       "    }\n",
       "\n",
       "    .dataframe thead th {\n",
       "        text-align: right;\n",
       "    }\n",
       "</style>\n",
       "<table border=\"1\" class=\"dataframe\">\n",
       "  <thead>\n",
       "    <tr style=\"text-align: right;\">\n",
       "      <th></th>\n",
       "      <th>Revenue_log</th>\n",
       "      <th>EMP_log</th>\n",
       "      <th>Asset_log</th>\n",
       "      <th>NPPE_log</th>\n",
       "      <th>CapEx_log</th>\n",
       "      <th>Age</th>\n",
       "      <th>CapInten</th>\n",
       "      <th>GMAR</th>\n",
       "      <th>Leverage</th>\n",
       "      <th>Price</th>\n",
       "      <th>...</th>\n",
       "      <th>GICSGroup__4530.0</th>\n",
       "      <th>GICSGroup__5010.0</th>\n",
       "      <th>GICSGroup__5020.0</th>\n",
       "      <th>GICSGroup__5510.0</th>\n",
       "      <th>GICSGroup__6010.0</th>\n",
       "      <th>GICSGroup__6020.0</th>\n",
       "      <th>CDP_CF1</th>\n",
       "      <th>CDP_CF2</th>\n",
       "      <th>CDP_CF3</th>\n",
       "      <th>country_sector</th>\n",
       "    </tr>\n",
       "  </thead>\n",
       "  <tbody>\n",
       "    <tr>\n",
       "      <th>397</th>\n",
       "      <td>7.897134</td>\n",
       "      <td>2.064458</td>\n",
       "      <td>9.350751</td>\n",
       "      <td>10.112440</td>\n",
       "      <td>10.831741</td>\n",
       "      <td>9.702434</td>\n",
       "      <td>0.027397</td>\n",
       "      <td>69.025367</td>\n",
       "      <td>0.066759</td>\n",
       "      <td>23.782510</td>\n",
       "      <td>...</td>\n",
       "      <td>False</td>\n",
       "      <td>False</td>\n",
       "      <td>False</td>\n",
       "      <td>False</td>\n",
       "      <td>False</td>\n",
       "      <td>False</td>\n",
       "      <td>NaN</td>\n",
       "      <td>NaN</td>\n",
       "      <td>NaN</td>\n",
       "      <td>Oman_40203030.0</td>\n",
       "    </tr>\n",
       "    <tr>\n",
       "      <th>398</th>\n",
       "      <td>8.160991</td>\n",
       "      <td>1.812913</td>\n",
       "      <td>9.075741</td>\n",
       "      <td>10.112377</td>\n",
       "      <td>10.831755</td>\n",
       "      <td>9.388727</td>\n",
       "      <td>0.002035</td>\n",
       "      <td>69.921549</td>\n",
       "      <td>0.027234</td>\n",
       "      <td>26.711392</td>\n",
       "      <td>...</td>\n",
       "      <td>False</td>\n",
       "      <td>False</td>\n",
       "      <td>False</td>\n",
       "      <td>False</td>\n",
       "      <td>False</td>\n",
       "      <td>False</td>\n",
       "      <td>NaN</td>\n",
       "      <td>NaN</td>\n",
       "      <td>NaN</td>\n",
       "      <td>Oman_40203030.0</td>\n",
       "    </tr>\n",
       "    <tr>\n",
       "      <th>1768</th>\n",
       "      <td>7.549280</td>\n",
       "      <td>0.000000</td>\n",
       "      <td>9.267156</td>\n",
       "      <td>10.114717</td>\n",
       "      <td>10.831723</td>\n",
       "      <td>20.648791</td>\n",
       "      <td>1.999192</td>\n",
       "      <td>50.175630</td>\n",
       "      <td>0.146231</td>\n",
       "      <td>NaN</td>\n",
       "      <td>...</td>\n",
       "      <td>False</td>\n",
       "      <td>False</td>\n",
       "      <td>False</td>\n",
       "      <td>False</td>\n",
       "      <td>True</td>\n",
       "      <td>False</td>\n",
       "      <td>NaN</td>\n",
       "      <td>NaN</td>\n",
       "      <td>NaN</td>\n",
       "      <td>Vietnam_20103010.0</td>\n",
       "    </tr>\n",
       "    <tr>\n",
       "      <th>1769</th>\n",
       "      <td>7.668216</td>\n",
       "      <td>0.000000</td>\n",
       "      <td>9.280163</td>\n",
       "      <td>10.115113</td>\n",
       "      <td>10.831630</td>\n",
       "      <td>21.127492</td>\n",
       "      <td>1.623123</td>\n",
       "      <td>63.207330</td>\n",
       "      <td>0.172121</td>\n",
       "      <td>NaN</td>\n",
       "      <td>...</td>\n",
       "      <td>False</td>\n",
       "      <td>False</td>\n",
       "      <td>False</td>\n",
       "      <td>False</td>\n",
       "      <td>True</td>\n",
       "      <td>False</td>\n",
       "      <td>NaN</td>\n",
       "      <td>NaN</td>\n",
       "      <td>NaN</td>\n",
       "      <td>Vietnam_20103010.0</td>\n",
       "    </tr>\n",
       "    <tr>\n",
       "      <th>2324</th>\n",
       "      <td>8.466195</td>\n",
       "      <td>1.799341</td>\n",
       "      <td>9.424651</td>\n",
       "      <td>10.113606</td>\n",
       "      <td>10.831738</td>\n",
       "      <td>36.700000</td>\n",
       "      <td>0.126503</td>\n",
       "      <td>67.028713</td>\n",
       "      <td>0.000000</td>\n",
       "      <td>23.588994</td>\n",
       "      <td>...</td>\n",
       "      <td>False</td>\n",
       "      <td>False</td>\n",
       "      <td>False</td>\n",
       "      <td>False</td>\n",
       "      <td>False</td>\n",
       "      <td>False</td>\n",
       "      <td>NaN</td>\n",
       "      <td>NaN</td>\n",
       "      <td>NaN</td>\n",
       "      <td>Sweden_40203010.0</td>\n",
       "    </tr>\n",
       "    <tr>\n",
       "      <th>...</th>\n",
       "      <td>...</td>\n",
       "      <td>...</td>\n",
       "      <td>...</td>\n",
       "      <td>...</td>\n",
       "      <td>...</td>\n",
       "      <td>...</td>\n",
       "      <td>...</td>\n",
       "      <td>...</td>\n",
       "      <td>...</td>\n",
       "      <td>...</td>\n",
       "      <td>...</td>\n",
       "      <td>...</td>\n",
       "      <td>...</td>\n",
       "      <td>...</td>\n",
       "      <td>...</td>\n",
       "      <td>...</td>\n",
       "      <td>...</td>\n",
       "      <td>...</td>\n",
       "      <td>...</td>\n",
       "      <td>...</td>\n",
       "      <td>...</td>\n",
       "    </tr>\n",
       "    <tr>\n",
       "      <th>572907</th>\n",
       "      <td>8.916332</td>\n",
       "      <td>3.940367</td>\n",
       "      <td>9.394843</td>\n",
       "      <td>10.163364</td>\n",
       "      <td>10.830621</td>\n",
       "      <td>15.574946</td>\n",
       "      <td>1.956778</td>\n",
       "      <td>25.803950</td>\n",
       "      <td>0.391945</td>\n",
       "      <td>NaN</td>\n",
       "      <td>...</td>\n",
       "      <td>False</td>\n",
       "      <td>False</td>\n",
       "      <td>False</td>\n",
       "      <td>False</td>\n",
       "      <td>False</td>\n",
       "      <td>False</td>\n",
       "      <td>NaN</td>\n",
       "      <td>NaN</td>\n",
       "      <td>NaN</td>\n",
       "      <td>Hong Kong_20303010.0</td>\n",
       "    </tr>\n",
       "    <tr>\n",
       "      <th>573560</th>\n",
       "      <td>8.880801</td>\n",
       "      <td>3.301247</td>\n",
       "      <td>9.239189</td>\n",
       "      <td>10.131997</td>\n",
       "      <td>10.831464</td>\n",
       "      <td>12.810310</td>\n",
       "      <td>0.788027</td>\n",
       "      <td>22.918570</td>\n",
       "      <td>0.170906</td>\n",
       "      <td>31.834461</td>\n",
       "      <td>...</td>\n",
       "      <td>False</td>\n",
       "      <td>False</td>\n",
       "      <td>False</td>\n",
       "      <td>False</td>\n",
       "      <td>False</td>\n",
       "      <td>False</td>\n",
       "      <td>NaN</td>\n",
       "      <td>NaN</td>\n",
       "      <td>NaN</td>\n",
       "      <td>Australia_60101010.0</td>\n",
       "    </tr>\n",
       "    <tr>\n",
       "      <th>573561</th>\n",
       "      <td>8.980481</td>\n",
       "      <td>3.301247</td>\n",
       "      <td>9.233544</td>\n",
       "      <td>10.132808</td>\n",
       "      <td>10.831082</td>\n",
       "      <td>13.699213</td>\n",
       "      <td>0.652917</td>\n",
       "      <td>24.713730</td>\n",
       "      <td>0.182120</td>\n",
       "      <td>21.101497</td>\n",
       "      <td>...</td>\n",
       "      <td>False</td>\n",
       "      <td>False</td>\n",
       "      <td>False</td>\n",
       "      <td>False</td>\n",
       "      <td>False</td>\n",
       "      <td>False</td>\n",
       "      <td>NaN</td>\n",
       "      <td>NaN</td>\n",
       "      <td>NaN</td>\n",
       "      <td>Australia_60101010.0</td>\n",
       "    </tr>\n",
       "    <tr>\n",
       "      <th>573805</th>\n",
       "      <td>8.811566</td>\n",
       "      <td>4.540342</td>\n",
       "      <td>10.272534</td>\n",
       "      <td>10.435779</td>\n",
       "      <td>10.826911</td>\n",
       "      <td>25.557205</td>\n",
       "      <td>22.103862</td>\n",
       "      <td>48.059850</td>\n",
       "      <td>0.617715</td>\n",
       "      <td>NaN</td>\n",
       "      <td>...</td>\n",
       "      <td>False</td>\n",
       "      <td>False</td>\n",
       "      <td>False</td>\n",
       "      <td>False</td>\n",
       "      <td>False</td>\n",
       "      <td>False</td>\n",
       "      <td>NaN</td>\n",
       "      <td>NaN</td>\n",
       "      <td>NaN</td>\n",
       "      <td>Turkey_40203010.0</td>\n",
       "    </tr>\n",
       "    <tr>\n",
       "      <th>573806</th>\n",
       "      <td>9.107179</td>\n",
       "      <td>4.535307</td>\n",
       "      <td>10.264802</td>\n",
       "      <td>10.424443</td>\n",
       "      <td>10.825656</td>\n",
       "      <td>24.399530</td>\n",
       "      <td>10.641595</td>\n",
       "      <td>48.059850</td>\n",
       "      <td>0.634873</td>\n",
       "      <td>NaN</td>\n",
       "      <td>...</td>\n",
       "      <td>False</td>\n",
       "      <td>False</td>\n",
       "      <td>False</td>\n",
       "      <td>False</td>\n",
       "      <td>False</td>\n",
       "      <td>False</td>\n",
       "      <td>NaN</td>\n",
       "      <td>NaN</td>\n",
       "      <td>NaN</td>\n",
       "      <td>Turkey_40203010.0</td>\n",
       "    </tr>\n",
       "  </tbody>\n",
       "</table>\n",
       "<p>11056 rows × 285 columns</p>\n",
       "</div>"
      ],
      "text/plain": [
       "        Revenue_log   EMP_log  Asset_log   NPPE_log  CapEx_log        Age  \\\n",
       "397        7.897134  2.064458   9.350751  10.112440  10.831741   9.702434   \n",
       "398        8.160991  1.812913   9.075741  10.112377  10.831755   9.388727   \n",
       "1768       7.549280  0.000000   9.267156  10.114717  10.831723  20.648791   \n",
       "1769       7.668216  0.000000   9.280163  10.115113  10.831630  21.127492   \n",
       "2324       8.466195  1.799341   9.424651  10.113606  10.831738  36.700000   \n",
       "...             ...       ...        ...        ...        ...        ...   \n",
       "572907     8.916332  3.940367   9.394843  10.163364  10.830621  15.574946   \n",
       "573560     8.880801  3.301247   9.239189  10.131997  10.831464  12.810310   \n",
       "573561     8.980481  3.301247   9.233544  10.132808  10.831082  13.699213   \n",
       "573805     8.811566  4.540342  10.272534  10.435779  10.826911  25.557205   \n",
       "573806     9.107179  4.535307  10.264802  10.424443  10.825656  24.399530   \n",
       "\n",
       "         CapInten       GMAR  Leverage      Price  ...  GICSGroup__4530.0  \\\n",
       "397      0.027397  69.025367  0.066759  23.782510  ...              False   \n",
       "398      0.002035  69.921549  0.027234  26.711392  ...              False   \n",
       "1768     1.999192  50.175630  0.146231        NaN  ...              False   \n",
       "1769     1.623123  63.207330  0.172121        NaN  ...              False   \n",
       "2324     0.126503  67.028713  0.000000  23.588994  ...              False   \n",
       "...           ...        ...       ...        ...  ...                ...   \n",
       "572907   1.956778  25.803950  0.391945        NaN  ...              False   \n",
       "573560   0.788027  22.918570  0.170906  31.834461  ...              False   \n",
       "573561   0.652917  24.713730  0.182120  21.101497  ...              False   \n",
       "573805  22.103862  48.059850  0.617715        NaN  ...              False   \n",
       "573806  10.641595  48.059850  0.634873        NaN  ...              False   \n",
       "\n",
       "        GICSGroup__5010.0  GICSGroup__5020.0  GICSGroup__5510.0  \\\n",
       "397                 False              False              False   \n",
       "398                 False              False              False   \n",
       "1768                False              False              False   \n",
       "1769                False              False              False   \n",
       "2324                False              False              False   \n",
       "...                   ...                ...                ...   \n",
       "572907              False              False              False   \n",
       "573560              False              False              False   \n",
       "573561              False              False              False   \n",
       "573805              False              False              False   \n",
       "573806              False              False              False   \n",
       "\n",
       "        GICSGroup__6010.0  GICSGroup__6020.0  CDP_CF1  CDP_CF2  CDP_CF3  \\\n",
       "397                 False              False      NaN      NaN      NaN   \n",
       "398                 False              False      NaN      NaN      NaN   \n",
       "1768                 True              False      NaN      NaN      NaN   \n",
       "1769                 True              False      NaN      NaN      NaN   \n",
       "2324                False              False      NaN      NaN      NaN   \n",
       "...                   ...                ...      ...      ...      ...   \n",
       "572907              False              False      NaN      NaN      NaN   \n",
       "573560              False              False      NaN      NaN      NaN   \n",
       "573561              False              False      NaN      NaN      NaN   \n",
       "573805              False              False      NaN      NaN      NaN   \n",
       "573806              False              False      NaN      NaN      NaN   \n",
       "\n",
       "              country_sector  \n",
       "397          Oman_40203030.0  \n",
       "398          Oman_40203030.0  \n",
       "1768      Vietnam_20103010.0  \n",
       "1769      Vietnam_20103010.0  \n",
       "2324       Sweden_40203010.0  \n",
       "...                      ...  \n",
       "572907  Hong Kong_20303010.0  \n",
       "573560  Australia_60101010.0  \n",
       "573561  Australia_60101010.0  \n",
       "573805     Turkey_40203010.0  \n",
       "573806     Turkey_40203010.0  \n",
       "\n",
       "[11056 rows x 285 columns]"
      ]
     },
     "execution_count": 113,
     "metadata": {},
     "output_type": "execute_result"
    }
   ],
   "source": [
    "X_train.shape #(11056, 281)\n",
    "X_train.index.nunique()\n",
    "X_train.join(preprocessed_dataset[[\"CDP_CF1\", \"CDP_CF2\", \"CDP_CF3\", \"CDP_CF123\",\"country_sector\"]]) # (11056, 281)"
   ]
  },
  {
   "cell_type": "markdown",
   "metadata": {},
   "source": [
    "# Test weighted OLS"
   ]
  },
  {
   "cell_type": "code",
   "execution_count": 55,
   "metadata": {},
   "outputs": [],
   "source": [
    "import statsmodels.api as sm"
   ]
  },
  {
   "cell_type": "code",
   "execution_count": 59,
   "metadata": {},
   "outputs": [
    {
     "data": {
      "text/plain": [
       "range(1, 8)"
      ]
     },
     "execution_count": 59,
     "metadata": {},
     "output_type": "execute_result"
    }
   ],
   "source": [
    "range(1,8)"
   ]
  },
  {
   "cell_type": "code",
   "execution_count": 60,
   "metadata": {},
   "outputs": [
    {
     "name": "stdout",
     "output_type": "stream",
     "text": [
      "CF1_log_CF123\n",
      "Using pre created preprocessed files\n",
      "preprocessing done\n"
     ]
    },
    {
     "ename": "TypeError",
     "evalue": "ufunc 'isfinite' not supported for the input types, and the inputs could not be safely coerced to any supported types according to the casting rule ''safe''",
     "output_type": "error",
     "traceback": [
      "\u001b[1;31m---------------------------------------------------------------------------\u001b[0m",
      "\u001b[1;31mTypeError\u001b[0m                                 Traceback (most recent call last)",
      "\u001b[1;32mc:\\Users\\thibaud.barreau\\Desktop\\Projets\\corporate-ghg-emissions-estimations\\Notebook_Thibaud_tests.ipynb Cell 26\u001b[0m in \u001b[0;36m3\n\u001b[0;32m     <a href='vscode-notebook-cell:/c%3A/Users/thibaud.barreau/Desktop/Projets/corporate-ghg-emissions-estimations/Notebook_Thibaud_tests.ipynb#X40sZmlsZQ%3D%3D?line=32'>33</a>\u001b[0m weights \u001b[39m=\u001b[39m [\u001b[39m1\u001b[39m \u001b[39mfor\u001b[39;00m i \u001b[39min\u001b[39;00m \u001b[39mrange\u001b[39m(\u001b[39mlen\u001b[39m(y_train))]\n\u001b[0;32m     <a href='vscode-notebook-cell:/c%3A/Users/thibaud.barreau/Desktop/Projets/corporate-ghg-emissions-estimations/Notebook_Thibaud_tests.ipynb#X40sZmlsZQ%3D%3D?line=34'>35</a>\u001b[0m \u001b[39mfor\u001b[39;00m i, (model_name, model) \u001b[39min\u001b[39;00m \u001b[39menumerate\u001b[39m(models\u001b[39m.\u001b[39mitems()):\n\u001b[1;32m---> <a href='vscode-notebook-cell:/c%3A/Users/thibaud.barreau/Desktop/Projets/corporate-ghg-emissions-estimations/Notebook_Thibaud_tests.ipynb#X40sZmlsZQ%3D%3D?line=35'>36</a>\u001b[0m     model_ols \u001b[39m=\u001b[39m sm\u001b[39m.\u001b[39;49mWLS(y_train\u001b[39m.\u001b[39;49mvalues, X_train\u001b[39m.\u001b[39;49mvalues, weights\u001b[39m=\u001b[39;49mweights)\u001b[39m.\u001b[39mfit()\n\u001b[0;32m     <a href='vscode-notebook-cell:/c%3A/Users/thibaud.barreau/Desktop/Projets/corporate-ghg-emissions-estimations/Notebook_Thibaud_tests.ipynb#X40sZmlsZQ%3D%3D?line=36'>37</a>\u001b[0m     y_pred \u001b[39m=\u001b[39m model_i\u001b[39m.\u001b[39mpredict(X_test\u001b[39m.\u001b[39mvalues)\n\u001b[0;32m     <a href='vscode-notebook-cell:/c%3A/Users/thibaud.barreau/Desktop/Projets/corporate-ghg-emissions-estimations/Notebook_Thibaud_tests.ipynb#X40sZmlsZQ%3D%3D?line=38'>39</a>\u001b[0m     summary_global, rmse, std \u001b[39m=\u001b[39m metrics(y_test, y_pred, Summary_Final, target, model_name)\n",
      "File \u001b[1;32mc:\\Users\\thibaud.barreau\\AppData\\Local\\Programs\\Python\\Python39\\lib\\site-packages\\statsmodels\\regression\\linear_model.py:717\u001b[0m, in \u001b[0;36mWLS.__init__\u001b[1;34m(self, endog, exog, weights, missing, hasconst, **kwargs)\u001b[0m\n\u001b[0;32m    715\u001b[0m \u001b[39melse\u001b[39;00m:\n\u001b[0;32m    716\u001b[0m     weights \u001b[39m=\u001b[39m weights\u001b[39m.\u001b[39msqueeze()\n\u001b[1;32m--> 717\u001b[0m \u001b[39msuper\u001b[39m(WLS, \u001b[39mself\u001b[39m)\u001b[39m.\u001b[39m\u001b[39m__init__\u001b[39m(endog, exog, missing\u001b[39m=\u001b[39mmissing,\n\u001b[0;32m    718\u001b[0m                           weights\u001b[39m=\u001b[39mweights, hasconst\u001b[39m=\u001b[39mhasconst, \u001b[39m*\u001b[39m\u001b[39m*\u001b[39mkwargs)\n\u001b[0;32m    719\u001b[0m nobs \u001b[39m=\u001b[39m \u001b[39mself\u001b[39m\u001b[39m.\u001b[39mexog\u001b[39m.\u001b[39mshape[\u001b[39m0\u001b[39m]\n\u001b[0;32m    720\u001b[0m weights \u001b[39m=\u001b[39m \u001b[39mself\u001b[39m\u001b[39m.\u001b[39mweights\n",
      "File \u001b[1;32mc:\\Users\\thibaud.barreau\\AppData\\Local\\Programs\\Python\\Python39\\lib\\site-packages\\statsmodels\\regression\\linear_model.py:191\u001b[0m, in \u001b[0;36mRegressionModel.__init__\u001b[1;34m(self, endog, exog, **kwargs)\u001b[0m\n\u001b[0;32m    190\u001b[0m \u001b[39mdef\u001b[39;00m \u001b[39m__init__\u001b[39m(\u001b[39mself\u001b[39m, endog, exog, \u001b[39m*\u001b[39m\u001b[39m*\u001b[39mkwargs):\n\u001b[1;32m--> 191\u001b[0m     \u001b[39msuper\u001b[39m(RegressionModel, \u001b[39mself\u001b[39m)\u001b[39m.\u001b[39m\u001b[39m__init__\u001b[39m(endog, exog, \u001b[39m*\u001b[39m\u001b[39m*\u001b[39mkwargs)\n\u001b[0;32m    192\u001b[0m     \u001b[39mself\u001b[39m\u001b[39m.\u001b[39m_data_attr\u001b[39m.\u001b[39mextend([\u001b[39m'\u001b[39m\u001b[39mpinv_wexog\u001b[39m\u001b[39m'\u001b[39m, \u001b[39m'\u001b[39m\u001b[39mwendog\u001b[39m\u001b[39m'\u001b[39m, \u001b[39m'\u001b[39m\u001b[39mwexog\u001b[39m\u001b[39m'\u001b[39m, \u001b[39m'\u001b[39m\u001b[39mweights\u001b[39m\u001b[39m'\u001b[39m])\n",
      "File \u001b[1;32mc:\\Users\\thibaud.barreau\\AppData\\Local\\Programs\\Python\\Python39\\lib\\site-packages\\statsmodels\\base\\model.py:267\u001b[0m, in \u001b[0;36mLikelihoodModel.__init__\u001b[1;34m(self, endog, exog, **kwargs)\u001b[0m\n\u001b[0;32m    266\u001b[0m \u001b[39mdef\u001b[39;00m \u001b[39m__init__\u001b[39m(\u001b[39mself\u001b[39m, endog, exog\u001b[39m=\u001b[39m\u001b[39mNone\u001b[39;00m, \u001b[39m*\u001b[39m\u001b[39m*\u001b[39mkwargs):\n\u001b[1;32m--> 267\u001b[0m     \u001b[39msuper\u001b[39m()\u001b[39m.\u001b[39m\u001b[39m__init__\u001b[39m(endog, exog, \u001b[39m*\u001b[39m\u001b[39m*\u001b[39mkwargs)\n\u001b[0;32m    268\u001b[0m     \u001b[39mself\u001b[39m\u001b[39m.\u001b[39minitialize()\n",
      "File \u001b[1;32mc:\\Users\\thibaud.barreau\\AppData\\Local\\Programs\\Python\\Python39\\lib\\site-packages\\statsmodels\\base\\model.py:92\u001b[0m, in \u001b[0;36mModel.__init__\u001b[1;34m(self, endog, exog, **kwargs)\u001b[0m\n\u001b[0;32m     90\u001b[0m missing \u001b[39m=\u001b[39m kwargs\u001b[39m.\u001b[39mpop(\u001b[39m'\u001b[39m\u001b[39mmissing\u001b[39m\u001b[39m'\u001b[39m, \u001b[39m'\u001b[39m\u001b[39mnone\u001b[39m\u001b[39m'\u001b[39m)\n\u001b[0;32m     91\u001b[0m hasconst \u001b[39m=\u001b[39m kwargs\u001b[39m.\u001b[39mpop(\u001b[39m'\u001b[39m\u001b[39mhasconst\u001b[39m\u001b[39m'\u001b[39m, \u001b[39mNone\u001b[39;00m)\n\u001b[1;32m---> 92\u001b[0m \u001b[39mself\u001b[39m\u001b[39m.\u001b[39mdata \u001b[39m=\u001b[39m \u001b[39mself\u001b[39m\u001b[39m.\u001b[39m_handle_data(endog, exog, missing, hasconst,\n\u001b[0;32m     93\u001b[0m                               \u001b[39m*\u001b[39m\u001b[39m*\u001b[39mkwargs)\n\u001b[0;32m     94\u001b[0m \u001b[39mself\u001b[39m\u001b[39m.\u001b[39mk_constant \u001b[39m=\u001b[39m \u001b[39mself\u001b[39m\u001b[39m.\u001b[39mdata\u001b[39m.\u001b[39mk_constant\n\u001b[0;32m     95\u001b[0m \u001b[39mself\u001b[39m\u001b[39m.\u001b[39mexog \u001b[39m=\u001b[39m \u001b[39mself\u001b[39m\u001b[39m.\u001b[39mdata\u001b[39m.\u001b[39mexog\n",
      "File \u001b[1;32mc:\\Users\\thibaud.barreau\\AppData\\Local\\Programs\\Python\\Python39\\lib\\site-packages\\statsmodels\\base\\model.py:132\u001b[0m, in \u001b[0;36mModel._handle_data\u001b[1;34m(self, endog, exog, missing, hasconst, **kwargs)\u001b[0m\n\u001b[0;32m    131\u001b[0m \u001b[39mdef\u001b[39;00m \u001b[39m_handle_data\u001b[39m(\u001b[39mself\u001b[39m, endog, exog, missing, hasconst, \u001b[39m*\u001b[39m\u001b[39m*\u001b[39mkwargs):\n\u001b[1;32m--> 132\u001b[0m     data \u001b[39m=\u001b[39m handle_data(endog, exog, missing, hasconst, \u001b[39m*\u001b[39m\u001b[39m*\u001b[39mkwargs)\n\u001b[0;32m    133\u001b[0m     \u001b[39m# kwargs arrays could have changed, easier to just attach here\u001b[39;00m\n\u001b[0;32m    134\u001b[0m     \u001b[39mfor\u001b[39;00m key \u001b[39min\u001b[39;00m kwargs:\n",
      "File \u001b[1;32mc:\\Users\\thibaud.barreau\\AppData\\Local\\Programs\\Python\\Python39\\lib\\site-packages\\statsmodels\\base\\data.py:673\u001b[0m, in \u001b[0;36mhandle_data\u001b[1;34m(endog, exog, missing, hasconst, **kwargs)\u001b[0m\n\u001b[0;32m    670\u001b[0m     exog \u001b[39m=\u001b[39m np\u001b[39m.\u001b[39masarray(exog)\n\u001b[0;32m    672\u001b[0m klass \u001b[39m=\u001b[39m handle_data_class_factory(endog, exog)\n\u001b[1;32m--> 673\u001b[0m \u001b[39mreturn\u001b[39;00m klass(endog, exog\u001b[39m=\u001b[39mexog, missing\u001b[39m=\u001b[39mmissing, hasconst\u001b[39m=\u001b[39mhasconst,\n\u001b[0;32m    674\u001b[0m              \u001b[39m*\u001b[39m\u001b[39m*\u001b[39mkwargs)\n",
      "File \u001b[1;32mc:\\Users\\thibaud.barreau\\AppData\\Local\\Programs\\Python\\Python39\\lib\\site-packages\\statsmodels\\base\\data.py:86\u001b[0m, in \u001b[0;36mModelData.__init__\u001b[1;34m(self, endog, exog, missing, hasconst, **kwargs)\u001b[0m\n\u001b[0;32m     84\u001b[0m \u001b[39mself\u001b[39m\u001b[39m.\u001b[39mconst_idx \u001b[39m=\u001b[39m \u001b[39mNone\u001b[39;00m\n\u001b[0;32m     85\u001b[0m \u001b[39mself\u001b[39m\u001b[39m.\u001b[39mk_constant \u001b[39m=\u001b[39m \u001b[39m0\u001b[39m\n\u001b[1;32m---> 86\u001b[0m \u001b[39mself\u001b[39;49m\u001b[39m.\u001b[39;49m_handle_constant(hasconst)\n\u001b[0;32m     87\u001b[0m \u001b[39mself\u001b[39m\u001b[39m.\u001b[39m_check_integrity()\n\u001b[0;32m     88\u001b[0m \u001b[39mself\u001b[39m\u001b[39m.\u001b[39m_cache \u001b[39m=\u001b[39m {}\n",
      "File \u001b[1;32mc:\\Users\\thibaud.barreau\\AppData\\Local\\Programs\\Python\\Python39\\lib\\site-packages\\statsmodels\\base\\data.py:131\u001b[0m, in \u001b[0;36mModelData._handle_constant\u001b[1;34m(self, hasconst)\u001b[0m\n\u001b[0;32m    129\u001b[0m check_implicit \u001b[39m=\u001b[39m \u001b[39mFalse\u001b[39;00m\n\u001b[0;32m    130\u001b[0m exog_max \u001b[39m=\u001b[39m np\u001b[39m.\u001b[39mmax(\u001b[39mself\u001b[39m\u001b[39m.\u001b[39mexog, axis\u001b[39m=\u001b[39m\u001b[39m0\u001b[39m)\n\u001b[1;32m--> 131\u001b[0m \u001b[39mif\u001b[39;00m \u001b[39mnot\u001b[39;00m np\u001b[39m.\u001b[39;49misfinite(exog_max)\u001b[39m.\u001b[39mall():\n\u001b[0;32m    132\u001b[0m     \u001b[39mraise\u001b[39;00m MissingDataError(\u001b[39m'\u001b[39m\u001b[39mexog contains inf or nans\u001b[39m\u001b[39m'\u001b[39m)\n\u001b[0;32m    133\u001b[0m exog_min \u001b[39m=\u001b[39m np\u001b[39m.\u001b[39mmin(\u001b[39mself\u001b[39m\u001b[39m.\u001b[39mexog, axis\u001b[39m=\u001b[39m\u001b[39m0\u001b[39m)\n",
      "\u001b[1;31mTypeError\u001b[0m: ufunc 'isfinite' not supported for the input types, and the inputs could not be safely coerced to any supported types according to the casting rule ''safe''"
     ]
    }
   ],
   "source": [
    "# Analyse variance seed model\n",
    "\n",
    "targets = [\"CF1_log_CF123\",\"CF2_log_CF123\",\"CF3_log_CF123\", \"CF123_log\"]\n",
    "name_experiment = \"test_weighted_OLS\"\n",
    "\n",
    "best_scores = []\n",
    "best_stds = []\n",
    "\n",
    "for target in targets:\n",
    "    print(target)\n",
    "    test_scores = []\n",
    "    test_stds = []\n",
    "    (\n",
    "        X_train,\n",
    "        y_train,\n",
    "        X_test,\n",
    "        y_test,\n",
    "        df_test,\n",
    "    ) = custom_train_split(\n",
    "        preprocessed_dataset,\n",
    "        path_Benchmark,\n",
    "        path_intermediary,\n",
    "        target,\n",
    "        extended_features=training_parameters[\"extended_features\"],\n",
    "        selec_sect=training_parameters[\"selec_sect\"],\n",
    "        fill_grp=training_parameters[\"fill_grp\"],\n",
    "        old_pipe=training_parameters[\"old_pipe\"],\n",
    "        open_data=False,\n",
    "    )\n",
    "    seed = training_parameters[\"seed\"]\n",
    "    n_iter = training_parameters[\"n_iter\"]\n",
    "    print(\"preprocessing done\")\n",
    "    weights = [1 for i in range(len(y_train))]\n",
    "\n",
    "    for i, (model_name, model) in enumerate(models.items()):\n",
    "        model_ols = sm.WLS(y_train.values, X_train.values, weights=weights).fit()\n",
    "        y_pred = model_i.predict(X_test.values)\n",
    "\n",
    "        summary_global, rmse, std = metrics(y_test, y_pred, Summary_Final, target, model_name)\n",
    "        # ensemble.append(model_i)\n",
    "        test_scores.append(rmse)\n",
    "        test_stds.append(std)\n",
    "\n",
    "    best_scores.append(test_scores[test_scores.index(min(test_scores))])\n",
    "    best_stds.append(test_stds[test_scores.index(min(test_scores))])\n",
    "    print(\"modelisations done\")\n"
   ]
  },
  {
   "cell_type": "code",
   "execution_count": 48,
   "metadata": {},
   "outputs": [
    {
     "data": {
      "text/plain": [
       "561331"
      ]
     },
     "execution_count": 48,
     "metadata": {},
     "output_type": "execute_result"
    }
   ],
   "source": [
    "a.shape[0]"
   ]
  },
  {
   "cell_type": "code",
   "execution_count": 49,
   "metadata": {},
   "outputs": [
    {
     "data": {
      "text/plain": [
       "0.975894792911847"
      ]
     },
     "execution_count": 49,
     "metadata": {},
     "output_type": "execute_result"
    }
   ],
   "source": [
    "a = preprocessed_dataset[(preprocessed_dataset.CF1.isna()) & (preprocessed_dataset.CF2.isna()) & (preprocessed_dataset.CF3.isna())]\n",
    "a[preprocessed_dataset.ENEConsume.notna()].shape[0]/a.shape[0]*100"
   ]
  },
  {
   "cell_type": "markdown",
   "metadata": {},
   "source": [
    "# Test weights"
   ]
  },
  {
   "cell_type": "code",
   "execution_count": 61,
   "metadata": {},
   "outputs": [],
   "source": [
    "class RmseObjectiveL2(object):\n",
    "    def calc_ders_range(self, approxes, targets, weights):\n",
    "        assert len(approxes) == len(targets)\n",
    "        if weights is not None:\n",
    "            assert len(weights) == len(approxes)\n",
    "\n",
    "        der1, der2 = [], []\n",
    "        \n",
    "        for index in range(len(targets)):\n",
    "            der1.append(targets[index] - approxes[index])\n",
    "            der2.append(-1)\n",
    "\n",
    "            if weights is not None:\n",
    "                der1[index] *= weights[\"weight\"]\n",
    "                der2[index] *= weights[\"weight\"]\n",
    "\n",
    "\n",
    "        for corpo_id in weights.FinalEikonID.unique() : \n",
    "            lst_idx = weights[weights.FinalEikonID == corpo_id].index\n",
    "            # corpo_der_sum = sum([der1[i] for i in range(lst_idx)]) # use L1 norm, simplest to implement ? \n",
    "            corpo_der_sum = np.sqrt(sum([der1[i]**2 for i in range(lst_idx)])) # use L2 norm, better properties ? \n",
    "            der1[i] = der1[i] / corpo_der_sum\n",
    "\n",
    "        result = np.array([der1, der2]).reshape(-1, 2)\n",
    "        return result"
   ]
  },
  {
   "cell_type": "code",
   "execution_count": 79,
   "metadata": {},
   "outputs": [
    {
     "data": {
      "text/plain": [
       "array([[1, 2],\n",
       "       [3, 4],\n",
       "       [5, 6]])"
      ]
     },
     "execution_count": 79,
     "metadata": {},
     "output_type": "execute_result"
    }
   ],
   "source": [
    "def weight_creation(df) : \n",
    "    df[\"weight_reliability\"] = np.ones(len(df))\n",
    "    CDP_indexes = df[df[target] == df[\"CDP_\"+target]].index\n",
    "    df.loc[CDP_indexes, \"weight_reliability\"] = [2 for i in range(len(CDP_indexes))]\n",
    "\n",
    "    nb_occurences = FinalEikonID.value_counts()\n",
    "    df[\"weight_companies\"] = df.apply(lambda row : 1 / nb_occurences[row[\"FinalEikonID\"]])\n",
    "\n",
    "    df[\"country_sector\"] = df[\"CountryHQ\"].astype(str) + \"_\" + df[\"GICSSubInd\"].astype(str)\n",
    "    nb_occurences = df[\"country_sector\"].value_counts() \n",
    "    df[\"weight_country_sector\"] = df.apply(lambda row : 1 / nb_occurences[row[\"country_sector\"]])\n",
    "\n",
    "    df[\"weight_final\"] = df[\"weight_reliability\"] * df[\"weight_companies\"] * df[\"weight_country_sector\"]\n",
    "    return df\n"
   ]
  },
  {
   "cell_type": "code",
   "execution_count": 85,
   "metadata": {},
   "outputs": [
    {
     "data": {
      "text/plain": [
       "country_sector\n",
       "Australia_15104020.0                   4930\n",
       "China_20106020.0                       4383\n",
       "Japan_20106020.0                       3820\n",
       "United States of America_35201010.0    3604\n",
       "Taiwan_45203015.0                      3314\n",
       "                                       ... \n",
       "Finland_35203010.0                        1\n",
       "Austria_55103010.0                        1\n",
       "Sint Maarten_35202010.0                   1\n",
       "Dominican Republic_50201010.0             1\n",
       "Sweden_40203040.0                         1\n",
       "Name: count, Length: 6103, dtype: int64"
      ]
     },
     "execution_count": 85,
     "metadata": {},
     "output_type": "execute_result"
    }
   ],
   "source": [
    "# preprocessed_dataset[\"country_sector\"] = preprocessed_dataset[\"CountryHQ\"].astype(str) + \"_\" + preprocessed_dataset[\"GICSSubInd\"].astype(str)\n",
    "preprocessed_dataset[\"country_sector\"].value_counts() # 6103 ss groupes, why not"
   ]
  },
  {
   "cell_type": "code",
   "execution_count": null,
   "metadata": {},
   "outputs": [],
   "source": []
  },
  {
   "cell_type": "code",
   "execution_count": 75,
   "metadata": {},
   "outputs": [
    {
     "data": {
      "text/plain": [
       "weight_reliability\n",
       "2.0    8760\n",
       "1.0    7608\n",
       "Name: count, dtype: int64"
      ]
     },
     "execution_count": 75,
     "metadata": {},
     "output_type": "execute_result"
    }
   ],
   "source": [
    "# preprocessed_dataset[\"weight_reliability\"] = np.ones(len(preprocessed_dataset))\n",
    "target = \"CF123\" #preprocessed_dataset[\"CDP_CF2\"] = preprocessed_dataset[\"CDP_CF2_location\"]\n",
    "CDP_indexes = preprocessed_dataset[preprocessed_dataset[target] == preprocessed_dataset[\"CDP_\"+target]].index\n",
    "preprocessed_dataset.loc[CDP_indexes, \"weight_reliability\"] = [2 for i in range(len(CDP_indexes))]\n",
    "preprocessed_dataset_CF1 = preprocessed_dataset[preprocessed_dataset[target].notna()]\n",
    "preprocessed_dataset_CF1.weight_reliability.value_counts()\n",
    "# CF1, 2 : 1/3 ; CF3 et 123 : un peu plus de la moitié "
   ]
  },
  {
   "cell_type": "code",
   "execution_count": 70,
   "metadata": {},
   "outputs": [],
   "source": []
  },
  {
   "cell_type": "code",
   "execution_count": null,
   "metadata": {},
   "outputs": [],
   "source": []
  },
  {
   "cell_type": "code",
   "execution_count": null,
   "metadata": {},
   "outputs": [],
   "source": []
  }
 ],
 "metadata": {
  "kernelspec": {
   "display_name": "Python 3",
   "language": "python",
   "name": "python3"
  },
  "language_info": {
   "codemirror_mode": {
    "name": "ipython",
    "version": 3
   },
   "file_extension": ".py",
   "mimetype": "text/x-python",
   "name": "python",
   "nbconvert_exporter": "python",
   "pygments_lexer": "ipython3",
   "version": "3.9.13"
  },
  "orig_nbformat": 4
 },
 "nbformat": 4,
 "nbformat_minor": 2
}
