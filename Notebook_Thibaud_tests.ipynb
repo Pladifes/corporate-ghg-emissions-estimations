{
 "cells": [
  {
   "cell_type": "code",
   "execution_count": 1,
   "metadata": {},
   "outputs": [],
   "source": [
    "import warnings\n",
    "\n",
    "import pandas as pd\n",
    "import numpy as np\n",
    "\n",
    "from functions.loading import load_data\n",
    "\n",
    "from functions.preprocessing import outliers_preprocess\n",
    "from functions.training_pipeline import training_pipeline\n",
    "from functions.models import xgboost_model, catboost_model, lgbm_model\n",
    "\n",
    "warnings.filterwarnings('ignore')\n",
    "pd.options.mode.chained_assignment = None\n"
   ]
  },
  {
   "cell_type": "code",
   "execution_count": 2,
   "metadata": {},
   "outputs": [],
   "source": [
    "path_rawdata = 'data/raw_data/'\n",
    "path_models = 'models/proprietary_data/'\n",
    "path_Benchmark = 'Benchmark/'\n",
    "path_results = 'results/proprietary_data/'\n",
    "path_plot = path_results +'plot/'\n",
    "path_intermediary = 'data/intermediary_data/proprietary_data/'\n",
    "path_plot = 'results/proprietary_data/plot/'\n",
    "# ,\"CF3_log\", \"CF123_log\"\n",
    "targets = [\"CF1_log\",\"CF2_log\",\"CF3_log\", \"CF123_log\"]\n",
    "models = {\n",
    "        \"xgboost\": xgboost_model,\n",
    "        \"catboost\": catboost_model,\n",
    "        \"lgbm\": lgbm_model,\n",
    "}\n",
    "training_parameters = {\n",
    "    \"seed\":0,\n",
    "    \"n_iter\":10,\n",
    "    \"extended_features\": [\n",
    "            \"Revenue_log\",\n",
    "            \"EMP_log\",\n",
    "            \"Asset_log\",\n",
    "            \"NPPE_log\",\n",
    "            \"CapEx_log\",\n",
    "            \"Age\",\n",
    "            \"CapInten\",\n",
    "            \"GMAR\",\n",
    "            \"Leverage\",\n",
    "            \"Price\",\n",
    "            \"FuelIntensity\",\n",
    "            \"FiscalYear\",\n",
    "            \"ENEConsume_log\",\n",
    "            \"ENEProduce_log\",\n",
    "            \"INTAN_log\",\n",
    "            \"AccuDep_log\",\n",
    "            \"COGS_log\",\n",
    "        ],\n",
    "    \"selec_sect\":[\"GICSSubInd\", \"GICSInd\", \"GICSGroup\"],\n",
    "    \"fill_grp\":\"\",\n",
    "    \"old_pipe\":False,  \n",
    "    \"cross_val\": False,\n",
    "}\n",
    "\n",
    "Summary_Final=[]\n",
    "Summary_Final_train = []\n",
    "ensemble =[]\n",
    "summary_metrics_detailed = pd.DataFrame()\n",
    "estimated_scopes = []"
   ]
  },
  {
   "cell_type": "code",
   "execution_count": 3,
   "metadata": {},
   "outputs": [],
   "source": [
    "preprocessed_dataset = load_data(path_rawdata, save=True)"
   ]
  },
  {
   "cell_type": "code",
   "execution_count": 4,
   "metadata": {},
   "outputs": [],
   "source": [
    "preprocessed_dataset[\"CF1\"] = preprocessed_dataset[\"CF1_merge\"] \n",
    "preprocessed_dataset[\"CF2\"] = preprocessed_dataset[\"CF2_merge\"] \n",
    "preprocessed_dataset[\"CF3\"] = preprocessed_dataset[\"CF3_merge\"] \n",
    "preprocessed_dataset[\"CF123\"] = preprocessed_dataset[\"CF123_merge\"] \n",
    "\n",
    "threshold_under=1.5\n",
    "threshold_over=2.5\n",
    "for target in [\"CF1_merge\", \"CF2_merge\", \"CF3_merge\", \"CF123_merge\"] : \n",
    "    preprocessed_dataset = outliers_preprocess(preprocessed_dataset, target, threshold_under=threshold_under, threshold_over=threshold_over)\n"
   ]
  },
  {
   "cell_type": "code",
   "execution_count": 5,
   "metadata": {},
   "outputs": [],
   "source": [
    "# threshold_under=1.5\n",
    "# threshold_over=2.5\n",
    "\n",
    "# scope = \"CF1_merge\"\n",
    "# temp = preprocessed_dataset[(preprocessed_dataset[scope].notna())]\n",
    "# print(scope,)\n",
    "# res = outliers_preprocess(temp, scope, threshold_under=threshold_under, threshold_over=np.inf)\n",
    "# print( \"nb_rows filtered (under):\", len(temp) - len(res), \" (\",(len(temp) - len(res))/len(temp)*100,\"%)\")\n",
    "# res = outliers_preprocess(temp, scope, threshold_under=np.inf, threshold_over=threshold_over)\n",
    "# print( \"nb_rows filtered (over):\", len(temp) - len(res), \" (\",(len(temp) - len(res))/len(temp)*100,\"%)\")\n",
    "# print(\"\\n\")\n",
    "\n",
    "# scope = \"CF2_merge\"\n",
    "# temp = preprocessed_dataset[(preprocessed_dataset[scope].notna())]\n",
    "# print(scope,)\n",
    "# res = outliers_preprocess(temp, scope, threshold_under=threshold_under, threshold_over=np.inf)\n",
    "# print( \"nb_rows filtered (under):\", len(temp) - len(res), \" (\",(len(temp) - len(res))/len(temp)*100,\"%)\")\n",
    "# res = outliers_preprocess(temp, scope, threshold_under=np.inf, threshold_over=threshold_over)\n",
    "# print( \"nb_rows filtered (over):\", len(temp) - len(res), \" (\",(len(temp) - len(res))/len(temp)*100,\"%)\")\n",
    "# print(\"\\n\")\n",
    "\n",
    "# scope = \"CF3_merge\"\n",
    "# temp = preprocessed_dataset[(preprocessed_dataset[scope].notna())]\n",
    "# print(scope,)\n",
    "# res = outliers_preprocess(temp, scope, threshold_under=threshold_under, threshold_over=np.inf)\n",
    "# print( \"nb_rows filtered (under):\", len(temp) - len(res), \" (\",(len(temp) - len(res))/len(temp)*100,\"%)\")\n",
    "# res = outliers_preprocess(temp, scope, threshold_under=np.inf, threshold_over=threshold_over)\n",
    "# print( \"nb_rows filtered (over):\", len(temp) - len(res), \" (\",(len(temp) - len(res))/len(temp)*100,\"%)\")\n",
    "# print(\"\\n\")\n",
    "\n",
    "# scope = \"CF123_merge\"\n",
    "# temp = preprocessed_dataset[(preprocessed_dataset[scope].notna())]\n",
    "# print(scope,)\n",
    "# res = outliers_preprocess(temp, scope, threshold_under=threshold_under, threshold_over=np.inf)\n",
    "# print( \"nb_rows filtered (under):\", len(temp) - len(res), \" (\",(len(temp) - len(res))/len(temp)*100,\"%)\")\n",
    "# res = outliers_preprocess(temp, scope, threshold_under=np.inf, threshold_over=threshold_over)\n",
    "# print( \"nb_rows filtered (over):\", len(temp) - len(res), \" (\",(len(temp) - len(res))/len(temp)*100,\"%)\")"
   ]
  },
  {
   "cell_type": "markdown",
   "metadata": {},
   "source": [
    "# Base example"
   ]
  },
  {
   "cell_type": "code",
   "execution_count": 5,
   "metadata": {},
   "outputs": [
    {
     "name": "stdout",
     "output_type": "stream",
     "text": [
      "CF1_log\n",
      "Files not found, constructing them\n",
      "preprocessing done\n"
     ]
    },
    {
     "name": "stderr",
     "output_type": "stream",
     "text": [
      "2023/08/02 14:03:57 WARNING mlflow.sklearn: Model was missing function: predict. Not logging python_function flavor!\n",
      "Registered model 'xgboost' already exists. Creating a new version of this model...\n",
      "2023/08/02 14:04:08 INFO mlflow.tracking._model_registry.client: Waiting up to 300 seconds for model version to finish creation.                     Model name: xgboost, version 63\n",
      "Created version '63' of model 'xgboost'.\n",
      "2023/08/02 14:04:16 WARNING mlflow.sklearn: Model was missing function: predict. Not logging python_function flavor!\n",
      "Registered model 'catboost' already exists. Creating a new version of this model...\n",
      "2023/08/02 14:04:21 INFO mlflow.tracking._model_registry.client: Waiting up to 300 seconds for model version to finish creation.                     Model name: catboost, version 63\n",
      "Created version '63' of model 'catboost'.\n"
     ]
    },
    {
     "name": "stdout",
     "output_type": "stream",
     "text": [
      "[LightGBM] [Warning] Auto-choosing row-wise multi-threading, the overhead of testing was 0.000908 seconds.\n",
      "You can set `force_row_wise=true` to remove the overhead.\n",
      "And if memory is not enough, you can set `force_col_wise=true`.\n"
     ]
    },
    {
     "name": "stderr",
     "output_type": "stream",
     "text": [
      "2023/08/02 14:04:21 WARNING mlflow.sklearn: Model was missing function: predict. Not logging python_function flavor!\n",
      "Registered model 'lgbm' already exists. Creating a new version of this model...\n",
      "2023/08/02 14:04:26 INFO mlflow.tracking._model_registry.client: Waiting up to 300 seconds for model version to finish creation.                     Model name: lgbm, version 63\n",
      "Created version '63' of model 'lgbm'.\n"
     ]
    },
    {
     "name": "stdout",
     "output_type": "stream",
     "text": [
      "modelisation done\n",
      "CF2_log\n",
      "Using pre created preprocessed files\n",
      "preprocessing done\n"
     ]
    },
    {
     "name": "stderr",
     "output_type": "stream",
     "text": [
      "2023/08/02 14:04:43 WARNING mlflow.sklearn: Model was missing function: predict. Not logging python_function flavor!\n",
      "Registered model 'xgboost' already exists. Creating a new version of this model...\n",
      "2023/08/02 14:04:51 INFO mlflow.tracking._model_registry.client: Waiting up to 300 seconds for model version to finish creation.                     Model name: xgboost, version 64\n",
      "Created version '64' of model 'xgboost'.\n",
      "2023/08/02 14:04:59 WARNING mlflow.sklearn: Model was missing function: predict. Not logging python_function flavor!\n",
      "Registered model 'catboost' already exists. Creating a new version of this model...\n",
      "2023/08/02 14:05:03 INFO mlflow.tracking._model_registry.client: Waiting up to 300 seconds for model version to finish creation.                     Model name: catboost, version 64\n",
      "Created version '64' of model 'catboost'.\n"
     ]
    },
    {
     "name": "stdout",
     "output_type": "stream",
     "text": [
      "[LightGBM] [Warning] Auto-choosing col-wise multi-threading, the overhead of testing was 0.002239 seconds.\n",
      "You can set `force_col_wise=true` to remove the overhead.\n"
     ]
    },
    {
     "name": "stderr",
     "output_type": "stream",
     "text": [
      "2023/08/02 14:05:04 WARNING mlflow.sklearn: Model was missing function: predict. Not logging python_function flavor!\n",
      "Registered model 'lgbm' already exists. Creating a new version of this model...\n",
      "2023/08/02 14:05:10 INFO mlflow.tracking._model_registry.client: Waiting up to 300 seconds for model version to finish creation.                     Model name: lgbm, version 64\n",
      "Created version '64' of model 'lgbm'.\n"
     ]
    },
    {
     "name": "stdout",
     "output_type": "stream",
     "text": [
      "modelisation done\n",
      "CF3_log\n",
      "Using pre created preprocessed files\n",
      "preprocessing done\n"
     ]
    },
    {
     "name": "stderr",
     "output_type": "stream",
     "text": [
      "2023/08/02 14:05:23 WARNING mlflow.sklearn: Model was missing function: predict. Not logging python_function flavor!\n",
      "Registered model 'xgboost' already exists. Creating a new version of this model...\n",
      "2023/08/02 14:05:29 INFO mlflow.tracking._model_registry.client: Waiting up to 300 seconds for model version to finish creation.                     Model name: xgboost, version 65\n",
      "Created version '65' of model 'xgboost'.\n",
      "2023/08/02 14:05:36 WARNING mlflow.sklearn: Model was missing function: predict. Not logging python_function flavor!\n",
      "Registered model 'catboost' already exists. Creating a new version of this model...\n",
      "2023/08/02 14:05:41 INFO mlflow.tracking._model_registry.client: Waiting up to 300 seconds for model version to finish creation.                     Model name: catboost, version 65\n",
      "Created version '65' of model 'catboost'.\n"
     ]
    },
    {
     "name": "stdout",
     "output_type": "stream",
     "text": [
      "[LightGBM] [Warning] Auto-choosing row-wise multi-threading, the overhead of testing was 0.000699 seconds.\n",
      "You can set `force_row_wise=true` to remove the overhead.\n",
      "And if memory is not enough, you can set `force_col_wise=true`.\n"
     ]
    },
    {
     "name": "stderr",
     "output_type": "stream",
     "text": [
      "2023/08/02 14:05:41 WARNING mlflow.sklearn: Model was missing function: predict. Not logging python_function flavor!\n",
      "Registered model 'lgbm' already exists. Creating a new version of this model...\n",
      "2023/08/02 14:05:46 INFO mlflow.tracking._model_registry.client: Waiting up to 300 seconds for model version to finish creation.                     Model name: lgbm, version 65\n",
      "Created version '65' of model 'lgbm'.\n"
     ]
    },
    {
     "name": "stdout",
     "output_type": "stream",
     "text": [
      "modelisation done\n",
      "CF123_log\n",
      "Using pre created preprocessed files\n",
      "preprocessing done\n"
     ]
    },
    {
     "name": "stderr",
     "output_type": "stream",
     "text": [
      "2023/08/02 14:05:57 WARNING mlflow.sklearn: Model was missing function: predict. Not logging python_function flavor!\n",
      "Registered model 'xgboost' already exists. Creating a new version of this model...\n",
      "2023/08/02 14:06:04 INFO mlflow.tracking._model_registry.client: Waiting up to 300 seconds for model version to finish creation.                     Model name: xgboost, version 66\n",
      "Created version '66' of model 'xgboost'.\n",
      "2023/08/02 14:06:09 WARNING mlflow.sklearn: Model was missing function: predict. Not logging python_function flavor!\n",
      "Registered model 'catboost' already exists. Creating a new version of this model...\n",
      "2023/08/02 14:06:14 INFO mlflow.tracking._model_registry.client: Waiting up to 300 seconds for model version to finish creation.                     Model name: catboost, version 66\n",
      "Created version '66' of model 'catboost'.\n"
     ]
    },
    {
     "name": "stdout",
     "output_type": "stream",
     "text": [
      "[LightGBM] [Warning] Auto-choosing col-wise multi-threading, the overhead of testing was 0.001016 seconds.\n",
      "You can set `force_col_wise=true` to remove the overhead.\n"
     ]
    },
    {
     "name": "stderr",
     "output_type": "stream",
     "text": [
      "2023/08/02 14:06:14 WARNING mlflow.sklearn: Model was missing function: predict. Not logging python_function flavor!\n",
      "Registered model 'lgbm' already exists. Creating a new version of this model...\n",
      "2023/08/02 14:06:19 INFO mlflow.tracking._model_registry.client: Waiting up to 300 seconds for model version to finish creation.                     Model name: lgbm, version 66\n"
     ]
    },
    {
     "name": "stdout",
     "output_type": "stream",
     "text": [
      "modelisation done\n"
     ]
    },
    {
     "name": "stderr",
     "output_type": "stream",
     "text": [
      "Created version '66' of model 'lgbm'.\n"
     ]
    }
   ],
   "source": [
    "# test de base 28minutes ? \n",
    "targets = [\"CF1_log\",\"CF2_log\",\"CF3_log\", \"CF123_log\"]\n",
    "\n",
    "best_scores, best_stds, summary_global, summary_metrics_detailed = training_pipeline(\n",
    "    name_experiment=\"restriction_CF123_test_base_222223\",\n",
    "    path_Benchmark=path_Benchmark,\n",
    "    path_results=path_results,\n",
    "    path_models=path_models,\n",
    "    path_intermediary=path_intermediary,\n",
    "    path_plot = path_plot,\n",
    "    targets=targets,\n",
    "    models=models,\n",
    "    Summary_Final=Summary_Final,\n",
    "    # Summary_Final_train=Summary_Final_train,\n",
    "    ensemble=ensemble,\n",
    "    summary_metrics_detailed=summary_metrics_detailed,\n",
    "    estimated_scopes = estimated_scopes,\n",
    "    preprocessed_dataset=preprocessed_dataset,\n",
    "    training_parameters=training_parameters,\n",
    "    open_data=False,\n",
    "    save=False,\n",
    ")"
   ]
  },
  {
   "cell_type": "code",
   "execution_count": 6,
   "metadata": {},
   "outputs": [
    {
     "data": {
      "text/plain": [
       "[0.7018124871336399,\n",
       " 0.5313084292372081,\n",
       " 1.0378449220709638,\n",
       " 0.6290781450386738]"
      ]
     },
     "execution_count": 6,
     "metadata": {},
     "output_type": "execute_result"
    }
   ],
   "source": [
    "best_scores\n",
    "# outlier after  [0.718863070915766, 0.5436700671297622, 1.0526040758198016, 0.6342521777936404] \n",
    "# outlier before (drop) \n",
    "# [0.4940438778909675,\n",
    "#  0.4899781334699924,\n",
    "#  0.9720296280063642,\n",
    "#  0.5320520022173726]\n",
    "# outlier before (drop) : \n",
    "# [0.5233991620098789,\n",
    "# 0.40811509811421237, \n",
    "# 0.85109105089482, \n",
    "# 0.5229286278975259]\n",
    "# outlier before (replace na)"
   ]
  },
  {
   "cell_type": "code",
   "execution_count": 8,
   "metadata": {},
   "outputs": [
    {
     "data": {
      "text/html": [
       "<div>\n",
       "<style scoped>\n",
       "    .dataframe tbody tr th:only-of-type {\n",
       "        vertical-align: middle;\n",
       "    }\n",
       "\n",
       "    .dataframe tbody tr th {\n",
       "        vertical-align: top;\n",
       "    }\n",
       "\n",
       "    .dataframe thead th {\n",
       "        text-align: right;\n",
       "    }\n",
       "</style>\n",
       "<table border=\"1\" class=\"dataframe\">\n",
       "  <thead>\n",
       "    <tr style=\"text-align: right;\">\n",
       "      <th></th>\n",
       "      <th>Target</th>\n",
       "      <th>model</th>\n",
       "      <th>mae</th>\n",
       "      <th>mse</th>\n",
       "      <th>r2</th>\n",
       "      <th>rmse</th>\n",
       "      <th>mape</th>\n",
       "      <th>std</th>\n",
       "    </tr>\n",
       "  </thead>\n",
       "  <tbody>\n",
       "    <tr>\n",
       "      <th>0</th>\n",
       "      <td>CF1_log</td>\n",
       "      <td>xgboost</td>\n",
       "      <td>0.482822</td>\n",
       "      <td>0.546461</td>\n",
       "      <td>0.770669</td>\n",
       "      <td>0.739230</td>\n",
       "      <td>44.769495</td>\n",
       "      <td>0.162520</td>\n",
       "    </tr>\n",
       "    <tr>\n",
       "      <th>1</th>\n",
       "      <td>CF1_log</td>\n",
       "      <td>catboost</td>\n",
       "      <td>0.463457</td>\n",
       "      <td>0.523665</td>\n",
       "      <td>0.780236</td>\n",
       "      <td>0.723647</td>\n",
       "      <td>45.003887</td>\n",
       "      <td>0.159096</td>\n",
       "    </tr>\n",
       "    <tr>\n",
       "      <th>2</th>\n",
       "      <td>CF1_log</td>\n",
       "      <td>lgbm</td>\n",
       "      <td>0.463886</td>\n",
       "      <td>0.516764</td>\n",
       "      <td>0.783132</td>\n",
       "      <td>0.718863</td>\n",
       "      <td>44.535893</td>\n",
       "      <td>0.164587</td>\n",
       "    </tr>\n",
       "    <tr>\n",
       "      <th>3</th>\n",
       "      <td>CF2_log</td>\n",
       "      <td>xgboost</td>\n",
       "      <td>0.381086</td>\n",
       "      <td>0.324559</td>\n",
       "      <td>0.736243</td>\n",
       "      <td>0.569700</td>\n",
       "      <td>0.140337</td>\n",
       "      <td>0.124640</td>\n",
       "    </tr>\n",
       "    <tr>\n",
       "      <th>4</th>\n",
       "      <td>CF2_log</td>\n",
       "      <td>catboost</td>\n",
       "      <td>0.358869</td>\n",
       "      <td>0.295577</td>\n",
       "      <td>0.759795</td>\n",
       "      <td>0.543670</td>\n",
       "      <td>0.134956</td>\n",
       "      <td>0.134326</td>\n",
       "    </tr>\n",
       "    <tr>\n",
       "      <th>5</th>\n",
       "      <td>CF2_log</td>\n",
       "      <td>lgbm</td>\n",
       "      <td>0.372086</td>\n",
       "      <td>0.317401</td>\n",
       "      <td>0.742059</td>\n",
       "      <td>0.563384</td>\n",
       "      <td>0.140961</td>\n",
       "      <td>0.136596</td>\n",
       "    </tr>\n",
       "    <tr>\n",
       "      <th>6</th>\n",
       "      <td>CF3_log</td>\n",
       "      <td>xgboost</td>\n",
       "      <td>0.832447</td>\n",
       "      <td>1.219223</td>\n",
       "      <td>0.508780</td>\n",
       "      <td>1.104184</td>\n",
       "      <td>0.260484</td>\n",
       "      <td>0.124407</td>\n",
       "    </tr>\n",
       "    <tr>\n",
       "      <th>7</th>\n",
       "      <td>CF3_log</td>\n",
       "      <td>catboost</td>\n",
       "      <td>0.793675</td>\n",
       "      <td>1.107975</td>\n",
       "      <td>0.553601</td>\n",
       "      <td>1.052604</td>\n",
       "      <td>0.253250</td>\n",
       "      <td>0.122754</td>\n",
       "    </tr>\n",
       "    <tr>\n",
       "      <th>8</th>\n",
       "      <td>CF3_log</td>\n",
       "      <td>lgbm</td>\n",
       "      <td>0.802136</td>\n",
       "      <td>1.127447</td>\n",
       "      <td>0.545756</td>\n",
       "      <td>1.061813</td>\n",
       "      <td>0.254507</td>\n",
       "      <td>0.108658</td>\n",
       "    </tr>\n",
       "    <tr>\n",
       "      <th>9</th>\n",
       "      <td>CF123_log</td>\n",
       "      <td>xgboost</td>\n",
       "      <td>0.489345</td>\n",
       "      <td>0.444197</td>\n",
       "      <td>0.733354</td>\n",
       "      <td>0.666481</td>\n",
       "      <td>0.105118</td>\n",
       "      <td>0.105099</td>\n",
       "    </tr>\n",
       "    <tr>\n",
       "      <th>10</th>\n",
       "      <td>CF123_log</td>\n",
       "      <td>catboost</td>\n",
       "      <td>0.463994</td>\n",
       "      <td>0.403767</td>\n",
       "      <td>0.757624</td>\n",
       "      <td>0.635426</td>\n",
       "      <td>0.099703</td>\n",
       "      <td>0.098183</td>\n",
       "    </tr>\n",
       "    <tr>\n",
       "      <th>11</th>\n",
       "      <td>CF123_log</td>\n",
       "      <td>lgbm</td>\n",
       "      <td>0.463727</td>\n",
       "      <td>0.402276</td>\n",
       "      <td>0.758519</td>\n",
       "      <td>0.634252</td>\n",
       "      <td>0.099759</td>\n",
       "      <td>0.095371</td>\n",
       "    </tr>\n",
       "  </tbody>\n",
       "</table>\n",
       "</div>"
      ],
      "text/plain": [
       "       Target     model       mae       mse        r2      rmse       mape  \\\n",
       "0     CF1_log   xgboost  0.482822  0.546461  0.770669  0.739230  44.769495   \n",
       "1     CF1_log  catboost  0.463457  0.523665  0.780236  0.723647  45.003887   \n",
       "2     CF1_log      lgbm  0.463886  0.516764  0.783132  0.718863  44.535893   \n",
       "3     CF2_log   xgboost  0.381086  0.324559  0.736243  0.569700   0.140337   \n",
       "4     CF2_log  catboost  0.358869  0.295577  0.759795  0.543670   0.134956   \n",
       "5     CF2_log      lgbm  0.372086  0.317401  0.742059  0.563384   0.140961   \n",
       "6     CF3_log   xgboost  0.832447  1.219223  0.508780  1.104184   0.260484   \n",
       "7     CF3_log  catboost  0.793675  1.107975  0.553601  1.052604   0.253250   \n",
       "8     CF3_log      lgbm  0.802136  1.127447  0.545756  1.061813   0.254507   \n",
       "9   CF123_log   xgboost  0.489345  0.444197  0.733354  0.666481   0.105118   \n",
       "10  CF123_log  catboost  0.463994  0.403767  0.757624  0.635426   0.099703   \n",
       "11  CF123_log      lgbm  0.463727  0.402276  0.758519  0.634252   0.099759   \n",
       "\n",
       "         std  \n",
       "0   0.162520  \n",
       "1   0.159096  \n",
       "2   0.164587  \n",
       "3   0.124640  \n",
       "4   0.134326  \n",
       "5   0.136596  \n",
       "6   0.124407  \n",
       "7   0.122754  \n",
       "8   0.108658  \n",
       "9   0.105099  \n",
       "10  0.098183  \n",
       "11  0.095371  "
      ]
     },
     "execution_count": 8,
     "metadata": {},
     "output_type": "execute_result"
    }
   ],
   "source": [
    "summary_global"
   ]
  },
  {
   "cell_type": "code",
   "execution_count": 5,
   "metadata": {},
   "outputs": [],
   "source": [
    "# training_parameters[\"cross_val\"] = True"
   ]
  },
  {
   "cell_type": "code",
   "execution_count": 5,
   "metadata": {},
   "outputs": [
    {
     "name": "stdout",
     "output_type": "stream",
     "text": [
      "CF1_log\n",
      "Files not found, constructing them\n",
      "preprocessing done\n"
     ]
    },
    {
     "name": "stderr",
     "output_type": "stream",
     "text": [
      "2023/08/02 09:54:37 WARNING mlflow.sklearn: Model was missing function: predict. Not logging python_function flavor!\n",
      "Registered model 'xgboost' already exists. Creating a new version of this model...\n",
      "2023/08/02 09:54:54 INFO mlflow.tracking._model_registry.client: Waiting up to 300 seconds for model version to finish creation.                     Model name: xgboost, version 50\n",
      "Created version '50' of model 'xgboost'.\n",
      "2023/08/02 09:55:00 WARNING mlflow.sklearn: Model was missing function: predict. Not logging python_function flavor!\n",
      "Registered model 'catboost' already exists. Creating a new version of this model...\n",
      "2023/08/02 09:55:04 INFO mlflow.tracking._model_registry.client: Waiting up to 300 seconds for model version to finish creation.                     Model name: catboost, version 50\n",
      "Created version '50' of model 'catboost'.\n"
     ]
    },
    {
     "name": "stdout",
     "output_type": "stream",
     "text": [
      "[LightGBM] [Warning] Auto-choosing col-wise multi-threading, the overhead of testing was 0.002266 seconds.\n",
      "You can set `force_col_wise=true` to remove the overhead.\n"
     ]
    },
    {
     "name": "stderr",
     "output_type": "stream",
     "text": [
      "2023/08/02 09:55:05 WARNING mlflow.sklearn: Model was missing function: predict. Not logging python_function flavor!\n",
      "Registered model 'lgbm' already exists. Creating a new version of this model...\n",
      "2023/08/02 09:55:09 INFO mlflow.tracking._model_registry.client: Waiting up to 300 seconds for model version to finish creation.                     Model name: lgbm, version 50\n",
      "Created version '50' of model 'lgbm'.\n"
     ]
    },
    {
     "name": "stdout",
     "output_type": "stream",
     "text": [
      "modelisation done\n",
      "CF2_log\n",
      "Files not found, constructing them\n",
      "preprocessing done\n"
     ]
    },
    {
     "name": "stderr",
     "output_type": "stream",
     "text": [
      "2023/08/02 10:00:45 WARNING mlflow.sklearn: Model was missing function: predict. Not logging python_function flavor!\n",
      "Registered model 'xgboost' already exists. Creating a new version of this model...\n",
      "2023/08/02 10:00:52 INFO mlflow.tracking._model_registry.client: Waiting up to 300 seconds for model version to finish creation.                     Model name: xgboost, version 51\n",
      "Created version '51' of model 'xgboost'.\n",
      "2023/08/02 10:00:57 WARNING mlflow.sklearn: Model was missing function: predict. Not logging python_function flavor!\n",
      "Registered model 'catboost' already exists. Creating a new version of this model...\n",
      "2023/08/02 10:01:01 INFO mlflow.tracking._model_registry.client: Waiting up to 300 seconds for model version to finish creation.                     Model name: catboost, version 51\n",
      "Created version '51' of model 'catboost'.\n"
     ]
    },
    {
     "name": "stdout",
     "output_type": "stream",
     "text": [
      "[LightGBM] [Warning] Auto-choosing row-wise multi-threading, the overhead of testing was 0.000801 seconds.\n",
      "You can set `force_row_wise=true` to remove the overhead.\n",
      "And if memory is not enough, you can set `force_col_wise=true`.\n"
     ]
    },
    {
     "name": "stderr",
     "output_type": "stream",
     "text": [
      "2023/08/02 10:01:02 WARNING mlflow.sklearn: Model was missing function: predict. Not logging python_function flavor!\n",
      "Registered model 'lgbm' already exists. Creating a new version of this model...\n",
      "2023/08/02 10:01:06 INFO mlflow.tracking._model_registry.client: Waiting up to 300 seconds for model version to finish creation.                     Model name: lgbm, version 51\n",
      "Created version '51' of model 'lgbm'.\n"
     ]
    },
    {
     "name": "stdout",
     "output_type": "stream",
     "text": [
      "modelisation done\n",
      "CF3_log\n",
      "Files not found, constructing them\n",
      "preprocessing done\n"
     ]
    },
    {
     "name": "stderr",
     "output_type": "stream",
     "text": [
      "2023/08/02 10:06:50 WARNING mlflow.sklearn: Model was missing function: predict. Not logging python_function flavor!\n",
      "Registered model 'xgboost' already exists. Creating a new version of this model...\n",
      "2023/08/02 10:06:57 INFO mlflow.tracking._model_registry.client: Waiting up to 300 seconds for model version to finish creation.                     Model name: xgboost, version 52\n",
      "Created version '52' of model 'xgboost'.\n",
      "2023/08/02 10:07:01 WARNING mlflow.sklearn: Model was missing function: predict. Not logging python_function flavor!\n",
      "Registered model 'catboost' already exists. Creating a new version of this model...\n",
      "2023/08/02 10:07:05 INFO mlflow.tracking._model_registry.client: Waiting up to 300 seconds for model version to finish creation.                     Model name: catboost, version 52\n",
      "Created version '52' of model 'catboost'.\n"
     ]
    },
    {
     "name": "stdout",
     "output_type": "stream",
     "text": [
      "[LightGBM] [Warning] Auto-choosing row-wise multi-threading, the overhead of testing was 0.000592 seconds.\n",
      "You can set `force_row_wise=true` to remove the overhead.\n",
      "And if memory is not enough, you can set `force_col_wise=true`.\n"
     ]
    },
    {
     "name": "stderr",
     "output_type": "stream",
     "text": [
      "2023/08/02 10:07:06 WARNING mlflow.sklearn: Model was missing function: predict. Not logging python_function flavor!\n",
      "Registered model 'lgbm' already exists. Creating a new version of this model...\n",
      "2023/08/02 10:07:10 INFO mlflow.tracking._model_registry.client: Waiting up to 300 seconds for model version to finish creation.                     Model name: lgbm, version 52\n",
      "Created version '52' of model 'lgbm'.\n"
     ]
    },
    {
     "name": "stdout",
     "output_type": "stream",
     "text": [
      "modelisation done\n",
      "CF123_log\n",
      "Files not found, constructing them\n",
      "preprocessing done\n"
     ]
    },
    {
     "name": "stderr",
     "output_type": "stream",
     "text": [
      "2023/08/02 10:15:53 WARNING mlflow.sklearn: Model was missing function: predict. Not logging python_function flavor!\n",
      "Registered model 'xgboost' already exists. Creating a new version of this model...\n",
      "2023/08/02 10:16:04 INFO mlflow.tracking._model_registry.client: Waiting up to 300 seconds for model version to finish creation.                     Model name: xgboost, version 53\n",
      "Created version '53' of model 'xgboost'.\n",
      "2023/08/02 10:16:12 WARNING mlflow.sklearn: Model was missing function: predict. Not logging python_function flavor!\n",
      "Registered model 'catboost' already exists. Creating a new version of this model...\n",
      "2023/08/02 10:16:18 INFO mlflow.tracking._model_registry.client: Waiting up to 300 seconds for model version to finish creation.                     Model name: catboost, version 53\n",
      "Created version '53' of model 'catboost'.\n"
     ]
    },
    {
     "name": "stdout",
     "output_type": "stream",
     "text": [
      "[LightGBM] [Warning] Auto-choosing row-wise multi-threading, the overhead of testing was 0.001068 seconds.\n",
      "You can set `force_row_wise=true` to remove the overhead.\n",
      "And if memory is not enough, you can set `force_col_wise=true`.\n"
     ]
    },
    {
     "name": "stderr",
     "output_type": "stream",
     "text": [
      "2023/08/02 10:16:19 WARNING mlflow.sklearn: Model was missing function: predict. Not logging python_function flavor!\n",
      "Registered model 'lgbm' already exists. Creating a new version of this model...\n",
      "2023/08/02 10:16:24 INFO mlflow.tracking._model_registry.client: Waiting up to 300 seconds for model version to finish creation.                     Model name: lgbm, version 53\n",
      "Created version '53' of model 'lgbm'.\n"
     ]
    },
    {
     "name": "stdout",
     "output_type": "stream",
     "text": [
      "modelisation done\n"
     ]
    }
   ],
   "source": [
    "# test de base 2 ? \n",
    "targets = [\"CF1_log\",\"CF2_log\",\"CF3_log\", \"CF123_log\"]\n",
    "\n",
    "best_scores, best_stds, summary_global, summary_metrics_detailed = training_pipeline(\n",
    "    name_experiment=\"restriction_CF123_test_base_781\",\n",
    "    path_Benchmark=path_Benchmark,\n",
    "    path_results=path_results,\n",
    "    path_models=path_models,\n",
    "    path_intermediary=path_intermediary,\n",
    "    path_plot = path_plot,\n",
    "    targets=targets,\n",
    "    models=models,\n",
    "    Summary_Final=Summary_Final,\n",
    "    # Summary_Final_train=Summary_Final_train,\n",
    "    ensemble=ensemble,\n",
    "    summary_metrics_detailed=summary_metrics_detailed,\n",
    "    estimated_scopes = estimated_scopes,\n",
    "    preprocessed_dataset=preprocessed_dataset,\n",
    "    training_parameters=training_parameters,\n",
    "    open_data=False,\n",
    "    save=False,\n",
    ")"
   ]
  },
  {
   "cell_type": "code",
   "execution_count": 7,
   "metadata": {},
   "outputs": [
    {
     "data": {
      "text/plain": [
       "[0.5283557509005923,\n",
       " 0.42400993566684136,\n",
       " 0.8966142053519602,\n",
       " 0.5533837847917039]"
      ]
     },
     "execution_count": 7,
     "metadata": {},
     "output_type": "execute_result"
    }
   ],
   "source": [
    "best_scores \n",
    "\n",
    "# initial grid\n",
    "# [0.718863070915766, \n",
    "#  0.5436700671297622, \n",
    "#  1.0526040758198016, \n",
    "#  0.6342521777936404]\n",
    "\n",
    "# just using inf threshold\n",
    "# [0.7018124871336399, # better \n",
    "#  0.5313084292372081, # better \n",
    "#  1.0378449220709638, # better \n",
    "#  0.6290781450386738] # better \n",
    "\n",
    "\n",
    "# CF123 comparison : \n",
    "# [0.7234012636609329, # worse\n",
    "#  0.5650729256715145, # worse\n",
    "#  1.0565618159862236, # worse\n",
    "#  0.6342521777936404] # same (normal)\n",
    "\n",
    "# Outliers removal before split # faire cette étape séparément, en amont du split ? \n",
    "# [0.5283557509005923,\n",
    "#  0.42400993566684136,\n",
    "#  0.8966142053519602,\n",
    "#  0.5533837847917039]\n",
    "\n",
    "# global removal (remove line for all scopes instead of per scopes) : \n",
    "# [0.4940438778909675, # better\n",
    "#  0.4899781334699924, # worse\n",
    "#  0.9720296280063642, # worse\n",
    "#  0.5320520022173726] # better\n"
   ]
  },
  {
   "cell_type": "code",
   "execution_count": 10,
   "metadata": {},
   "outputs": [
    {
     "data": {
      "text/html": [
       "<div>\n",
       "<style scoped>\n",
       "    .dataframe tbody tr th:only-of-type {\n",
       "        vertical-align: middle;\n",
       "    }\n",
       "\n",
       "    .dataframe tbody tr th {\n",
       "        vertical-align: top;\n",
       "    }\n",
       "\n",
       "    .dataframe thead th {\n",
       "        text-align: right;\n",
       "    }\n",
       "</style>\n",
       "<table border=\"1\" class=\"dataframe\">\n",
       "  <thead>\n",
       "    <tr style=\"text-align: right;\">\n",
       "      <th></th>\n",
       "      <th>Target</th>\n",
       "      <th>model</th>\n",
       "      <th>mae</th>\n",
       "      <th>mse</th>\n",
       "      <th>r2</th>\n",
       "      <th>rmse</th>\n",
       "      <th>mape</th>\n",
       "      <th>std</th>\n",
       "    </tr>\n",
       "  </thead>\n",
       "  <tbody>\n",
       "    <tr>\n",
       "      <th>0</th>\n",
       "      <td>CF1_log</td>\n",
       "      <td>xgboost</td>\n",
       "      <td>0.482822</td>\n",
       "      <td>0.546461</td>\n",
       "      <td>0.770669</td>\n",
       "      <td>0.739230</td>\n",
       "      <td>44.769495</td>\n",
       "      <td>0.162520</td>\n",
       "    </tr>\n",
       "    <tr>\n",
       "      <th>1</th>\n",
       "      <td>CF1_log</td>\n",
       "      <td>catboost</td>\n",
       "      <td>0.463457</td>\n",
       "      <td>0.523665</td>\n",
       "      <td>0.780236</td>\n",
       "      <td>0.723647</td>\n",
       "      <td>45.003887</td>\n",
       "      <td>0.159096</td>\n",
       "    </tr>\n",
       "    <tr>\n",
       "      <th>2</th>\n",
       "      <td>CF1_log</td>\n",
       "      <td>lgbm</td>\n",
       "      <td>0.463886</td>\n",
       "      <td>0.516764</td>\n",
       "      <td>0.783132</td>\n",
       "      <td>0.718863</td>\n",
       "      <td>44.535893</td>\n",
       "      <td>0.164587</td>\n",
       "    </tr>\n",
       "    <tr>\n",
       "      <th>3</th>\n",
       "      <td>CF2_log</td>\n",
       "      <td>xgboost</td>\n",
       "      <td>0.381086</td>\n",
       "      <td>0.324559</td>\n",
       "      <td>0.736243</td>\n",
       "      <td>0.569700</td>\n",
       "      <td>0.140337</td>\n",
       "      <td>0.124640</td>\n",
       "    </tr>\n",
       "    <tr>\n",
       "      <th>4</th>\n",
       "      <td>CF2_log</td>\n",
       "      <td>catboost</td>\n",
       "      <td>0.358869</td>\n",
       "      <td>0.295577</td>\n",
       "      <td>0.759795</td>\n",
       "      <td>0.543670</td>\n",
       "      <td>0.134956</td>\n",
       "      <td>0.134326</td>\n",
       "    </tr>\n",
       "    <tr>\n",
       "      <th>5</th>\n",
       "      <td>CF2_log</td>\n",
       "      <td>lgbm</td>\n",
       "      <td>0.372086</td>\n",
       "      <td>0.317401</td>\n",
       "      <td>0.742059</td>\n",
       "      <td>0.563384</td>\n",
       "      <td>0.140961</td>\n",
       "      <td>0.136596</td>\n",
       "    </tr>\n",
       "    <tr>\n",
       "      <th>6</th>\n",
       "      <td>CF3_log</td>\n",
       "      <td>xgboost</td>\n",
       "      <td>0.832447</td>\n",
       "      <td>1.219223</td>\n",
       "      <td>0.508780</td>\n",
       "      <td>1.104184</td>\n",
       "      <td>0.260484</td>\n",
       "      <td>0.124407</td>\n",
       "    </tr>\n",
       "    <tr>\n",
       "      <th>7</th>\n",
       "      <td>CF3_log</td>\n",
       "      <td>catboost</td>\n",
       "      <td>0.793675</td>\n",
       "      <td>1.107975</td>\n",
       "      <td>0.553601</td>\n",
       "      <td>1.052604</td>\n",
       "      <td>0.253250</td>\n",
       "      <td>0.122754</td>\n",
       "    </tr>\n",
       "    <tr>\n",
       "      <th>8</th>\n",
       "      <td>CF3_log</td>\n",
       "      <td>lgbm</td>\n",
       "      <td>0.802136</td>\n",
       "      <td>1.127447</td>\n",
       "      <td>0.545756</td>\n",
       "      <td>1.061813</td>\n",
       "      <td>0.254507</td>\n",
       "      <td>0.108658</td>\n",
       "    </tr>\n",
       "    <tr>\n",
       "      <th>9</th>\n",
       "      <td>CF123_log</td>\n",
       "      <td>xgboost</td>\n",
       "      <td>0.489345</td>\n",
       "      <td>0.444197</td>\n",
       "      <td>0.733354</td>\n",
       "      <td>0.666481</td>\n",
       "      <td>0.105118</td>\n",
       "      <td>0.105099</td>\n",
       "    </tr>\n",
       "    <tr>\n",
       "      <th>10</th>\n",
       "      <td>CF123_log</td>\n",
       "      <td>catboost</td>\n",
       "      <td>0.463994</td>\n",
       "      <td>0.403767</td>\n",
       "      <td>0.757624</td>\n",
       "      <td>0.635426</td>\n",
       "      <td>0.099703</td>\n",
       "      <td>0.098183</td>\n",
       "    </tr>\n",
       "    <tr>\n",
       "      <th>11</th>\n",
       "      <td>CF123_log</td>\n",
       "      <td>lgbm</td>\n",
       "      <td>0.463727</td>\n",
       "      <td>0.402276</td>\n",
       "      <td>0.758519</td>\n",
       "      <td>0.634252</td>\n",
       "      <td>0.099759</td>\n",
       "      <td>0.095371</td>\n",
       "    </tr>\n",
       "  </tbody>\n",
       "</table>\n",
       "</div>"
      ],
      "text/plain": [
       "       Target     model       mae       mse        r2      rmse       mape  \\\n",
       "0     CF1_log   xgboost  0.482822  0.546461  0.770669  0.739230  44.769495   \n",
       "1     CF1_log  catboost  0.463457  0.523665  0.780236  0.723647  45.003887   \n",
       "2     CF1_log      lgbm  0.463886  0.516764  0.783132  0.718863  44.535893   \n",
       "3     CF2_log   xgboost  0.381086  0.324559  0.736243  0.569700   0.140337   \n",
       "4     CF2_log  catboost  0.358869  0.295577  0.759795  0.543670   0.134956   \n",
       "5     CF2_log      lgbm  0.372086  0.317401  0.742059  0.563384   0.140961   \n",
       "6     CF3_log   xgboost  0.832447  1.219223  0.508780  1.104184   0.260484   \n",
       "7     CF3_log  catboost  0.793675  1.107975  0.553601  1.052604   0.253250   \n",
       "8     CF3_log      lgbm  0.802136  1.127447  0.545756  1.061813   0.254507   \n",
       "9   CF123_log   xgboost  0.489345  0.444197  0.733354  0.666481   0.105118   \n",
       "10  CF123_log  catboost  0.463994  0.403767  0.757624  0.635426   0.099703   \n",
       "11  CF123_log      lgbm  0.463727  0.402276  0.758519  0.634252   0.099759   \n",
       "\n",
       "         std  \n",
       "0   0.162520  \n",
       "1   0.159096  \n",
       "2   0.164587  \n",
       "3   0.124640  \n",
       "4   0.134326  \n",
       "5   0.136596  \n",
       "6   0.124407  \n",
       "7   0.122754  \n",
       "8   0.108658  \n",
       "9   0.105099  \n",
       "10  0.098183  \n",
       "11  0.095371  "
      ]
     },
     "execution_count": 10,
     "metadata": {},
     "output_type": "execute_result"
    }
   ],
   "source": [
    "summary_global"
   ]
  },
  {
   "cell_type": "markdown",
   "metadata": {},
   "source": [
    "# Restriction to CF123 filter"
   ]
  },
  {
   "cell_type": "code",
   "execution_count": 37,
   "metadata": {},
   "outputs": [
    {
     "name": "stdout",
     "output_type": "stream",
     "text": [
      "CF1_log_CF123\n"
     ]
    },
    {
     "name": "stdout",
     "output_type": "stream",
     "text": [
      "Using pre created preprocessed files\n",
      "preprocessing done\n"
     ]
    },
    {
     "name": "stderr",
     "output_type": "stream",
     "text": [
      "2023/08/01 12:03:43 WARNING mlflow.sklearn: Model was missing function: predict. Not logging python_function flavor!\n",
      "Registered model 'xgboost' already exists. Creating a new version of this model...\n",
      "2023/08/01 12:03:47 INFO mlflow.tracking._model_registry.client: Waiting up to 300 seconds for model version to finish creation.                     Model name: xgboost, version 38\n",
      "Created version '38' of model 'xgboost'.\n",
      "2023/08/01 12:03:52 WARNING mlflow.sklearn: Model was missing function: predict. Not logging python_function flavor!\n",
      "Registered model 'catboost' already exists. Creating a new version of this model...\n",
      "2023/08/01 12:03:55 INFO mlflow.tracking._model_registry.client: Waiting up to 300 seconds for model version to finish creation.                     Model name: catboost, version 38\n",
      "Created version '38' of model 'catboost'.\n"
     ]
    },
    {
     "name": "stdout",
     "output_type": "stream",
     "text": [
      "[LightGBM] [Warning] Auto-choosing col-wise multi-threading, the overhead of testing was 0.000748 seconds.\n",
      "You can set `force_col_wise=true` to remove the overhead.\n"
     ]
    },
    {
     "name": "stderr",
     "output_type": "stream",
     "text": [
      "2023/08/01 12:03:56 WARNING mlflow.sklearn: Model was missing function: predict. Not logging python_function flavor!\n",
      "Registered model 'lgbm' already exists. Creating a new version of this model...\n",
      "2023/08/01 12:03:59 INFO mlflow.tracking._model_registry.client: Waiting up to 300 seconds for model version to finish creation.                     Model name: lgbm, version 38\n",
      "Created version '38' of model 'lgbm'.\n"
     ]
    },
    {
     "name": "stdout",
     "output_type": "stream",
     "text": [
      "modelisation done\n",
      "CF2_log_CF123\n",
      "Using pre created preprocessed files\n",
      "preprocessing done\n"
     ]
    },
    {
     "name": "stderr",
     "output_type": "stream",
     "text": [
      "2023/08/01 12:04:07 WARNING mlflow.sklearn: Model was missing function: predict. Not logging python_function flavor!\n",
      "Registered model 'xgboost' already exists. Creating a new version of this model...\n",
      "2023/08/01 12:04:10 INFO mlflow.tracking._model_registry.client: Waiting up to 300 seconds for model version to finish creation.                     Model name: xgboost, version 39\n",
      "Created version '39' of model 'xgboost'.\n",
      "2023/08/01 12:04:15 WARNING mlflow.sklearn: Model was missing function: predict. Not logging python_function flavor!\n",
      "Registered model 'catboost' already exists. Creating a new version of this model...\n",
      "2023/08/01 12:04:19 INFO mlflow.tracking._model_registry.client: Waiting up to 300 seconds for model version to finish creation.                     Model name: catboost, version 39\n",
      "Created version '39' of model 'catboost'.\n"
     ]
    },
    {
     "name": "stdout",
     "output_type": "stream",
     "text": [
      "[LightGBM] [Warning] Auto-choosing col-wise multi-threading, the overhead of testing was 0.001876 seconds.\n",
      "You can set `force_col_wise=true` to remove the overhead.\n"
     ]
    },
    {
     "name": "stderr",
     "output_type": "stream",
     "text": [
      "2023/08/01 12:04:19 WARNING mlflow.sklearn: Model was missing function: predict. Not logging python_function flavor!\n",
      "Registered model 'lgbm' already exists. Creating a new version of this model...\n",
      "2023/08/01 12:04:22 INFO mlflow.tracking._model_registry.client: Waiting up to 300 seconds for model version to finish creation.                     Model name: lgbm, version 39\n",
      "Created version '39' of model 'lgbm'.\n"
     ]
    },
    {
     "name": "stdout",
     "output_type": "stream",
     "text": [
      "modelisation done\n",
      "CF3_log_CF123\n",
      "Using pre created preprocessed files\n",
      "preprocessing done\n"
     ]
    },
    {
     "name": "stderr",
     "output_type": "stream",
     "text": [
      "2023/08/01 12:04:30 WARNING mlflow.sklearn: Model was missing function: predict. Not logging python_function flavor!\n",
      "Registered model 'xgboost' already exists. Creating a new version of this model...\n",
      "2023/08/01 12:04:33 INFO mlflow.tracking._model_registry.client: Waiting up to 300 seconds for model version to finish creation.                     Model name: xgboost, version 40\n",
      "Created version '40' of model 'xgboost'.\n",
      "2023/08/01 12:04:39 WARNING mlflow.sklearn: Model was missing function: predict. Not logging python_function flavor!\n",
      "Registered model 'catboost' already exists. Creating a new version of this model...\n",
      "2023/08/01 12:04:42 INFO mlflow.tracking._model_registry.client: Waiting up to 300 seconds for model version to finish creation.                     Model name: catboost, version 40\n",
      "Created version '40' of model 'catboost'.\n"
     ]
    },
    {
     "name": "stdout",
     "output_type": "stream",
     "text": [
      "[LightGBM] [Warning] Auto-choosing col-wise multi-threading, the overhead of testing was 0.001804 seconds.\n",
      "You can set `force_col_wise=true` to remove the overhead.\n"
     ]
    },
    {
     "name": "stderr",
     "output_type": "stream",
     "text": [
      "2023/08/01 12:04:42 WARNING mlflow.sklearn: Model was missing function: predict. Not logging python_function flavor!\n",
      "Registered model 'lgbm' already exists. Creating a new version of this model...\n",
      "2023/08/01 12:04:46 INFO mlflow.tracking._model_registry.client: Waiting up to 300 seconds for model version to finish creation.                     Model name: lgbm, version 40\n",
      "Created version '40' of model 'lgbm'.\n"
     ]
    },
    {
     "name": "stdout",
     "output_type": "stream",
     "text": [
      "modelisation done\n",
      "CF123_log\n",
      "Using pre created preprocessed files\n",
      "preprocessing done\n"
     ]
    },
    {
     "name": "stderr",
     "output_type": "stream",
     "text": [
      "2023/08/01 12:04:54 WARNING mlflow.sklearn: Model was missing function: predict. Not logging python_function flavor!\n",
      "Registered model 'xgboost' already exists. Creating a new version of this model...\n",
      "2023/08/01 12:04:57 INFO mlflow.tracking._model_registry.client: Waiting up to 300 seconds for model version to finish creation.                     Model name: xgboost, version 41\n",
      "Created version '41' of model 'xgboost'.\n",
      "2023/08/01 12:05:03 WARNING mlflow.sklearn: Model was missing function: predict. Not logging python_function flavor!\n",
      "Registered model 'catboost' already exists. Creating a new version of this model...\n",
      "2023/08/01 12:05:06 INFO mlflow.tracking._model_registry.client: Waiting up to 300 seconds for model version to finish creation.                     Model name: catboost, version 41\n",
      "Created version '41' of model 'catboost'.\n"
     ]
    },
    {
     "name": "stdout",
     "output_type": "stream",
     "text": [
      "[LightGBM] [Warning] Auto-choosing col-wise multi-threading, the overhead of testing was 0.000836 seconds.\n",
      "You can set `force_col_wise=true` to remove the overhead.\n"
     ]
    },
    {
     "name": "stderr",
     "output_type": "stream",
     "text": [
      "2023/08/01 12:05:06 WARNING mlflow.sklearn: Model was missing function: predict. Not logging python_function flavor!\n",
      "Registered model 'lgbm' already exists. Creating a new version of this model...\n",
      "2023/08/01 12:05:09 INFO mlflow.tracking._model_registry.client: Waiting up to 300 seconds for model version to finish creation.                     Model name: lgbm, version 41\n"
     ]
    },
    {
     "name": "stdout",
     "output_type": "stream",
     "text": [
      "modelisation done\n"
     ]
    },
    {
     "name": "stderr",
     "output_type": "stream",
     "text": [
      "Created version '41' of model 'lgbm'.\n"
     ]
    }
   ],
   "source": [
    "# test restricted to CF123\n",
    "targets = [\"CF1_log_CF123\",\"CF2_log_CF123\",\"CF3_log_CF123\", \"CF123_log\"]\n",
    "\n",
    "best_scores, best_stds, summary_global, summary_metrics_detailed = training_pipeline(\n",
    "    name_experiment=\"restriction_CF123_test_uniform test_CVTrue\",\n",
    "    path_Benchmark=path_Benchmark,\n",
    "    path_results=path_results,\n",
    "    path_models=path_models,\n",
    "    path_intermediary=path_intermediary,\n",
    "    path_plot = path_plot,\n",
    "    targets=targets,\n",
    "    models=models,\n",
    "    Summary_Final=Summary_Final,\n",
    "    # Summary_Final_train =Summary_Final_train,\n",
    "    ensemble=ensemble,\n",
    "    summary_metrics_detailed=summary_metrics_detailed,\n",
    "    estimated_scopes = estimated_scopes,\n",
    "    preprocessed_dataset=preprocessed_dataset,\n",
    "    training_parameters=training_parameters,\n",
    "    open_data=False,\n",
    "    save=False,\n",
    ")"
   ]
  },
  {
   "cell_type": "code",
   "execution_count": 38,
   "metadata": {},
   "outputs": [
    {
     "data": {
      "text/plain": [
       "[0.7234012636609329,\n",
       " 0.5650729256715145,\n",
       " 1.0565618159862236,\n",
       " 0.6342521777936404]"
      ]
     },
     "execution_count": 38,
     "metadata": {},
     "output_type": "execute_result"
    }
   ],
   "source": [
    "best_scores # with CF123 standardization\n",
    "# no CV [0.7234012636609329,\n",
    "#  0.5650729256715145,\n",
    "#  1.0565618159862236,\n",
    "#  0.6342521777936404]"
   ]
  },
  {
   "cell_type": "code",
   "execution_count": 39,
   "metadata": {},
   "outputs": [
    {
     "data": {
      "text/html": [
       "<div>\n",
       "<style scoped>\n",
       "    .dataframe tbody tr th:only-of-type {\n",
       "        vertical-align: middle;\n",
       "    }\n",
       "\n",
       "    .dataframe tbody tr th {\n",
       "        vertical-align: top;\n",
       "    }\n",
       "\n",
       "    .dataframe thead th {\n",
       "        text-align: right;\n",
       "    }\n",
       "</style>\n",
       "<table border=\"1\" class=\"dataframe\">\n",
       "  <thead>\n",
       "    <tr style=\"text-align: right;\">\n",
       "      <th></th>\n",
       "      <th>Target</th>\n",
       "      <th>model</th>\n",
       "      <th>mae</th>\n",
       "      <th>mse</th>\n",
       "      <th>r2</th>\n",
       "      <th>rmse</th>\n",
       "      <th>mape</th>\n",
       "      <th>std</th>\n",
       "    </tr>\n",
       "  </thead>\n",
       "  <tbody>\n",
       "    <tr>\n",
       "      <th>0</th>\n",
       "      <td>CF1_log</td>\n",
       "      <td>xgboost</td>\n",
       "      <td>0.482822</td>\n",
       "      <td>0.546461</td>\n",
       "      <td>0.770669</td>\n",
       "      <td>0.739230</td>\n",
       "      <td>44.769495</td>\n",
       "      <td>0.162520</td>\n",
       "    </tr>\n",
       "    <tr>\n",
       "      <th>1</th>\n",
       "      <td>CF1_log</td>\n",
       "      <td>catboost</td>\n",
       "      <td>0.463457</td>\n",
       "      <td>0.523665</td>\n",
       "      <td>0.780236</td>\n",
       "      <td>0.723647</td>\n",
       "      <td>45.003887</td>\n",
       "      <td>0.159096</td>\n",
       "    </tr>\n",
       "    <tr>\n",
       "      <th>2</th>\n",
       "      <td>CF1_log</td>\n",
       "      <td>lgbm</td>\n",
       "      <td>0.463886</td>\n",
       "      <td>0.516764</td>\n",
       "      <td>0.783132</td>\n",
       "      <td>0.718863</td>\n",
       "      <td>44.535893</td>\n",
       "      <td>0.164587</td>\n",
       "    </tr>\n",
       "    <tr>\n",
       "      <th>3</th>\n",
       "      <td>CF2_log</td>\n",
       "      <td>xgboost</td>\n",
       "      <td>0.381086</td>\n",
       "      <td>0.324559</td>\n",
       "      <td>0.736243</td>\n",
       "      <td>0.569700</td>\n",
       "      <td>0.140337</td>\n",
       "      <td>0.124640</td>\n",
       "    </tr>\n",
       "    <tr>\n",
       "      <th>4</th>\n",
       "      <td>CF2_log</td>\n",
       "      <td>catboost</td>\n",
       "      <td>0.358869</td>\n",
       "      <td>0.295577</td>\n",
       "      <td>0.759795</td>\n",
       "      <td>0.543670</td>\n",
       "      <td>0.134956</td>\n",
       "      <td>0.134326</td>\n",
       "    </tr>\n",
       "    <tr>\n",
       "      <th>...</th>\n",
       "      <td>...</td>\n",
       "      <td>...</td>\n",
       "      <td>...</td>\n",
       "      <td>...</td>\n",
       "      <td>...</td>\n",
       "      <td>...</td>\n",
       "      <td>...</td>\n",
       "      <td>...</td>\n",
       "    </tr>\n",
       "    <tr>\n",
       "      <th>67</th>\n",
       "      <td>CF3_log_CF123</td>\n",
       "      <td>catboost</td>\n",
       "      <td>0.798909</td>\n",
       "      <td>1.116323</td>\n",
       "      <td>0.550259</td>\n",
       "      <td>1.056562</td>\n",
       "      <td>0.256520</td>\n",
       "      <td>0.128285</td>\n",
       "    </tr>\n",
       "    <tr>\n",
       "      <th>68</th>\n",
       "      <td>CF3_log_CF123</td>\n",
       "      <td>lgbm</td>\n",
       "      <td>0.810668</td>\n",
       "      <td>1.139071</td>\n",
       "      <td>0.541094</td>\n",
       "      <td>1.067273</td>\n",
       "      <td>0.255077</td>\n",
       "      <td>0.120722</td>\n",
       "    </tr>\n",
       "    <tr>\n",
       "      <th>69</th>\n",
       "      <td>CF123_log</td>\n",
       "      <td>xgboost</td>\n",
       "      <td>0.489345</td>\n",
       "      <td>0.444197</td>\n",
       "      <td>0.733354</td>\n",
       "      <td>0.666481</td>\n",
       "      <td>0.105118</td>\n",
       "      <td>0.105099</td>\n",
       "    </tr>\n",
       "    <tr>\n",
       "      <th>70</th>\n",
       "      <td>CF123_log</td>\n",
       "      <td>catboost</td>\n",
       "      <td>0.463994</td>\n",
       "      <td>0.403767</td>\n",
       "      <td>0.757624</td>\n",
       "      <td>0.635426</td>\n",
       "      <td>0.099703</td>\n",
       "      <td>0.098183</td>\n",
       "    </tr>\n",
       "    <tr>\n",
       "      <th>71</th>\n",
       "      <td>CF123_log</td>\n",
       "      <td>lgbm</td>\n",
       "      <td>0.463727</td>\n",
       "      <td>0.402276</td>\n",
       "      <td>0.758519</td>\n",
       "      <td>0.634252</td>\n",
       "      <td>0.099759</td>\n",
       "      <td>0.095371</td>\n",
       "    </tr>\n",
       "  </tbody>\n",
       "</table>\n",
       "<p>72 rows × 8 columns</p>\n",
       "</div>"
      ],
      "text/plain": [
       "           Target     model       mae       mse        r2      rmse  \\\n",
       "0         CF1_log   xgboost  0.482822  0.546461  0.770669  0.739230   \n",
       "1         CF1_log  catboost  0.463457  0.523665  0.780236  0.723647   \n",
       "2         CF1_log      lgbm  0.463886  0.516764  0.783132  0.718863   \n",
       "3         CF2_log   xgboost  0.381086  0.324559  0.736243  0.569700   \n",
       "4         CF2_log  catboost  0.358869  0.295577  0.759795  0.543670   \n",
       "..            ...       ...       ...       ...       ...       ...   \n",
       "67  CF3_log_CF123  catboost  0.798909  1.116323  0.550259  1.056562   \n",
       "68  CF3_log_CF123      lgbm  0.810668  1.139071  0.541094  1.067273   \n",
       "69      CF123_log   xgboost  0.489345  0.444197  0.733354  0.666481   \n",
       "70      CF123_log  catboost  0.463994  0.403767  0.757624  0.635426   \n",
       "71      CF123_log      lgbm  0.463727  0.402276  0.758519  0.634252   \n",
       "\n",
       "         mape       std  \n",
       "0   44.769495  0.162520  \n",
       "1   45.003887  0.159096  \n",
       "2   44.535893  0.164587  \n",
       "3    0.140337  0.124640  \n",
       "4    0.134956  0.134326  \n",
       "..        ...       ...  \n",
       "67   0.256520  0.128285  \n",
       "68   0.255077  0.120722  \n",
       "69   0.105118  0.105099  \n",
       "70   0.099703  0.098183  \n",
       "71   0.099759  0.095371  \n",
       "\n",
       "[72 rows x 8 columns]"
      ]
     },
     "execution_count": 39,
     "metadata": {},
     "output_type": "execute_result"
    }
   ],
   "source": [
    "summary_global # with CF123 standardization"
   ]
  },
  {
   "cell_type": "markdown",
   "metadata": {},
   "source": [
    "# Test seed influence"
   ]
  },
  {
   "cell_type": "code",
   "execution_count": 15,
   "metadata": {},
   "outputs": [],
   "source": [
    "from functions.preprocessing import custom_train_split\n",
    "from functions.results import  metrics\n",
    "\n",
    "training_parameters[\"cross_val\"] = True"
   ]
  },
  {
   "cell_type": "code",
   "execution_count": 16,
   "metadata": {},
   "outputs": [
    {
     "name": "stdout",
     "output_type": "stream",
     "text": [
      "CF1_log_CF123\n",
      "Using pre created preprocessed files\n",
      "preprocessing done\n",
      "[16:19:03] WARNING: C:/buildkite-agent/builds/buildkite-windows-cpu-autoscaling-group-i-0fc7796c793e6356f-1/xgboost/xgboost-ci-windows/src/learner.cc:767: \n",
      "Parameters: { \"verbose\" } are not used.\n",
      "\n",
      "[LightGBM] [Warning] Auto-choosing col-wise multi-threading, the overhead of testing was 0.000959 seconds.\n",
      "You can set `force_col_wise=true` to remove the overhead.\n",
      "[LightGBM] [Warning] No further splits with positive gain, best gain: -inf\n",
      "[LightGBM] [Warning] No further splits with positive gain, best gain: -inf\n",
      "[LightGBM] [Warning] No further splits with positive gain, best gain: -inf\n",
      "[LightGBM] [Warning] No further splits with positive gain, best gain: -inf\n",
      "[LightGBM] [Warning] No further splits with positive gain, best gain: -inf\n",
      "[LightGBM] [Warning] No further splits with positive gain, best gain: -inf\n",
      "[LightGBM] [Warning] No further splits with positive gain, best gain: -inf\n",
      "[LightGBM] [Warning] No further splits with positive gain, best gain: -inf\n",
      "[LightGBM] [Warning] No further splits with positive gain, best gain: -inf\n",
      "[LightGBM] [Warning] No further splits with positive gain, best gain: -inf\n",
      "[LightGBM] [Warning] No further splits with positive gain, best gain: -inf\n",
      "[LightGBM] [Warning] No further splits with positive gain, best gain: -inf\n",
      "[LightGBM] [Warning] No further splits with positive gain, best gain: -inf\n",
      "[LightGBM] [Warning] No further splits with positive gain, best gain: -inf\n",
      "[LightGBM] [Warning] No further splits with positive gain, best gain: -inf\n",
      "[LightGBM] [Warning] No further splits with positive gain, best gain: -inf\n",
      "[LightGBM] [Warning] No further splits with positive gain, best gain: -inf\n",
      "[LightGBM] [Warning] No further splits with positive gain, best gain: -inf\n",
      "[LightGBM] [Warning] No further splits with positive gain, best gain: -inf\n",
      "[LightGBM] [Warning] No further splits with positive gain, best gain: -inf\n",
      "[LightGBM] [Warning] No further splits with positive gain, best gain: -inf\n",
      "[LightGBM] [Warning] No further splits with positive gain, best gain: -inf\n",
      "[LightGBM] [Warning] No further splits with positive gain, best gain: -inf\n",
      "[LightGBM] [Warning] No further splits with positive gain, best gain: -inf\n",
      "[LightGBM] [Warning] No further splits with positive gain, best gain: -inf\n",
      "[LightGBM] [Warning] No further splits with positive gain, best gain: -inf\n",
      "[LightGBM] [Warning] No further splits with positive gain, best gain: -inf\n",
      "[LightGBM] [Warning] No further splits with positive gain, best gain: -inf\n",
      "[LightGBM] [Warning] No further splits with positive gain, best gain: -inf\n",
      "[LightGBM] [Warning] No further splits with positive gain, best gain: -inf\n",
      "[LightGBM] [Warning] No further splits with positive gain, best gain: -inf\n",
      "[LightGBM] [Warning] No further splits with positive gain, best gain: -inf\n",
      "[LightGBM] [Warning] No further splits with positive gain, best gain: -inf\n",
      "[LightGBM] [Warning] No further splits with positive gain, best gain: -inf\n",
      "[LightGBM] [Warning] No further splits with positive gain, best gain: -inf\n",
      "[LightGBM] [Warning] No further splits with positive gain, best gain: -inf\n",
      "[LightGBM] [Warning] No further splits with positive gain, best gain: -inf\n",
      "[LightGBM] [Warning] No further splits with positive gain, best gain: -inf\n",
      "[LightGBM] [Warning] No further splits with positive gain, best gain: -inf\n",
      "[LightGBM] [Warning] No further splits with positive gain, best gain: -inf\n",
      "[LightGBM] [Warning] No further splits with positive gain, best gain: -inf\n",
      "[LightGBM] [Warning] No further splits with positive gain, best gain: -inf\n",
      "[LightGBM] [Warning] No further splits with positive gain, best gain: -inf\n",
      "[LightGBM] [Warning] No further splits with positive gain, best gain: -inf\n",
      "[LightGBM] [Warning] No further splits with positive gain, best gain: -inf\n",
      "[LightGBM] [Warning] No further splits with positive gain, best gain: -inf\n",
      "[LightGBM] [Warning] No further splits with positive gain, best gain: -inf\n",
      "[LightGBM] [Warning] No further splits with positive gain, best gain: -inf\n",
      "[LightGBM] [Warning] No further splits with positive gain, best gain: -inf\n",
      "[LightGBM] [Warning] No further splits with positive gain, best gain: -inf\n",
      "[LightGBM] [Warning] No further splits with positive gain, best gain: -inf\n",
      "[LightGBM] [Warning] No further splits with positive gain, best gain: -inf\n",
      "[LightGBM] [Warning] No further splits with positive gain, best gain: -inf\n",
      "[LightGBM] [Warning] No further splits with positive gain, best gain: -inf\n",
      "[LightGBM] [Warning] No further splits with positive gain, best gain: -inf\n",
      "[LightGBM] [Warning] No further splits with positive gain, best gain: -inf\n",
      "[LightGBM] [Warning] No further splits with positive gain, best gain: -inf\n",
      "[LightGBM] [Warning] No further splits with positive gain, best gain: -inf\n",
      "[LightGBM] [Warning] No further splits with positive gain, best gain: -inf\n",
      "[LightGBM] [Warning] No further splits with positive gain, best gain: -inf\n",
      "[LightGBM] [Warning] No further splits with positive gain, best gain: -inf\n",
      "[LightGBM] [Warning] No further splits with positive gain, best gain: -inf\n",
      "[LightGBM] [Warning] No further splits with positive gain, best gain: -inf\n",
      "[LightGBM] [Warning] No further splits with positive gain, best gain: -inf\n",
      "[LightGBM] [Warning] No further splits with positive gain, best gain: -inf\n",
      "[LightGBM] [Warning] No further splits with positive gain, best gain: -inf\n",
      "[LightGBM] [Warning] No further splits with positive gain, best gain: -inf\n",
      "[LightGBM] [Warning] No further splits with positive gain, best gain: -inf\n",
      "[LightGBM] [Warning] No further splits with positive gain, best gain: -inf\n",
      "[LightGBM] [Warning] No further splits with positive gain, best gain: -inf\n",
      "[LightGBM] [Warning] No further splits with positive gain, best gain: -inf\n",
      "[LightGBM] [Warning] No further splits with positive gain, best gain: -inf\n",
      "[LightGBM] [Warning] No further splits with positive gain, best gain: -inf\n",
      "[LightGBM] [Warning] No further splits with positive gain, best gain: -inf\n",
      "[LightGBM] [Warning] No further splits with positive gain, best gain: -inf\n",
      "[LightGBM] [Warning] No further splits with positive gain, best gain: -inf\n",
      "[LightGBM] [Warning] No further splits with positive gain, best gain: -inf\n",
      "[LightGBM] [Warning] No further splits with positive gain, best gain: -inf\n",
      "[LightGBM] [Warning] No further splits with positive gain, best gain: -inf\n",
      "[LightGBM] [Warning] No further splits with positive gain, best gain: -inf\n",
      "[LightGBM] [Warning] No further splits with positive gain, best gain: -inf\n",
      "[LightGBM] [Warning] No further splits with positive gain, best gain: -inf\n",
      "[LightGBM] [Warning] No further splits with positive gain, best gain: -inf\n",
      "[LightGBM] [Warning] No further splits with positive gain, best gain: -inf\n",
      "[LightGBM] [Warning] No further splits with positive gain, best gain: -inf\n",
      "[LightGBM] [Warning] No further splits with positive gain, best gain: -inf\n",
      "[LightGBM] [Warning] No further splits with positive gain, best gain: -inf\n",
      "[LightGBM] [Warning] No further splits with positive gain, best gain: -inf\n",
      "[LightGBM] [Warning] No further splits with positive gain, best gain: -inf\n",
      "[LightGBM] [Warning] No further splits with positive gain, best gain: -inf\n",
      "[LightGBM] [Warning] No further splits with positive gain, best gain: -inf\n",
      "[LightGBM] [Warning] No further splits with positive gain, best gain: -inf\n",
      "[LightGBM] [Warning] No further splits with positive gain, best gain: -inf\n",
      "[LightGBM] [Warning] No further splits with positive gain, best gain: -inf\n",
      "[LightGBM] [Warning] No further splits with positive gain, best gain: -inf\n",
      "[LightGBM] [Warning] No further splits with positive gain, best gain: -inf\n",
      "[LightGBM] [Warning] No further splits with positive gain, best gain: -inf\n",
      "[LightGBM] [Warning] No further splits with positive gain, best gain: -inf\n",
      "[LightGBM] [Warning] No further splits with positive gain, best gain: -inf\n",
      "[LightGBM] [Warning] No further splits with positive gain, best gain: -inf\n",
      "[LightGBM] [Warning] No further splits with positive gain, best gain: -inf\n",
      "[LightGBM] [Warning] No further splits with positive gain, best gain: -inf\n",
      "[LightGBM] [Warning] No further splits with positive gain, best gain: -inf\n",
      "[LightGBM] [Warning] No further splits with positive gain, best gain: -inf\n",
      "[LightGBM] [Warning] No further splits with positive gain, best gain: -inf\n",
      "[LightGBM] [Warning] No further splits with positive gain, best gain: -inf\n",
      "[LightGBM] [Warning] No further splits with positive gain, best gain: -inf\n",
      "[LightGBM] [Warning] No further splits with positive gain, best gain: -inf\n",
      "[LightGBM] [Warning] No further splits with positive gain, best gain: -inf\n",
      "[LightGBM] [Warning] No further splits with positive gain, best gain: -inf\n",
      "[LightGBM] [Warning] No further splits with positive gain, best gain: -inf\n",
      "[LightGBM] [Warning] No further splits with positive gain, best gain: -inf\n",
      "[LightGBM] [Warning] No further splits with positive gain, best gain: -inf\n",
      "[LightGBM] [Warning] No further splits with positive gain, best gain: -inf\n",
      "[LightGBM] [Warning] No further splits with positive gain, best gain: -inf\n",
      "[LightGBM] [Warning] No further splits with positive gain, best gain: -inf\n",
      "[LightGBM] [Warning] No further splits with positive gain, best gain: -inf\n",
      "[LightGBM] [Warning] No further splits with positive gain, best gain: -inf\n",
      "[LightGBM] [Warning] No further splits with positive gain, best gain: -inf\n",
      "[LightGBM] [Warning] No further splits with positive gain, best gain: -inf\n",
      "[LightGBM] [Warning] No further splits with positive gain, best gain: -inf\n",
      "[LightGBM] [Warning] No further splits with positive gain, best gain: -inf\n",
      "[LightGBM] [Warning] No further splits with positive gain, best gain: -inf\n",
      "[LightGBM] [Warning] No further splits with positive gain, best gain: -inf\n",
      "[LightGBM] [Warning] No further splits with positive gain, best gain: -inf\n",
      "[LightGBM] [Warning] No further splits with positive gain, best gain: -inf\n",
      "[LightGBM] [Warning] No further splits with positive gain, best gain: -inf\n",
      "[LightGBM] [Warning] No further splits with positive gain, best gain: -inf\n",
      "[LightGBM] [Warning] No further splits with positive gain, best gain: -inf\n",
      "[LightGBM] [Warning] No further splits with positive gain, best gain: -inf\n",
      "[LightGBM] [Warning] No further splits with positive gain, best gain: -inf\n",
      "[LightGBM] [Warning] No further splits with positive gain, best gain: -inf\n",
      "[LightGBM] [Warning] No further splits with positive gain, best gain: -inf\n",
      "[LightGBM] [Warning] No further splits with positive gain, best gain: -inf\n",
      "[LightGBM] [Warning] No further splits with positive gain, best gain: -inf\n",
      "[LightGBM] [Warning] No further splits with positive gain, best gain: -inf\n",
      "[LightGBM] [Warning] No further splits with positive gain, best gain: -inf\n",
      "[LightGBM] [Warning] No further splits with positive gain, best gain: -inf\n",
      "[LightGBM] [Warning] No further splits with positive gain, best gain: -inf\n",
      "[LightGBM] [Warning] No further splits with positive gain, best gain: -inf\n",
      "[LightGBM] [Warning] No further splits with positive gain, best gain: -inf\n",
      "[LightGBM] [Warning] No further splits with positive gain, best gain: -inf\n",
      "[LightGBM] [Warning] No further splits with positive gain, best gain: -inf\n",
      "[LightGBM] [Warning] No further splits with positive gain, best gain: -inf\n",
      "[LightGBM] [Warning] No further splits with positive gain, best gain: -inf\n",
      "[LightGBM] [Warning] No further splits with positive gain, best gain: -inf\n",
      "[LightGBM] [Warning] No further splits with positive gain, best gain: -inf\n",
      "[LightGBM] [Warning] No further splits with positive gain, best gain: -inf\n",
      "[LightGBM] [Warning] No further splits with positive gain, best gain: -inf\n",
      "[LightGBM] [Warning] No further splits with positive gain, best gain: -inf\n",
      "[LightGBM] [Warning] No further splits with positive gain, best gain: -inf\n",
      "[LightGBM] [Warning] No further splits with positive gain, best gain: -inf\n",
      "[LightGBM] [Warning] No further splits with positive gain, best gain: -inf\n",
      "[LightGBM] [Warning] No further splits with positive gain, best gain: -inf\n",
      "[LightGBM] [Warning] No further splits with positive gain, best gain: -inf\n",
      "[LightGBM] [Warning] No further splits with positive gain, best gain: -inf\n",
      "[LightGBM] [Warning] No further splits with positive gain, best gain: -inf\n",
      "[LightGBM] [Warning] No further splits with positive gain, best gain: -inf\n",
      "[LightGBM] [Warning] No further splits with positive gain, best gain: -inf\n",
      "[LightGBM] [Warning] No further splits with positive gain, best gain: -inf\n",
      "[LightGBM] [Warning] No further splits with positive gain, best gain: -inf\n",
      "[LightGBM] [Warning] No further splits with positive gain, best gain: -inf\n",
      "[LightGBM] [Warning] No further splits with positive gain, best gain: -inf\n",
      "[LightGBM] [Warning] No further splits with positive gain, best gain: -inf\n",
      "[LightGBM] [Warning] No further splits with positive gain, best gain: -inf\n",
      "[LightGBM] [Warning] No further splits with positive gain, best gain: -inf\n",
      "[LightGBM] [Warning] No further splits with positive gain, best gain: -inf\n",
      "[LightGBM] [Warning] No further splits with positive gain, best gain: -inf\n",
      "[LightGBM] [Warning] No further splits with positive gain, best gain: -inf\n",
      "[LightGBM] [Warning] No further splits with positive gain, best gain: -inf\n",
      "[LightGBM] [Warning] No further splits with positive gain, best gain: -inf\n",
      "[LightGBM] [Warning] No further splits with positive gain, best gain: -inf\n",
      "[LightGBM] [Warning] No further splits with positive gain, best gain: -inf\n",
      "[LightGBM] [Warning] No further splits with positive gain, best gain: -inf\n",
      "[LightGBM] [Warning] No further splits with positive gain, best gain: -inf\n",
      "[LightGBM] [Warning] No further splits with positive gain, best gain: -inf\n",
      "[LightGBM] [Warning] No further splits with positive gain, best gain: -inf\n",
      "[LightGBM] [Warning] No further splits with positive gain, best gain: -inf\n",
      "[LightGBM] [Warning] No further splits with positive gain, best gain: -inf\n",
      "[LightGBM] [Warning] No further splits with positive gain, best gain: -inf\n",
      "[LightGBM] [Warning] No further splits with positive gain, best gain: -inf\n",
      "[LightGBM] [Warning] No further splits with positive gain, best gain: -inf\n",
      "[LightGBM] [Warning] No further splits with positive gain, best gain: -inf\n",
      "[LightGBM] [Warning] No further splits with positive gain, best gain: -inf\n",
      "[LightGBM] [Warning] No further splits with positive gain, best gain: -inf\n",
      "[LightGBM] [Warning] No further splits with positive gain, best gain: -inf\n",
      "[LightGBM] [Warning] No further splits with positive gain, best gain: -inf\n",
      "[LightGBM] [Warning] No further splits with positive gain, best gain: -inf\n",
      "[LightGBM] [Warning] No further splits with positive gain, best gain: -inf\n",
      "[LightGBM] [Warning] No further splits with positive gain, best gain: -inf\n",
      "[LightGBM] [Warning] No further splits with positive gain, best gain: -inf\n",
      "[LightGBM] [Warning] No further splits with positive gain, best gain: -inf\n",
      "[LightGBM] [Warning] No further splits with positive gain, best gain: -inf\n",
      "[LightGBM] [Warning] No further splits with positive gain, best gain: -inf\n",
      "[LightGBM] [Warning] No further splits with positive gain, best gain: -inf\n",
      "[LightGBM] [Warning] No further splits with positive gain, best gain: -inf\n",
      "[LightGBM] [Warning] No further splits with positive gain, best gain: -inf\n",
      "[LightGBM] [Warning] No further splits with positive gain, best gain: -inf\n",
      "[LightGBM] [Warning] No further splits with positive gain, best gain: -inf\n",
      "[LightGBM] [Warning] No further splits with positive gain, best gain: -inf\n",
      "[LightGBM] [Warning] No further splits with positive gain, best gain: -inf\n",
      "[LightGBM] [Warning] No further splits with positive gain, best gain: -inf\n",
      "[LightGBM] [Warning] No further splits with positive gain, best gain: -inf\n",
      "[LightGBM] [Warning] No further splits with positive gain, best gain: -inf\n",
      "[LightGBM] [Warning] No further splits with positive gain, best gain: -inf\n",
      "[LightGBM] [Warning] No further splits with positive gain, best gain: -inf\n",
      "[LightGBM] [Warning] No further splits with positive gain, best gain: -inf\n",
      "[LightGBM] [Warning] No further splits with positive gain, best gain: -inf\n",
      "[LightGBM] [Warning] No further splits with positive gain, best gain: -inf\n",
      "[LightGBM] [Warning] No further splits with positive gain, best gain: -inf\n",
      "[LightGBM] [Warning] No further splits with positive gain, best gain: -inf\n",
      "[LightGBM] [Warning] No further splits with positive gain, best gain: -inf\n",
      "[LightGBM] [Warning] No further splits with positive gain, best gain: -inf\n",
      "[LightGBM] [Warning] No further splits with positive gain, best gain: -inf\n",
      "[LightGBM] [Warning] No further splits with positive gain, best gain: -inf\n",
      "[LightGBM] [Warning] No further splits with positive gain, best gain: -inf\n",
      "[LightGBM] [Warning] No further splits with positive gain, best gain: -inf\n",
      "[LightGBM] [Warning] No further splits with positive gain, best gain: -inf\n",
      "[LightGBM] [Warning] No further splits with positive gain, best gain: -inf\n",
      "[LightGBM] [Warning] No further splits with positive gain, best gain: -inf\n",
      "[LightGBM] [Warning] No further splits with positive gain, best gain: -inf\n",
      "[LightGBM] [Warning] No further splits with positive gain, best gain: -inf\n",
      "[LightGBM] [Warning] No further splits with positive gain, best gain: -inf\n",
      "[LightGBM] [Warning] No further splits with positive gain, best gain: -inf\n",
      "[LightGBM] [Warning] No further splits with positive gain, best gain: -inf\n",
      "[LightGBM] [Warning] No further splits with positive gain, best gain: -inf\n",
      "[LightGBM] [Warning] No further splits with positive gain, best gain: -inf\n",
      "[LightGBM] [Warning] No further splits with positive gain, best gain: -inf\n",
      "[LightGBM] [Warning] No further splits with positive gain, best gain: -inf\n",
      "[LightGBM] [Warning] No further splits with positive gain, best gain: -inf\n",
      "[LightGBM] [Warning] No further splits with positive gain, best gain: -inf\n",
      "[LightGBM] [Warning] No further splits with positive gain, best gain: -inf\n",
      "[LightGBM] [Warning] No further splits with positive gain, best gain: -inf\n",
      "[LightGBM] [Warning] No further splits with positive gain, best gain: -inf\n",
      "[LightGBM] [Warning] No further splits with positive gain, best gain: -inf\n",
      "[LightGBM] [Warning] No further splits with positive gain, best gain: -inf\n",
      "[LightGBM] [Warning] No further splits with positive gain, best gain: -inf\n",
      "[LightGBM] [Warning] No further splits with positive gain, best gain: -inf\n",
      "[LightGBM] [Warning] No further splits with positive gain, best gain: -inf\n",
      "[LightGBM] [Warning] No further splits with positive gain, best gain: -inf\n",
      "[LightGBM] [Warning] No further splits with positive gain, best gain: -inf\n",
      "[LightGBM] [Warning] No further splits with positive gain, best gain: -inf\n",
      "[LightGBM] [Warning] No further splits with positive gain, best gain: -inf\n",
      "[LightGBM] [Warning] No further splits with positive gain, best gain: -inf\n",
      "[LightGBM] [Warning] No further splits with positive gain, best gain: -inf\n",
      "[LightGBM] [Warning] No further splits with positive gain, best gain: -inf\n",
      "[LightGBM] [Warning] No further splits with positive gain, best gain: -inf\n",
      "[LightGBM] [Warning] No further splits with positive gain, best gain: -inf\n",
      "[LightGBM] [Warning] No further splits with positive gain, best gain: -inf\n",
      "[LightGBM] [Warning] No further splits with positive gain, best gain: -inf\n",
      "[LightGBM] [Warning] No further splits with positive gain, best gain: -inf\n",
      "[LightGBM] [Warning] No further splits with positive gain, best gain: -inf\n",
      "[LightGBM] [Warning] No further splits with positive gain, best gain: -inf\n",
      "[LightGBM] [Warning] No further splits with positive gain, best gain: -inf\n",
      "[LightGBM] [Warning] No further splits with positive gain, best gain: -inf\n",
      "[LightGBM] [Warning] No further splits with positive gain, best gain: -inf\n",
      "[LightGBM] [Warning] No further splits with positive gain, best gain: -inf\n",
      "[LightGBM] [Warning] No further splits with positive gain, best gain: -inf\n",
      "[LightGBM] [Warning] No further splits with positive gain, best gain: -inf\n",
      "[LightGBM] [Warning] No further splits with positive gain, best gain: -inf\n",
      "[LightGBM] [Warning] No further splits with positive gain, best gain: -inf\n",
      "[LightGBM] [Warning] No further splits with positive gain, best gain: -inf\n",
      "[LightGBM] [Warning] No further splits with positive gain, best gain: -inf\n",
      "[LightGBM] [Warning] No further splits with positive gain, best gain: -inf\n",
      "[LightGBM] [Warning] No further splits with positive gain, best gain: -inf\n",
      "[LightGBM] [Warning] No further splits with positive gain, best gain: -inf\n",
      "[LightGBM] [Warning] No further splits with positive gain, best gain: -inf\n",
      "[LightGBM] [Warning] No further splits with positive gain, best gain: -inf\n",
      "[LightGBM] [Warning] No further splits with positive gain, best gain: -inf\n",
      "[LightGBM] [Warning] No further splits with positive gain, best gain: -inf\n",
      "[LightGBM] [Warning] No further splits with positive gain, best gain: -inf\n",
      "[LightGBM] [Warning] No further splits with positive gain, best gain: -inf\n",
      "[LightGBM] [Warning] No further splits with positive gain, best gain: -inf\n",
      "[LightGBM] [Warning] No further splits with positive gain, best gain: -inf\n",
      "[LightGBM] [Warning] No further splits with positive gain, best gain: -inf\n",
      "[LightGBM] [Warning] No further splits with positive gain, best gain: -inf\n",
      "[LightGBM] [Warning] No further splits with positive gain, best gain: -inf\n",
      "[LightGBM] [Warning] No further splits with positive gain, best gain: -inf\n",
      "[LightGBM] [Warning] No further splits with positive gain, best gain: -inf\n",
      "[LightGBM] [Warning] No further splits with positive gain, best gain: -inf\n",
      "[LightGBM] [Warning] No further splits with positive gain, best gain: -inf\n",
      "[LightGBM] [Warning] No further splits with positive gain, best gain: -inf\n",
      "[LightGBM] [Warning] No further splits with positive gain, best gain: -inf\n",
      "[LightGBM] [Warning] No further splits with positive gain, best gain: -inf\n",
      "[LightGBM] [Warning] No further splits with positive gain, best gain: -inf\n",
      "[LightGBM] [Warning] No further splits with positive gain, best gain: -inf\n",
      "[LightGBM] [Warning] No further splits with positive gain, best gain: -inf\n",
      "[LightGBM] [Warning] No further splits with positive gain, best gain: -inf\n",
      "[LightGBM] [Warning] No further splits with positive gain, best gain: -inf\n",
      "[LightGBM] [Warning] No further splits with positive gain, best gain: -inf\n",
      "[LightGBM] [Warning] No further splits with positive gain, best gain: -inf\n",
      "[LightGBM] [Warning] No further splits with positive gain, best gain: -inf\n",
      "[LightGBM] [Warning] No further splits with positive gain, best gain: -inf\n",
      "[LightGBM] [Warning] No further splits with positive gain, best gain: -inf\n",
      "[LightGBM] [Warning] No further splits with positive gain, best gain: -inf\n",
      "[LightGBM] [Warning] No further splits with positive gain, best gain: -inf\n",
      "[LightGBM] [Warning] No further splits with positive gain, best gain: -inf\n",
      "[LightGBM] [Warning] No further splits with positive gain, best gain: -inf\n",
      "[LightGBM] [Warning] No further splits with positive gain, best gain: -inf\n",
      "[LightGBM] [Warning] No further splits with positive gain, best gain: -inf\n",
      "[LightGBM] [Warning] No further splits with positive gain, best gain: -inf\n",
      "[LightGBM] [Warning] No further splits with positive gain, best gain: -inf\n",
      "[LightGBM] [Warning] No further splits with positive gain, best gain: -inf\n",
      "[LightGBM] [Warning] No further splits with positive gain, best gain: -inf\n",
      "[LightGBM] [Warning] No further splits with positive gain, best gain: -inf\n",
      "[LightGBM] [Warning] No further splits with positive gain, best gain: -inf\n",
      "[LightGBM] [Warning] No further splits with positive gain, best gain: -inf\n",
      "[LightGBM] [Warning] No further splits with positive gain, best gain: -inf\n",
      "[LightGBM] [Warning] No further splits with positive gain, best gain: -inf\n",
      "[LightGBM] [Warning] No further splits with positive gain, best gain: -inf\n",
      "[LightGBM] [Warning] No further splits with positive gain, best gain: -inf\n",
      "[LightGBM] [Warning] No further splits with positive gain, best gain: -inf\n",
      "[LightGBM] [Warning] No further splits with positive gain, best gain: -inf\n",
      "[LightGBM] [Warning] No further splits with positive gain, best gain: -inf\n",
      "[LightGBM] [Warning] No further splits with positive gain, best gain: -inf\n",
      "[LightGBM] [Warning] No further splits with positive gain, best gain: -inf\n",
      "[LightGBM] [Warning] No further splits with positive gain, best gain: -inf\n",
      "[LightGBM] [Warning] No further splits with positive gain, best gain: -inf\n",
      "[LightGBM] [Warning] No further splits with positive gain, best gain: -inf\n",
      "[LightGBM] [Warning] No further splits with positive gain, best gain: -inf\n",
      "[LightGBM] [Warning] No further splits with positive gain, best gain: -inf\n",
      "[LightGBM] [Warning] No further splits with positive gain, best gain: -inf\n",
      "[LightGBM] [Warning] No further splits with positive gain, best gain: -inf\n",
      "[LightGBM] [Warning] No further splits with positive gain, best gain: -inf\n",
      "[LightGBM] [Warning] No further splits with positive gain, best gain: -inf\n",
      "[LightGBM] [Warning] No further splits with positive gain, best gain: -inf\n",
      "[LightGBM] [Warning] No further splits with positive gain, best gain: -inf\n",
      "[LightGBM] [Warning] No further splits with positive gain, best gain: -inf\n",
      "[LightGBM] [Warning] No further splits with positive gain, best gain: -inf\n",
      "[LightGBM] [Warning] No further splits with positive gain, best gain: -inf\n",
      "[LightGBM] [Warning] No further splits with positive gain, best gain: -inf\n",
      "[LightGBM] [Warning] No further splits with positive gain, best gain: -inf\n",
      "[LightGBM] [Warning] No further splits with positive gain, best gain: -inf\n",
      "[LightGBM] [Warning] No further splits with positive gain, best gain: -inf\n",
      "[LightGBM] [Warning] No further splits with positive gain, best gain: -inf\n",
      "[LightGBM] [Warning] No further splits with positive gain, best gain: -inf\n",
      "[LightGBM] [Warning] No further splits with positive gain, best gain: -inf\n"
     ]
    }
   ],
   "source": [
    "# Analyse variance seed model\n",
    "\n",
    "targets = [\"CF1_log_CF123\",\"CF2_log_CF123\",\"CF3_log_CF123\", \"CF123_log\"]\n",
    "name_experiment = \"analysis_seed_model_influence_00\"\n",
    "\n",
    "best_scores = {\n",
    "    \"CF1_log_CF123\" : [],\n",
    "    \"CF2_log_CF123\" : [],\n",
    "    \"CF3_log_CF123\" : [],\n",
    "    \"CF123_log\" : [],\n",
    "}\n",
    "best_stds = {\n",
    "    \"CF1_log_CF123\" : [],\n",
    "    \"CF2_log_CF123\" : [],\n",
    "    \"CF3_log_CF123\" : [],\n",
    "    \"CF123_log\" : [],\n",
    "}\n",
    "\n",
    "for target in targets:\n",
    "    print(target)\n",
    "    test_scores = []\n",
    "    test_stds = []\n",
    "    (\n",
    "        X_train,\n",
    "        y_train,\n",
    "        X_test,\n",
    "        y_test,\n",
    "        df_test,\n",
    "    ) = custom_train_split(\n",
    "        preprocessed_dataset,\n",
    "        path_Benchmark,\n",
    "        path_intermediary,\n",
    "        target,\n",
    "        # threshold_under=training_parameters[\"threshold_under\"],\n",
    "        # threshold_over=training_parameters[\"threshold_over\"],\n",
    "        extended_features=training_parameters[\"extended_features\"],\n",
    "        selec_sect=training_parameters[\"selec_sect\"],\n",
    "        fill_grp=training_parameters[\"fill_grp\"],\n",
    "        old_pipe=training_parameters[\"old_pipe\"],\n",
    "        open_data=False,\n",
    "    )\n",
    "    # seed = (training_parameters[\"seed\"])\n",
    "    n_iter = (training_parameters[\"n_iter\"])\n",
    "    print(\"preprocessing done\")\n",
    "    for seed in range(10) : \n",
    "        for i, (model_name, model) in enumerate(models.items()):\n",
    "        # with mlflow.start_run() as run:\n",
    "            model_i = model(\n",
    "                X_train,\n",
    "                y_train,\n",
    "                cross_val=training_parameters[\"cross_val\"],\n",
    "                n_jobs=-1,\n",
    "                verbose=0,\n",
    "                n_iter=n_iter,\n",
    "                seed=seed,\n",
    "            )\n",
    "            y_pred = model_i.predict(X_test)\n",
    "\n",
    "            summary_global, rmse, std = metrics(y_test, y_pred, Summary_Final, target, model_name)\n",
    "            ensemble.append(model_i)\n",
    "            test_scores.append(rmse)\n",
    "            test_stds.append(std)\n",
    "\n",
    "        best_scores[target].append(test_scores[test_scores.index(min(test_scores))])\n",
    "        best_stds[target].append(test_stds[test_scores.index(min(test_scores))])\n",
    "    print(\"modelisations done\")\n"
   ]
  },
  {
   "cell_type": "code",
   "execution_count": null,
   "metadata": {},
   "outputs": [
    {
     "data": {
      "text/plain": [
       "[0.6290781450386738,\n",
       " 0.6290781450386738,\n",
       " 0.6290781450386738,\n",
       " 0.6282319689579591,\n",
       " 0.6282319689579591,\n",
       " 0.6261809495069609,\n",
       " 0.6261809495069609,\n",
       " 0.6261809495069609,\n",
       " 0.6261809495069609,\n",
       " 0.6261809495069609]"
      ]
     },
     "execution_count": 14,
     "metadata": {},
     "output_type": "execute_result"
    }
   ],
   "source": [
    "best_scores[target]"
   ]
  },
  {
   "cell_type": "code",
   "execution_count": null,
   "metadata": {},
   "outputs": [
    {
     "name": "stdout",
     "output_type": "stream",
     "text": [
      "CF1_log_CF123\n",
      "0.6923815552945992  +/-  1.1102230246251565e-16 (variance due to seed)\n",
      "0.6923815552945992  +/-  0.13894895187083298 (variance due to test set)\n"
     ]
    },
    {
     "data": {
      "text/plain": [
       "<AxesSubplot: >"
      ]
     },
     "execution_count": 10,
     "metadata": {},
     "output_type": "execute_result"
    },
    {
     "data": {
      "image/png": "[encoded data removed]",
      "text/plain": [
       "<Figure size 640x480 with 1 Axes>"
      ]
     },
     "metadata": {},
     "output_type": "display_data"
    }
   ],
   "source": [
    "target = targets[0]\n",
    "print(target)\n",
    "print(np.mean(best_scores[target]), \" +/- \", np.std(best_scores[target]), \"(variance due to seed)\")\n",
    "print(np.mean(best_scores[target]), \" +/- \", np.mean(best_stds[target]), \"(variance due to test set)\")\n",
    "pd.Series(best_scores[target]).hist()"
   ]
  },
  {
   "cell_type": "code",
   "execution_count": null,
   "metadata": {},
   "outputs": [
    {
     "name": "stdout",
     "output_type": "stream",
     "text": [
      "CF2_log_CF123\n",
      "0.5582740268600667  +/-  0.0009480384922059788\n"
     ]
    },
    {
     "data": {
      "text/plain": [
       "<AxesSubplot: >"
      ]
     },
     "execution_count": 11,
     "metadata": {},
     "output_type": "execute_result"
    },
    {
     "data": {
      "image/png": "[encoded data removed]",
      "text/plain": [
       "<Figure size 640x480 with 1 Axes>"
      ]
     },
     "metadata": {},
     "output_type": "display_data"
    }
   ],
   "source": [
    "target = targets[1]\n",
    "print(target)\n",
    "print(np.mean(best_scores[target]), \" +/- \", np.std(best_scores[target]))\n",
    "pd.Series(best_scores[target]).hist()"
   ]
  },
  {
   "cell_type": "code",
   "execution_count": null,
   "metadata": {},
   "outputs": [
    {
     "name": "stdout",
     "output_type": "stream",
     "text": [
      "CF3_log_CF123\n",
      "1.0396872802241741  +/-  0.000517234639291786\n"
     ]
    },
    {
     "data": {
      "text/plain": [
       "<AxesSubplot: >"
      ]
     },
     "execution_count": 12,
     "metadata": {},
     "output_type": "execute_result"
    },
    {
     "data": {
      "image/png": "[encoded data removed]",
      "text/plain": [
       "<Figure size 640x480 with 1 Axes>"
      ]
     },
     "metadata": {},
     "output_type": "display_data"
    }
   ],
   "source": [
    "target = targets[2]\n",
    "print(target)\n",
    "print(np.mean(best_scores[target]), \" +/- \", np.std(best_scores[target]))\n",
    "pd.Series(best_scores[target]).hist()"
   ]
  },
  {
   "cell_type": "code",
   "execution_count": null,
   "metadata": {},
   "outputs": [
    {
     "name": "stdout",
     "output_type": "stream",
     "text": [
      "CF123_log\n",
      "0.6274603120566744  +/-  0.001312512936606054\n"
     ]
    },
    {
     "data": {
      "text/plain": [
       "<AxesSubplot: >"
      ]
     },
     "execution_count": 13,
     "metadata": {},
     "output_type": "execute_result"
    },
    {
     "data": {
      "image/png": "[encoded data removed]",
      "text/plain": [
       "<Figure size 640x480 with 1 Axes>"
      ]
     },
     "metadata": {},
     "output_type": "display_data"
    }
   ],
   "source": [
    "target = targets[3]\n",
    "print(target)\n",
    "print(np.mean(best_scores[target]), \" +/- \", np.std(best_scores[target]))\n",
    "pd.Series(best_scores[target]).hist()"
   ]
  },
  {
   "cell_type": "code",
   "execution_count": 51,
   "metadata": {},
   "outputs": [],
   "source": []
  },
  {
   "cell_type": "markdown",
   "metadata": {},
   "source": [
    "# Test weighted OLS"
   ]
  },
  {
   "cell_type": "code",
   "execution_count": null,
   "metadata": {},
   "outputs": [],
   "source": [
    "import statsmodels as sm"
   ]
  },
  {
   "cell_type": "code",
   "execution_count": null,
   "metadata": {},
   "outputs": [],
   "source": [
    "# Analyse variance seed model\n",
    "\n",
    "targets = [\"CF1_log_CF123\",\"CF2_log_CF123\",\"CF3_log_CF123\", \"CF123_log\"]\n",
    "name_experiment = \"test_weighted_OLS\"\n",
    "\n",
    "best_scores = []\n",
    "best_stds = []\n",
    "\n",
    "for target in targets:\n",
    "    print(target)\n",
    "    test_scores = []\n",
    "    test_stds = []\n",
    "    (\n",
    "        X_train,\n",
    "        y_train,\n",
    "        X_test,\n",
    "        y_test,\n",
    "        df_test,\n",
    "        df_train,\n",
    "        df_test_before_imputation,\n",
    "        df_train_before_imputation,\n",
    "    ) = custom_train_split(\n",
    "        preprocessed_dataset,\n",
    "        path_Benchmark,\n",
    "        path_intermediary,\n",
    "        target,\n",
    "        threshold_under=training_parameters[\"threshold_under\"],\n",
    "        threshold_over=training_parameters[\"threshold_over\"],\n",
    "        extended_features=training_parameters[\"extended_features\"],\n",
    "        selec_sect=training_parameters[\"selec_sect\"],\n",
    "        fill_grp=training_parameters[\"fill_grp\"],\n",
    "        old_pipe=training_parameters[\"old_pipe\"],\n",
    "        open_data=False,\n",
    "    )\n",
    "    seed = training_parameters[\"seed\"]\n",
    "    n_iter = training_parameters[\"n_iter\"]\n",
    "    print(\"preprocessing done\")\n",
    "    weights = []\n",
    "\n",
    "    for i, (model_name, model) in enumerate(models.items()):\n",
    "        model_ols = sm.WLS(y_train, X_train, weights=weights).fit()\n",
    "        y_pred = model_i.predict(X_test)\n",
    "\n",
    "        summary_global, rmse, std = metrics(y_test, y_pred, Summary_Final, target, model_name)\n",
    "        # ensemble.append(model_i)\n",
    "        test_scores.append(rmse)\n",
    "        test_stds.append(std)\n",
    "\n",
    "    best_scores.append(test_scores[test_scores.index(min(test_scores))])\n",
    "    best_stds.append(test_stds[test_scores.index(min(test_scores))])\n",
    "    print(\"modelisations done\")\n"
   ]
  },
  {
   "cell_type": "code",
   "execution_count": 15,
   "metadata": {},
   "outputs": [],
   "source": []
  }
 ],
 "metadata": {
  "kernelspec": {
   "display_name": "Python 3",
   "language": "python",
   "name": "python3"
  },
  "language_info": {
   "codemirror_mode": {
    "name": "ipython",
    "version": 3
   },
   "file_extension": ".py",
   "mimetype": "text/x-python",
   "name": "python",
   "nbconvert_exporter": "python",
   "pygments_lexer": "ipython3",
   "version": "3.9.13"
  },
  "orig_nbformat": 4
 },
 "nbformat": 4,
 "nbformat_minor": 2
}
