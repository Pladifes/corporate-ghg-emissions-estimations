{
 "cells": [
  {
   "cell_type": "code",
   "execution_count": 17,
   "metadata": {},
   "outputs": [],
   "source": [
    "import warnings\n",
    "import pandas as pd\n",
    "import numpy as np\n",
    "import random as rd\n",
    "import matplotlib.pyplot as plt\n",
    "from tqdm import tqdm \n",
    "\n",
    "# from pandas_profilinag import ProfileReport\n",
    "\n",
    "pd.set_option('display.max_columns', 50)\n",
    "warnings.filterwarnings(\"ignore\")\n",
    "\n",
    "np.random.seed = 0\n",
    "seed = 0\n",
    "max_taken_subsector = 10\n",
    "max_taken_country = 50\n",
    "min_remove_sector = 5\n",
    "percent_taken = 50"
   ]
  },
  {
   "cell_type": "code",
   "execution_count": 3,
   "metadata": {},
   "outputs": [],
   "source": [
    "FillList = [\n",
    "    # \"Revenue\",\n",
    "    \"EMP\",\n",
    "    \"Asset\",\n",
    "    \"NPPE\",\n",
    "    \"INTAN\",\n",
    "    \"CapEx\",\n",
    "    \"Age\",\n",
    "    \"CapInten\",\n",
    "    \"GMAR\",\n",
    "    \"Leverage\",\n",
    "    \"ENEConsume\",\n",
    "    \"ENEProduce\",\n",
    "    \"LTDebt\",\n",
    "    \"GPPE\",\n",
    "    \"AccuDep\",\n",
    "    \"COGS\",\n",
    "    \"EBIT\",\n",
    "    \"EBITDA\",\n",
    "]\n",
    "\n",
    "LogList = [\n",
    "    \"Revenue\",\n",
    "    \"CapEx\",\n",
    "    \"GPPE\",\n",
    "    \"NPPE\",\n",
    "    \"AccuDep\",\n",
    "    \"INTAN\",\n",
    "    \"COGS\",\n",
    "    \"EMP\",\n",
    "    \"Asset\",\n",
    "    \"LTDebt\",\n",
    "    \"CF1\",\n",
    "    \"CF2\",\n",
    "    \"CF3\",\n",
    "    \"CF12\",\n",
    "    \"CF123\",\n",
    "    \"ENEConsume\",\n",
    "    \"ENEProduce\",\n",
    "    \"EBIT\",\n",
    "    \"EBITDA\",\n",
    "]"
   ]
  },
  {
   "cell_type": "code",
   "execution_count": 4,
   "metadata": {},
   "outputs": [],
   "source": [
    "sector_classification = \"GICSName\" # \"NAICSInd\""
   ]
  },
  {
   "cell_type": "code",
   "execution_count": 5,
   "metadata": {},
   "outputs": [
    {
     "name": "stdout",
     "output_type": "stream",
     "text": [
      "(74785, 39)\n"
     ]
    },
    {
     "data": {
      "text/html": [
       "<div>\n",
       "<style scoped>\n",
       "    .dataframe tbody tr th:only-of-type {\n",
       "        vertical-align: middle;\n",
       "    }\n",
       "\n",
       "    .dataframe tbody tr th {\n",
       "        vertical-align: top;\n",
       "    }\n",
       "\n",
       "    .dataframe thead th {\n",
       "        text-align: right;\n",
       "    }\n",
       "</style>\n",
       "<table border=\"1\" class=\"dataframe\">\n",
       "  <thead>\n",
       "    <tr style=\"text-align: right;\">\n",
       "      <th></th>\n",
       "      <th>FinalEikonID</th>\n",
       "      <th>Name</th>\n",
       "      <th>CUSIP</th>\n",
       "      <th>ISIN</th>\n",
       "      <th>Ticker</th>\n",
       "      <th>CountryHQ</th>\n",
       "      <th>NAICSSector</th>\n",
       "      <th>NAICSInd</th>\n",
       "      <th>GICSSector</th>\n",
       "      <th>GICSGroup</th>\n",
       "      <th>GICSInd</th>\n",
       "      <th>GICSSubInd</th>\n",
       "      <th>GICSName</th>\n",
       "      <th>FiscalYear</th>\n",
       "      <th>CF1</th>\n",
       "      <th>CF2</th>\n",
       "      <th>CF3</th>\n",
       "      <th>CF12</th>\n",
       "      <th>CFE</th>\n",
       "      <th>EstMethod</th>\n",
       "      <th>CF123</th>\n",
       "      <th>Revenue</th>\n",
       "      <th>EBITDA</th>\n",
       "      <th>EBIT</th>\n",
       "      <th>CapEx</th>\n",
       "      <th>GPPE</th>\n",
       "      <th>NPPE</th>\n",
       "      <th>AccuDep</th>\n",
       "      <th>INTAN</th>\n",
       "      <th>COGS</th>\n",
       "      <th>GMAR</th>\n",
       "      <th>Asset</th>\n",
       "      <th>LTDebt</th>\n",
       "      <th>EMP</th>\n",
       "      <th>ENEProduce</th>\n",
       "      <th>ENEConsume</th>\n",
       "      <th>Age</th>\n",
       "      <th>CapInten</th>\n",
       "      <th>Leverage</th>\n",
       "    </tr>\n",
       "  </thead>\n",
       "  <tbody>\n",
       "    <tr>\n",
       "      <th>0</th>\n",
       "      <td>KE.OQ</td>\n",
       "      <td>Kimball Electronics Inc</td>\n",
       "      <td>49428J109</td>\n",
       "      <td>US49428J1097</td>\n",
       "      <td>KE</td>\n",
       "      <td>United States of America</td>\n",
       "      <td>31-33</td>\n",
       "      <td>334412.0</td>\n",
       "      <td>45.0</td>\n",
       "      <td>4520.0</td>\n",
       "      <td>452030.0</td>\n",
       "      <td>45203020.0</td>\n",
       "      <td>Electronic Manufacturing Services</td>\n",
       "      <td>2021</td>\n",
       "      <td>NaN</td>\n",
       "      <td>NaN</td>\n",
       "      <td>NaN</td>\n",
       "      <td>NaN</td>\n",
       "      <td>54028.8</td>\n",
       "      <td>CO2</td>\n",
       "      <td>NaN</td>\n",
       "      <td>1.349535e+09</td>\n",
       "      <td>8.057600e+07</td>\n",
       "      <td>5.116500e+07</td>\n",
       "      <td>-7.471400e+07</td>\n",
       "      <td>4.810740e+08</td>\n",
       "      <td>2.099350e+08</td>\n",
       "      <td>-2.711390e+08</td>\n",
       "      <td>NaN</td>\n",
       "      <td>1.244933e+09</td>\n",
       "      <td>7.75097</td>\n",
       "      <td>1.035767e+09</td>\n",
       "      <td>1.450000e+08</td>\n",
       "      <td>7200.0</td>\n",
       "      <td>NaN</td>\n",
       "      <td>NaN</td>\n",
       "      <td>16.356941</td>\n",
       "      <td>0.155561</td>\n",
       "      <td>0.139993</td>\n",
       "    </tr>\n",
       "    <tr>\n",
       "      <th>1</th>\n",
       "      <td>PATA.BA</td>\n",
       "      <td>Importadora y Exportadora de la Patagonia SA</td>\n",
       "      <td>NaN</td>\n",
       "      <td>ARP530571735</td>\n",
       "      <td>PATA3</td>\n",
       "      <td>Argentina</td>\n",
       "      <td>44-45</td>\n",
       "      <td>445110.0</td>\n",
       "      <td>30.0</td>\n",
       "      <td>3010.0</td>\n",
       "      <td>301010.0</td>\n",
       "      <td>30101030.0</td>\n",
       "      <td>Food Retail</td>\n",
       "      <td>2021</td>\n",
       "      <td>NaN</td>\n",
       "      <td>NaN</td>\n",
       "      <td>NaN</td>\n",
       "      <td>NaN</td>\n",
       "      <td>47065.0</td>\n",
       "      <td>Median</td>\n",
       "      <td>NaN</td>\n",
       "      <td>1.872387e+09</td>\n",
       "      <td>4.541276e+07</td>\n",
       "      <td>1.796270e+07</td>\n",
       "      <td>-2.510657e+07</td>\n",
       "      <td>6.554016e+08</td>\n",
       "      <td>3.323554e+08</td>\n",
       "      <td>-3.230463e+08</td>\n",
       "      <td>NaN</td>\n",
       "      <td>1.376077e+09</td>\n",
       "      <td>26.50680</td>\n",
       "      <td>7.171096e+08</td>\n",
       "      <td>5.871033e+07</td>\n",
       "      <td>NaN</td>\n",
       "      <td>NaN</td>\n",
       "      <td>NaN</td>\n",
       "      <td>23.876146</td>\n",
       "      <td>0.177504</td>\n",
       "      <td>0.081871</td>\n",
       "    </tr>\n",
       "  </tbody>\n",
       "</table>\n",
       "</div>"
      ],
      "text/plain": [
       "  FinalEikonID                                          Name      CUSIP  \\\n",
       "0        KE.OQ                       Kimball Electronics Inc  49428J109   \n",
       "1      PATA.BA  Importadora y Exportadora de la Patagonia SA        NaN   \n",
       "\n",
       "           ISIN Ticker                 CountryHQ NAICSSector  NAICSInd  \\\n",
       "0  US49428J1097     KE  United States of America       31-33  334412.0   \n",
       "1  ARP530571735  PATA3                 Argentina       44-45  445110.0   \n",
       "\n",
       "   GICSSector  GICSGroup   GICSInd  GICSSubInd  \\\n",
       "0        45.0     4520.0  452030.0  45203020.0   \n",
       "1        30.0     3010.0  301010.0  30101030.0   \n",
       "\n",
       "                            GICSName  FiscalYear  CF1  CF2  CF3  CF12  \\\n",
       "0  Electronic Manufacturing Services        2021  NaN  NaN  NaN   NaN   \n",
       "1                        Food Retail        2021  NaN  NaN  NaN   NaN   \n",
       "\n",
       "       CFE EstMethod  CF123       Revenue        EBITDA          EBIT  \\\n",
       "0  54028.8       CO2    NaN  1.349535e+09  8.057600e+07  5.116500e+07   \n",
       "1  47065.0    Median    NaN  1.872387e+09  4.541276e+07  1.796270e+07   \n",
       "\n",
       "          CapEx          GPPE          NPPE       AccuDep  INTAN  \\\n",
       "0 -7.471400e+07  4.810740e+08  2.099350e+08 -2.711390e+08    NaN   \n",
       "1 -2.510657e+07  6.554016e+08  3.323554e+08 -3.230463e+08    NaN   \n",
       "\n",
       "           COGS      GMAR         Asset        LTDebt     EMP  ENEProduce  \\\n",
       "0  1.244933e+09   7.75097  1.035767e+09  1.450000e+08  7200.0         NaN   \n",
       "1  1.376077e+09  26.50680  7.171096e+08  5.871033e+07     NaN         NaN   \n",
       "\n",
       "   ENEConsume        Age  CapInten  Leverage  \n",
       "0         NaN  16.356941  0.155561  0.139993  \n",
       "1         NaN  23.876146  0.177504  0.081871  "
      ]
     },
     "execution_count": 5,
     "metadata": {},
     "output_type": "execute_result"
    }
   ],
   "source": [
    "df_refinitiv = pd.read_csv(\"../Pipeline proprietary/data/raw_data/Refinitiv_cleaned_filtered.csv\")\n",
    "df_refinitiv[\"Age\"] = df_refinitiv[\"GPPE\"] / (df_refinitiv[\"EBITDA\"] - df_refinitiv[\"EBIT\"])\n",
    "df_refinitiv[\"Age\"] = df_refinitiv[\"Age\"].replace(np.inf, np.nan)\n",
    "\n",
    "df_refinitiv[\"CapInten\"] = df_refinitiv[\"NPPE\"] / df_refinitiv[\"Revenue\"]\n",
    "df_refinitiv[\"CapInten\"] = df_refinitiv[\"CapInten\"].replace(np.inf, np.nan)\n",
    "\n",
    "df_refinitiv[\"Leverage\"] = df_refinitiv[\"LTDebt\"] / df_refinitiv[\"Asset\"]\n",
    "df_refinitiv[\"Leverage\"] = df_refinitiv[\"Leverage\"].replace(np.inf, np.nan)\n",
    "print(df_refinitiv.shape)\n",
    "df_refinitiv[:2]"
   ]
  },
  {
   "cell_type": "code",
   "execution_count": 6,
   "metadata": {},
   "outputs": [],
   "source": [
    "mapping = pd.read_excel('../Pipeline proprietary/data/raw_data/' + \"country_region_mapping.xlsx\")\n",
    "mapping_dict = mapping.set_index(\"Country\").to_dict()[\"Region\"]\n",
    "df_refinitiv[\"Region\"] = df_refinitiv[\"CountryHQ\"].apply(lambda x: mapping_dict[x])"
   ]
  },
  {
   "cell_type": "code",
   "execution_count": 7,
   "metadata": {},
   "outputs": [],
   "source": [
    "df_refinitiv = df_refinitiv.drop(df_refinitiv[(df_refinitiv.GMAR < 0) | (df_refinitiv.GMAR > 100)].index)\n",
    "df_refinitiv = df_refinitiv.drop(df_refinitiv[(df_refinitiv.Age < 0) | (df_refinitiv.Age > 100)].index)\n",
    "df_refinitiv = df_refinitiv.drop(df_refinitiv[(df_refinitiv.Leverage < 0) | (df_refinitiv.Leverage > 1)].index)\n",
    "df_refinitiv = df_refinitiv.drop(df_refinitiv[(df_refinitiv.AccuDep > 0)].index)\n"
   ]
  },
  {
   "cell_type": "code",
   "execution_count": 8,
   "metadata": {},
   "outputs": [
    {
     "data": {
      "text/plain": [
       "(60767, 40)"
      ]
     },
     "execution_count": 8,
     "metadata": {},
     "output_type": "execute_result"
    }
   ],
   "source": [
    "df_refinitiv_filtered = df_refinitiv[df_refinitiv.FiscalYear>2010]\n",
    "df_refinitiv_filtered.shape"
   ]
  },
  {
   "cell_type": "code",
   "execution_count": 9,
   "metadata": {},
   "outputs": [
    {
     "data": {
      "text/plain": [
       "(13926, 40)"
      ]
     },
     "execution_count": 9,
     "metadata": {},
     "output_type": "execute_result"
    }
   ],
   "source": [
    "df_refinitiv_filtered = df_refinitiv_filtered[(df_refinitiv_filtered.CF1>0) & (df_refinitiv_filtered.CF2>0) & (df_refinitiv_filtered.CF3>0)]\n",
    "df_refinitiv_filtered.shape"
   ]
  },
  {
   "cell_type": "code",
   "execution_count": 10,
   "metadata": {},
   "outputs": [],
   "source": [
    "df_refinitiv_filtered = df_refinitiv_filtered.sort_values(by=\"Revenue\", ascending=False)\n",
    "df_refinitiv_filtered = df_refinitiv_filtered[df_refinitiv_filtered[sector_classification].notna()]"
   ]
  },
  {
   "cell_type": "code",
   "execution_count": 11,
   "metadata": {},
   "outputs": [],
   "source": [
    "lst_sectors = df_refinitiv_filtered[sector_classification].unique()\n",
    "lst_countries = df_refinitiv_filtered.CountryHQ.unique()\n",
    "lst_companies = df_refinitiv_filtered.Name.unique()\n",
    "companies_per_countries = df_refinitiv_filtered.drop_duplicates(\"Name\").CountryHQ.value_counts()\n"
   ]
  },
  {
   "cell_type": "code",
   "execution_count": 12,
   "metadata": {},
   "outputs": [
    {
     "data": {
      "text/plain": [
       "Diversified Banks                   168\n",
       "Packaged Foods & Meats               74\n",
       "Construction & Engineering           65\n",
       "Industrial Machinery                 60\n",
       "Asset Management & Custody Banks     58\n",
       "                                   ... \n",
       "Housewares & Specialties              2\n",
       "Mortgage REITs                        2\n",
       "Motorcycle Manufacturers              1\n",
       "Silver                                1\n",
       "Hotel & Resort REITs                  1\n",
       "Name: GICSName, Length: 158, dtype: int64"
      ]
     },
     "execution_count": 12,
     "metadata": {},
     "output_type": "execute_result"
    }
   ],
   "source": [
    "df_refinitiv_filtered.drop_duplicates(\"Name\")[sector_classification].value_counts()\n"
   ]
  },
  {
   "cell_type": "code",
   "execution_count": 18,
   "metadata": {},
   "outputs": [
    {
     "name": "stdout",
     "output_type": "stream",
     "text": [
      "\n",
      "\n",
      "train\n",
      "nb countries : 64\n",
      "nb sectors : 158\n",
      "\n",
      "\n",
      "test\n",
      "nb countries : 62\n",
      "nb sectors : 155\n"
     ]
    }
   ],
   "source": [
    "df_company_test = []\n",
    "verbose = False\n",
    "\n",
    "\n",
    "# Sector based selection\n",
    "lst_industry_solo = []\n",
    "for sector in lst_sectors : \n",
    "    candidates = df_refinitiv_filtered[df_refinitiv_filtered[sector_classification] == sector].Name.unique()\n",
    "    rd.Random(seed).shuffle(candidates)\n",
    "    if len(candidates) > 2 * max_taken_subsector : \n",
    "        # take up to max_taken_subsector companies\n",
    "        df_company_test = df_company_test + candidates[:max_taken_subsector].tolist()\n",
    "    elif len(candidates) > 1 : \n",
    "        # take half of available companies in test (and left the other half for train), up to lax_taken_subsector\n",
    "        df_company_test = df_company_test + candidates[:int((len(candidates))/(100/percent_taken))].tolist()\n",
    "    # else : # only one company \n",
    "    #     lst_industry_solo.append(sector)\n",
    "\n",
    "df_refinitiv_filtered_test = df_refinitiv_filtered[df_refinitiv_filtered.Name.isin(df_company_test)]\n",
    "if verbose : \n",
    "    print(\"nb countries :\",df_refinitiv_filtered_test.drop_duplicates(\"Name\").CountryHQ.nunique())\n",
    "    print(\"nb sectors :\",df_refinitiv_filtered_test.drop_duplicates(\"Name\")[sector_classification].nunique())\n",
    "    print('\\n')\n",
    "\n",
    "# candidates_solo = df_refinitiv_filtered[df_refinitiv_filtered[sector_classification].isin(lst_industry_solo)].Name.unique()\n",
    "# rd.Random(seed).shuffle(np.array(candidates_solo))\n",
    "# df_company_test = df_company_test + candidates_solo[:int((len(candidates_solo))/(100/percent_taken))].tolist()\n",
    "\n",
    "# Country based selection\n",
    "df_refinitiv_filtered_test = df_refinitiv_filtered[df_refinitiv_filtered.Name.isin(df_company_test)]\n",
    "if verbose : \n",
    "    print(\"nb countries :\",df_refinitiv_filtered_test.drop_duplicates(\"Name\").CountryHQ.nunique())\n",
    "    print(\"nb sectors :\",df_refinitiv_filtered_test.drop_duplicates(\"Name\")[sector_classification].nunique())\n",
    "    print('\\n')\n",
    "\n",
    "lst_country_solo = []\n",
    "for country in lst_countries:\n",
    "    if not(country in df_refinitiv_filtered_test.CountryHQ.tolist()) : \n",
    "        if companies_per_countries[country] == 1 : \n",
    "            lst_country_solo.append(country)\n",
    "        else : \n",
    "            candidates = df_refinitiv_filtered[df_refinitiv_filtered.CountryHQ == country].Name.unique()\n",
    "            rd.Random(seed).shuffle(candidates)\n",
    "            df_company_test = df_company_test + candidates[:int((len(candidates)+0.5)/(100/percent_taken))].tolist()\n",
    "\n",
    "df_refinitiv_filtered_test = df_refinitiv_filtered[df_refinitiv_filtered.Name.isin(df_company_test)]\n",
    "if verbose : \n",
    "    print(\"nb countries :\",df_refinitiv_filtered_test.drop_duplicates(\"Name\").CountryHQ.nunique())\n",
    "    print(\"nb sectors :\",df_refinitiv_filtered_test.drop_duplicates(\"Name\")[sector_classification].nunique())\n",
    "    print('\\n')\n",
    "\n",
    "# candidates_solo = df_refinitiv_filtered[df_refinitiv_filtered.CountryHQ.isin(lst_country_solo)].Name.unique()\n",
    "# rd.Random(seed).shuffle(np.array(candidates_solo))\n",
    "# df_company_test = df_company_test + candidates_solo[:int((len(candidates_solo)+0.5)/(100/percent_taken))].tolist()\n",
    "\n",
    "df_refinitiv_filtered_test = df_refinitiv_filtered[df_refinitiv_filtered.Name.isin(df_company_test)]\n",
    "if verbose : \n",
    "    print(\"nb countries :\",df_refinitiv_filtered_test.drop_duplicates(\"Name\").CountryHQ.nunique())\n",
    "    print(\"nb sectors :\",df_refinitiv_filtered_test.drop_duplicates(\"Name\")[sector_classification].nunique())\n",
    "    print('\\n')\n",
    "\n",
    "country_repartition = df_refinitiv_filtered_test.drop_duplicates(\"Name\").CountryHQ.value_counts()\n",
    "current_sector_repartition = df_refinitiv_filtered_test.drop_duplicates(\"Name\")[sector_classification].value_counts()\n",
    "\n",
    "# Country based removal\n",
    "for country in country_repartition[country_repartition > max_taken_country].index:\n",
    "    # print(country)\n",
    "    candidates_to_remove = df_refinitiv_filtered_test.drop_duplicates(\"Name\")[df_refinitiv_filtered_test.CountryHQ==country].Name\n",
    "    # print(\"count_ini :\",len(candidates_to_remove))\n",
    "    rd.Random(seed).shuffle(np.array(candidates_to_remove))\n",
    "    count_removed = 0\n",
    "    count_to_removed = len(candidates_to_remove) - max_taken_country\n",
    "    for company in candidates_to_remove : \n",
    "        company_sector = df_refinitiv_filtered_test[df_refinitiv_filtered_test.Name==company][sector_classification].values[0]\n",
    "        if current_sector_repartition[company_sector] > min_remove_sector and count_removed < count_to_removed: \n",
    "            current_sector_repartition.loc[company_sector] = current_sector_repartition.loc[company_sector] - 1\n",
    "            df_company_test.remove(company)\n",
    "            count_removed+=1\n",
    "    # print(\"count_removed : \",count_removed)\n",
    "\n",
    "\n",
    "df_refinitiv_filtered_test = df_refinitiv_filtered[df_refinitiv_filtered.Name.isin(df_company_test)]\n",
    "df_refinitiv_filtered_train = df_refinitiv_filtered[~(df_refinitiv_filtered.Name.isin(df_company_test))]\n",
    "print(\"\\n\")\n",
    "print(\"train\")\n",
    "print(\"nb countries :\",df_refinitiv_filtered_train.drop_duplicates(\"Name\").CountryHQ.nunique())\n",
    "print(\"nb sectors :\",df_refinitiv_filtered_train.drop_duplicates(\"Name\")[sector_classification].nunique())\n",
    "print(\"\\n\")\n",
    "print(\"test\")\n",
    "print(\"nb countries :\",df_refinitiv_filtered_test.drop_duplicates(\"Name\").CountryHQ.nunique())\n",
    "print(\"nb sectors :\",df_refinitiv_filtered_test.drop_duplicates(\"Name\")[sector_classification].nunique())\n"
   ]
  },
  {
   "cell_type": "code",
   "execution_count": 19,
   "metadata": {},
   "outputs": [
    {
     "data": {
      "text/plain": [
       "(780, 40)"
      ]
     },
     "execution_count": 19,
     "metadata": {},
     "output_type": "execute_result"
    }
   ],
   "source": [
    "df_refinitiv_filtered_test.drop_duplicates(\"Name\").shape"
   ]
  },
  {
   "cell_type": "code",
   "execution_count": 20,
   "metadata": {},
   "outputs": [
    {
     "name": "stdout",
     "output_type": "stream",
     "text": [
      "percent_data_taken :  0.24881516587677724  %\n",
      "percent_company_taken :  0.2589641434262948  %\n"
     ]
    }
   ],
   "source": [
    "percent_data_taken =  (df_refinitiv_filtered_test.shape[0]) / df_refinitiv_filtered.shape[0]\n",
    "percent_comapny_taken =  (df_refinitiv_filtered_test.drop_duplicates(\"Name\").shape[0]) / df_refinitiv_filtered.drop_duplicates(\"Name\").shape[0]\n",
    "print(\"percent_data_taken : \", percent_data_taken, \" %\")\n",
    "print(\"percent_company_taken : \", percent_comapny_taken, \" %\")"
   ]
  },
  {
   "cell_type": "code",
   "execution_count": 21,
   "metadata": {},
   "outputs": [
    {
     "data": {
      "text/plain": [
       "2011   -0.312271\n",
       "2012   -0.259194\n",
       "2013    0.161052\n",
       "2014   -0.571647\n",
       "2015   -0.539327\n",
       "2016   -0.773394\n",
       "2017   -0.276765\n",
       "2018    0.264292\n",
       "2019    0.600871\n",
       "2020    0.859519\n",
       "2021    0.846864\n",
       "Name: FiscalYear, dtype: float64"
      ]
     },
     "execution_count": 21,
     "metadata": {},
     "output_type": "execute_result"
    }
   ],
   "source": [
    "df_refinitiv_filtered_test.FiscalYear.value_counts()/len(df_refinitiv_filtered_test)*100 - df_refinitiv_filtered_train.FiscalYear.value_counts()/len(df_refinitiv_filtered_train)*100 \n",
    "# same years repartion , test a bit significantly more recent than the train "
   ]
  },
  {
   "cell_type": "code",
   "execution_count": 25,
   "metadata": {},
   "outputs": [
    {
     "data": {
      "text/plain": [
       "21794308.1552814"
      ]
     },
     "execution_count": 25,
     "metadata": {},
     "output_type": "execute_result"
    }
   ],
   "source": [
    "df_refinitiv_filtered_test.Asset.min()"
   ]
  },
  {
   "cell_type": "code",
   "execution_count": 26,
   "metadata": {},
   "outputs": [
    {
     "data": {
      "text/plain": [
       "43757033.403551"
      ]
     },
     "execution_count": 26,
     "metadata": {},
     "output_type": "execute_result"
    }
   ],
   "source": [
    "df_refinitiv_filtered_train.Asset.min()"
   ]
  },
  {
   "cell_type": "code",
   "execution_count": 22,
   "metadata": {},
   "outputs": [
    {
     "name": "stdout",
     "output_type": "stream",
     "text": [
      "Columns for which the min is in test : \n"
     ]
    },
    {
     "data": {
      "text/plain": [
       "Revenue    False\n",
       "CapEx      False\n",
       "GPPE       False\n",
       "NPPE       False\n",
       "AccuDep    False\n",
       "INTAN      False\n",
       "COGS       False\n",
       "EMP        False\n",
       "Asset       True\n",
       "LTDebt     False\n",
       "CF1        False\n",
       "CF2        False\n",
       "dtype: bool"
      ]
     },
     "execution_count": 22,
     "metadata": {},
     "output_type": "execute_result"
    }
   ],
   "source": [
    "print(\"Columns for which the min is in test : \") # Seems better \n",
    "(df_refinitiv_filtered_train[LogList[:-7]].min() > df_refinitiv_filtered_test[LogList[:-7]].min()) \n"
   ]
  },
  {
   "cell_type": "code",
   "execution_count": 34,
   "metadata": {},
   "outputs": [
    {
     "data": {
      "text/plain": [
       "Revenue     0.796421\n",
       "EMP         0.876878\n",
       "Asset       0.366802\n",
       "NPPE        0.812927\n",
       "INTAN       0.449826\n",
       "CapEx       0.656401\n",
       "Age         1.091410\n",
       "CapInten    1.326751\n",
       "GMAR        0.960643\n",
       "Leverage    1.068454\n",
       "dtype: float64"
      ]
     },
     "execution_count": 34,
     "metadata": {},
     "output_type": "execute_result"
    }
   ],
   "source": [
    "df_refinitiv_filtered_test[FillList].mean()/df_refinitiv_filtered_train[FillList].mean() \n",
    "# gross diff pour revenue, asset, intan, capex, age."
   ]
  },
  {
   "cell_type": "code",
   "execution_count": 35,
   "metadata": {},
   "outputs": [
    {
     "data": {
      "image/png": "[encoded data removed]",
      "text/plain": [
       "<Figure size 640x480 with 2 Axes>"
      ]
     },
     "metadata": {},
     "output_type": "display_data"
    }
   ],
   "source": [
    "_, axs = plt.subplots(1, 2)\n",
    "axs[0].hist(np.log10(df_refinitiv_filtered_train.Revenue - df_refinitiv_filtered_train.Revenue.min() + 1))\n",
    "axs[1].hist(np.log10(df_refinitiv_filtered_test.Revenue - df_refinitiv_filtered_test.Revenue.min() + 1))\n",
    "plt.show()"
   ]
  },
  {
   "cell_type": "code",
   "execution_count": 36,
   "metadata": {},
   "outputs": [
    {
     "data": {
      "text/plain": [
       "Europe and Central Asia          41.367862\n",
       "East Asia and Pacific            24.402390\n",
       "North America                    21.978752\n",
       "Latin America & the Caribbean     5.544489\n",
       "Sub-Saharan Africa                2.888446\n",
       "South Asia                        2.689243\n",
       "Middle East and North Africa      1.128818\n",
       "Name: Region, dtype: float64"
      ]
     },
     "execution_count": 36,
     "metadata": {},
     "output_type": "execute_result"
    }
   ],
   "source": [
    "df_refinitiv_filtered.drop_duplicates(\"Name\").Region.value_counts() / len(df_refinitiv_filtered.drop_duplicates(\"Name\")) * 100"
   ]
  },
  {
   "cell_type": "code",
   "execution_count": 37,
   "metadata": {},
   "outputs": [
    {
     "data": {
      "text/plain": [
       "Europe and Central Asia          43.974359\n",
       "East Asia and Pacific            28.846154\n",
       "North America                    12.051282\n",
       "Latin America & the Caribbean     6.666667\n",
       "Sub-Saharan Africa                4.102564\n",
       "South Asia                        2.820513\n",
       "Middle East and North Africa      1.538462\n",
       "Name: Region, dtype: float64"
      ]
     },
     "execution_count": 37,
     "metadata": {},
     "output_type": "execute_result"
    }
   ],
   "source": [
    "df_refinitiv_filtered_test.drop_duplicates(\"Name\").Region.value_counts() / len(df_refinitiv_filtered_test.drop_duplicates(\"Name\")) * 100\n",
    "# lower importance of north america and more of others"
   ]
  },
  {
   "cell_type": "code",
   "execution_count": 38,
   "metadata": {},
   "outputs": [
    {
     "data": {
      "text/plain": [
       "Europe and Central Asia          40.456989\n",
       "North America                    25.448029\n",
       "East Asia and Pacific            22.849462\n",
       "Latin America & the Caribbean     5.152330\n",
       "South Asia                        2.643369\n",
       "Sub-Saharan Africa                2.464158\n",
       "Middle East and North Africa      0.985663\n",
       "Name: Region, dtype: float64"
      ]
     },
     "execution_count": 38,
     "metadata": {},
     "output_type": "execute_result"
    }
   ],
   "source": [
    "df_refinitiv_filtered_train.drop_duplicates(\"Name\").Region.value_counts() / len(df_refinitiv_filtered_train.drop_duplicates(\"Name\")) * 100"
   ]
  },
  {
   "cell_type": "code",
   "execution_count": 39,
   "metadata": {},
   "outputs": [
    {
     "data": {
      "text/plain": [
       "United States of America    18.598305\n",
       "United Kingdom              11.776533\n",
       "Japan                        9.256068\n",
       "South Africa                 4.172052\n",
       "France                       4.100244\n",
       "                              ...    \n",
       "Liechtenstein                0.021542\n",
       "Slovenia                     0.014362\n",
       "Uruguay                      0.007181\n",
       "Jordan                       0.007181\n",
       "Ukraine                      0.007181\n",
       "Name: CountryHQ, Length: 69, dtype: float64"
      ]
     },
     "execution_count": 39,
     "metadata": {},
     "output_type": "execute_result"
    }
   ],
   "source": [
    "df_refinitiv_filtered.CountryHQ.value_counts()/len(df_refinitiv_filtered)*100\n",
    "# 40 % des données sont issues de 3 pays, d'où l'intérêt de l'exercice"
   ]
  },
  {
   "cell_type": "code",
   "execution_count": 40,
   "metadata": {},
   "outputs": [
    {
     "data": {
      "text/plain": [
       "United States of America    22.378358\n",
       "United Kingdom              13.488194\n",
       "Japan                        9.922570\n",
       "Canada                       3.775930\n",
       "Germany                      3.517828\n",
       "                              ...    \n",
       "Egypt                        0.028678\n",
       "Czech Republic               0.019119\n",
       "Jersey                       0.019119\n",
       "Slovenia                     0.009559\n",
       "Ukraine                      0.009559\n",
       "Name: CountryHQ, Length: 64, dtype: float64"
      ]
     },
     "execution_count": 40,
     "metadata": {},
     "output_type": "execute_result"
    }
   ],
   "source": [
    "df_refinitiv_filtered_train.CountryHQ.value_counts()/len(df_refinitiv_filtered_train)*100"
   ]
  },
  {
   "cell_type": "code",
   "execution_count": 41,
   "metadata": {},
   "outputs": [
    {
     "data": {
      "text/plain": [
       "Japan                       7.243867\n",
       "United States of America    7.186147\n",
       "United Kingdom              6.608947\n",
       "South Africa                6.580087\n",
       "France                      6.031746\n",
       "                              ...   \n",
       "Egypt                       0.028860\n",
       "Jordan                      0.028860\n",
       "Uruguay                     0.028860\n",
       "Isle of Man                 0.028860\n",
       "Slovenia                    0.028860\n",
       "Name: CountryHQ, Length: 62, dtype: float64"
      ]
     },
     "execution_count": 41,
     "metadata": {},
     "output_type": "execute_result"
    }
   ],
   "source": [
    "df_refinitiv_filtered_test.CountryHQ.value_counts()/len(df_refinitiv_filtered_test)*100"
   ]
  },
  {
   "cell_type": "code",
   "execution_count": 42,
   "metadata": {},
   "outputs": [
    {
     "data": {
      "text/plain": [
       "Real Estate Development              1.282051\n",
       "Construction Materials               1.282051\n",
       "Diversified Banks                    1.282051\n",
       "Electrical Components & Equipment    1.153846\n",
       "Multi-line Insurance                 1.153846\n",
       "                                       ...   \n",
       "Commercial Printing                  0.128205\n",
       "Housewares & Specialties             0.128205\n",
       "Security & Alarm Services            0.128205\n",
       "Technology Distributors              0.128205\n",
       "Specialized Consumer Services        0.128205\n",
       "Name: GICSName, Length: 155, dtype: float64"
      ]
     },
     "execution_count": 42,
     "metadata": {},
     "output_type": "execute_result"
    }
   ],
   "source": [
    "df_refinitiv_filtered_test.drop_duplicates(\"Name\").GICSName.value_counts() / len(df_refinitiv_filtered_test.drop_duplicates(\"Name\")) * 100\n",
    "# Less imbalanced repartition of sectors"
   ]
  },
  {
   "cell_type": "code",
   "execution_count": 43,
   "metadata": {},
   "outputs": [
    {
     "data": {
      "text/plain": [
       "Diversified Banks                   7.078853\n",
       "Packaged Foods & Meats              2.956989\n",
       "Construction & Engineering          2.553763\n",
       "Asset Management & Custody Banks    2.374552\n",
       "Industrial Machinery                2.374552\n",
       "                                      ...   \n",
       "Silver                              0.044803\n",
       "Hotel & Resort REITs                0.044803\n",
       "Mortgage REITs                      0.044803\n",
       "Housewares & Specialties            0.044803\n",
       "Security & Alarm Services           0.044803\n",
       "Name: GICSName, Length: 158, dtype: float64"
      ]
     },
     "execution_count": 43,
     "metadata": {},
     "output_type": "execute_result"
    }
   ],
   "source": [
    "df_refinitiv_filtered_train.drop_duplicates(\"Name\").GICSName.value_counts() / len(df_refinitiv_filtered_train.drop_duplicates(\"Name\")) * 100"
   ]
  },
  {
   "cell_type": "code",
   "execution_count": 47,
   "metadata": {},
   "outputs": [
    {
     "data": {
      "image/png": "[encoded data removed]",
      "text/plain": [
       "<Figure size 640x480 with 2 Axes>"
      ]
     },
     "metadata": {},
     "output_type": "display_data"
    }
   ],
   "source": [
    "_, axs = plt.subplots(1, 2)\n",
    "col = \"CF3\"\n",
    "axs[0].hist(np.log10(df_refinitiv_filtered_train[col] - df_refinitiv_filtered_train[col].min() + 1))\n",
    "axs[1].hist(np.log10(df_refinitiv_filtered_test[col]  - df_refinitiv_filtered_test[col].min() + 1))\n",
    "axs[0].set_xlabel(col + \" train\")\n",
    "axs[1].set_xlabel(col + \" test\")\n",
    "axs[0].vlines(np.mean(np.log10(df_refinitiv_filtered_train[col] - df_refinitiv_filtered_train[col].min() + 1)),0,3600, color=\"black\")\n",
    "axs[1].vlines(np.mean(np.log10(df_refinitiv_filtered_test[col] - df_refinitiv_filtered_test[col].min() + 1)),0,1000, color=\"black\")\n",
    "\n",
    "plt.show()"
   ]
  },
  {
   "cell_type": "code",
   "execution_count": 49,
   "metadata": {},
   "outputs": [
    {
     "data": {
      "text/plain": [
       "0.01    1.789628\n",
       "0.10    0.930674\n",
       "0.20    0.857556\n",
       "0.30    0.950458\n",
       "0.40    1.043119\n",
       "0.50    1.095929\n",
       "0.60    1.043813\n",
       "0.70    0.745753\n",
       "0.80    0.555530\n",
       "0.90    0.751068\n",
       "0.99    0.918715\n",
       "Name: CF3, dtype: float64"
      ]
     },
     "execution_count": 49,
     "metadata": {},
     "output_type": "execute_result"
    }
   ],
   "source": [
    "scope = \"CF3\"\n",
    "a = df_refinitiv_filtered_test[scope].quantile([0.01]+[i/10 for i in range(1,10)]+[0.99])\n",
    "b = df_refinitiv_filtered_train[scope].quantile([0.01]+[i/10 for i in range(1,10)]+[0.99])\n",
    "a/b"
   ]
  },
  {
   "cell_type": "code",
   "execution_count": 50,
   "metadata": {},
   "outputs": [],
   "source": [
    "df_refinitiv_filtered_test.Name.drop_duplicates().to_csv(\"lst_companies_test_GICS.csv\",index=False)"
   ]
  },
  {
   "cell_type": "code",
   "execution_count": 15,
   "metadata": {},
   "outputs": [],
   "source": []
  }
 ],
 "metadata": {
  "kernelspec": {
   "display_name": "Toy_project_mohamed-WRM7iGFq",
   "language": "python",
   "name": "python3"
  },
  "language_info": {
   "codemirror_mode": {
    "name": "ipython",
    "version": 3
   },
   "file_extension": ".py",
   "mimetype": "text/x-python",
   "name": "python",
   "nbconvert_exporter": "python",
   "pygments_lexer": "ipython3",
   "version": "3.9.13"
  },
  "orig_nbformat": 4,
  "vscode": {
   "interpreter": {
    "hash": "e5804064e154bb9b061cd7fd0f83281b098d9543a7756d48d130cd8f20723185"
   }
  }
 },
 "nbformat": 4,
 "nbformat_minor": 2
}
