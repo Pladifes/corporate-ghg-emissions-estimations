{
 "cells": [
  {
   "cell_type": "code",
   "execution_count": 1,
   "metadata": {},
   "outputs": [],
   "source": [
    "import warnings\n",
    "import pandas as pd\n",
    "import numpy as np\n",
    "import matplotlib.pyplot as plt\n",
    "\n",
    "pd.set_option('display.max_columns', 50)\n",
    "warnings.filterwarnings(\"ignore\")"
   ]
  },
  {
   "cell_type": "markdown",
   "metadata": {},
   "source": [
    "# Eligible companies set creation"
   ]
  },
  {
   "cell_type": "code",
   "execution_count": 2,
   "metadata": {},
   "outputs": [],
   "source": [
    "FillList = [\n",
    "    # \"revenue\",\n",
    "    \"employees\",\n",
    "    \"asset\",\n",
    "    \"nppe\",\n",
    "    \"intan\",\n",
    "    \"capex\",\n",
    "    \"age\",\n",
    "    \"cap_inten\",\n",
    "    \"gmar\",\n",
    "    \"leverage\",\n",
    "    \"energy_consumed\",\n",
    "    \"energy_produced\",\n",
    "    \"lt_debt\",\n",
    "    \"gppe\",\n",
    "    \"accu_dep\",\n",
    "    \"cogs\",\n",
    "    \"ebit\",\n",
    "    \"ebitda\",\n",
    "]\n",
    "\n",
    "LogList = [\n",
    "    \"revenue\",\n",
    "    \"capex\",\n",
    "    \"gppe\",\n",
    "    \"nppe\",\n",
    "    \"accu_dep\",\n",
    "    \"intan\",\n",
    "    \"cogs\",\n",
    "    \"employees\",\n",
    "    \"asset\",\n",
    "    \"lt_debt\",\n",
    "    \"cf1\",\n",
    "    \"cf2\",\n",
    "    \"cf3\",\n",
    "    \"cf123\",\n",
    "    \"energy_consumed\",\n",
    "    \"energy_produced\",\n",
    "    \"ebit\",\n",
    "    \"ebitda\",\n",
    "]"
   ]
  },
  {
   "cell_type": "code",
   "execution_count": 3,
   "metadata": {},
   "outputs": [],
   "source": [
    "sector_classification = \"gics_name\" # \"NAICSInd\""
   ]
  },
  {
   "cell_type": "code",
   "execution_count": 4,
   "metadata": {},
   "outputs": [
    {
     "name": "stdout",
     "output_type": "stream",
     "text": [
      "(596977, 56)\n"
     ]
    },
    {
     "data": {
      "text/plain": [
       "Index(['company_id', 'company_name', 'isin', 'ticker', 'country_hq',\n",
       "       'gics_sector', 'gics_group', 'gics_ind', 'gics_sub_ind', 'gics_name',\n",
       "       'fiscal_year', 'ref_cf1', 'ref_cf2', 'ref_cf3', 'ref_cf123', 'revenue',\n",
       "       'ebitda', 'ebit', 'capex', 'gppe', 'nppe', 'accu_dep', 'intan', 'cogs',\n",
       "       'gmar', 'asset', 'lt_debt', 'employees', 'energy_produced',\n",
       "       'energy_consumed', 'cdp_cf1', 'cdp_cf2_location', 'cdp_cf2_market',\n",
       "       'cdp_cf3', 'cdp_cf123', 'boundary', 'covered_countries', 'cf1', 'cf2',\n",
       "       'cf3', 'cf123', 'co2_law', 'co2_scheme', 'co2_status', 'co2_coverage',\n",
       "       'start_year', 'status', 'price', 'area', 'year', 'fuel_intensity',\n",
       "       'income_group', 'region', 'age', 'cap_inten', 'leverage'],\n",
       "      dtype='object')"
      ]
     },
     "execution_count": 4,
     "metadata": {},
     "output_type": "execute_result"
    }
   ],
   "source": [
    "df_refinitiv = pd.read_parquet(\"../data/raw_data/CGEE_preprocessed_dataset_2023.parquet\")\n",
    "print(df_refinitiv.shape)\n",
    "df_refinitiv.columns"
   ]
  },
  {
   "cell_type": "code",
   "execution_count": 5,
   "metadata": {},
   "outputs": [],
   "source": [
    "df_refinitiv_filtered_soft = df_refinitiv[(df_refinitiv.cf1>0) | (df_refinitiv.cf2>0) | (df_refinitiv.cf3>0)]"
   ]
  },
  {
   "cell_type": "code",
   "execution_count": 6,
   "metadata": {},
   "outputs": [
    {
     "data": {
      "text/plain": [
       "(19010, 57)"
      ]
     },
     "execution_count": 6,
     "metadata": {},
     "output_type": "execute_result"
    }
   ],
   "source": [
    "np.random.seed = 1\n",
    "seed = 1\n",
    "df_refinitiv_filtered = df_refinitiv[df_refinitiv.fiscal_year>2010]\n",
    "df_refinitiv_filtered = df_refinitiv_filtered[df_refinitiv_filtered[sector_classification].notna()]\n",
    "df_refinitiv_filtered = df_refinitiv_filtered[(df_refinitiv_filtered.cf1>0) & (df_refinitiv_filtered.cf2>0) & (df_refinitiv_filtered.cf3>0)]\n",
    "df_refinitiv_filtered[\"country_sector\"] = df_refinitiv_filtered[\"country_hq\"].astype(str) + \"_\" + df_refinitiv_filtered[sector_classification].astype(str)\n",
    "\n",
    "df_refinitiv_filtered.shape"
   ]
  },
  {
   "cell_type": "markdown",
   "metadata": {},
   "source": [
    "# Test company selection"
   ]
  },
  {
   "cell_type": "code",
   "execution_count": 7,
   "metadata": {},
   "outputs": [
    {
     "data": {
      "text/plain": [
       "Japan_Automotive Parts & Equipment                    27\n",
       "United States of America_Application Software         27\n",
       "United Kingdom_Asset Management & Custody Banks       27\n",
       "Taiwan_Semiconductors                                 22\n",
       "Japan_Industrial Machinery & Supplies & Components    21\n",
       "                                                      ..\n",
       "Nigeria_Oil & Gas Exploration & Production             1\n",
       "Turkey_Specialty Chemicals                             1\n",
       "Chile_Marine Ports & Services                          1\n",
       "United States of America_Diversified REITs             1\n",
       "Finland_Interactive Home Entertainment                 1\n",
       "Name: country_sector, Length: 1765, dtype: int64"
      ]
     },
     "execution_count": 7,
     "metadata": {},
     "output_type": "execute_result"
    }
   ],
   "source": [
    "df_refinitiv_filtered.drop_duplicates(\"company_id\")[\"country_sector\"].value_counts()\n",
    "# shape : 19010, 1765 combinations availables (among 75 x 162 = 12150 possible)"
   ]
  },
  {
   "cell_type": "code",
   "execution_count": 8,
   "metadata": {},
   "outputs": [
    {
     "data": {
      "text/plain": [
       "1765"
      ]
     },
     "execution_count": 8,
     "metadata": {},
     "output_type": "execute_result"
    }
   ],
   "source": [
    "count_country_sector = df_refinitiv_filtered[\"country_sector\"].value_counts()\n",
    "df_refinitiv_filtered_shuffled = df_refinitiv_filtered.sample(frac=1, random_state=seed)\n",
    "lst_companies = []\n",
    "for combi in count_country_sector.index : \n",
    "    companies_temp = df_refinitiv_filtered_shuffled[df_refinitiv_filtered_shuffled.country_sector==combi].company_id.unique().tolist()\n",
    "    lst_companies+=companies_temp[:1]\n",
    "    # if len(companies_temp) > 1 : \n",
    "    #     lst_companies.append(companies_temp[1])\n",
    "len(lst_companies)\n",
    "# 1 : 1765 2 : 2516 4 : 3179 10 : 3770"
   ]
  },
  {
   "cell_type": "code",
   "execution_count": 9,
   "metadata": {},
   "outputs": [
    {
     "name": "stdout",
     "output_type": "stream",
     "text": [
      "Nb : observations :  9149\n",
      "Nb : companies :  1765\n"
     ]
    }
   ],
   "source": [
    "df_refinitiv_filtered_test = df_refinitiv_filtered[df_refinitiv_filtered.company_id.isin(lst_companies)]\n",
    "print(\"Nb : observations : \", df_refinitiv_filtered_test.shape[0])\n",
    "print(\"Nb : companies : \", df_refinitiv_filtered_test.drop_duplicates(\"company_id\").shape[0])"
   ]
  },
  {
   "cell_type": "markdown",
   "metadata": {},
   "source": [
    "# Exploration of test set"
   ]
  },
  {
   "cell_type": "code",
   "execution_count": 10,
   "metadata": {},
   "outputs": [],
   "source": [
    "df_refinitiv_filtered_train = df_refinitiv_filtered[~df_refinitiv_filtered.company_id.isin(lst_companies)]"
   ]
  },
  {
   "cell_type": "code",
   "execution_count": 11,
   "metadata": {},
   "outputs": [
    {
     "name": "stdout",
     "output_type": "stream",
     "text": [
      "percent_data_taken (companies scope 1&2&3):  0.481273014203051  %\n",
      "percent_company_taken (companies scope 1&2&3):  0.4453696694423417  %\n",
      "percent_data_taken (companies scope 1 or 2 or 3):  0.25666273915726867  %\n",
      "percent_company_taken (companies scope 1 or 2 or 3):  0.27267109531901745  %\n"
     ]
    }
   ],
   "source": [
    "percent_data_taken =  (df_refinitiv_filtered_test.shape[0]) / df_refinitiv_filtered.shape[0]\n",
    "percent_comapny_taken =  (df_refinitiv_filtered_test.drop_duplicates(\"company_id\").shape[0]) / df_refinitiv_filtered.drop_duplicates(\"company_id\").shape[0]\n",
    "print(\"percent_data_taken (companies scope 1&2&3): \", percent_data_taken, \" %\")\n",
    "print(\"percent_company_taken (companies scope 1&2&3): \", percent_comapny_taken, \" %\")\n",
    "\n",
    "percent_data_taken =  (df_refinitiv_filtered_test.shape[0]) / df_refinitiv_filtered_soft.shape[0]\n",
    "percent_comapny_taken =  (df_refinitiv_filtered_test.drop_duplicates(\"company_id\").shape[0]) / df_refinitiv_filtered_soft.drop_duplicates(\"company_id\").shape[0]\n",
    "print(\"percent_data_taken (companies scope 1 or 2 or 3): \", percent_data_taken, \" %\")\n",
    "print(\"percent_company_taken (companies scope 1 or 2 or 3): \", percent_comapny_taken, \" %\")"
   ]
  },
  {
   "cell_type": "code",
   "execution_count": 12,
   "metadata": {},
   "outputs": [
    {
     "name": "stdout",
     "output_type": "stream",
     "text": [
      "shape\n",
      "cf1 0.2668\n",
      "cf2 0.2750\n",
      "cf3 0.4235\n",
      "cf123 0.4509\n",
      "\n",
      "\n",
      "nb_company\n",
      "cf1 0.2807\n",
      "cf2 0.2865\n",
      "cf3 0.4245\n",
      "cf123 0.4444\n"
     ]
    }
   ],
   "source": [
    "print(\"shape\")\n",
    "scope = \"cf1\"\n",
    "print(scope, \"%.4f\" % (len(df_refinitiv_filtered_test[df_refinitiv_filtered_test[scope].notna()]) / len(df_refinitiv_filtered_soft[df_refinitiv_filtered_soft[scope].notna()]))) \n",
    "scope = \"cf2\"\n",
    "print(scope, \"%.4f\" % (len(df_refinitiv_filtered_test[df_refinitiv_filtered_test[scope].notna()]) / len(df_refinitiv_filtered_soft[df_refinitiv_filtered_soft[scope].notna()]))) \n",
    "scope = \"cf3\"\n",
    "print(scope, \"%.4f\" % (len(df_refinitiv_filtered_test[df_refinitiv_filtered_test[scope].notna()]) / len(df_refinitiv_filtered_soft[df_refinitiv_filtered_soft[scope].notna()]))) \n",
    "scope = \"cf123\"\n",
    "print(scope, \"%.4f\" % (len(df_refinitiv_filtered_test[df_refinitiv_filtered_test[scope].notna()]) / len(df_refinitiv_filtered_soft[df_refinitiv_filtered_soft[scope].notna()]))) \n",
    "print(\"\\n\")\n",
    "print(\"nb_company\")\n",
    "scope = \"cf1\"\n",
    "print(scope, \"%.4f\" % (df_refinitiv_filtered_test[df_refinitiv_filtered_test[scope].notna()].company_id.nunique() / df_refinitiv_filtered_soft[df_refinitiv_filtered_soft[scope].notna()].company_id.nunique()))\n",
    "scope = \"cf2\"\n",
    "print(scope, \"%.4f\" % (df_refinitiv_filtered_test[df_refinitiv_filtered_test[scope].notna()].company_id.nunique() / df_refinitiv_filtered_soft[df_refinitiv_filtered_soft[scope].notna()].company_id.nunique())) \n",
    "scope = \"cf3\"\n",
    "print(scope, \"%.4f\" % (df_refinitiv_filtered_test[df_refinitiv_filtered_test[scope].notna()].company_id.nunique() / df_refinitiv_filtered_soft[df_refinitiv_filtered_soft[scope].notna()].company_id.nunique()))\n",
    "scope = \"cf123\"\n",
    "print(scope, \"%.4f\" % (df_refinitiv_filtered_test[df_refinitiv_filtered_test[scope].notna()].company_id.nunique() / df_refinitiv_filtered_soft[df_refinitiv_filtered_soft[scope].notna()].company_id.nunique())) \n"
   ]
  },
  {
   "cell_type": "code",
   "execution_count": 13,
   "metadata": {},
   "outputs": [
    {
     "name": "stdout",
     "output_type": "stream",
     "text": [
      "Columns for which the min is in test : \n"
     ]
    },
    {
     "data": {
      "text/plain": [
       "revenue      False\n",
       "capex        False\n",
       "gppe         False\n",
       "nppe          True\n",
       "accu_dep      True\n",
       "intan        False\n",
       "cogs          True\n",
       "employees    False\n",
       "asset         True\n",
       "lt_debt      False\n",
       "cf1          False\n",
       "dtype: bool"
      ]
     },
     "execution_count": 13,
     "metadata": {},
     "output_type": "execute_result"
    }
   ],
   "source": [
    "print(\"Columns for which the min is in test : \") \n",
    "(df_refinitiv_filtered_train[LogList[:-7]].min() > df_refinitiv_filtered_test[LogList[:-7]].min()) \n",
    "# some min in test, unoptimal but manageable\n"
   ]
  },
  {
   "cell_type": "code",
   "execution_count": 14,
   "metadata": {},
   "outputs": [
    {
     "data": {
      "text/plain": [
       "employees          1.188325\n",
       "asset              1.103481\n",
       "nppe               1.177557\n",
       "intan              1.828913\n",
       "capex              1.139029\n",
       "age                0.980131\n",
       "cap_inten          0.767292\n",
       "gmar               1.036681\n",
       "leverage           1.023258\n",
       "energy_consumed    1.104018\n",
       "energy_produced    0.955533\n",
       "lt_debt            0.942338\n",
       "gppe               1.244858\n",
       "accu_dep           1.295935\n",
       "cogs               1.061758\n",
       "ebit               0.965534\n",
       "ebitda             1.039331\n",
       "dtype: float64"
      ]
     },
     "execution_count": 14,
     "metadata": {},
     "output_type": "execute_result"
    }
   ],
   "source": [
    "df_refinitiv_filtered_test[FillList].mean()/df_refinitiv_filtered_train[FillList].mean() \n",
    "# no significant impact on financial indicators"
   ]
  },
  {
   "cell_type": "code",
   "execution_count": 15,
   "metadata": {},
   "outputs": [
    {
     "data": {
      "image/png": "[encoded data removed]",
      "text/plain": [
       "<Figure size 640x480 with 2 Axes>"
      ]
     },
     "metadata": {},
     "output_type": "display_data"
    }
   ],
   "source": [
    "_, axs = plt.subplots(1, 2)\n",
    "axs[0].hist(np.log10(df_refinitiv_filtered_train.revenue - df_refinitiv_filtered_train.revenue.min() + 1))\n",
    "axs[1].hist(np.log10(df_refinitiv_filtered_test.revenue - df_refinitiv_filtered_test.revenue.min() + 1))\n",
    "plt.show()"
   ]
  },
  {
   "cell_type": "code",
   "execution_count": 16,
   "metadata": {},
   "outputs": [
    {
     "data": {
      "text/plain": [
       "Europe and Central Asia          37.042644\n",
       "East Asia and Pacific            30.381024\n",
       "North America                    21.826899\n",
       "Latin America & the Caribbean     4.642947\n",
       "South Asia                        2.977542\n",
       "Sub-Saharan Africa                2.245773\n",
       "Middle East and North Africa      0.883169\n",
       "Name: region, dtype: float64"
      ]
     },
     "execution_count": 16,
     "metadata": {},
     "output_type": "execute_result"
    }
   ],
   "source": [
    "df_refinitiv_filtered.drop_duplicates(\"company_id\").region.value_counts() / len(df_refinitiv_filtered.drop_duplicates(\"company_id\")) * 100"
   ]
  },
  {
   "cell_type": "code",
   "execution_count": 17,
   "metadata": {},
   "outputs": [
    {
     "data": {
      "text/plain": [
       "Europe and Central Asia          44.532578\n",
       "East Asia and Pacific            28.441926\n",
       "North America                    12.011331\n",
       "Latin America & the Caribbean     7.535411\n",
       "South Asia                        2.946176\n",
       "Sub-Saharan Africa                2.719547\n",
       "Middle East and North Africa      1.813031\n",
       "Name: region, dtype: float64"
      ]
     },
     "execution_count": 17,
     "metadata": {},
     "output_type": "execute_result"
    }
   ],
   "source": [
    "df_refinitiv_filtered_test.drop_duplicates(\"company_id\").region.value_counts() / len(df_refinitiv_filtered_test.drop_duplicates(\"company_id\")) * 100\n",
    "# lower importance of north america and more of others"
   ]
  },
  {
   "cell_type": "code",
   "execution_count": 18,
   "metadata": {},
   "outputs": [
    {
     "data": {
      "text/plain": [
       "East Asia and Pacific            31.938126\n",
       "Europe and Central Asia          31.028207\n",
       "North America                    29.708826\n",
       "South Asia                        3.002730\n",
       "Latin America & the Caribbean     2.320291\n",
       "Sub-Saharan Africa                1.865332\n",
       "Middle East and North Africa      0.136488\n",
       "Name: region, dtype: float64"
      ]
     },
     "execution_count": 18,
     "metadata": {},
     "output_type": "execute_result"
    }
   ],
   "source": [
    "df_refinitiv_filtered_train.drop_duplicates(\"company_id\").region.value_counts() / len(df_refinitiv_filtered_train.drop_duplicates(\"company_id\")) * 100"
   ]
  },
  {
   "cell_type": "code",
   "execution_count": 19,
   "metadata": {},
   "outputs": [
    {
     "data": {
      "text/plain": [
       "United States of America    19.579169\n",
       "Japan                       11.588638\n",
       "United Kingdom              10.941610\n",
       "France                       4.229353\n",
       "Germany                      3.924250\n",
       "                              ...    \n",
       "Estonia                      0.010521\n",
       "Bahrain                      0.010521\n",
       "Uganda                       0.005260\n",
       "Vietnam                      0.005260\n",
       "Cambodia                     0.005260\n",
       "Name: country_hq, Length: 75, dtype: float64"
      ]
     },
     "execution_count": 19,
     "metadata": {},
     "output_type": "execute_result"
    }
   ],
   "source": [
    "df_refinitiv_filtered.country_hq.value_counts()/len(df_refinitiv_filtered)*100\n",
    "# 40% of data are from only 3 countries! "
   ]
  },
  {
   "cell_type": "code",
   "execution_count": 20,
   "metadata": {},
   "outputs": [
    {
     "data": {
      "text/plain": [
       "United States of America      28.668492\n",
       "Japan                         16.458777\n",
       "United Kingdom                13.010851\n",
       "Canada                         3.387080\n",
       "Sweden                         3.366798\n",
       "South Africa                   3.336376\n",
       "Germany                        3.224825\n",
       "France                         2.869891\n",
       "India                          2.545381\n",
       "Taiwan                         2.474394\n",
       "Australia                      2.403407\n",
       "Korea; Republic (S. Korea)     2.362844\n",
       "Switzerland                    1.794950\n",
       "Brazil                         1.663117\n",
       "China                          1.358889\n",
       "Netherlands                    1.095224\n",
       "Norway                         1.095224\n",
       "Spain                          0.993814\n",
       "Thailand                       0.963391\n",
       "Italy                          0.943109\n",
       "Hong Kong                      0.861982\n",
       "Finland                        0.811277\n",
       "Malaysia                       0.699726\n",
       "Ireland; Republic of           0.476625\n",
       "New Zealand                    0.415779\n",
       "Turkey                         0.395497\n",
       "Denmark                        0.385356\n",
       "Bermuda                        0.253524\n",
       "Russia                         0.243383\n",
       "Mexico                         0.233242\n",
       "Philippines                    0.212960\n",
       "Austria                        0.172396\n",
       "Portugal                       0.162255\n",
       "Peru                           0.121692\n",
       "Colombia                       0.121692\n",
       "Luxembourg                     0.111551\n",
       "Belgium                        0.081128\n",
       "Guernsey                       0.050705\n",
       "United Arab Emirates           0.050705\n",
       "Singapore                      0.040564\n",
       "Chile                          0.030423\n",
       "Isle of Man                    0.020282\n",
       "Indonesia                      0.020282\n",
       "Poland                         0.010141\n",
       "Name: country_hq, dtype: float64"
      ]
     },
     "execution_count": 20,
     "metadata": {},
     "output_type": "execute_result"
    }
   ],
   "source": [
    "df_refinitiv_filtered_train.country_hq.value_counts()/len(df_refinitiv_filtered_train)*100"
   ]
  },
  {
   "cell_type": "code",
   "execution_count": 21,
   "metadata": {},
   "outputs": [
    {
     "data": {
      "text/plain": [
       "United States of America    9.782490\n",
       "United Kingdom              8.711335\n",
       "Japan                       6.339491\n",
       "France                      5.694611\n",
       "Germany                     4.678107\n",
       "                              ...   \n",
       "Ukraine                     0.021860\n",
       "Estonia                     0.021860\n",
       "Uganda                      0.010930\n",
       "Vietnam                     0.010930\n",
       "Cambodia                    0.010930\n",
       "Name: country_hq, Length: 75, dtype: float64"
      ]
     },
     "execution_count": 21,
     "metadata": {},
     "output_type": "execute_result"
    }
   ],
   "source": [
    "(df_refinitiv_filtered_test.country_hq.value_counts()/len(df_refinitiv_filtered_test)*100) \n",
    "# Less imbalanced repartition of countries"
   ]
  },
  {
   "cell_type": "code",
   "execution_count": 22,
   "metadata": {},
   "outputs": [
    {
     "data": {
      "text/plain": [
       "Packaged Foods & Meats                          3.730664\n",
       "Industrial Machinery & Supplies & Components    3.321201\n",
       "Construction & Engineering                      3.275705\n",
       "Automotive Parts & Equipment                    2.684258\n",
       "IT Consulting & Other Services                  2.456779\n",
       "                                                  ...   \n",
       "Education Services                              0.045496\n",
       "Leisure Facilities                              0.045496\n",
       "Telecom Tower REITs                             0.045496\n",
       "Data Center REITs                               0.045496\n",
       "Security & Alarm Services                       0.045496\n",
       "Name: gics_name, Length: 154, dtype: Float64"
      ]
     },
     "execution_count": 22,
     "metadata": {},
     "output_type": "execute_result"
    }
   ],
   "source": [
    "df_refinitiv_filtered_train.drop_duplicates(\"company_id\").gics_name.value_counts() / len(df_refinitiv_filtered_train.drop_duplicates(\"company_id\")) * 100"
   ]
  },
  {
   "cell_type": "code",
   "execution_count": 23,
   "metadata": {},
   "outputs": [
    {
     "data": {
      "text/plain": [
       "Integrated Telecommunication Services    2.096317\n",
       "Packaged Foods & Meats                   1.983003\n",
       "Electric Utilities                       1.756374\n",
       "Construction & Engineering               1.643059\n",
       "Commodity Chemicals                      1.359773\n",
       "                                           ...   \n",
       "Single-Family Residential REITs          0.056657\n",
       "Telecom Tower REITs                      0.056657\n",
       "Other Specialized REITs                  0.056657\n",
       "Silver                                   0.056657\n",
       "Mortgage REITs                           0.056657\n",
       "Name: gics_name, Length: 162, dtype: Float64"
      ]
     },
     "execution_count": 23,
     "metadata": {},
     "output_type": "execute_result"
    }
   ],
   "source": [
    "df_refinitiv_filtered_test.drop_duplicates(\"company_id\").gics_name.value_counts() / len(df_refinitiv_filtered_test.drop_duplicates(\"company_id\")) * 100\n",
    "# Less imbalanced repartition of sectors"
   ]
  },
  {
   "cell_type": "code",
   "execution_count": 24,
   "metadata": {},
   "outputs": [
    {
     "data": {
      "image/png": "[encoded data removed]",
      "text/plain": [
       "<Figure size 640x480 with 2 Axes>"
      ]
     },
     "metadata": {},
     "output_type": "display_data"
    }
   ],
   "source": [
    "_, axs = plt.subplots(1, 2)\n",
    "col = \"cf123\"\n",
    "axs[0].hist(np.log10(df_refinitiv_filtered_train[col] - df_refinitiv_filtered_train[col].min() + 1))\n",
    "axs[1].hist(np.log10(df_refinitiv_filtered_test[col]  - df_refinitiv_filtered_test[col].min() + 1))\n",
    "axs[0].set_xlabel(col + \" train\")\n",
    "axs[1].set_xlabel(col + \" test\")\n",
    "axs[0].vlines(np.mean(np.log10(df_refinitiv_filtered_train[col] - df_refinitiv_filtered_train[col].min() + 1)),0,3600, color=\"black\")\n",
    "axs[1].vlines(np.mean(np.log10(df_refinitiv_filtered_test[col] - df_refinitiv_filtered_test[col].min() + 1)),0,2900, color=\"black\")\n",
    "\n",
    "plt.show()"
   ]
  },
  {
   "cell_type": "code",
   "execution_count": 25,
   "metadata": {},
   "outputs": [
    {
     "data": {
      "text/plain": [
       "0.01    1.322533\n",
       "0.10    0.862080\n",
       "0.20    0.901230\n",
       "0.30    0.905673\n",
       "0.40    0.828178\n",
       "0.50    0.725084\n",
       "0.60    0.713326\n",
       "0.70    0.711166\n",
       "0.80    0.858444\n",
       "0.90    0.985464\n",
       "0.99    1.264953\n",
       "Name: cf3, dtype: float64"
      ]
     },
     "execution_count": 25,
     "metadata": {},
     "output_type": "execute_result"
    }
   ],
   "source": [
    "scope = \"cf3\"\n",
    "a = df_refinitiv_filtered_test[scope].quantile([0.01]+[i/10 for i in range(1,10)]+[0.99])\n",
    "b = df_refinitiv_filtered_train[scope].quantile([0.01]+[i/10 for i in range(1,10)]+[0.99])\n",
    "a/b"
   ]
  },
  {
   "cell_type": "markdown",
   "metadata": {},
   "source": [
    "# Save the test companies"
   ]
  },
  {
   "cell_type": "code",
   "execution_count": 26,
   "metadata": {},
   "outputs": [],
   "source": [
    "df_refinitiv_filtered_test.company_name.drop_duplicates().to_csv(\"lst_companies_test.csv\",index=False)"
   ]
  }
 ],
 "metadata": {
  "kernelspec": {
   "display_name": "Toy_project_mohamed-WRM7iGFq",
   "language": "python",
   "name": "python3"
  },
  "language_info": {
   "codemirror_mode": {
    "name": "ipython",
    "version": 3
   },
   "file_extension": ".py",
   "mimetype": "text/x-python",
   "name": "python",
   "nbconvert_exporter": "python",
   "pygments_lexer": "ipython3",
   "version": "3.9.13"
  },
  "orig_nbformat": 4,
  "vscode": {
   "interpreter": {
    "hash": "e5804064e154bb9b061cd7fd0f83281b098d9543a7756d48d130cd8f20723185"
   }
  }
 },
 "nbformat": 4,
 "nbformat_minor": 2
}
