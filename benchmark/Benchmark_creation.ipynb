{
 "cells": [
  {
   "cell_type": "code",
   "execution_count": 2,
   "metadata": {},
   "outputs": [],
   "source": [
    "import warnings\n",
    "import pandas as pd\n",
    "import numpy as np\n",
    "import random as rd\n",
    "import matplotlib.pyplot as plt\n",
    "from tqdm import tqdm \n",
    "\n",
    "# from pandas_profilinag import ProfileReport\n",
    "\n",
    "pd.set_option('display.max_columns', 50)\n",
    "warnings.filterwarnings(\"ignore\")"
   ]
  },
  {
   "cell_type": "code",
   "execution_count": 3,
   "metadata": {},
   "outputs": [],
   "source": [
    "FillList = [\n",
    "    # \"Revenue\",\n",
    "    \"EMP\",\n",
    "    \"Asset\",\n",
    "    \"NPPE\",\n",
    "    \"INTAN\",\n",
    "    \"CapEx\",\n",
    "    \"Age\",\n",
    "    \"CapInten\",\n",
    "    \"GMAR\",\n",
    "    \"Leverage\",\n",
    "    \"ENEConsume\",\n",
    "    \"ENEProduce\",\n",
    "    \"LTDebt\",\n",
    "    \"GPPE\",\n",
    "    \"AccuDep\",\n",
    "    \"COGS\",\n",
    "    \"EBIT\",\n",
    "    \"EBITDA\",\n",
    "]\n",
    "\n",
    "LogList = [\n",
    "    \"Revenue\",\n",
    "    \"CapEx\",\n",
    "    \"GPPE\",\n",
    "    \"NPPE\",\n",
    "    \"AccuDep\",\n",
    "    \"INTAN\",\n",
    "    \"COGS\",\n",
    "    \"EMP\",\n",
    "    \"Asset\",\n",
    "    \"LTDebt\",\n",
    "    \"CF1_merge\",\n",
    "    \"CF2_merge\",\n",
    "    \"CF3_merge\",\n",
    "    \"CF123_merge\",\n",
    "    \"ENEConsume\",\n",
    "    \"ENEProduce\",\n",
    "    \"EBIT\",\n",
    "    \"EBITDA\",\n",
    "]"
   ]
  },
  {
   "cell_type": "code",
   "execution_count": 4,
   "metadata": {},
   "outputs": [],
   "source": [
    "sector_classification = \"GICSName\" # \"NAICSInd\""
   ]
  },
  {
   "cell_type": "code",
   "execution_count": 5,
   "metadata": {},
   "outputs": [
    {
     "name": "stdout",
     "output_type": "stream",
     "text": [
      "(596977, 67)\n"
     ]
    },
    {
     "data": {
      "text/html": [
       "<div>\n",
       "<style scoped>\n",
       "    .dataframe tbody tr th:only-of-type {\n",
       "        vertical-align: middle;\n",
       "    }\n",
       "\n",
       "    .dataframe tbody tr th {\n",
       "        vertical-align: top;\n",
       "    }\n",
       "\n",
       "    .dataframe thead th {\n",
       "        text-align: right;\n",
       "    }\n",
       "</style>\n",
       "<table border=\"1\" class=\"dataframe\">\n",
       "  <thead>\n",
       "    <tr style=\"text-align: right;\">\n",
       "      <th></th>\n",
       "      <th>FinalEikonID</th>\n",
       "      <th>Name</th>\n",
       "      <th>ISIN</th>\n",
       "      <th>Ticker</th>\n",
       "      <th>CountryHQ</th>\n",
       "      <th>NAICSSector</th>\n",
       "      <th>NAICSInd</th>\n",
       "      <th>GICSSector</th>\n",
       "      <th>GICSGroup</th>\n",
       "      <th>GICSInd</th>\n",
       "      <th>GICSSubInd</th>\n",
       "      <th>GICSName</th>\n",
       "      <th>FiscalYear</th>\n",
       "      <th>ref_CF1</th>\n",
       "      <th>ref_CF2</th>\n",
       "      <th>ref_CF3</th>\n",
       "      <th>ref_CF123</th>\n",
       "      <th>Revenue</th>\n",
       "      <th>EBITDA</th>\n",
       "      <th>EBIT</th>\n",
       "      <th>CapEx</th>\n",
       "      <th>GPPE</th>\n",
       "      <th>NPPE</th>\n",
       "      <th>AccuDep</th>\n",
       "      <th>INTAN</th>\n",
       "      <th>...</th>\n",
       "      <th>CO2Law</th>\n",
       "      <th>CO2Scheme</th>\n",
       "      <th>CO2Status</th>\n",
       "      <th>CO2Coverage</th>\n",
       "      <th>StartYear</th>\n",
       "      <th>Status</th>\n",
       "      <th>Price</th>\n",
       "      <th>Area</th>\n",
       "      <th>Year</th>\n",
       "      <th>FuelIntensity</th>\n",
       "      <th>IncomeGroup</th>\n",
       "      <th>CDP_CF1</th>\n",
       "      <th>CDP_CF2_location</th>\n",
       "      <th>CDP_CF2_market</th>\n",
       "      <th>CDP_CF3</th>\n",
       "      <th>CDP_CF123</th>\n",
       "      <th>boundary</th>\n",
       "      <th>covered_countries</th>\n",
       "      <th>Age</th>\n",
       "      <th>CapInten</th>\n",
       "      <th>Leverage</th>\n",
       "      <th>CF1_merge</th>\n",
       "      <th>CF2_merge</th>\n",
       "      <th>CF3_merge</th>\n",
       "      <th>CF123_merge</th>\n",
       "    </tr>\n",
       "  </thead>\n",
       "  <tbody>\n",
       "    <tr>\n",
       "      <th>0</th>\n",
       "      <td>AIAS.CY</td>\n",
       "      <td>Aias Investment Public Ltd</td>\n",
       "      <td>CY0005200213</td>\n",
       "      <td>AIAS</td>\n",
       "      <td>Cyprus</td>\n",
       "      <td>52</td>\n",
       "      <td>525990</td>\n",
       "      <td>40.0</td>\n",
       "      <td>4020.0</td>\n",
       "      <td>402030.0</td>\n",
       "      <td>40203010.0</td>\n",
       "      <td>Asset Management &amp; Custody Banks</td>\n",
       "      <td>2018</td>\n",
       "      <td>NaN</td>\n",
       "      <td>NaN</td>\n",
       "      <td>NaN</td>\n",
       "      <td>NaN</td>\n",
       "      <td>89721.534086</td>\n",
       "      <td>-30576.199651</td>\n",
       "      <td>-54179.282503</td>\n",
       "      <td>NaN</td>\n",
       "      <td>NaN</td>\n",
       "      <td>NaN</td>\n",
       "      <td>NaN</td>\n",
       "      <td>9496.284063</td>\n",
       "      <td>...</td>\n",
       "      <td>Yes</td>\n",
       "      <td>ETS</td>\n",
       "      <td>Implemented</td>\n",
       "      <td>Regional</td>\n",
       "      <td>2005.0</td>\n",
       "      <td>Yes</td>\n",
       "      <td>NaN</td>\n",
       "      <td>Cyprus</td>\n",
       "      <td>2018.0</td>\n",
       "      <td>638.34</td>\n",
       "      <td>H</td>\n",
       "      <td>NaN</td>\n",
       "      <td>NaN</td>\n",
       "      <td>NaN</td>\n",
       "      <td>NaN</td>\n",
       "      <td>NaN</td>\n",
       "      <td>None</td>\n",
       "      <td>None</td>\n",
       "      <td>NaN</td>\n",
       "      <td>NaN</td>\n",
       "      <td>0.0</td>\n",
       "      <td>NaN</td>\n",
       "      <td>NaN</td>\n",
       "      <td>NaN</td>\n",
       "      <td>NaN</td>\n",
       "    </tr>\n",
       "    <tr>\n",
       "      <th>1</th>\n",
       "      <td>AIAS.CY</td>\n",
       "      <td>Aias Investment Public Ltd</td>\n",
       "      <td>CY0005200213</td>\n",
       "      <td>AIAS</td>\n",
       "      <td>Cyprus</td>\n",
       "      <td>52</td>\n",
       "      <td>525990</td>\n",
       "      <td>40.0</td>\n",
       "      <td>4020.0</td>\n",
       "      <td>402030.0</td>\n",
       "      <td>40203010.0</td>\n",
       "      <td>Asset Management &amp; Custody Banks</td>\n",
       "      <td>2016</td>\n",
       "      <td>NaN</td>\n",
       "      <td>NaN</td>\n",
       "      <td>NaN</td>\n",
       "      <td>NaN</td>\n",
       "      <td>168523.969722</td>\n",
       "      <td>77270.815812</td>\n",
       "      <td>68566.021867</td>\n",
       "      <td>NaN</td>\n",
       "      <td>NaN</td>\n",
       "      <td>NaN</td>\n",
       "      <td>NaN</td>\n",
       "      <td>NaN</td>\n",
       "      <td>...</td>\n",
       "      <td>Yes</td>\n",
       "      <td>ETS</td>\n",
       "      <td>Implemented</td>\n",
       "      <td>Regional</td>\n",
       "      <td>2005.0</td>\n",
       "      <td>Yes</td>\n",
       "      <td>NaN</td>\n",
       "      <td>Cyprus</td>\n",
       "      <td>2016.0</td>\n",
       "      <td>642.13</td>\n",
       "      <td>H</td>\n",
       "      <td>NaN</td>\n",
       "      <td>NaN</td>\n",
       "      <td>NaN</td>\n",
       "      <td>NaN</td>\n",
       "      <td>NaN</td>\n",
       "      <td>None</td>\n",
       "      <td>None</td>\n",
       "      <td>NaN</td>\n",
       "      <td>NaN</td>\n",
       "      <td>0.0</td>\n",
       "      <td>NaN</td>\n",
       "      <td>NaN</td>\n",
       "      <td>NaN</td>\n",
       "      <td>NaN</td>\n",
       "    </tr>\n",
       "  </tbody>\n",
       "</table>\n",
       "<p>2 rows × 67 columns</p>\n",
       "</div>"
      ],
      "text/plain": [
       "  FinalEikonID                        Name          ISIN Ticker CountryHQ  \\\n",
       "0      AIAS.CY  Aias Investment Public Ltd  CY0005200213   AIAS    Cyprus   \n",
       "1      AIAS.CY  Aias Investment Public Ltd  CY0005200213   AIAS    Cyprus   \n",
       "\n",
       "  NAICSSector NAICSInd  GICSSector  GICSGroup   GICSInd  GICSSubInd  \\\n",
       "0          52   525990        40.0     4020.0  402030.0  40203010.0   \n",
       "1          52   525990        40.0     4020.0  402030.0  40203010.0   \n",
       "\n",
       "                           GICSName  FiscalYear  ref_CF1  ref_CF2  ref_CF3  \\\n",
       "0  Asset Management & Custody Banks        2018      NaN      NaN      NaN   \n",
       "1  Asset Management & Custody Banks        2016      NaN      NaN      NaN   \n",
       "\n",
       "   ref_CF123        Revenue        EBITDA          EBIT  CapEx  GPPE  NPPE  \\\n",
       "0        NaN   89721.534086 -30576.199651 -54179.282503    NaN   NaN   NaN   \n",
       "1        NaN  168523.969722  77270.815812  68566.021867    NaN   NaN   NaN   \n",
       "\n",
       "   AccuDep        INTAN  ...  CO2Law  CO2Scheme    CO2Status  CO2Coverage  \\\n",
       "0      NaN  9496.284063  ...     Yes        ETS  Implemented     Regional   \n",
       "1      NaN          NaN  ...     Yes        ETS  Implemented     Regional   \n",
       "\n",
       "   StartYear  Status  Price    Area    Year FuelIntensity  IncomeGroup  \\\n",
       "0     2005.0     Yes    NaN  Cyprus  2018.0        638.34            H   \n",
       "1     2005.0     Yes    NaN  Cyprus  2016.0        642.13            H   \n",
       "\n",
       "   CDP_CF1 CDP_CF2_location CDP_CF2_market  CDP_CF3  CDP_CF123 boundary  \\\n",
       "0      NaN              NaN            NaN      NaN        NaN     None   \n",
       "1      NaN              NaN            NaN      NaN        NaN     None   \n",
       "\n",
       "  covered_countries Age CapInten Leverage  CF1_merge CF2_merge  CF3_merge  \\\n",
       "0              None NaN      NaN      0.0        NaN       NaN        NaN   \n",
       "1              None NaN      NaN      0.0        NaN       NaN        NaN   \n",
       "\n",
       "  CF123_merge  \n",
       "0         NaN  \n",
       "1         NaN  \n",
       "\n",
       "[2 rows x 67 columns]"
      ]
     },
     "execution_count": 5,
     "metadata": {},
     "output_type": "execute_result"
    }
   ],
   "source": [
    "df_refinitiv = pd.read_parquet(\"../data/raw_data/CGEE_preprocessed_dataset_2023.parquet\")\n",
    "df_refinitiv[\"Age\"] = df_refinitiv[\"GPPE\"] / (df_refinitiv[\"EBITDA\"] - df_refinitiv[\"EBIT\"])\n",
    "df_refinitiv[\"Age\"] = df_refinitiv[\"Age\"].replace(np.inf, np.nan)\n",
    "\n",
    "df_refinitiv[\"CapInten\"] = df_refinitiv[\"NPPE\"] / df_refinitiv[\"Revenue\"]\n",
    "df_refinitiv[\"CapInten\"] = df_refinitiv[\"CapInten\"].replace(np.inf, np.nan)\n",
    "\n",
    "df_refinitiv[\"Leverage\"] = df_refinitiv[\"LTDebt\"] / df_refinitiv[\"Asset\"]\n",
    "df_refinitiv[\"Leverage\"] = df_refinitiv[\"Leverage\"].replace(np.inf, np.nan)\n",
    "print(df_refinitiv.shape)\n",
    "df_refinitiv[:2]"
   ]
  },
  {
   "cell_type": "code",
   "execution_count": 6,
   "metadata": {},
   "outputs": [
    {
     "data": {
      "text/html": [
       "<div>\n",
       "<style scoped>\n",
       "    .dataframe tbody tr th:only-of-type {\n",
       "        vertical-align: middle;\n",
       "    }\n",
       "\n",
       "    .dataframe tbody tr th {\n",
       "        vertical-align: top;\n",
       "    }\n",
       "\n",
       "    .dataframe thead th {\n",
       "        text-align: right;\n",
       "    }\n",
       "</style>\n",
       "<table border=\"1\" class=\"dataframe\">\n",
       "  <thead>\n",
       "    <tr style=\"text-align: right;\">\n",
       "      <th></th>\n",
       "      <th>FinalEikonID</th>\n",
       "      <th>Name</th>\n",
       "      <th>ISIN</th>\n",
       "      <th>Ticker</th>\n",
       "      <th>CountryHQ</th>\n",
       "      <th>NAICSSector</th>\n",
       "      <th>NAICSInd</th>\n",
       "      <th>GICSSector</th>\n",
       "      <th>GICSGroup</th>\n",
       "      <th>GICSInd</th>\n",
       "      <th>GICSSubInd</th>\n",
       "      <th>GICSName</th>\n",
       "      <th>FiscalYear</th>\n",
       "      <th>ref_CF1</th>\n",
       "      <th>ref_CF2</th>\n",
       "      <th>ref_CF3</th>\n",
       "      <th>ref_CF123</th>\n",
       "      <th>Revenue</th>\n",
       "      <th>EBITDA</th>\n",
       "      <th>EBIT</th>\n",
       "      <th>CapEx</th>\n",
       "      <th>GPPE</th>\n",
       "      <th>NPPE</th>\n",
       "      <th>AccuDep</th>\n",
       "      <th>INTAN</th>\n",
       "      <th>...</th>\n",
       "      <th>CO2Law</th>\n",
       "      <th>CO2Scheme</th>\n",
       "      <th>CO2Status</th>\n",
       "      <th>CO2Coverage</th>\n",
       "      <th>StartYear</th>\n",
       "      <th>Status</th>\n",
       "      <th>Price</th>\n",
       "      <th>Area</th>\n",
       "      <th>Year</th>\n",
       "      <th>FuelIntensity</th>\n",
       "      <th>IncomeGroup</th>\n",
       "      <th>CDP_CF1</th>\n",
       "      <th>CDP_CF2_location</th>\n",
       "      <th>CDP_CF2_market</th>\n",
       "      <th>CDP_CF3</th>\n",
       "      <th>CDP_CF123</th>\n",
       "      <th>boundary</th>\n",
       "      <th>covered_countries</th>\n",
       "      <th>Age</th>\n",
       "      <th>CapInten</th>\n",
       "      <th>Leverage</th>\n",
       "      <th>CF1_merge</th>\n",
       "      <th>CF2_merge</th>\n",
       "      <th>CF3_merge</th>\n",
       "      <th>CF123_merge</th>\n",
       "    </tr>\n",
       "  </thead>\n",
       "  <tbody>\n",
       "  </tbody>\n",
       "</table>\n",
       "<p>0 rows × 67 columns</p>\n",
       "</div>"
      ],
      "text/plain": [
       "Empty DataFrame\n",
       "Columns: [FinalEikonID, Name, ISIN, Ticker, CountryHQ, NAICSSector, NAICSInd, GICSSector, GICSGroup, GICSInd, GICSSubInd, GICSName, FiscalYear, ref_CF1, ref_CF2, ref_CF3, ref_CF123, Revenue, EBITDA, EBIT, CapEx, GPPE, NPPE, AccuDep, INTAN, COGS, GMAR, Asset, LTDebt, EMP, ENEProduce, ENEConsume, TargetsEmissions, PolicyEmissions, BiodiversityImpactReduction, EnvExpenditures, EnvProvisions, EnvInvestments, RenewEnergyUse, RenewEnergyPurchased, RenewEnergyProduced, Region, CO2Law, CO2Scheme, CO2Status, CO2Coverage, StartYear, Status, Price, Area, Year, FuelIntensity, IncomeGroup, CDP_CF1, CDP_CF2_location, CDP_CF2_market, CDP_CF3, CDP_CF123, boundary, covered_countries, Age, CapInten, Leverage, CF1_merge, CF2_merge, CF3_merge, CF123_merge]\n",
       "Index: []\n",
       "\n",
       "[0 rows x 67 columns]"
      ]
     },
     "execution_count": 6,
     "metadata": {},
     "output_type": "execute_result"
    }
   ],
   "source": [
    "df_refinitiv[df_refinitiv.duplicated(subset = [\"FiscalYear\", \"FinalEikonID\"])]"
   ]
  },
  {
   "cell_type": "code",
   "execution_count": 7,
   "metadata": {},
   "outputs": [],
   "source": [
    "mapping = pd.read_excel('../data/raw_data/' + \"country_region_mapping.xlsx\")\n",
    "mapping_dict = mapping.set_index(\"Country\").to_dict()[\"Region\"]\n",
    "df_refinitiv[\"Region\"] = df_refinitiv[\"CountryHQ\"].apply(lambda x: mapping_dict[x])"
   ]
  },
  {
   "cell_type": "code",
   "execution_count": 8,
   "metadata": {},
   "outputs": [],
   "source": [
    "sorter = df_refinitiv.FinalEikonID.value_counts().index\n",
    "df_refinitiv[\"sorter\"] = df_refinitiv.FinalEikonID.astype(\"category\").cat.set_categories(sorter)"
   ]
  },
  {
   "cell_type": "code",
   "execution_count": 9,
   "metadata": {},
   "outputs": [
    {
     "data": {
      "text/plain": [
       "(19010, 68)"
      ]
     },
     "execution_count": 9,
     "metadata": {},
     "output_type": "execute_result"
    }
   ],
   "source": [
    "df_refinitiv_filtered = df_refinitiv[df_refinitiv.FiscalYear>2010]\n",
    "df_refinitiv_filtered = df_refinitiv_filtered[df_refinitiv_filtered[sector_classification].notna()]\n",
    "# df_refinitiv_filtered = df_refinitiv_filtered[(df_refinitiv_filtered.CF1_merge>0) | (df_refinitiv_filtered.CF2_merge>0) | (df_refinitiv_filtered.CF3_merge>0)]\n",
    "df_refinitiv_filtered = df_refinitiv_filtered[(df_refinitiv_filtered.CF1_merge>0) & (df_refinitiv_filtered.CF2_merge>0) & (df_refinitiv_filtered.CF3_merge>0)]\n",
    "df_refinitiv_filtered.shape"
   ]
  },
  {
   "cell_type": "code",
   "execution_count": 10,
   "metadata": {},
   "outputs": [],
   "source": [
    "lst_sectors = df_refinitiv_filtered[sector_classification].unique()\n",
    "lst_countries = df_refinitiv_filtered.CountryHQ.unique()\n",
    "lst_companies = df_refinitiv_filtered.FinalEikonID.unique()\n",
    "companies_per_countries = df_refinitiv_filtered.drop_duplicates(\"FinalEikonID\").CountryHQ.value_counts()\n"
   ]
  },
  {
   "cell_type": "code",
   "execution_count": 11,
   "metadata": {},
   "outputs": [
    {
     "data": {
      "text/plain": [
       "Packaged Foods & Meats                          117\n",
       "Construction & Engineering                      101\n",
       "Industrial Machinery & Supplies & Components     90\n",
       "IT Consulting & Other Services                   78\n",
       "Automotive Parts & Equipment                     77\n",
       "                                               ... \n",
       "Hotel & Resort REITs                              3\n",
       "Security & Alarm Services                         3\n",
       "Telecom Tower REITs                               2\n",
       "Timber REITs                                      2\n",
       "Silver                                            1\n",
       "Name: GICSName, Length: 162, dtype: Int64"
      ]
     },
     "execution_count": 11,
     "metadata": {},
     "output_type": "execute_result"
    }
   ],
   "source": [
    "df_refinitiv_filtered.drop_duplicates(\"FinalEikonID\")[sector_classification].value_counts()\n"
   ]
  },
  {
   "cell_type": "code",
   "execution_count": 12,
   "metadata": {},
   "outputs": [],
   "source": [
    "df_refinitiv_filtered_soft = df_refinitiv[(df_refinitiv.CF1_merge>0) | (df_refinitiv.CF2_merge>0) | (df_refinitiv.CF3_merge>0)]"
   ]
  },
  {
   "cell_type": "code",
   "execution_count": 14,
   "metadata": {},
   "outputs": [
    {
     "data": {
      "text/plain": [
       "75"
      ]
     },
     "execution_count": 14,
     "metadata": {},
     "output_type": "execute_result"
    }
   ],
   "source": [
    "df_refinitiv_filtered.CountryHQ.nunique()"
   ]
  },
  {
   "cell_type": "code",
   "execution_count": 20,
   "metadata": {},
   "outputs": [
    {
     "data": {
      "text/plain": [
       "(19010, 68)"
      ]
     },
     "execution_count": 20,
     "metadata": {},
     "output_type": "execute_result"
    }
   ],
   "source": [
    "np.random.seed = 1\n",
    "seed = 1\n",
    "max_taken_subsector = 20\n",
    "max_taken_country = 50\n",
    "min_remove_sector = 5\n",
    "percent_taken = 50\n",
    "df_refinitiv_filtered = df_refinitiv[df_refinitiv.FiscalYear>2010]\n",
    "df_refinitiv_filtered = df_refinitiv_filtered[df_refinitiv_filtered[sector_classification].notna()]\n",
    "# df_refinitiv_filtered = df_refinitiv_filtered[(df_refinitiv_filtered.CF1_merge>0) | (df_refinitiv_filtered.CF2_merge>0) | (df_refinitiv_filtered.CF3_merge>0)]\n",
    "df_refinitiv_filtered = df_refinitiv_filtered[(df_refinitiv_filtered.CF1_merge>0) & (df_refinitiv_filtered.CF2_merge>0) & (df_refinitiv_filtered.CF3_merge>0)]\n",
    "sorter = df_refinitiv_filtered.FinalEikonID.value_counts().index\n",
    "df_refinitiv_filtered[\"sorter\"] = df_refinitiv_filtered.FinalEikonID.astype(\"category\").cat.set_categories(sorter)\n",
    "\n",
    "df_refinitiv_filtered.shape"
   ]
  },
  {
   "cell_type": "code",
   "execution_count": 21,
   "metadata": {},
   "outputs": [
    {
     "name": "stdout",
     "output_type": "stream",
     "text": [
      "nb countries : 63\n",
      "nb sectors : 161\n",
      "\n",
      "\n",
      "nb countries : 63\n",
      "nb sectors : 161\n",
      "\n",
      "\n",
      "nb countries : 70\n",
      "nb sectors : 161\n",
      "\n",
      "\n",
      "\n",
      "\n",
      "train\n",
      "nb countries : 63\n",
      "nb sectors : 162\n",
      "\n",
      "\n",
      "test\n",
      "nb countries : 70\n",
      "nb sectors : 161\n"
     ]
    }
   ],
   "source": [
    "df_company_test = []\n",
    "verbose = True\n",
    "\n",
    "df_refinitiv_filtered = df_refinitiv_filtered.sample(frac=1, random_state=seed)\n",
    "\n",
    "# Sector based selection\n",
    "lst_industry_solo = []\n",
    "for sector in lst_sectors : \n",
    "    candidates = df_refinitiv_filtered[df_refinitiv_filtered[sector_classification] == sector].FinalEikonID.unique()\n",
    "    rd.Random(seed).shuffle(candidates)\n",
    "    if len(candidates) > 2 * max_taken_subsector : \n",
    "        # take up to max_taken_subsector companies\n",
    "        df_company_test = df_company_test + candidates[:max_taken_subsector].tolist()\n",
    "    elif len(candidates) > 1 : \n",
    "        # take half of available companies in test (and left the other half for train), up to max_taken_subsector\n",
    "        df_company_test = df_company_test + candidates[:int((len(candidates))/(100/percent_taken))].tolist()\n",
    "    # else : # only one company \n",
    "    #     lst_industry_solo.append(sector)\n",
    "\n",
    "df_refinitiv_filtered_test = df_refinitiv_filtered[df_refinitiv_filtered.FinalEikonID.isin(df_company_test)]\n",
    "if verbose : \n",
    "    print(\"nb countries :\",df_refinitiv_filtered_test.drop_duplicates(\"FinalEikonID\").CountryHQ.nunique())\n",
    "    print(\"nb sectors :\",df_refinitiv_filtered_test.drop_duplicates(\"FinalEikonID\")[sector_classification].nunique())\n",
    "    print('\\n')\n",
    "\n",
    "\n",
    "# Country based selection\n",
    "lst_country_solo = []\n",
    "for country in lst_countries:\n",
    "    if not(country in df_refinitiv_filtered_test.CountryHQ.tolist()) : \n",
    "        if companies_per_countries[country] == 1 : \n",
    "            lst_country_solo.append(country)\n",
    "        else : \n",
    "            candidates = df_refinitiv_filtered[df_refinitiv_filtered.CountryHQ == country].FinalEikonID.unique()\n",
    "            rd.Random(seed).shuffle(candidates)\n",
    "            df_company_test = df_company_test + candidates[:int((len(candidates)+0.5)/(100/percent_taken))].tolist()\n",
    "\n",
    "if verbose : \n",
    "    print(\"nb countries :\",df_refinitiv_filtered_test.drop_duplicates(\"FinalEikonID\").CountryHQ.nunique())\n",
    "    print(\"nb sectors :\",df_refinitiv_filtered_test.drop_duplicates(\"FinalEikonID\")[sector_classification].nunique())\n",
    "    print('\\n')\n",
    "\n",
    "candidates_solo = df_refinitiv_filtered[df_refinitiv_filtered.CountryHQ.isin(lst_country_solo)].FinalEikonID.unique()\n",
    "rd.Random(seed).shuffle(np.array(candidates_solo))\n",
    "df_company_test = df_company_test + candidates_solo[:int((len(candidates_solo)+0.5)/(100/percent_taken))].tolist()\n",
    "\n",
    "df_refinitiv_filtered_test = df_refinitiv_filtered[df_refinitiv_filtered.FinalEikonID.isin(df_company_test)]\n",
    "if verbose : \n",
    "    print(\"nb countries :\",df_refinitiv_filtered_test.drop_duplicates(\"FinalEikonID\").CountryHQ.nunique())\n",
    "    print(\"nb sectors :\",df_refinitiv_filtered_test.drop_duplicates(\"FinalEikonID\")[sector_classification].nunique())\n",
    "    print('\\n')\n",
    "\n",
    "country_repartition = df_refinitiv_filtered_test.drop_duplicates(\"FinalEikonID\").CountryHQ.value_counts()\n",
    "current_sector_repartition = df_refinitiv_filtered_test.drop_duplicates(\"FinalEikonID\")[sector_classification].value_counts()\n",
    "\n",
    "# Country based removal\n",
    "df_refinitiv_filtered_test = df_refinitiv_filtered_test.sort_values([\"sorter\"], ascending=False) \n",
    "for country in country_repartition[country_repartition > max_taken_country].index:\n",
    "    # print(country)\n",
    "    candidates_to_remove = df_refinitiv_filtered_test.drop_duplicates(\"FinalEikonID\")[df_refinitiv_filtered_test.CountryHQ==country].FinalEikonID\n",
    "    # print(\"count_ini :\",len(candidates_to_remove))\n",
    "    # rd.Random(seed).shuffle(np.array(candidates_to_remove))\n",
    "    count_removed = 0\n",
    "    count_to_removed = len(candidates_to_remove) - max_taken_country\n",
    "    for company in candidates_to_remove : \n",
    "        company_sector = df_refinitiv_filtered_test[df_refinitiv_filtered_test.FinalEikonID==company][sector_classification].values[0]\n",
    "        if current_sector_repartition[company_sector] > min_remove_sector and count_removed < count_to_removed: \n",
    "            current_sector_repartition.loc[company_sector] = current_sector_repartition.loc[company_sector] - 1\n",
    "            df_company_test.remove(company)\n",
    "            count_removed+=1\n",
    "    # print(\"count_removed : \",count_removed)\n",
    "\n",
    "\n",
    "df_refinitiv_filtered_test = df_refinitiv_filtered[df_refinitiv_filtered.FinalEikonID.isin(df_company_test)]\n",
    "df_refinitiv_filtered_train = df_refinitiv_filtered[~(df_refinitiv_filtered.FinalEikonID.isin(df_company_test))]\n",
    "print(\"\\n\")\n",
    "print(\"train\")\n",
    "print(\"nb countries :\",df_refinitiv_filtered_train.drop_duplicates(\"FinalEikonID\").CountryHQ.nunique())\n",
    "print(\"nb sectors :\",df_refinitiv_filtered_train.drop_duplicates(\"FinalEikonID\")[sector_classification].nunique())\n",
    "print(\"\\n\")\n",
    "print(\"test\")\n",
    "print(\"nb countries :\",df_refinitiv_filtered_test.drop_duplicates(\"FinalEikonID\").CountryHQ.nunique())\n",
    "print(\"nb sectors :\",df_refinitiv_filtered_test.drop_duplicates(\"FinalEikonID\")[sector_classification].nunique())\n"
   ]
  },
  {
   "cell_type": "code",
   "execution_count": 22,
   "metadata": {},
   "outputs": [
    {
     "data": {
      "text/plain": [
       "(1128, 68)"
      ]
     },
     "execution_count": 22,
     "metadata": {},
     "output_type": "execute_result"
    }
   ],
   "source": [
    "df_refinitiv_filtered_test.drop_duplicates(\"FinalEikonID\").shape"
   ]
  },
  {
   "cell_type": "code",
   "execution_count": 58,
   "metadata": {},
   "outputs": [
    {
     "name": "stdout",
     "output_type": "stream",
     "text": [
      "percent_data_taken (companies scope 1&2&3):  0.2853761178327196  %\n",
      "percent_company_taken (companies scope 1&2&3):  0.2838758516275549  %\n",
      "percent_data_taken (companies scope 1 or 2 or 3):  0.1521909891712955  %\n",
      "percent_company_taken (companies scope 1 or 2 or 3):  0.173798856789742  %\n"
     ]
    }
   ],
   "source": [
    "percent_data_taken =  (df_refinitiv_filtered_test.shape[0]) / df_refinitiv_filtered.shape[0]\n",
    "percent_comapny_taken =  (df_refinitiv_filtered_test.drop_duplicates(\"FinalEikonID\").shape[0]) / df_refinitiv_filtered.drop_duplicates(\"FinalEikonID\").shape[0]\n",
    "print(\"percent_data_taken (companies scope 1&2&3): \", percent_data_taken, \" %\")\n",
    "print(\"percent_company_taken (companies scope 1&2&3): \", percent_comapny_taken, \" %\")\n",
    "\n",
    "percent_data_taken =  (df_refinitiv_filtered_test.shape[0]) / df_refinitiv_filtered_soft.shape[0]\n",
    "percent_comapny_taken =  (df_refinitiv_filtered_test.drop_duplicates(\"FinalEikonID\").shape[0]) / df_refinitiv_filtered_soft.drop_duplicates(\"FinalEikonID\").shape[0]\n",
    "print(\"percent_data_taken (companies scope 1 or 2 or 3): \", percent_data_taken, \" %\")\n",
    "print(\"percent_company_taken (companies scope 1 or 2 or 3): \", percent_comapny_taken, \" %\")"
   ]
  },
  {
   "cell_type": "code",
   "execution_count": 59,
   "metadata": {},
   "outputs": [
    {
     "data": {
      "text/plain": [
       "2021    949\n",
       "2020    773\n",
       "2019    610\n",
       "2022    507\n",
       "2018    470\n",
       "2017    393\n",
       "2016    372\n",
       "2015    343\n",
       "2014    314\n",
       "2012    252\n",
       "2011    225\n",
       "2013    217\n",
       "Name: FiscalYear, dtype: int64"
      ]
     },
     "execution_count": 59,
     "metadata": {},
     "output_type": "execute_result"
    }
   ],
   "source": [
    "df_refinitiv_filtered_test.FiscalYear.value_counts()"
   ]
  },
  {
   "cell_type": "code",
   "execution_count": 60,
   "metadata": {},
   "outputs": [
    {
     "data": {
      "text/plain": [
       "2011    0.673045\n",
       "2012    0.574495\n",
       "2013    0.555024\n",
       "2014    0.480694\n",
       "2015    0.006791\n",
       "2016   -0.187392\n",
       "2017   -0.867648\n",
       "2018   -0.611341\n",
       "2019   -0.717483\n",
       "2020   -0.561605\n",
       "2021   -0.085124\n",
       "2022    0.740543\n",
       "Name: FiscalYear, dtype: float64"
      ]
     },
     "execution_count": 60,
     "metadata": {},
     "output_type": "execute_result"
    }
   ],
   "source": [
    "df_refinitiv_filtered_test.FiscalYear.value_counts()/len(df_refinitiv_filtered_test)*100 - df_refinitiv_filtered_train.FiscalYear.value_counts()/len(df_refinitiv_filtered_train)*100 \n",
    "# same years repartion , test a bit significantly more recent than the train "
   ]
  },
  {
   "cell_type": "code",
   "execution_count": 61,
   "metadata": {},
   "outputs": [
    {
     "data": {
      "text/plain": [
       "19267536.0124782"
      ]
     },
     "execution_count": 61,
     "metadata": {},
     "output_type": "execute_result"
    }
   ],
   "source": [
    "df_refinitiv_filtered_test.Asset.min()"
   ]
  },
  {
   "cell_type": "code",
   "execution_count": 62,
   "metadata": {},
   "outputs": [
    {
     "data": {
      "text/plain": [
       "10190846.4634063"
      ]
     },
     "execution_count": 62,
     "metadata": {},
     "output_type": "execute_result"
    }
   ],
   "source": [
    "df_refinitiv_filtered_train.Asset.min()"
   ]
  },
  {
   "cell_type": "code",
   "execution_count": 63,
   "metadata": {},
   "outputs": [
    {
     "name": "stdout",
     "output_type": "stream",
     "text": [
      "Columns for which the min is in test : \n"
     ]
    },
    {
     "data": {
      "text/plain": [
       "Revenue      False\n",
       "CapEx        False\n",
       "GPPE         False\n",
       "NPPE         False\n",
       "AccuDep      False\n",
       "INTAN        False\n",
       "COGS         False\n",
       "EMP          False\n",
       "Asset        False\n",
       "LTDebt       False\n",
       "CF1_merge    False\n",
       "dtype: bool"
      ]
     },
     "execution_count": 63,
     "metadata": {},
     "output_type": "execute_result"
    }
   ],
   "source": [
    "print(\"Columns for which the min is in test : \") # Seems better \n",
    "(df_refinitiv_filtered_train[LogList[:-7]].min() > df_refinitiv_filtered_test[LogList[:-7]].min()) \n"
   ]
  },
  {
   "cell_type": "code",
   "execution_count": 64,
   "metadata": {},
   "outputs": [
    {
     "data": {
      "text/plain": [
       "EMP           1.004779\n",
       "Asset         0.917453\n",
       "NPPE          0.995883\n",
       "INTAN         0.814726\n",
       "CapEx         0.943073\n",
       "Age           0.954692\n",
       "CapInten      0.844208\n",
       "GMAR          1.037776\n",
       "Leverage      0.976728\n",
       "ENEConsume    0.953741\n",
       "ENEProduce    0.277778\n",
       "LTDebt        0.823262\n",
       "GPPE          1.012744\n",
       "AccuDep       1.059808\n",
       "COGS          0.978099\n",
       "EBIT          0.832636\n",
       "EBITDA        0.890909\n",
       "dtype: float64"
      ]
     },
     "execution_count": 64,
     "metadata": {},
     "output_type": "execute_result"
    }
   ],
   "source": [
    "df_refinitiv_filtered_test[FillList].mean()/df_refinitiv_filtered_train[FillList].mean() \n",
    "# gross diff pour la majorité des indicateurs financiers"
   ]
  },
  {
   "cell_type": "code",
   "execution_count": 65,
   "metadata": {},
   "outputs": [
    {
     "data": {
      "image/png": "[encoded data removed]",
      "text/plain": [
       "<Figure size 640x480 with 2 Axes>"
      ]
     },
     "metadata": {},
     "output_type": "display_data"
    }
   ],
   "source": [
    "_, axs = plt.subplots(1, 2)\n",
    "axs[0].hist(np.log10(df_refinitiv_filtered_train.Revenue - df_refinitiv_filtered_train.Revenue.min() + 1))\n",
    "axs[1].hist(np.log10(df_refinitiv_filtered_test.Revenue - df_refinitiv_filtered_test.Revenue.min() + 1))\n",
    "plt.show()"
   ]
  },
  {
   "cell_type": "code",
   "execution_count": 66,
   "metadata": {},
   "outputs": [
    {
     "data": {
      "text/plain": [
       "Europe and Central Asia          37.042644\n",
       "East Asia and Pacific            30.381024\n",
       "North America                    21.826899\n",
       "Latin America & the Caribbean     4.642947\n",
       "South Asia                        2.977542\n",
       "Sub-Saharan Africa                2.245773\n",
       "Middle East and North Africa      0.883169\n",
       "Name: Region, dtype: float64"
      ]
     },
     "execution_count": 66,
     "metadata": {},
     "output_type": "execute_result"
    }
   ],
   "source": [
    "df_refinitiv_filtered.drop_duplicates(\"Name\").Region.value_counts() / len(df_refinitiv_filtered.drop_duplicates(\"Name\")) * 100"
   ]
  },
  {
   "cell_type": "code",
   "execution_count": 67,
   "metadata": {},
   "outputs": [
    {
     "data": {
      "text/plain": [
       "Europe and Central Asia          41.333333\n",
       "East Asia and Pacific            32.177778\n",
       "North America                    10.044444\n",
       "Latin America & the Caribbean     7.377778\n",
       "South Asia                        4.444444\n",
       "Sub-Saharan Africa                3.022222\n",
       "Middle East and North Africa      1.600000\n",
       "Name: Region, dtype: float64"
      ]
     },
     "execution_count": 67,
     "metadata": {},
     "output_type": "execute_result"
    }
   ],
   "source": [
    "df_refinitiv_filtered_test.drop_duplicates(\"Name\").Region.value_counts() / len(df_refinitiv_filtered_test.drop_duplicates(\"Name\")) * 100\n",
    "# lower importance of north america and more of others"
   ]
  },
  {
   "cell_type": "code",
   "execution_count": 68,
   "metadata": {},
   "outputs": [
    {
     "data": {
      "text/plain": [
       "Europe and Central Asia          35.341790\n",
       "East Asia and Pacific            29.668781\n",
       "North America                    26.497533\n",
       "Latin America & the Caribbean     3.558844\n",
       "South Asia                        2.396054\n",
       "Sub-Saharan Africa                1.937984\n",
       "Middle East and North Africa      0.599013\n",
       "Name: Region, dtype: float64"
      ]
     },
     "execution_count": 68,
     "metadata": {},
     "output_type": "execute_result"
    }
   ],
   "source": [
    "df_refinitiv_filtered_train.drop_duplicates(\"Name\").Region.value_counts() / len(df_refinitiv_filtered_train.drop_duplicates(\"Name\")) * 100"
   ]
  },
  {
   "cell_type": "code",
   "execution_count": 69,
   "metadata": {},
   "outputs": [
    {
     "data": {
      "text/plain": [
       "United States of America    19.579169\n",
       "Japan                       11.588638\n",
       "United Kingdom              10.941610\n",
       "France                       4.229353\n",
       "Germany                      3.924250\n",
       "                              ...    \n",
       "Estonia                      0.010521\n",
       "Ukraine                      0.010521\n",
       "Vietnam                      0.005260\n",
       "Uganda                       0.005260\n",
       "Cambodia                     0.005260\n",
       "Name: CountryHQ, Length: 75, dtype: float64"
      ]
     },
     "execution_count": 69,
     "metadata": {},
     "output_type": "execute_result"
    }
   ],
   "source": [
    "df_refinitiv_filtered.CountryHQ.value_counts()/len(df_refinitiv_filtered)*100\n",
    "# 40 % des données sont issues de 3 pays, d'où l'intérêt de l'exercice"
   ]
  },
  {
   "cell_type": "code",
   "execution_count": 70,
   "metadata": {},
   "outputs": [
    {
     "data": {
      "text/plain": [
       "United States of America    25.513434\n",
       "Japan                       13.875598\n",
       "United Kingdom              12.521163\n",
       "France                       3.761502\n",
       "Sweden                       3.268311\n",
       "                              ...    \n",
       "Slovenia                     0.014722\n",
       "Vietnam                      0.007361\n",
       "Bahrain                      0.007361\n",
       "Uganda                       0.007361\n",
       "Uruguay                      0.007361\n",
       "Name: CountryHQ, Length: 66, dtype: float64"
      ]
     },
     "execution_count": 70,
     "metadata": {},
     "output_type": "execute_result"
    }
   ],
   "source": [
    "df_refinitiv_filtered_train.CountryHQ.value_counts()/len(df_refinitiv_filtered_train)*100"
   ]
  },
  {
   "cell_type": "code",
   "execution_count": 72,
   "metadata": {},
   "outputs": [
    {
     "data": {
      "text/plain": [
       "United Kingdom    6.986175\n",
       "Japan             5.861751\n",
       "Germany           5.824885\n",
       "France            5.400922\n",
       "Australia         5.013825\n",
       "                    ...   \n",
       "Estonia           0.036866\n",
       "Isle of Man       0.036866\n",
       "Cambodia          0.018433\n",
       "Bahrain           0.018433\n",
       "Egypt             0.018433\n",
       "Name: CountryHQ, Length: 67, dtype: float64"
      ]
     },
     "execution_count": 72,
     "metadata": {},
     "output_type": "execute_result"
    }
   ],
   "source": [
    "(df_refinitiv_filtered_test.CountryHQ.value_counts()/len(df_refinitiv_filtered_test)*100) # US underrepresented since "
   ]
  },
  {
   "cell_type": "code",
   "execution_count": 74,
   "metadata": {},
   "outputs": [
    {
     "data": {
      "text/plain": [
       "Integrated Telecommunication Services    1.688889\n",
       "Real Estate Development                       1.6\n",
       "Real Estate Operating Companies               1.6\n",
       "Industrial Conglomerates                 1.511111\n",
       "Renewable Electricity                    1.422222\n",
       "                                           ...   \n",
       "Security & Alarm Services                0.088889\n",
       "Hotel & Resort REITs                     0.088889\n",
       "Single-Family Residential REITs          0.088889\n",
       "Other Specialized REITs                  0.088889\n",
       "Telecom Tower REITs                      0.088889\n",
       "Name: GICSName, Length: 161, dtype: Float64"
      ]
     },
     "execution_count": 74,
     "metadata": {},
     "output_type": "execute_result"
    }
   ],
   "source": [
    "df_refinitiv_filtered_test.drop_duplicates(\"Name\").GICSName.value_counts() / len(df_refinitiv_filtered_test.drop_duplicates(\"Name\")) * 100\n",
    "# Less imbalanced repartition of sectors"
   ]
  },
  {
   "cell_type": "code",
   "execution_count": 75,
   "metadata": {},
   "outputs": [
    {
     "data": {
      "text/plain": [
       "Packaged Foods & Meats                          3.629316\n",
       "Construction & Engineering                      3.100775\n",
       "Industrial Machinery & Supplies & Components    2.818887\n",
       "Automotive Parts & Equipment                    2.360817\n",
       "IT Consulting & Other Services                  2.290345\n",
       "                                                  ...   \n",
       "Diversified Capital Markets                     0.070472\n",
       "Other Specialized REITs                         0.070472\n",
       "Silver                                          0.035236\n",
       "Telecom Tower REITs                             0.035236\n",
       "Timber REITs                                    0.035236\n",
       "Name: GICSName, Length: 162, dtype: Float64"
      ]
     },
     "execution_count": 75,
     "metadata": {},
     "output_type": "execute_result"
    }
   ],
   "source": [
    "df_refinitiv_filtered_train.drop_duplicates(\"Name\").GICSName.value_counts() / len(df_refinitiv_filtered_train.drop_duplicates(\"Name\")) * 100"
   ]
  },
  {
   "cell_type": "code",
   "execution_count": 76,
   "metadata": {},
   "outputs": [
    {
     "data": {
      "image/png": "[encoded data removed]",
      "text/plain": [
       "<Figure size 640x480 with 2 Axes>"
      ]
     },
     "metadata": {},
     "output_type": "display_data"
    }
   ],
   "source": [
    "_, axs = plt.subplots(1, 2)\n",
    "col = \"CF1_merge\"\n",
    "axs[0].hist(np.log10(df_refinitiv_filtered_train[col] - df_refinitiv_filtered_train[col].min() + 1))\n",
    "axs[1].hist(np.log10(df_refinitiv_filtered_test[col]  - df_refinitiv_filtered_test[col].min() + 1))\n",
    "axs[0].set_xlabel(col + \" train\")\n",
    "axs[1].set_xlabel(col + \" test\")\n",
    "axs[0].vlines(np.mean(np.log10(df_refinitiv_filtered_train[col] - df_refinitiv_filtered_train[col].min() + 1)),0,3600, color=\"black\")\n",
    "axs[1].vlines(np.mean(np.log10(df_refinitiv_filtered_test[col] - df_refinitiv_filtered_test[col].min() + 1)),0,1000, color=\"black\")\n",
    "\n",
    "plt.show()"
   ]
  },
  {
   "cell_type": "code",
   "execution_count": 77,
   "metadata": {},
   "outputs": [
    {
     "data": {
      "text/plain": [
       "0.01    2.272727\n",
       "0.10    0.814876\n",
       "0.20    0.738357\n",
       "0.30    0.684930\n",
       "0.40    0.655315\n",
       "0.50    0.636803\n",
       "0.60    0.634148\n",
       "0.70    0.606479\n",
       "0.80    0.725594\n",
       "0.90    1.050069\n",
       "0.99    1.173063\n",
       "Name: CF3_merge, dtype: float64"
      ]
     },
     "execution_count": 77,
     "metadata": {},
     "output_type": "execute_result"
    }
   ],
   "source": [
    "scope = \"CF3_merge\"\n",
    "a = df_refinitiv_filtered_test[scope].quantile([0.01]+[i/10 for i in range(1,10)]+[0.99])\n",
    "b = df_refinitiv_filtered_train[scope].quantile([0.01]+[i/10 for i in range(1,10)]+[0.99])\n",
    "a/b"
   ]
  },
  {
   "cell_type": "code",
   "execution_count": 78,
   "metadata": {},
   "outputs": [],
   "source": [
    "df_refinitiv_filtered_test.Name.drop_duplicates().to_csv(\"lst_companies_test_GICS_2023.csv\",index=False)"
   ]
  },
  {
   "cell_type": "code",
   "execution_count": 23,
   "metadata": {},
   "outputs": [],
   "source": [
    "df_refinitiv_filtered_test = pd.read_csv(\"lst_companies_test_GICS_2023.csv\")"
   ]
  },
  {
   "cell_type": "code",
   "execution_count": 27,
   "metadata": {},
   "outputs": [
    {
     "data": {
      "text/plain": [
       "3963"
      ]
     },
     "execution_count": 27,
     "metadata": {},
     "output_type": "execute_result"
    }
   ],
   "source": [
    "df_refinitiv_filtered.Name.nunique()"
   ]
  }
 ],
 "metadata": {
  "kernelspec": {
   "display_name": "Toy_project_mohamed-WRM7iGFq",
   "language": "python",
   "name": "python3"
  },
  "language_info": {
   "codemirror_mode": {
    "name": "ipython",
    "version": 3
   },
   "file_extension": ".py",
   "mimetype": "text/x-python",
   "name": "python",
   "nbconvert_exporter": "python",
   "pygments_lexer": "ipython3",
   "version": "3.9.13"
  },
  "orig_nbformat": 4,
  "vscode": {
   "interpreter": {
    "hash": "e5804064e154bb9b061cd7fd0f83281b098d9543a7756d48d130cd8f20723185"
   }
  }
 },
 "nbformat": 4,
 "nbformat_minor": 2
}
