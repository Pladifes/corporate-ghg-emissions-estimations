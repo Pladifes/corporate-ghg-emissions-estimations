{
 "cells": [
  {
   "cell_type": "markdown",
   "metadata": {},
   "source": [
    "# Imports"
   ]
  },
  {
   "cell_type": "code",
   "execution_count": 1,
   "metadata": {},
   "outputs": [],
   "source": [
    "import warnings\n",
    "\n",
    "import pandas as pd\n",
    "\n",
    "from functions.loading import load_data\n",
    "\n",
    "from functions.training_pipeline import training_pipeline\n",
    "from functions.models import xgboost_model, catboost_model, lgbm_model\n",
    "\n",
    "warnings.filterwarnings('ignore')\n",
    "pd.options.mode.chained_assignment = None"
   ]
  },
  {
   "cell_type": "markdown",
   "metadata": {},
   "source": [
    "# Parameters definition"
   ]
  },
  {
   "cell_type": "code",
   "execution_count": 4,
   "metadata": {},
   "outputs": [],
   "source": [
    "# paths\n",
    "path_rawdata = 'data/raw_data/'\n",
    "path_models = 'models/'\n",
    "path_benchmark = 'benchmark/'\n",
    "path_results = 'results/'\n",
    "path_plot = path_results +'plot/'\n",
    "path_intermediary = 'data/intermediary_data/'\n",
    "path_plot = 'results/plot/'\n",
    "\n",
    "# Training parameters\n",
    "targets = [\"cf1_log\",\"cf2_log\",\"cf3_log\", \"cf123_log\"]\n",
    "models = {\n",
    "        \"xgboost\": xgboost_model,\n",
    "        \"catboost\": catboost_model,\n",
    "        \"lgbm\": lgbm_model,\n",
    "}\n",
    "training_parameters = {\n",
    "    \"seed\":0,\n",
    "    \"n_iter\":10,\n",
    "    \"extended_features\": [\n",
    "            \"revenue_log\",\n",
    "            \"employees_log\",\n",
    "            \"asset_log\",\n",
    "            \"nppe_log\",\n",
    "            \"capex_log\",\n",
    "            \"age\",\n",
    "            \"cap_inten\",\n",
    "            \"gmar\",\n",
    "            \"leverage\",\n",
    "            \"price\",\n",
    "            \"fuel_intensity\",\n",
    "            \"fiscal_year\",\n",
    "            \"energy_consumed_log\",\n",
    "            \"energy_produced_log\",\n",
    "            \"intan_log\",\n",
    "            \"accu_dep_log\",\n",
    "            \"cogs_log\",\n",
    "        ],\n",
    "    \"selec_sect\":[\"gics_sub_ind\", \"gics_ind\", \"gics_group\"],\n",
    "    \"cross_val\": False,\n",
    "}\n",
    "restricted_features=False\n",
    "save=True,\n",
    "\n",
    "# Results containers\n",
    "summary_final=[]\n",
    "Summary_Final_train = []\n",
    "ensemble =[]\n",
    "summary_metrics_detailed = pd.DataFrame()\n",
    "estimated_scopes = []"
   ]
  },
  {
   "cell_type": "markdown",
   "metadata": {},
   "source": [
    "# Data Loading "
   ]
  },
  {
   "cell_type": "code",
   "execution_count": 3,
   "metadata": {},
   "outputs": [],
   "source": [
    "preprocessed_dataset = load_data(path_rawdata, save=True)"
   ]
  },
  {
   "cell_type": "markdown",
   "metadata": {},
   "source": [
    "# Training pipeline "
   ]
  },
  {
   "cell_type": "code",
   "execution_count": null,
   "metadata": {},
   "outputs": [],
   "source": [
    "best_scores, best_stds, summary_global, summary_metrics_detailed = training_pipeline(\n",
    "    path_benchmark=path_benchmark,\n",
    "    path_results=path_results,\n",
    "    path_models=path_models,\n",
    "    path_intermediary=path_intermediary,\n",
    "    path_plot=path_plot,\n",
    "    targets=targets,\n",
    "    models=models,\n",
    "    summary_final=summary_final,\n",
    "    ensemble=ensemble,\n",
    "    summary_metrics_detailed=summary_metrics_detailed,\n",
    "    estimated_scopes=estimated_scopes,\n",
    "    preprocessed_dataset=preprocessed_dataset,\n",
    "    training_parameters=training_parameters,\n",
    "    restricted_features=restricted_features,\n",
    "    save=save,\n",
    ")"
   ]
  },
  {
   "cell_type": "code",
   "execution_count": null,
   "metadata": {},
   "outputs": [],
   "source": [
    "best_scores"
   ]
  },
  {
   "cell_type": "markdown",
   "metadata": {},
   "source": [
    "# Model application"
   ]
  },
  {
   "cell_type": "code",
   "execution_count": 2,
   "metadata": {},
   "outputs": [],
   "source": [
    "from functions.apply_model import apply_model_on_raw_data"
   ]
  },
  {
   "cell_type": "code",
   "execution_count": null,
   "metadata": {},
   "outputs": [],
   "source": [
    "raw_dataset = load_data(path_rawdata, filter_outliers=False, save=False)\n",
    "estimations = apply_model_on_raw_data(raw_dataset,\n",
    "    path_intermediary=path_intermediary,\n",
    "    path_models=path_models,\n",
    "    path_results=path_results,\n",
    "    save=False\n",
    ")\n",
    "estimations"
   ]
  }
 ],
 "metadata": {
  "kernelspec": {
   "display_name": "Python 3",
   "language": "python",
   "name": "python3"
  },
  "language_info": {
   "codemirror_mode": {
    "name": "ipython",
    "version": 3
   },
   "file_extension": ".py",
   "mimetype": "text/x-python",
   "name": "python",
   "nbconvert_exporter": "python",
   "pygments_lexer": "ipython3",
   "version": "3.9.13"
  },
  "orig_nbformat": 4
 },
 "nbformat": 4,
 "nbformat_minor": 2
}
