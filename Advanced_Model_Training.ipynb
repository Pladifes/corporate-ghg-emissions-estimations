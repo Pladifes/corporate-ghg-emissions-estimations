{
 "cells": [
  {
   "cell_type": "markdown",
   "metadata": {},
   "source": [
    "# Imports"
   ]
  },
  {
   "cell_type": "code",
   "execution_count": 1,
   "metadata": {},
   "outputs": [],
   "source": [
    "import warnings\n",
    "\n",
    "import pandas as pd\n",
    "\n",
    "from functions.loading import load_data\n",
    "\n",
    "from functions.training_pipeline import training_pipeline\n",
    "from functions.models import catboost_model\n",
    "\n",
    "warnings.filterwarnings('ignore')\n",
    "pd.options.mode.chained_assignment = None"
   ]
  },
  {
   "cell_type": "markdown",
   "metadata": {},
   "source": [
    "# Parameters definition"
   ]
  },
  {
   "cell_type": "code",
   "execution_count": 2,
   "metadata": {},
   "outputs": [],
   "source": [
    "# Training parameters\n",
    "restricted_features=False\n",
    "save=True\n",
    "customized_model=True\n",
    "\n",
    "models = {\n",
    "        \"catboost\": catboost_model,\n",
    "}\n",
    "\n",
    "targets = [\"cf1\", \"cf2\", \"cf3\", \"cf123\"]\n",
    "\n",
    "# Results containers\n",
    "summary_final=[]\n",
    "Summary_Final_train = []\n",
    "summary_metrics_detailed = pd.DataFrame()\n",
    "estimated_scopes = []"
   ]
  },
  {
   "cell_type": "markdown",
   "metadata": {},
   "source": [
    "# Data Loading "
   ]
  },
  {
   "cell_type": "code",
   "execution_count": 3,
   "metadata": {},
   "outputs": [
    {
     "name": "stdout",
     "output_type": "stream",
     "text": [
      "File not found, constructing it\n"
     ]
    }
   ],
   "source": [
    "preprocessed_dataset = load_data(save=True)\n",
    "predict_dataset = load_data(filter_outliers=False, save=False)"
   ]
  },
  {
   "cell_type": "code",
   "execution_count": 4,
   "metadata": {},
   "outputs": [
    {
     "data": {
      "text/plain": [
       "Index(['company_id', 'company_name', 'isin', 'country_hq', 'gics_sector',\n",
       "       'gics_group', 'gics_ind', 'gics_sub_ind', 'gics_name', 'fiscal_year',\n",
       "       'ref_cf1', 'ref_cf2', 'ref_cf3', 'ref_cf123', 'revenue', 'ebitda',\n",
       "       'ebit', 'capex', 'gppe', 'nppe', 'accu_dep', 'intan', 'cogs', 'gmar',\n",
       "       'asset', 'lt_debt', 'employees', 'energy_produced', 'energy_consumed',\n",
       "       'cdp_cf1', 'cdp_cf2', 'cdp_cf3', 'cdp_cf123', 'cf1', 'cf2', 'cf3',\n",
       "       'cf123', 'ticker', 'lei', 'country_code', 'co2_law', 'co2_scheme',\n",
       "       'co2_status', 'co2_coverage', 'start_year', 'status', 'price_index',\n",
       "       'year', 'fuel_intensity', 'country', 'income_group', 'region', 'age',\n",
       "       'cap_inten', 'leverage', 'intensity_cf1', 'intensity_cf2',\n",
       "       'intensity_cf3', 'intensity_cf123'],\n",
       "      dtype='object')"
      ]
     },
     "execution_count": 4,
     "metadata": {},
     "output_type": "execute_result"
    }
   ],
   "source": [
    "preprocessed_dataset.columns"
   ]
  },
  {
   "cell_type": "code",
   "execution_count": 5,
   "metadata": {},
   "outputs": [
    {
     "data": {
      "text/plain": [
       "47185"
      ]
     },
     "execution_count": 5,
     "metadata": {},
     "output_type": "execute_result"
    }
   ],
   "source": [
    "preprocessed_dataset.company_id.nunique()"
   ]
  },
  {
   "cell_type": "markdown",
   "metadata": {},
   "source": [
    "# Training pipeline "
   ]
  },
  {
   "cell_type": "code",
   "execution_count": null,
   "metadata": {},
   "outputs": [],
   "source": [
    "best_scores, best_stds, summary_global, summary_metrics_detailed = training_pipeline(\n",
    "    targets=targets,\n",
    "    models=models,\n",
    "    summary_final=summary_final,\n",
    "    summary_metrics_detailed=summary_metrics_detailed,\n",
    "    estimated_scopes=estimated_scopes,\n",
    "    preprocessed_dataset=preprocessed_dataset,\n",
    "    predict_dataset=predict_dataset,\n",
    "    restricted_features=restricted_features,\n",
    "    save=save,\n",
    "    customized_model=customized_model,    \n",
    ")"
   ]
  },
  {
   "cell_type": "code",
   "execution_count": 7,
   "metadata": {},
   "outputs": [
    {
     "data": {
      "text/plain": [
       "[0.5159522342875701,\n",
       " 0.4249486997368801,\n",
       " 0.8797295366181928,\n",
       " 0.5355338542112806]"
      ]
     },
     "execution_count": 7,
     "metadata": {},
     "output_type": "execute_result"
    }
   ],
   "source": [
    "best_scores"
   ]
  },
  {
   "cell_type": "code",
   "execution_count": 8,
   "metadata": {},
   "outputs": [
    {
     "data": {
      "text/plain": [
       "[0.09570897043567152,\n",
       " 0.07097603476619248,\n",
       " 0.07225981433916971,\n",
       " 0.05061696541726524]"
      ]
     },
     "execution_count": 8,
     "metadata": {},
     "output_type": "execute_result"
    }
   ],
   "source": [
    "best_stds"
   ]
  },
  {
   "cell_type": "markdown",
   "metadata": {},
   "source": [
    "# Model application"
   ]
  },
  {
   "cell_type": "code",
   "execution_count": null,
   "metadata": {},
   "outputs": [],
   "source": [
    "from functions.apply_model import apply_model_on_raw_data"
   ]
  },
  {
   "cell_type": "code",
   "execution_count": 10,
   "metadata": {},
   "outputs": [],
   "source": [
    "raw_dataset = load_data(filter_outliers=False, save=False)\n",
    "estimations = apply_model_on_raw_data(raw_dataset,\n",
    "    save=False,\n",
    "    restricted_features=restricted_features,\n",
    ")\n",
    "estimations"
   ]
  }
 ],
 "metadata": {
  "kernelspec": {
   "display_name": "Python 3",
   "language": "python",
   "name": "python3"
  },
  "language_info": {
   "codemirror_mode": {
    "name": "ipython",
    "version": 3
   },
   "file_extension": ".py",
   "mimetype": "text/x-python",
   "name": "python",
   "nbconvert_exporter": "python",
   "pygments_lexer": "ipython3",
   "version": "3.9.13"
  },
  "orig_nbformat": 4
 },
 "nbformat": 4,
 "nbformat_minor": 2
}
