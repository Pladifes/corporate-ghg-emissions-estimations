{
 "cells": [
  {
   "cell_type": "markdown",
   "metadata": {},
   "source": [
    "# Imports"
   ]
  },
  {
   "cell_type": "code",
   "execution_count": 1,
   "metadata": {},
   "outputs": [],
   "source": [
    "import warnings\n",
    "\n",
    "import pandas as pd\n",
    "\n",
    "from functions.loading import load_data\n",
    "\n",
    "from functions.training_pipeline import training_pipeline\n",
    "from functions.models import xgboost_model, catboost_model, lgbm_model\n",
    "\n",
    "warnings.filterwarnings('ignore')\n",
    "pd.options.mode.chained_assignment = None"
   ]
  },
  {
   "cell_type": "markdown",
   "metadata": {},
   "source": [
    "# Parameters definition"
   ]
  },
  {
   "cell_type": "code",
   "execution_count": 2,
   "metadata": {},
   "outputs": [],
   "source": [
    "# Training parameters\n",
    "restricted_features=False\n",
    "save=False\n",
    "\n",
    "models = {\n",
    "        \"xgboost\": xgboost_model,\n",
    "        \"catboost\": catboost_model,\n",
    "        \"lgbm\": lgbm_model,\n",
    "}\n",
    "\n",
    "targets = [\"cf1\", \"cf2\", \"cf3\", \"cf123\"]\n",
    "\n",
    "# Results containers\n",
    "summary_final=[]\n",
    "Summary_Final_train = []\n",
    "summary_metrics_detailed = pd.DataFrame()\n",
    "estimated_scopes = []"
   ]
  },
  {
   "cell_type": "markdown",
   "metadata": {},
   "source": [
    "# Data Loading "
   ]
  },
  {
   "cell_type": "code",
   "execution_count": 3,
   "metadata": {},
   "outputs": [],
   "source": [
    "preprocessed_dataset = load_data(save=True)"
   ]
  },
  {
   "cell_type": "markdown",
   "metadata": {},
   "source": [
    "# Training pipeline "
   ]
  },
  {
   "cell_type": "code",
   "execution_count": 4,
   "metadata": {},
   "outputs": [
    {
     "name": "stderr",
     "output_type": "stream",
     "text": [
      "INFO:functions.training_pipeline:Training for target: cf1\n"
     ]
    },
    {
     "name": "stdout",
     "output_type": "stream",
     "text": [
      "Using pre created preprocessed files\n"
     ]
    },
    {
     "name": "stderr",
     "output_type": "stream",
     "text": [
      "INFO:functions.training_pipeline:Preprocessing done\n",
      "INFO:functions.training_pipeline:Training model: xgboost\n",
      "INFO:functions.training_pipeline:Training model: catboost\n",
      "INFO:functions.training_pipeline:Training model: lgbm\n",
      "INFO:functions.training_pipeline:Modelisation done\n",
      "INFO:functions.training_pipeline:Elapsed time for target cf1: 257.38 seconds\n",
      "INFO:functions.training_pipeline:Training for target: cf2\n"
     ]
    },
    {
     "name": "stdout",
     "output_type": "stream",
     "text": [
      "[0.5492875130294008, 0.5223518641181469, 0.5265227915777949]\n",
      "Using pre created preprocessed files\n"
     ]
    },
    {
     "name": "stderr",
     "output_type": "stream",
     "text": [
      "INFO:functions.training_pipeline:Preprocessing done\n",
      "INFO:functions.training_pipeline:Training model: xgboost\n",
      "INFO:functions.training_pipeline:Training model: catboost\n",
      "INFO:functions.training_pipeline:Training model: lgbm\n",
      "INFO:functions.training_pipeline:Modelisation done\n",
      "INFO:functions.training_pipeline:Elapsed time for target cf2: 217.55 seconds\n"
     ]
    },
    {
     "name": "stdout",
     "output_type": "stream",
     "text": [
      "[0.44988259417896564, 0.4183662367913087, 0.4336985040169224]\n"
     ]
    },
    {
     "name": "stderr",
     "output_type": "stream",
     "text": [
      "INFO:functions.training_pipeline:Training for target: cf3\n"
     ]
    },
    {
     "name": "stdout",
     "output_type": "stream",
     "text": [
      "Using pre created preprocessed files\n"
     ]
    },
    {
     "name": "stderr",
     "output_type": "stream",
     "text": [
      "INFO:functions.training_pipeline:Preprocessing done\n",
      "INFO:functions.training_pipeline:Training model: xgboost\n",
      "INFO:functions.training_pipeline:Training model: catboost\n",
      "INFO:functions.training_pipeline:Training model: lgbm\n",
      "INFO:functions.training_pipeline:Modelisation done\n",
      "INFO:functions.training_pipeline:Elapsed time for target cf3: 125.29 seconds\n",
      "INFO:functions.training_pipeline:Training for target: cf123\n"
     ]
    },
    {
     "name": "stdout",
     "output_type": "stream",
     "text": [
      "[0.9608576597792737, 0.9029440524476459, 0.9246305172829612]\n",
      "Using pre created preprocessed files\n"
     ]
    },
    {
     "name": "stderr",
     "output_type": "stream",
     "text": [
      "INFO:functions.training_pipeline:Preprocessing done\n",
      "INFO:functions.training_pipeline:Training model: xgboost\n",
      "INFO:functions.training_pipeline:Training model: catboost\n",
      "INFO:functions.training_pipeline:Training model: lgbm\n",
      "INFO:functions.training_pipeline:Modelisation done\n",
      "INFO:functions.training_pipeline:Elapsed time for target cf123: 94.94 seconds\n"
     ]
    },
    {
     "name": "stdout",
     "output_type": "stream",
     "text": [
      "[0.5754712644052693, 0.5517300603325132, 0.5587758061474672]\n"
     ]
    }
   ],
   "source": [
    "best_scores, best_stds, summary_global, summary_metrics_detailed = training_pipeline(\n",
    "    targets=targets,\n",
    "    models=models,\n",
    "    summary_final=summary_final,\n",
    "    summary_metrics_detailed=summary_metrics_detailed,\n",
    "    estimated_scopes=estimated_scopes,\n",
    "    preprocessed_dataset=preprocessed_dataset,\n",
    "    restricted_features=restricted_features,\n",
    "    save=save,\n",
    "  \n",
    ")"
   ]
  },
  {
   "cell_type": "code",
   "execution_count": 5,
   "metadata": {},
   "outputs": [
    {
     "data": {
      "text/plain": [
       "[0.5223518641181469,\n",
       " 0.4183662367913087,\n",
       " 0.9029440524476459,\n",
       " 0.5517300603325132]"
      ]
     },
     "execution_count": 5,
     "metadata": {},
     "output_type": "execute_result"
    }
   ],
   "source": [
    "best_scores"
   ]
  },
  {
   "cell_type": "code",
   "execution_count": 6,
   "metadata": {},
   "outputs": [
    {
     "data": {
      "text/plain": [
       "[0.10109473456997788,\n",
       " 0.07442082860850331,\n",
       " 0.08198841141861354,\n",
       " 0.055044762003435256]"
      ]
     },
     "execution_count": 6,
     "metadata": {},
     "output_type": "execute_result"
    }
   ],
   "source": [
    "best_stds"
   ]
  },
  {
   "cell_type": "markdown",
   "metadata": {},
   "source": [
    "# Model application"
   ]
  },
  {
   "cell_type": "code",
   "execution_count": 7,
   "metadata": {},
   "outputs": [],
   "source": [
    "from functions.apply_model import apply_model_on_raw_data"
   ]
  },
  {
   "cell_type": "code",
   "execution_count": 8,
   "metadata": {},
   "outputs": [],
   "source": [
    "raw_dataset = load_data(filter_outliers=False, save=False)\n",
    "estimations = apply_model_on_raw_data(raw_dataset,\n",
    "    save=False,\n",
    "    restricted_features=restricted_features,\n",
    ")\n",
    "estimations"
   ]
  }
 ],
 "metadata": {
  "kernelspec": {
   "display_name": "Python 3",
   "language": "python",
   "name": "python3"
  },
  "language_info": {
   "codemirror_mode": {
    "name": "ipython",
    "version": 3
   },
   "file_extension": ".py",
   "mimetype": "text/x-python",
   "name": "python",
   "nbconvert_exporter": "python",
   "pygments_lexer": "ipython3",
   "version": "3.9.13"
  },
  "orig_nbformat": 4
 },
 "nbformat": 4,
 "nbformat_minor": 2
}
