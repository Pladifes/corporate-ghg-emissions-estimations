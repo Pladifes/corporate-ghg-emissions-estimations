{
 "cells": [
  {
   "cell_type": "code",
   "execution_count": 2,
   "metadata": {},
   "outputs": [],
   "source": [
    "import pandas as pd\n",
    "import numpy as np\n",
    "from tqdm import tqdm\n",
    "import matplotlib.pyplot as plt"
   ]
  },
  {
   "cell_type": "code",
   "execution_count": 6,
   "metadata": {},
   "outputs": [],
   "source": [
    "df_ref = pd.read_parquet(\"P:/Projets Internes/PLADIFES/PLADIFES DATA CREATION/full_extract_refinitiv_2307.parquet\")"
   ]
  },
  {
   "cell_type": "code",
   "execution_count": 3,
   "metadata": {},
   "outputs": [
    {
     "data": {
      "text/plain": [
       "Index(['FinalEikonID', 'Name', 'CUSIP', 'ISIN', 'Ticker', 'LEI',\n",
       "       'OrganizationID', 'CountryHQ', 'NAICSSector', 'NAICSInd', 'GICSSector',\n",
       "       'GICSGroup', 'GICSInd', 'GICSSubInd', 'GICSName', 'FiscalYear', 'CF1',\n",
       "       'CF2', 'CF3', 'CFE', 'EstMethod', 'EBITDA', 'EBIT', 'CapEx', 'GPPE',\n",
       "       'NPPE', 'AccuDep', 'INTAN', 'COGS', 'GMAR', 'Asset', 'LTDebt', 'EMP',\n",
       "       'ENEProduce', 'ENEConsume', 'WasteTotal', 'WasteRecycledTotal',\n",
       "       'NonHazardousWaste', 'HazardousWaste', 'WaterWithdrawalTotal',\n",
       "       'FreshWaterWithdrawalTotal', 'WaterRecycled', 'TargetsEmissions',\n",
       "       'PolicyEmissions', 'BiodiversityImpactReduction', 'EnvExpenditures',\n",
       "       'EnvProvisions', 'EnvInvestments', 'RenewEnergyUse',\n",
       "       'RenewEnergyPurchased', 'RenewEnergyProduced', 'TrainingHoursTotal',\n",
       "       'GenderPayGapPctage', 'AnalyticIndepBoard',\n",
       "       'AnalyticHighestRemuneration', 'Revenue', 'CF123'],\n",
       "      dtype='object')"
      ]
     },
     "execution_count": 3,
     "metadata": {},
     "output_type": "execute_result"
    }
   ],
   "source": [
    "df_ref.columns"
   ]
  },
  {
   "cell_type": "code",
   "execution_count": null,
   "metadata": {},
   "outputs": [],
   "source": [
    "# Checks\n",
    "# df_ref.CF3.min() no CF1, 2 3 < 0"
   ]
  },
  {
   "cell_type": "code",
   "execution_count": 8,
   "metadata": {},
   "outputs": [],
   "source": [
    "# We do not trust companies with null scope 2 and 3 \n",
    "df_ref[\"CF2\"] = df_ref[\"CF2\"].replace(0, np.nan)\n",
    "df_ref[\"CF3\"] = df_ref[\"CF3\"].replace(0, np.nan)"
   ]
  },
  {
   "cell_type": "code",
   "execution_count": 9,
   "metadata": {},
   "outputs": [
    {
     "name": "stderr",
     "output_type": "stream",
     "text": [
      "C:\\Users\\thibaud.barreau\\AppData\\Local\\Temp\\ipykernel_15444\\3289117754.py:2: UserWarning: Boolean Series key will be reindexed to match DataFrame index.\n",
      "  df_ref[df_ref.CF3.notna()][df_ref.GICSSubInd.isna()].shape # check all have sub  sectors : ok\n"
     ]
    },
    {
     "data": {
      "text/plain": [
       "(0, 57)"
      ]
     },
     "execution_count": 9,
     "metadata": {},
     "output_type": "execute_result"
    }
   ],
   "source": [
    "df_ref[df_ref.GICSSubInd.isna()].shape  # 6463 companies have no sub sectors but :  \n",
    "df_ref[df_ref.CF3.notna()][df_ref.GICSSubInd.isna()].shape # check all have sub  sectors : ok"
   ]
  },
  {
   "cell_type": "code",
   "execution_count": 11,
   "metadata": {},
   "outputs": [],
   "source": [
    "# companie specific adjustments\n",
    "\n",
    "# df_ref.loc[df_ref.Name == \"Elmera Group ASA\", \"CF1\"] = [10.7, 14.7, 15, 0.1]+ [np.nan for i in range(19)]\n",
    "# df_ref.loc[df_ref.Name == \"Elmera Group ASA\", \"CF2\"] = [0.1, 0.1, 0.1, 0.1] + [np.nan for i in range(19)]\n",
    "# df_ref.loc[df_ref.Name == \"Elmera Group ASA\", \"CF3\"] = [263.5, 79.9, 102, 300.1] + [np.nan for i in range(19)]\n",
    "# df_ref.loc[df_ref.Name == \"Elmera Group ASA\", \"CF123\"] = [274.2, 94.6, 117, 300.3] +  [np.nan for i in range(19)]"
   ]
  },
  {
   "cell_type": "markdown",
   "metadata": {},
   "source": [
    "# Potential errors detection"
   ]
  },
  {
   "cell_type": "code",
   "execution_count": 12,
   "metadata": {},
   "outputs": [
    {
     "data": {
      "text/plain": [
       "6029"
      ]
     },
     "execution_count": 12,
     "metadata": {},
     "output_type": "execute_result"
    }
   ],
   "source": [
    "df_ref_temp = df_ref[df_ref.FiscalYear >= 2005]\n",
    "df_ref_temp = df_ref_temp[(df_ref_temp.CF1.notna()) | (df_ref_temp.CF2.notna()) | (df_ref_temp.CF3.notna())] \n",
    "df_ref_temp.FinalEikonID.nunique() # 6029 companies can be used for ML pipeline"
   ]
  },
  {
   "cell_type": "code",
   "execution_count": 13,
   "metadata": {},
   "outputs": [],
   "source": [
    "subind_coverage = df_ref_temp.drop_duplicates(\"FinalEikonID\").GICSName.value_counts()\n",
    "under_represented_sectors = subind_coverage[subind_coverage < 10].index\n",
    "\n",
    "country_coverage = df_ref_temp.drop_duplicates(\"FinalEikonID\").CountryHQ.value_counts()\n",
    "under_represented_countries = country_coverage[country_coverage < 10].index"
   ]
  },
  {
   "cell_type": "code",
   "execution_count": 14,
   "metadata": {},
   "outputs": [
    {
     "name": "stdout",
     "output_type": "stream",
     "text": [
      "suspicious corpo CF1 :  29\n"
     ]
    },
    {
     "data": {
      "text/plain": [
       "<AxesSubplot: >"
      ]
     },
     "execution_count": 14,
     "metadata": {},
     "output_type": "execute_result"
    },
    {
     "data": {
      "image/png": "[encoded data removed]",
      "text/plain": [
       "<Figure size 640x480 with 1 Axes>"
      ]
     },
     "metadata": {},
     "output_type": "display_data"
    }
   ],
   "source": [
    "scope= \"CF1\"\n",
    "df_ref_temp_scope = df_ref_temp[df_ref_temp[scope]>1]\n",
    "\n",
    "spreads = df_ref_temp_scope.groupby(\"FinalEikonID\")[scope].agg(lambda x : x.max()/x.min())\n",
    "acc_suspicious_CF1 = df_ref[df_ref.FinalEikonID.isin(spreads[spreads>1000].index)].FinalEikonID # outliers after 7 on plot, exp(7) = 1000, \n",
    "print(\"suspicious corpo CF1 : \",acc_suspicious_CF1.nunique())\n",
    "np.log(df_ref_temp_scope.groupby(\"FinalEikonID\")[scope].agg(lambda x : x.max()/x.min())).hist()"
   ]
  },
  {
   "cell_type": "code",
   "execution_count": 15,
   "metadata": {},
   "outputs": [
    {
     "name": "stdout",
     "output_type": "stream",
     "text": [
      "suspicious corpo CF2 :  42\n"
     ]
    },
    {
     "data": {
      "text/plain": [
       "<AxesSubplot: >"
      ]
     },
     "execution_count": 15,
     "metadata": {},
     "output_type": "execute_result"
    },
    {
     "data": {
      "image/png": "[encoded data removed]",
      "text/plain": [
       "<Figure size 640x480 with 1 Axes>"
      ]
     },
     "metadata": {},
     "output_type": "display_data"
    }
   ],
   "source": [
    "scope= \"CF2\"\n",
    "df_ref_temp_scope = df_ref_temp[df_ref_temp[scope]>1]\n",
    "\n",
    "spreads = df_ref_temp_scope.groupby(\"FinalEikonID\")[scope].agg(lambda x : x.max()/x.min())\n",
    "acc_suspicious_CF2 = df_ref[df_ref.FinalEikonID.isin(spreads[spreads>500].index)].FinalEikonID # outliers after 6 on plot, exp(6) = 500, \n",
    "print(\"suspicious corpo CF2 : \",acc_suspicious_CF2.nunique())\n",
    "np.log(df_ref_temp_scope.groupby(\"FinalEikonID\")[scope].agg(lambda x : x.max()/x.min())).hist()"
   ]
  },
  {
   "cell_type": "code",
   "execution_count": 16,
   "metadata": {},
   "outputs": [
    {
     "name": "stdout",
     "output_type": "stream",
     "text": [
      "suspicious corpo CF3 :  150\n"
     ]
    },
    {
     "data": {
      "text/plain": [
       "<AxesSubplot: >"
      ]
     },
     "execution_count": 16,
     "metadata": {},
     "output_type": "execute_result"
    },
    {
     "data": {
      "image/png": "[encoded data removed]",
      "text/plain": [
       "<Figure size 640x480 with 1 Axes>"
      ]
     },
     "metadata": {},
     "output_type": "display_data"
    }
   ],
   "source": [
    "scope= \"CF3\"\n",
    "df_ref_temp_scope = df_ref_temp[df_ref_temp[scope]>1]\n",
    "\n",
    "spreads = df_ref_temp_scope.groupby(\"FinalEikonID\")[scope].agg(lambda x : x.max()/x.min())\n",
    "acc_suspicious_CF3 = df_ref[df_ref.FinalEikonID.isin(spreads[spreads>3000].index)].FinalEikonID # outliers after 8 on plot, exp(8) = 3000, \n",
    "print(\"suspicious corpo CF3 : \",acc_suspicious_CF3.nunique())\n",
    "np.log(df_ref_temp_scope.groupby(\"FinalEikonID\")[scope].agg(lambda x : x.max()/x.min())).hist()"
   ]
  },
  {
   "cell_type": "code",
   "execution_count": 17,
   "metadata": {},
   "outputs": [
    {
     "data": {
      "text/plain": [
       "211"
      ]
     },
     "execution_count": 17,
     "metadata": {},
     "output_type": "execute_result"
    }
   ],
   "source": [
    "suspicious_corpo = list(set(acc_suspicious_CF1.unique()).union(set(acc_suspicious_CF2.unique()).union(set(acc_suspicious_CF3.unique()))))\n",
    "len(suspicious_corpo)\n",
    "# We have 6029 companies with not all na scopes, and 211 (3.5%) as potential outliers\n",
    "# 5 are in underrepresented countries/sectors, thus we will investigate these only"
   ]
  },
  {
   "cell_type": "code",
   "execution_count": 18,
   "metadata": {},
   "outputs": [
    {
     "data": {
      "text/plain": [
       "<StringArray>\n",
       "['MELI.OQ', 'MABK.KW', 'KETL.L']\n",
       "Length: 3, dtype: string"
      ]
     },
     "execution_count": 18,
     "metadata": {},
     "output_type": "execute_result"
    }
   ],
   "source": [
    "df_supicious = df_ref_temp[df_ref_temp.FinalEikonID.isin(suspicious_corpo)]\n",
    "df_supicious[df_supicious.CountryHQ.isin(under_represented_countries)].FinalEikonID.unique()"
   ]
  },
  {
   "cell_type": "code",
   "execution_count": 19,
   "metadata": {},
   "outputs": [
    {
     "data": {
      "text/plain": [
       "<StringArray>\n",
       "['7272.T', 'MMC.N']\n",
       "Length: 2, dtype: string"
      ]
     },
     "execution_count": 19,
     "metadata": {},
     "output_type": "execute_result"
    }
   ],
   "source": [
    "df_supicious[df_supicious.GICSName.isin(under_represented_sectors)].FinalEikonID.unique()"
   ]
  },
  {
   "cell_type": "code",
   "execution_count": 20,
   "metadata": {},
   "outputs": [
    {
     "data": {
      "text/plain": [
       "206"
      ]
     },
     "execution_count": 20,
     "metadata": {},
     "output_type": "execute_result"
    }
   ],
   "source": [
    "df_supicious = df_supicious[~(df_supicious.CountryHQ.isin(under_represented_countries))]\n",
    "df_supicious = df_supicious[~(df_supicious.GICSName.isin(under_represented_sectors))]\n",
    "df_supicious.Name.nunique()"
   ]
  },
  {
   "cell_type": "code",
   "execution_count": 212,
   "metadata": {},
   "outputs": [],
   "source": [
    "# df_ref_temp[df_ref_temp.FinalEikonID == '7272.T'][[\"Name\", \"FiscalYear\",\"CF1\", \"CF2\", \"CF3\", \"Revenue\", \"GICSName\", \"CountryHQ\"]]"
   ]
  },
  {
   "cell_type": "code",
   "execution_count": 21,
   "metadata": {},
   "outputs": [],
   "source": [
    "# MELI.OQ ok (https://meli-sustentabilidad-assets.s3.sa-east-1.amazonaws.com/MELI_Reporte_2016_ENG_a2856490bf.pdf, https://api.mziq.com/mzfilemanager/v2/d/098a2d95-0ea8-4ed5-a340-d9ef6a2b0053/0310ee3c-bd97-4ee1-8429-41cbf3cb1675?origin=2)\n",
    "# MABK.KW 2022 ok but other scope 3 not relevant (replace na) (https://www.mabanee.com/home/CSR/Sustainability-Annual-Reports)\n",
    "# KETL.L 2022 et 2021 ok but other scope 3 not relevant (replace na) (https://strix.com/docs/2023/img_38aca2998c.pdf)\n",
    "# 7272.T CF3 : faux avant 2016 et pas dans les RA, replace NA (https://global.yamaha-motor.com/ir/integrated-report/annual2015/pdf/2015annual_csr_e.pdf)\n",
    "# MMC.N  pas trouver data avant 2014, remove CF1 2011 10 09 (https://news-investors.mmc.com/static-files/510700ae-16d1-429c-a0c3-618d96ba42b1 https://www.marshmclennan.com/content/dam/mmc-web/v3/esg-report-2022/Marsh-McLennan-2022-ESG-Report.pdf)\n",
    "\n",
    "df_ref.loc[df_ref[df_ref.FinalEikonID == 'MABK.KW'].index,\"CF3\"] = [119164.40] + [np.nan for i in range(22)] \n",
    "df_ref.loc[df_ref[df_ref.FinalEikonID == 'KETL.L'].index,\"CF1\"] = [273, 265, 107, 1879, 173, 163] + [np.nan for i in range(17)] \n",
    "df_ref.loc[df_ref[df_ref.FinalEikonID == 'KETL.L'].index,\"CF2\"] = [5883, 7430, 5269, 5912, 5791, 6162] + [np.nan for i in range(17)] \n",
    "df_ref.loc[df_ref[df_ref.FinalEikonID == 'KETL.L'].index,\"CF3\"] = [410096, 573895, np.nan, np.nan, np.nan, np.nan] + [np.nan for i in range(17)]\n",
    "df_ref.loc[df_ref[df_ref.FinalEikonID == '7272.T'].index[7:],\"CF3\"] = [np.nan for i in range(16)] \n",
    "df_ref.loc[df_ref[df_ref.FinalEikonID == '7272.T'].index[11:],\"CF1\"] = [np.nan for i in range(12)] \n"
   ]
  },
  {
   "cell_type": "code",
   "execution_count": 22,
   "metadata": {},
   "outputs": [],
   "source": [
    "df_ref = df_ref[~(df_ref.FinalEikonID.isin(df_supicious.FinalEikonID.unique()))]\n",
    "df_ref = df_ref[df_ref.FiscalYear >= 2005]\n",
    "df_ref = df_ref[df_ref.Revenue.notna()]\n",
    "df_ref = df_ref[df_ref.Revenue > 1]\n",
    "df_ref = df_ref[df_ref.GICSName.notna()]\n",
    "df_ref = df_ref[[\n",
    "    'FinalEikonID', 'Name', 'ISIN', 'Ticker', \n",
    "     'CountryHQ', 'NAICSSector', 'NAICSInd', 'GICSSector',\n",
    "       'GICSGroup', 'GICSInd', 'GICSSubInd', 'GICSName', 'FiscalYear', 'CF1',\n",
    "       'CF2', 'CF3', 'CF123', \"Revenue\", 'EBITDA', 'EBIT', 'CapEx', 'GPPE',\n",
    "       'NPPE', 'AccuDep', 'INTAN', 'COGS', 'GMAR', 'Asset', 'LTDebt', 'EMP',\n",
    "       'ENEProduce', 'ENEConsume', 'TargetsEmissions',\n",
    "       'PolicyEmissions', 'BiodiversityImpactReduction', 'EnvExpenditures',\n",
    "       'EnvProvisions', 'EnvInvestments', 'RenewEnergyUse',\n",
    "       'RenewEnergyPurchased', 'RenewEnergyProduced']]"
   ]
  },
  {
   "cell_type": "code",
   "execution_count": 45,
   "metadata": {},
   "outputs": [],
   "source": [
    "df.to_parquet(\"data/raw_data/refinitiv_cleaned_2023.parquet\", index=False)"
   ]
  },
  {
   "cell_type": "code",
   "execution_count": 42,
   "metadata": {},
   "outputs": [
    {
     "data": {
      "text/plain": [
       "(596977, 41)"
      ]
     },
     "execution_count": 42,
     "metadata": {},
     "output_type": "execute_result"
    }
   ],
   "source": [
    "df = pd.read_parquet(\"data/raw_data/refinitiv_cleaned_2023.parquet\")\n",
    "df.shape"
   ]
  },
  {
   "cell_type": "code",
   "execution_count": 44,
   "metadata": {},
   "outputs": [],
   "source": [
    "df.loc[df[df['ISIN'] == \"US1248572026\"].index, 'ISIN'] = \"US92556H2067\""
   ]
  },
  {
   "cell_type": "code",
   "execution_count": 10,
   "metadata": {},
   "outputs": [],
   "source": [
    "df.loc[df[(df.CF1.isna()) | (df.CF2.isna()) | (df.CF3.isna())].index, \"CF123\"] = [np.nan for i in range(len(df[(df.CF1.isna()) | (df.CF2.isna()) | (df.CF3.isna())]))]"
   ]
  },
  {
   "cell_type": "code",
   "execution_count": 36,
   "metadata": {},
   "outputs": [],
   "source": [
    "df.loc[df[df.CF1==0].index, \"CF1\"] = [df[df.CF1>0].CF1.min() for i in range(len(df[df.CF1==0]))]"
   ]
  },
  {
   "cell_type": "code",
   "execution_count": 37,
   "metadata": {},
   "outputs": [
    {
     "data": {
      "text/plain": [
       "0.002"
      ]
     },
     "execution_count": 37,
     "metadata": {},
     "output_type": "execute_result"
    }
   ],
   "source": [
    "df.CF1.min()"
   ]
  }
 ],
 "metadata": {
  "kernelspec": {
   "display_name": "Python 3",
   "language": "python",
   "name": "python3"
  },
  "language_info": {
   "codemirror_mode": {
    "name": "ipython",
    "version": 3
   },
   "file_extension": ".py",
   "mimetype": "text/x-python",
   "name": "python",
   "nbconvert_exporter": "python",
   "pygments_lexer": "ipython3",
   "version": "3.9.13"
  },
  "orig_nbformat": 4
 },
 "nbformat": 4,
 "nbformat_minor": 2
}
